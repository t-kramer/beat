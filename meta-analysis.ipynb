{
 "cells": [
  {
   "cell_type": "markdown",
   "metadata": {},
   "source": [
    "## Library Import"
   ]
  },
  {
   "cell_type": "code",
   "execution_count": 133,
   "metadata": {},
   "outputs": [],
   "source": [
    "import numpy as np\n",
    "import pandas as pd\n",
    "import plotly.express as px\n",
    "\n",
    "from utils.config_file import CHART_LAYOUT\n",
    "from utils.plotly_theme import custom_colors"
   ]
  },
  {
   "cell_type": "markdown",
   "metadata": {},
   "source": [
    "## Data import"
   ]
  },
  {
   "cell_type": "code",
   "execution_count": 134,
   "metadata": {},
   "outputs": [
    {
     "name": "stdout",
     "output_type": "stream",
     "text": [
      "Number of papers: 220\n"
     ]
    },
    {
     "data": {
      "application/vnd.microsoft.datawrangler.viewer.v0+json": {
       "columns": [
        {
         "name": "index",
         "rawType": "int64",
         "type": "integer"
        },
        {
         "name": "pub-id",
         "rawType": "object",
         "type": "string"
        },
        {
         "name": "exp-id",
         "rawType": "object",
         "type": "string"
        },
        {
         "name": "paper",
         "rawType": "object",
         "type": "string"
        },
        {
         "name": "authors",
         "rawType": "object",
         "type": "string"
        },
        {
         "name": "institutes",
         "rawType": "object",
         "type": "string"
        },
        {
         "name": "city",
         "rawType": "object",
         "type": "string"
        },
        {
         "name": "country",
         "rawType": "object",
         "type": "string"
        },
        {
         "name": "climate-class",
         "rawType": "float64",
         "type": "float"
        },
        {
         "name": "pub-year",
         "rawType": "float64",
         "type": "float"
        },
        {
         "name": "data-avail",
         "rawType": "object",
         "type": "string"
        },
        {
         "name": "data-link",
         "rawType": "object",
         "type": "unknown"
        },
        {
         "name": "pub-type",
         "rawType": "object",
         "type": "string"
        },
        {
         "name": "pub-name",
         "rawType": "object",
         "type": "string"
        },
        {
         "name": "publisher",
         "rawType": "object",
         "type": "string"
        },
        {
         "name": "doi",
         "rawType": "object",
         "type": "string"
        },
        {
         "name": "exp-year-start",
         "rawType": "float64",
         "type": "float"
        },
        {
         "name": "exp-year-end",
         "rawType": "float64",
         "type": "float"
        },
        {
         "name": "exp-seasons",
         "rawType": "object",
         "type": "unknown"
        },
        {
         "name": "exp-month-start",
         "rawType": "float64",
         "type": "float"
        },
        {
         "name": "exp-month-end",
         "rawType": "object",
         "type": "string"
        },
        {
         "name": "exp-type",
         "rawType": "object",
         "type": "string"
        },
        {
         "name": "function",
         "rawType": "object",
         "type": "string"
        },
        {
         "name": "exp-hours",
         "rawType": "object",
         "type": "string"
        },
        {
         "name": "timing-type",
         "rawType": "object",
         "type": "string"
        },
        {
         "name": "sample-size-calc",
         "rawType": "object",
         "type": "string"
        },
        {
         "name": "sample-size-calc-type",
         "rawType": "object",
         "type": "unknown"
        },
        {
         "name": "part-payment",
         "rawType": "object",
         "type": "string"
        },
        {
         "name": "part-no-tot",
         "rawType": "object",
         "type": "string"
        },
        {
         "name": "part-male-no",
         "rawType": "object",
         "type": "string"
        },
        {
         "name": "part-fem-no",
         "rawType": "object",
         "type": "string"
        },
        {
         "name": "part-intersex-no",
         "rawType": "object",
         "type": "string"
        },
        {
         "name": "fem-total-ratio",
         "rawType": "object",
         "type": "string"
        },
        {
         "name": "age-group",
         "rawType": "object",
         "type": "string"
        },
        {
         "name": "age-mean",
         "rawType": "object",
         "type": "string"
        },
        {
         "name": "age-std",
         "rawType": "object",
         "type": "string"
        },
        {
         "name": "age-male-mean",
         "rawType": "object",
         "type": "string"
        },
        {
         "name": "age-fem-mean",
         "rawType": "object",
         "type": "unknown"
        },
        {
         "name": "bmi-range",
         "rawType": "object",
         "type": "string"
        },
        {
         "name": "bmi-mean",
         "rawType": "object",
         "type": "string"
        },
        {
         "name": "bmi-std",
         "rawType": "object",
         "type": "string"
        },
        {
         "name": "bmi-male-mean",
         "rawType": "object",
         "type": "string"
        },
        {
         "name": "bmi-fem-mean",
         "rawType": "object",
         "type": "unknown"
        },
        {
         "name": "normalisation-length",
         "rawType": "object",
         "type": "unknown"
        },
        {
         "name": "session-length",
         "rawType": "object",
         "type": "string"
        },
        {
         "name": "tested-t-min",
         "rawType": "object",
         "type": "string"
        },
        {
         "name": "tested-t-max",
         "rawType": "object",
         "type": "string"
        },
        {
         "name": "tested-t-means-medians",
         "rawType": "object",
         "type": "unknown"
        },
        {
         "name": "physio-parameter",
         "rawType": "object",
         "type": "string"
        },
        {
         "name": "physio-sensor-type",
         "rawType": "object",
         "type": "string"
        },
        {
         "name": "physio-body-site",
         "rawType": "object",
         "type": "string"
        },
        {
         "name": "physio-body-site-sagittal",
         "rawType": "object",
         "type": "unknown"
        },
        {
         "name": "physio-body-site-coronal",
         "rawType": "object",
         "type": "unknown"
        },
        {
         "name": "skin-body-site-code",
         "rawType": "object",
         "type": "unknown"
        },
        {
         "name": "physio-sensor-brand",
         "rawType": "object",
         "type": "string"
        },
        {
         "name": "physio-sensor-model",
         "rawType": "object",
         "type": "string"
        },
        {
         "name": "physio-mst-calculated",
         "rawType": "object",
         "type": "unknown"
        },
        {
         "name": "physio-mst-points",
         "rawType": "object",
         "type": "unknown"
        },
        {
         "name": "physio-mst-formula",
         "rawType": "object",
         "type": "unknown"
        },
        {
         "name": "physio-formulas",
         "rawType": "object",
         "type": "unknown"
        },
        {
         "name": "env-tdb",
         "rawType": "object",
         "type": "string"
        },
        {
         "name": "env-rh",
         "rawType": "object",
         "type": "string"
        },
        {
         "name": "env-v",
         "rawType": "object",
         "type": "unknown"
        },
        {
         "name": "env-tg",
         "rawType": "object",
         "type": "unknown"
        },
        {
         "name": "env-tsurface",
         "rawType": "object",
         "type": "unknown"
        },
        {
         "name": "env-twb",
         "rawType": "object",
         "type": "unknown"
        },
        {
         "name": "env-co2",
         "rawType": "object",
         "type": "unknown"
        },
        {
         "name": "env-illuminance",
         "rawType": "object",
         "type": "unknown"
        },
        {
         "name": "env-acoustics",
         "rawType": "object",
         "type": "unknown"
        },
        {
         "name": "env-tout",
         "rawType": "object",
         "type": "unknown"
        },
        {
         "name": "env-rhout",
         "rawType": "object",
         "type": "unknown"
        },
        {
         "name": "env-voc",
         "rawType": "object",
         "type": "unknown"
        },
        {
         "name": "env-light-color",
         "rawType": "object",
         "type": "unknown"
        },
        {
         "name": "env-solar-rad",
         "rawType": "object",
         "type": "unknown"
        },
        {
         "name": "ques-thermal-comfort",
         "rawType": "object",
         "type": "unknown"
        },
        {
         "name": "ques-thermal-sensation",
         "rawType": "object",
         "type": "string"
        },
        {
         "name": "ques-thermal-prefer",
         "rawType": "object",
         "type": "unknown"
        },
        {
         "name": "ques-thermal-accept",
         "rawType": "object",
         "type": "unknown"
        },
        {
         "name": "ques-thermal-satisfaction",
         "rawType": "object",
         "type": "unknown"
        },
        {
         "name": "ques-thermal-pleasure",
         "rawType": "object",
         "type": "unknown"
        },
        {
         "name": "ques-thermal-pleasantness",
         "rawType": "object",
         "type": "unknown"
        },
        {
         "name": "ques-airmove-comfort",
         "rawType": "object",
         "type": "unknown"
        },
        {
         "name": "ques-airmove-sensation",
         "rawType": "object",
         "type": "unknown"
        },
        {
         "name": "ques-airmove-prefer",
         "rawType": "object",
         "type": "unknown"
        },
        {
         "name": "ques-airmove-accept",
         "rawType": "object",
         "type": "unknown"
        },
        {
         "name": "ques-humidity-sensation",
         "rawType": "object",
         "type": "unknown"
        },
        {
         "name": "ques-airmove-satisfaction",
         "rawType": "object",
         "type": "unknown"
        },
        {
         "name": "ques-shivering-rate",
         "rawType": "object",
         "type": "unknown"
        },
        {
         "name": "ques-overall-comfort",
         "rawType": "object",
         "type": "unknown"
        },
        {
         "name": "ques-overall-satisfaction",
         "rawType": "object",
         "type": "unknown"
        },
        {
         "name": "ques-humidity-comfort",
         "rawType": "object",
         "type": "unknown"
        },
        {
         "name": "ques-humidity-prefer",
         "rawType": "object",
         "type": "unknown"
        },
        {
         "name": "ques-humidity-satisfaction",
         "rawType": "object",
         "type": "unknown"
        },
        {
         "name": "ques-humidity-accept",
         "rawType": "object",
         "type": "unknown"
        },
        {
         "name": "ques-sweating-sensation",
         "rawType": "object",
         "type": "unknown"
        },
        {
         "name": "ques-visual-prefer",
         "rawType": "object",
         "type": "unknown"
        },
        {
         "name": "ques-light-comfort",
         "rawType": "object",
         "type": "unknown"
        },
        {
         "name": "ques-light-prefer",
         "rawType": "object",
         "type": "unknown"
        },
        {
         "name": "ques-light-sensation",
         "rawType": "object",
         "type": "unknown"
        },
        {
         "name": "ques-light-satisfaction",
         "rawType": "object",
         "type": "unknown"
        },
        {
         "name": "ques-iaq-comfort",
         "rawType": "object",
         "type": "unknown"
        },
        {
         "name": "ques-iaq-accept",
         "rawType": "object",
         "type": "unknown"
        },
        {
         "name": "ques-iaq-satisfaction",
         "rawType": "object",
         "type": "unknown"
        },
        {
         "name": "ques-iaq-sensation",
         "rawType": "object",
         "type": "unknown"
        },
        {
         "name": "ques-odour-intensity",
         "rawType": "object",
         "type": "unknown"
        },
        {
         "name": "ques-sick-building-syndrome",
         "rawType": "object",
         "type": "unknown"
        },
        {
         "name": "ques-acoustic-comfort",
         "rawType": "object",
         "type": "unknown"
        },
        {
         "name": "ques-acoustic-satisfaction",
         "rawType": "object",
         "type": "unknown"
        },
        {
         "name": "ques-acoustic-sensation",
         "rawType": "object",
         "type": "unknown"
        },
        {
         "name": "cognitive-test-done",
         "rawType": "object",
         "type": "string"
        },
        {
         "name": "cognitive-test-type",
         "rawType": "object",
         "type": "unknown"
        },
        {
         "name": "protocol-fixed-clo",
         "rawType": "float64",
         "type": "float"
        },
        {
         "name": "protocol-observed-clo",
         "rawType": "float64",
         "type": "float"
        },
        {
         "name": "protocol-avoid-stimulant",
         "rawType": "float64",
         "type": "float"
        },
        {
         "name": "protocol-avoid-activity",
         "rawType": "float64",
         "type": "float"
        },
        {
         "name": "protocol-avoid-heavy-food",
         "rawType": "float64",
         "type": "float"
        },
        {
         "name": "protocol-rest-sleep",
         "rawType": "float64",
         "type": "float"
        },
        {
         "name": "protocol-circadian",
         "rawType": "float64",
         "type": "float"
        },
        {
         "name": "protocol-mens-timing",
         "rawType": "float64",
         "type": "float"
        },
        {
         "name": "protocol-time-btw-sessions",
         "rawType": "float64",
         "type": "float"
        },
        {
         "name": "protocol-instruction-practice",
         "rawType": "float64",
         "type": "float"
        },
        {
         "name": "protocol-diary",
         "rawType": "float64",
         "type": "float"
        },
        {
         "name": "protocol-maintain-usual-habits",
         "rawType": "float64",
         "type": "float"
        },
        {
         "name": "protocol-blinded",
         "rawType": "float64",
         "type": "float"
        },
        {
         "name": "protocol-random-order",
         "rawType": "float64",
         "type": "float"
        },
        {
         "name": "protocol-food-drink-control",
         "rawType": "float64",
         "type": "float"
        },
        {
         "name": "protocol-prep-body-site",
         "rawType": "float64",
         "type": "float"
        },
        {
         "name": "protocol-not-walking",
         "rawType": "float64",
         "type": "float"
        },
        {
         "name": "select-healthy",
         "rawType": "float64",
         "type": "float"
        },
        {
         "name": "select-no-treatment",
         "rawType": "float64",
         "type": "float"
        },
        {
         "name": "select-thermal-history",
         "rawType": "float64",
         "type": "float"
        },
        {
         "name": "select-smoking",
         "rawType": "float64",
         "type": "float"
        },
        {
         "name": "select-bmi-range",
         "rawType": "float64",
         "type": "float"
        },
        {
         "name": "select-colour-weakness-eyesight",
         "rawType": "float64",
         "type": "float"
        },
        {
         "name": "select-lang-skills",
         "rawType": "float64",
         "type": "float"
        },
        {
         "name": "select-alcohol",
         "rawType": "float64",
         "type": "float"
        },
        {
         "name": "select-dominant-hand",
         "rawType": "float64",
         "type": "float"
        },
        {
         "name": "select-contraceptive-type",
         "rawType": "float64",
         "type": "float"
        },
        {
         "name": "select-activity-level",
         "rawType": "float64",
         "type": "float"
        },
        {
         "name": "select-chronotype",
         "rawType": "float64",
         "type": "float"
        },
        {
         "name": "select-emotionally-stable",
         "rawType": "float64",
         "type": "float"
        },
        {
         "name": "select-neurodivergent",
         "rawType": "float64",
         "type": "float"
        },
        {
         "name": "select-thermal-sensitivity",
         "rawType": "float64",
         "type": "float"
        },
        {
         "name": "select-pregnancy",
         "rawType": "float64",
         "type": "float"
        },
        {
         "name": "select-diet-weight-change",
         "rawType": "float64",
         "type": "float"
        },
        {
         "name": "select-hormone-therapy",
         "rawType": "float64",
         "type": "float"
        },
        {
         "name": "select-menopause",
         "rawType": "float64",
         "type": "float"
        },
        {
         "name": "part-meta-age",
         "rawType": "float64",
         "type": "float"
        },
        {
         "name": "part-meta-sex",
         "rawType": "float64",
         "type": "float"
        },
        {
         "name": "part-meta-height",
         "rawType": "float64",
         "type": "float"
        },
        {
         "name": "part-meta-weight",
         "rawType": "float64",
         "type": "float"
        },
        {
         "name": "part-meta-bmi",
         "rawType": "float64",
         "type": "float"
        },
        {
         "name": "part-meta-ponderal-index",
         "rawType": "float64",
         "type": "float"
        },
        {
         "name": "part-meta-body-fat",
         "rawType": "float64",
         "type": "float"
        },
        {
         "name": "part-meta-ethnicity",
         "rawType": "float64",
         "type": "float"
        },
        {
         "name": "part-meta-bsa",
         "rawType": "float64",
         "type": "float"
        },
        {
         "name": "part-meta-thermal-history",
         "rawType": "float64",
         "type": "float"
        },
        {
         "name": "part-meta-education-profession",
         "rawType": "float64",
         "type": "float"
        },
        {
         "name": "part-meta-thermal-sensitivity-preference",
         "rawType": "float64",
         "type": "float"
        },
        {
         "name": "part-meta-personality",
         "rawType": "float64",
         "type": "float"
        },
        {
         "name": "part-meta-psych-eval",
         "rawType": "float64",
         "type": "float"
        },
        {
         "name": "part-meta-smoking",
         "rawType": "float64",
         "type": "float"
        },
        {
         "name": "part-meta-activity-level",
         "rawType": "float64",
         "type": "float"
        },
        {
         "name": "part-meta-health-level",
         "rawType": "float64",
         "type": "float"
        },
        {
         "name": "part-meta-morningness",
         "rawType": "float64",
         "type": "float"
        },
        {
         "name": "part-meta-bmr",
         "rawType": "float64",
         "type": "float"
        },
        {
         "name": "part-meta-alcohol-use",
         "rawType": "float64",
         "type": "float"
        },
        {
         "name": "part-meta-mens-timing",
         "rawType": "float64",
         "type": "float"
        },
        {
         "name": "part-meta-contraceptive-type",
         "rawType": "float64",
         "type": "float"
        },
        {
         "name": "part-meta-muscle",
         "rawType": "float64",
         "type": "float"
        },
        {
         "name": "part-meta-reg-coffee",
         "rawType": "float64",
         "type": "float"
        },
        {
         "name": "part-meta-reg-sleep-time",
         "rawType": "float64",
         "type": "float"
        },
        {
         "name": "part-meta-reg-work time",
         "rawType": "float64",
         "type": "float"
        }
       ],
       "conversionMethod": "pd.DataFrame",
       "ref": "d8e961c1-bee0-4071-aade-68ce86789af8",
       "rows": [
        [
         "0",
         "1",
         "1",
         "Effect of elevated air temperature and air velocity on thermal comfort and cognitive performance in the tropics",
         "Chao Cen, Siyu Cheng, Nyuk Hien Wong",
         "National University of Singapore (NUS)",
         "Queenstown ",
         "Singapore",
         null,
         "2023.0",
         "Upon request",
         null,
         "J",
         "Building and Environment",
         "Elsevier",
         "https://doi.org/10.1016/j.buildenv.2023.110203",
         null,
         null,
         null,
         null,
         "4",
         "Lab",
         "Office",
         "09:00-17:30",
         "Work-hours",
         "NR",
         null,
         "Y",
         "16",
         "9",
         "7",
         "0",
         "44.00%",
         "Young Adult (18-27)",
         "22.7",
         "2.7",
         "23.1",
         "22.1",
         "Normal",
         "21.3",
         "2.8",
         "22.4",
         "19.9",
         "30",
         "180",
         "27",
         "30",
         "27, 28, 29, 30",
         "Skin temperature",
         "Thermochron",
         "Chest",
         "NR",
         "Anterior",
         "5A",
         "iButton",
         "DS1992L",
         "Y",
         "4",
         "Ramanathan (1964)",
         null,
         "NR",
         "NR",
         "NR",
         null,
         null,
         null,
         null,
         null,
         null,
         null,
         null,
         null,
         null,
         null,
         null,
         "7pt_(-3)(+3)",
         "3pt_(-1)(+1)",
         null,
         null,
         null,
         null,
         null,
         null,
         "3pt_(-1)(+1)",
         null,
         null,
         null,
         null,
         null,
         null,
         null,
         null,
         null,
         null,
         null,
         null,
         null,
         null,
         null,
         null,
         null,
         null,
         null,
         null,
         null,
         null,
         null,
         null,
         null,
         "Y",
         "NASA Task Load Index (TLX), CBS, Typing",
         null,
         null,
         null,
         null,
         null,
         null,
         null,
         null,
         null,
         null,
         null,
         null,
         null,
         null,
         null,
         null,
         null,
         null,
         null,
         null,
         null,
         null,
         null,
         null,
         null,
         null,
         null,
         null,
         null,
         null,
         null,
         null,
         null,
         null,
         null,
         null,
         "1.0",
         "1.0",
         "1.0",
         "1.0",
         "1.0",
         "0.0",
         "0.0",
         "0.0",
         "0.0",
         "0.0",
         "0.0",
         "0.0",
         "0.0",
         "0.0",
         "0.0",
         "0.0",
         "0.0",
         "0.0",
         "0.0",
         "0.0",
         "0.0",
         "0.0",
         "0.0",
         "0.0",
         "0.0",
         "0.0"
        ],
        [
         "4",
         "2",
         "2",
         "Evaluation of cognitive performance in high temperature with heart rate: A pilot study",
         "Yuyan Chen, Zheng Wang, Xiaoyu Tian, Weiwei Liu",
         "Central South University, Hunan University",
         "Changsha",
         "China",
         null,
         "2023.0",
         "Not available for sharing",
         null,
         "J",
         "Building and Environment",
         "Elsevier",
         "https://doi.org/10.1016/j.buildenv.2022.109801",
         null,
         null,
         null,
         null,
         "7, 8, 9, 10, 11",
         "Lab",
         "Office",
         "NR",
         "NR",
         "NR",
         null,
         "Y",
         "104",
         "52",
         "52",
         "0",
         "50.00%",
         "Young Adult (18-27)",
         "22.27",
         "1.54",
         "22.27",
         null,
         "Normal",
         "21.3",
         "2.64",
         "21.3",
         null,
         "40",
         "145, 175, 195",
         "26",
         "39",
         null,
         "Heart rate",
         "ECG",
         "Chest",
         null,
         null,
         null,
         "Suunto",
         "Dual",
         null,
         null,
         null,
         null,
         "1.5",
         "1.5",
         "1.5",
         "1.5",
         null,
         "1.5",
         null,
         "1.5",
         null,
         null,
         null,
         null,
         null,
         null,
         "6pt_(-2)(+2)",
         "9pt_(-4)(+4)",
         null,
         "4pt_(-1)(+1)",
         null,
         null,
         null,
         null,
         null,
         null,
         null,
         null,
         null,
         null,
         null,
         null,
         null,
         null,
         null,
         null,
         null,
         null,
         null,
         null,
         null,
         null,
         null,
         null,
         null,
         null,
         null,
         null,
         null,
         null,
         null,
         "Y",
         "Typing, Stroop, d2, Visual learning, Calculation, Overlapping, Redirection, Alertness, Work performance ",
         null,
         null,
         null,
         null,
         null,
         null,
         null,
         null,
         null,
         null,
         null,
         null,
         null,
         null,
         null,
         null,
         null,
         null,
         null,
         null,
         null,
         null,
         null,
         null,
         null,
         null,
         null,
         null,
         null,
         null,
         null,
         null,
         null,
         null,
         null,
         null,
         "1.0",
         "1.0",
         "1.0",
         "1.0",
         "1.0",
         "0.0",
         "0.0",
         "0.0",
         "0.0",
         "0.0",
         "0.0",
         "0.0",
         "0.0",
         "0.0",
         "0.0",
         "0.0",
         "0.0",
         "0.0",
         "0.0",
         "0.0",
         "1.0",
         "0.0",
         "0.0",
         "0.0",
         "0.0",
         "0.0"
        ],
        [
         "5",
         "3",
         "3",
         "Influences of Indoor Air Temperatures on Empathy and Positive Affect",
         "Rania Christoforou, Hannah Pallubinsky, Tobias Maria Burgholz, Mahmoud El-Mokadem, Janine Bardey, Kai Rewitz, Dirk Müller, Marcel Schweiker",
         "RWTH Aachen University",
         "Aachen",
         "Germany",
         null,
         "2024.0",
         "Upon request",
         null,
         "J",
         "International Journal of\nEnvironmental Research\nand Public Health",
         "MDPI",
         "https://doi.org/10.3390/ijerph21030323",
         null,
         null,
         null,
         null,
         "NR",
         "Lab",
         "Office",
         "09:00-16:00",
         "Work-hours",
         "Y",
         "A priori",
         "NR",
         "31",
         "15",
         "16",
         "0",
         "52.00%",
         "Young Adult (18-27), Adult (28-45), Older Adult (45-55)",
         "40.7",
         "16.5",
         "NR",
         "NR",
         "NR",
         "NR",
         "NR",
         "NR",
         "NR",
         "60",
         "480",
         "21",
         "28",
         null,
         "Skin temperature",
         "Thermochron",
         "Neck",
         "Middle",
         "Anterior",
         "4AL",
         "iButton",
         "NR",
         "Y",
         "4",
         "ISO 9886: 2004",
         null,
         "0.6, 1.1",
         "0.6, 1.1",
         null,
         null,
         null,
         null,
         null,
         null,
         null,
         null,
         null,
         null,
         null,
         null,
         null,
         "7pt_(-3)(+3)",
         null,
         null,
         null,
         null,
         null,
         null,
         null,
         null,
         null,
         null,
         null,
         null,
         null,
         null,
         null,
         null,
         null,
         null,
         null,
         null,
         null,
         null,
         null,
         null,
         null,
         null,
         null,
         null,
         null,
         null,
         null,
         null,
         null,
         "Y",
         "PANAS",
         null,
         null,
         null,
         null,
         null,
         null,
         null,
         null,
         null,
         null,
         null,
         null,
         null,
         null,
         null,
         null,
         null,
         null,
         null,
         null,
         null,
         null,
         null,
         null,
         null,
         null,
         null,
         null,
         null,
         null,
         null,
         null,
         null,
         null,
         null,
         null,
         "1.0",
         "1.0",
         "1.0",
         "1.0",
         "0.0",
         "0.0",
         "0.0",
         "0.0",
         "0.0",
         "0.0",
         "1.0",
         "0.0",
         "1.0",
         "1.0",
         "0.0",
         "0.0",
         "0.0",
         "0.0",
         "0.0",
         "0.0",
         "0.0",
         "0.0",
         "0.0",
         "0.0",
         "0.0",
         "0.0"
        ],
        [
         "9",
         "4",
         "4",
         "Gender differences in thermal comfort under coupled environmental factors",
         "Heng Du, Zisheng Zhao, Junmeng Lyu, Jinbo Li, Zhiqiang Liu, Xiangyang Li, Yuxin Yang, Li Lan, Zhiwei Lian",
         "Shanghai Jiao Tong University, Guangdong Midea Air-Conditioning Equipment Co., Ltd.",
         "Shanghai",
         "China",
         null,
         "2023.0",
         "Not available for sharing",
         null,
         "J",
         "Energy and Buildings",
         "Elsevier",
         "https://doi.org/10.1016/j.enbuild.2023.113345",
         null,
         null,
         null,
         null,
         "8, 9",
         "Lab",
         "Lounge",
         "NR",
         "NR",
         "Y",
         "Precedence",
         "NR",
         "27",
         "13",
         "14",
         "0",
         "52.00%",
         "Young Adult (18-27)",
         "23.52",
         "4.76",
         "23.5",
         "24",
         "Normal",
         "21.11",
         "1.95",
         "22.2",
         "20.1",
         "30",
         "60",
         "23",
         "32",
         null,
         "Skin temperature",
         "Thermochron",
         "Forehead",
         "Middle",
         "Anterior",
         "1AM",
         "Pyrobutton",
         "NR",
         "N",
         null,
         null,
         null,
         "NR",
         "NR",
         "NR",
         "NR",
         null,
         null,
         "NR",
         null,
         null,
         null,
         null,
         null,
         null,
         null,
         "5pt_(-4)(0)",
         "7pt_(-3)(+3)",
         "3pt_(-1)(+1)",
         "2pt_(0)(1)",
         null,
         null,
         null,
         null,
         "4pt_(1)(4)",
         "3pt_(-1)(+1)",
         null,
         null,
         null,
         null,
         null,
         null,
         null,
         null,
         null,
         null,
         null,
         null,
         null,
         null,
         null,
         null,
         null,
         null,
         null,
         null,
         null,
         null,
         null,
         null,
         null,
         "N",
         null,
         null,
         null,
         null,
         null,
         null,
         null,
         null,
         null,
         null,
         null,
         null,
         null,
         null,
         null,
         null,
         null,
         null,
         null,
         null,
         null,
         null,
         null,
         null,
         null,
         null,
         null,
         null,
         null,
         null,
         null,
         null,
         null,
         null,
         null,
         null,
         null,
         "1.0",
         "1.0",
         "1.0",
         "1.0",
         "1.0",
         "0.0",
         "0.0",
         "0.0",
         "0.0",
         "0.0",
         "0.0",
         "0.0",
         "0.0",
         "0.0",
         "0.0",
         "0.0",
         "0.0",
         "0.0",
         "0.0",
         "0.0",
         "0.0",
         "0.0",
         "0.0",
         "0.0",
         "0.0",
         "0.0"
        ],
        [
         "16",
         "5",
         "5",
         "Effects of indoor temperature on office workers' performance: an experimental study based on subjective assessments, neurobehavioral tests, and physiological measurements",
         "Xiaona Fan, Yiyun Zhu",
         "Xi’an University of Technology",
         "Xi’an",
         "China",
         null,
         "2023.0",
         "Upon request",
         null,
         "J",
         "Ergonomics",
         "Taylor & Francis",
         "https://doi.org/10.1080/00140139.2023.2231181",
         null,
         null,
         null,
         null,
         "1",
         "Lab",
         "Office",
         "NR",
         "NR",
         "NR",
         null,
         "Y",
         "12",
         "6",
         "6",
         "0",
         "50.00%",
         "Young Adult (18-27)",
         "25.76",
         "2.07",
         "25.8",
         "25.8",
         "NR",
         "21.78",
         "2.71",
         "23.99",
         "19.59",
         "30",
         "40",
         "12",
         "23",
         null,
         "Blood pressure",
         "Digital sphygmomanometer",
         "Wrist",
         "Left",
         null,
         null,
         "OMRON",
         "HEM-6121",
         null,
         null,
         null,
         null,
         "0.6",
         "0.6",
         "0.6",
         "0.6",
         null,
         null,
         null,
         "0.6",
         "0.6",
         null,
         null,
         null,
         null,
         null,
         null,
         "7pt_(-3)(+3)",
         null,
         null,
         "7pt_(-3)(+3)",
         null,
         null,
         null,
         null,
         null,
         null,
         null,
         null,
         null,
         null,
         null,
         null,
         null,
         null,
         null,
         null,
         null,
         null,
         null,
         null,
         null,
         null,
         null,
         null,
         null,
         null,
         null,
         null,
         null,
         null,
         "Y",
         "Visual learning, Digit span test, Grammatical/Deductive/Sequential reasoning, Overlapping, Redirection, Digit search, Letter search, Schulte grid",
         null,
         null,
         null,
         null,
         null,
         null,
         null,
         null,
         null,
         null,
         null,
         null,
         null,
         null,
         null,
         null,
         null,
         null,
         null,
         null,
         null,
         null,
         null,
         null,
         null,
         null,
         null,
         null,
         null,
         null,
         null,
         null,
         null,
         null,
         null,
         null,
         "1.0",
         "1.0",
         "1.0",
         "1.0",
         "0.0",
         "0.0",
         "0.0",
         "0.0",
         "0.0",
         "0.0",
         "0.0",
         "0.0",
         "0.0",
         "0.0",
         "0.0",
         "0.0",
         "0.0",
         "0.0",
         "0.0",
         "0.0",
         "0.0",
         "0.0",
         "0.0",
         "0.0",
         "0.0",
         "0.0"
        ],
        [
         "20",
         "6",
         "6",
         "Experimental evaluation of thermal environment built by decoupled radiant cooling system with low radiant cooling temperature",
         "Yanling Guo, Ke Du, Huijun Wu, Xuemei Li, Huakun Huang, Jia Liu,\nGongsheng Huang, Xinhua Xu",
         "Guangzhou University, City University of Hong Kong, Huazhong University of Science & Technology, China Academy of Building Research",
         "Guangdong",
         "China",
         null,
         "2024.0",
         "Upon request",
         null,
         "J",
         "Journal of Building Engineering",
         "Elsevier",
         "https://doi.org/10.1016/j.jobe.2024.109755",
         null,
         null,
         null,
         null,
         "NR",
         "Lab",
         "Office",
         "NR",
         "NR",
         "NR",
         null,
         "NR",
         "32",
         "16",
         "16",
         "0",
         "50.00%",
         "Young Adult (18-27)",
         "23.6",
         "1.6",
         "24.1",
         "23",
         "Normal",
         "21.2",
         "3.3",
         "22.6",
         "19.6",
         "120",
         "120",
         "22.5",
         "28",
         null,
         "Heart rate",
         "Pulse oximeter",
         "Finger",
         "NR",
         null,
         null,
         "NR",
         "NR",
         null,
         null,
         null,
         null,
         "0.6",
         "0.6",
         "0.1, 1.1",
         null,
         "0.45, 1.35, 2.25, 2.7",
         null,
         null,
         null,
         null,
         null,
         null,
         null,
         null,
         null,
         null,
         "7pt_(-3)(+3)",
         null,
         null,
         null,
         null,
         null,
         null,
         null,
         null,
         null,
         null,
         null,
         null,
         null,
         null,
         null,
         null,
         null,
         null,
         null,
         null,
         null,
         null,
         null,
         null,
         null,
         null,
         null,
         null,
         null,
         null,
         null,
         null,
         null,
         "N",
         null,
         null,
         null,
         null,
         null,
         null,
         null,
         null,
         null,
         null,
         null,
         null,
         null,
         null,
         null,
         null,
         null,
         null,
         null,
         null,
         null,
         null,
         null,
         null,
         null,
         null,
         null,
         null,
         null,
         null,
         null,
         null,
         null,
         null,
         null,
         null,
         null,
         "1.0",
         "1.0",
         "1.0",
         "1.0",
         "1.0",
         "0.0",
         "0.0",
         "0.0",
         "0.0",
         "0.0",
         "0.0",
         "0.0",
         "0.0",
         "0.0",
         "0.0",
         "0.0",
         "0.0",
         "0.0",
         "0.0",
         "0.0",
         "0.0",
         "0.0",
         "0.0",
         "0.0",
         "0.0",
         "0.0"
        ],
        [
         "29",
         "7",
         "7",
         "Skin temperature indexes to evaluate thermal sensation and cognitive performance in hot environments",
         "Shengnan Hao, Fang Wang, Jun Guan, Kai Tang, Xinyu Wang",
         "Nanjing University of Science and Technology",
         "Nanjing",
         "China",
         null,
         "2023.0",
         "Upon request",
         null,
         "J",
         "Building and Environment",
         "Elsevier",
         "https://doi.org/10.1016/j.buildenv.2023.110540",
         null,
         null,
         null,
         null,
         "9, 10",
         "Lab",
         "Office",
         "NR",
         "NR",
         "Y",
         "Precedence",
         "NR",
         "8",
         "4",
         "4",
         "0",
         "50.00%",
         "Young Adult (18-27)",
         "21.3",
         "1.8",
         "20.3",
         "22.3",
         "Normal",
         "22.1",
         "2.7",
         "23.5",
         "20.6",
         "30",
         "60",
         "26",
         "34",
         null,
         "Blood pressure",
         "Digital sphygmomanometer",
         "Upper arm",
         "NR",
         "NR",
         "NR",
         "ANDON",
         "BP-5",
         null,
         null,
         null,
         null,
         "1.5",
         "1.5",
         null,
         null,
         null,
         null,
         "1.5",
         null,
         null,
         null,
         null,
         null,
         null,
         null,
         "6pt_(-2)(+2)",
         "7pt_(-3)(+3)",
         null,
         null,
         null,
         null,
         null,
         null,
         null,
         null,
         null,
         null,
         null,
         null,
         null,
         null,
         null,
         null,
         null,
         null,
         null,
         null,
         null,
         null,
         null,
         null,
         null,
         null,
         null,
         null,
         null,
         null,
         null,
         null,
         null,
         "Y",
         "NASA Task Load Index (TLX), Stroop test, Calculations, Digit span test, Visual learning, Grammatical reasoning, Visual reaction time",
         null,
         null,
         null,
         null,
         null,
         null,
         null,
         null,
         null,
         null,
         null,
         null,
         null,
         null,
         null,
         null,
         null,
         null,
         null,
         null,
         null,
         null,
         null,
         null,
         null,
         null,
         null,
         null,
         null,
         null,
         null,
         null,
         null,
         null,
         null,
         null,
         "1.0",
         "1.0",
         "1.0",
         "1.0",
         "1.0",
         "0.0",
         "0.0",
         "0.0",
         "0.0",
         "0.0",
         "0.0",
         "0.0",
         "0.0",
         "0.0",
         "0.0",
         "0.0",
         "0.0",
         "0.0",
         "0.0",
         "0.0",
         "1.0",
         "0.0",
         "0.0",
         "0.0",
         "0.0",
         "0.0"
        ],
        [
         "38",
         "8",
         "8",
         "Association between thermal response and endogenous dopamine: Step-change environments in winter",
         "Mengyuan He, Songtao Hu, Mingli Lu, Rujin Liu, Bin Li, Baoshan Shi, Guodan Liu",
         "Qingdao University of Technology, Qingdao International Airport Group",
         "Qingdao",
         "China",
         null,
         "2023.0",
         "Not available for sharing",
         null,
         "J",
         "Journal of Thermal Biology",
         "Elsevier",
         "https://doi.org/10.1016/j.jtherbio.2022.103447",
         null,
         null,
         null,
         null,
         "1, 3",
         "Lab",
         "Office",
         "NR",
         "NR",
         "NR",
         null,
         "NR",
         "16",
         "8",
         "8",
         "0",
         "50.00%",
         "Young Adult (18-27)",
         "24.15",
         "0.57",
         "24.6",
         "23.7",
         "Normal",
         "21.05",
         "1.61",
         "20.6",
         "21.7",
         "0",
         "80",
         "15",
         "30",
         null,
         "Skin temperature",
         "Thermochron",
         "Forehead",
         "Middle",
         "Anterior",
         "1AM",
         "iButton",
         "DS1923",
         "Y",
         "6",
         "Hardy & DuBois (1938)",
         null,
         "0.6, 1.1",
         "0.6, 1.1",
         "NR",
         null,
         null,
         null,
         null,
         null,
         null,
         null,
         null,
         null,
         null,
         null,
         "7pt_(-3)(+3)",
         "7pt_(-3)(+3)",
         null,
         null,
         null,
         null,
         null,
         null,
         null,
         null,
         null,
         null,
         null,
         null,
         null,
         null,
         null,
         null,
         null,
         null,
         null,
         null,
         null,
         null,
         null,
         null,
         null,
         null,
         null,
         null,
         null,
         null,
         null,
         null,
         null,
         "N",
         null,
         null,
         null,
         null,
         null,
         null,
         null,
         null,
         null,
         null,
         null,
         null,
         null,
         null,
         null,
         null,
         null,
         null,
         null,
         null,
         null,
         null,
         null,
         null,
         null,
         null,
         null,
         null,
         null,
         null,
         null,
         null,
         null,
         null,
         null,
         null,
         null,
         "1.0",
         "1.0",
         "1.0",
         "1.0",
         "1.0",
         "0.0",
         "0.0",
         "0.0",
         "0.0",
         "0.0",
         "0.0",
         "0.0",
         "0.0",
         "0.0",
         "0.0",
         "0.0",
         "0.0",
         "0.0",
         "0.0",
         "0.0",
         "0.0",
         "0.0",
         "0.0",
         "0.0",
         "0.0",
         "0.0"
        ],
        [
         "45",
         "9",
         "9",
         "Physiological and perceptual responses to temperature step changes between cold and hot environments",
         "Qianqian Huang, Jian Li, Jun Li",
         "Donghua University, Ministry of Education",
         "Shanghai",
         "China",
         null,
         "2024.0",
         "NR",
         null,
         "J",
         "International Journal of Occupational Safety and\nErgonomics",
         "Taylor & Francis",
         "https://www.tandfonline.com/action/showCitFormats?doi=10.1080/10803548.2024.2326351",
         null,
         null,
         null,
         null,
         "NR",
         "Lab",
         "Office",
         "14:00-17:00",
         "Work-hours",
         "Y",
         "Post hoc",
         "NR",
         "11",
         "11",
         "0",
         "0",
         "0.00%",
         "Young Adult (18-27)",
         "21.5",
         "1.6",
         "21.5",
         null,
         "Normal",
         "20.6",
         "1.1",
         "20.6",
         null,
         "40",
         "130",
         "0",
         "40",
         "0, 10, 20, 40",
         "Blood pressure",
         "Digital sphygmomanometer",
         "Upper arm",
         "NR",
         null,
         null,
         "OMRON",
         "T30",
         null,
         null,
         null,
         null,
         "2.5",
         "2.5",
         null,
         null,
         null,
         null,
         null,
         null,
         null,
         null,
         null,
         null,
         null,
         null,
         "4pt_(0)(+3)",
         "9pt_(-4)(+4)",
         null,
         null,
         null,
         null,
         null,
         null,
         null,
         null,
         null,
         null,
         null,
         null,
         null,
         null,
         null,
         null,
         null,
         null,
         null,
         null,
         null,
         null,
         null,
         null,
         null,
         null,
         null,
         null,
         null,
         "2pt_(Y)(N)",
         null,
         null,
         null,
         "N",
         null,
         null,
         null,
         null,
         null,
         null,
         null,
         null,
         null,
         null,
         null,
         null,
         null,
         null,
         null,
         null,
         null,
         null,
         null,
         null,
         null,
         null,
         null,
         null,
         null,
         null,
         null,
         null,
         null,
         null,
         null,
         null,
         null,
         null,
         null,
         null,
         null,
         "1.0",
         "1.0",
         "1.0",
         "1.0",
         "1.0",
         "0.0",
         "0.0",
         "0.0",
         "0.0",
         "0.0",
         "0.0",
         "0.0",
         "0.0",
         "0.0",
         "0.0",
         "0.0",
         "0.0",
         "0.0",
         "0.0",
         "0.0",
         "0.0",
         "0.0",
         "0.0",
         "0.0",
         "0.0",
         "0.0"
        ],
        [
         "57",
         "10",
         "10",
         "Effect of temperature step-changes and ramps on physiological and psychological responses of occupants in office buildings in summer",
         "Angchen Jiang, Yong Cheng, Yuxin Wu, Haijiao Cui, Guojian Li, Hong Liu, Baizhan Li",
         "Zhejiang Sci-Tech University, Ministry of Education, Chongqing University, Zhejiang Engineering Research Center of Green and Low Carbon Technologies in Buildings",
         "NR",
         "China",
         null,
         "2024.0",
         "Not available for sharing",
         null,
         "J",
         "Building and Environment",
         "Elsevier",
         "https://doi.org/10.1016/j.buildenv.2024.111631",
         null,
         null,
         null,
         null,
         "7, 8, 9",
         "Living Lab",
         "Office",
         "NR",
         "NR",
         "Y",
         "A priori",
         "NR",
         "16",
         "8",
         "8",
         "0",
         "50.00%",
         "Young Adult (18-27)",
         "23.4",
         "0.9",
         "23.3",
         "23.6",
         "NR",
         "NR",
         "NR",
         "NR",
         "NR",
         null,
         "120",
         "22",
         "30",
         null,
         "EEG",
         "3-channel",
         "Frontal region",
         null,
         null,
         null,
         "Neurosky ",
         "TGAM",
         null,
         null,
         null,
         null,
         "0.1, 0.6, 1.1",
         "0.6",
         "0.6",
         "0.6",
         null,
         null,
         null,
         null,
         null,
         null,
         null,
         null,
         null,
         null,
         null,
         "7pt_(-3)(+3)",
         null,
         null,
         null,
         "9pt_(-4)(+4)",
         null,
         null,
         null,
         null,
         null,
         null,
         null,
         null,
         null,
         null,
         null,
         null,
         null,
         null,
         null,
         null,
         null,
         null,
         null,
         null,
         null,
         null,
         null,
         null,
         null,
         null,
         null,
         null,
         null,
         "Y",
         "PANAS",
         null,
         null,
         null,
         null,
         null,
         null,
         null,
         null,
         null,
         null,
         null,
         null,
         null,
         null,
         null,
         null,
         null,
         null,
         null,
         null,
         null,
         null,
         null,
         null,
         null,
         null,
         null,
         null,
         null,
         null,
         null,
         null,
         null,
         null,
         null,
         null,
         "1.0",
         "1.0",
         "1.0",
         "1.0",
         "0.0",
         "0.0",
         "1.0",
         "0.0",
         "0.0",
         "0.0",
         "0.0",
         "0.0",
         "0.0",
         "0.0",
         "0.0",
         "0.0",
         "0.0",
         "0.0",
         "0.0",
         "0.0",
         "0.0",
         "0.0",
         "0.0",
         "0.0",
         "0.0",
         "0.0"
        ]
       ],
       "shape": {
        "columns": 172,
        "rows": 10
       }
      },
      "text/html": [
       "<div>\n",
       "<style scoped>\n",
       "    .dataframe tbody tr th:only-of-type {\n",
       "        vertical-align: middle;\n",
       "    }\n",
       "\n",
       "    .dataframe tbody tr th {\n",
       "        vertical-align: top;\n",
       "    }\n",
       "\n",
       "    .dataframe thead th {\n",
       "        text-align: right;\n",
       "    }\n",
       "</style>\n",
       "<table border=\"1\" class=\"dataframe\">\n",
       "  <thead>\n",
       "    <tr style=\"text-align: right;\">\n",
       "      <th></th>\n",
       "      <th>pub-id</th>\n",
       "      <th>exp-id</th>\n",
       "      <th>paper</th>\n",
       "      <th>authors</th>\n",
       "      <th>institutes</th>\n",
       "      <th>city</th>\n",
       "      <th>country</th>\n",
       "      <th>climate-class</th>\n",
       "      <th>pub-year</th>\n",
       "      <th>data-avail</th>\n",
       "      <th>...</th>\n",
       "      <th>part-meta-health-level</th>\n",
       "      <th>part-meta-morningness</th>\n",
       "      <th>part-meta-bmr</th>\n",
       "      <th>part-meta-alcohol-use</th>\n",
       "      <th>part-meta-mens-timing</th>\n",
       "      <th>part-meta-contraceptive-type</th>\n",
       "      <th>part-meta-muscle</th>\n",
       "      <th>part-meta-reg-coffee</th>\n",
       "      <th>part-meta-reg-sleep-time</th>\n",
       "      <th>part-meta-reg-work time</th>\n",
       "    </tr>\n",
       "  </thead>\n",
       "  <tbody>\n",
       "    <tr>\n",
       "      <th>0</th>\n",
       "      <td>1</td>\n",
       "      <td>1</td>\n",
       "      <td>Effect of elevated air temperature and air vel...</td>\n",
       "      <td>Chao Cen, Siyu Cheng, Nyuk Hien Wong</td>\n",
       "      <td>National University of Singapore (NUS)</td>\n",
       "      <td>Queenstown</td>\n",
       "      <td>Singapore</td>\n",
       "      <td>NaN</td>\n",
       "      <td>2023.0</td>\n",
       "      <td>Upon request</td>\n",
       "      <td>...</td>\n",
       "      <td>0.0</td>\n",
       "      <td>0.0</td>\n",
       "      <td>0.0</td>\n",
       "      <td>0.0</td>\n",
       "      <td>0.0</td>\n",
       "      <td>0.0</td>\n",
       "      <td>0.0</td>\n",
       "      <td>0.0</td>\n",
       "      <td>0.0</td>\n",
       "      <td>0.0</td>\n",
       "    </tr>\n",
       "    <tr>\n",
       "      <th>4</th>\n",
       "      <td>2</td>\n",
       "      <td>2</td>\n",
       "      <td>Evaluation of cognitive performance in high te...</td>\n",
       "      <td>Yuyan Chen, Zheng Wang, Xiaoyu Tian, Weiwei Liu</td>\n",
       "      <td>Central South University, Hunan University</td>\n",
       "      <td>Changsha</td>\n",
       "      <td>China</td>\n",
       "      <td>NaN</td>\n",
       "      <td>2023.0</td>\n",
       "      <td>Not available for sharing</td>\n",
       "      <td>...</td>\n",
       "      <td>0.0</td>\n",
       "      <td>0.0</td>\n",
       "      <td>0.0</td>\n",
       "      <td>0.0</td>\n",
       "      <td>1.0</td>\n",
       "      <td>0.0</td>\n",
       "      <td>0.0</td>\n",
       "      <td>0.0</td>\n",
       "      <td>0.0</td>\n",
       "      <td>0.0</td>\n",
       "    </tr>\n",
       "    <tr>\n",
       "      <th>5</th>\n",
       "      <td>3</td>\n",
       "      <td>3</td>\n",
       "      <td>Influences of Indoor Air Temperatures on Empat...</td>\n",
       "      <td>Rania Christoforou, Hannah Pallubinsky, Tobias...</td>\n",
       "      <td>RWTH Aachen University</td>\n",
       "      <td>Aachen</td>\n",
       "      <td>Germany</td>\n",
       "      <td>NaN</td>\n",
       "      <td>2024.0</td>\n",
       "      <td>Upon request</td>\n",
       "      <td>...</td>\n",
       "      <td>0.0</td>\n",
       "      <td>0.0</td>\n",
       "      <td>0.0</td>\n",
       "      <td>0.0</td>\n",
       "      <td>0.0</td>\n",
       "      <td>0.0</td>\n",
       "      <td>0.0</td>\n",
       "      <td>0.0</td>\n",
       "      <td>0.0</td>\n",
       "      <td>0.0</td>\n",
       "    </tr>\n",
       "    <tr>\n",
       "      <th>9</th>\n",
       "      <td>4</td>\n",
       "      <td>4</td>\n",
       "      <td>Gender differences in thermal comfort under co...</td>\n",
       "      <td>Heng Du, Zisheng Zhao, Junmeng Lyu, Jinbo Li, ...</td>\n",
       "      <td>Shanghai Jiao Tong University, Guangdong Midea...</td>\n",
       "      <td>Shanghai</td>\n",
       "      <td>China</td>\n",
       "      <td>NaN</td>\n",
       "      <td>2023.0</td>\n",
       "      <td>Not available for sharing</td>\n",
       "      <td>...</td>\n",
       "      <td>0.0</td>\n",
       "      <td>0.0</td>\n",
       "      <td>0.0</td>\n",
       "      <td>0.0</td>\n",
       "      <td>0.0</td>\n",
       "      <td>0.0</td>\n",
       "      <td>0.0</td>\n",
       "      <td>0.0</td>\n",
       "      <td>0.0</td>\n",
       "      <td>0.0</td>\n",
       "    </tr>\n",
       "    <tr>\n",
       "      <th>16</th>\n",
       "      <td>5</td>\n",
       "      <td>5</td>\n",
       "      <td>Effects of indoor temperature on office worker...</td>\n",
       "      <td>Xiaona Fan, Yiyun Zhu</td>\n",
       "      <td>Xi’an University of Technology</td>\n",
       "      <td>Xi’an</td>\n",
       "      <td>China</td>\n",
       "      <td>NaN</td>\n",
       "      <td>2023.0</td>\n",
       "      <td>Upon request</td>\n",
       "      <td>...</td>\n",
       "      <td>0.0</td>\n",
       "      <td>0.0</td>\n",
       "      <td>0.0</td>\n",
       "      <td>0.0</td>\n",
       "      <td>0.0</td>\n",
       "      <td>0.0</td>\n",
       "      <td>0.0</td>\n",
       "      <td>0.0</td>\n",
       "      <td>0.0</td>\n",
       "      <td>0.0</td>\n",
       "    </tr>\n",
       "    <tr>\n",
       "      <th>20</th>\n",
       "      <td>6</td>\n",
       "      <td>6</td>\n",
       "      <td>Experimental evaluation of thermal environment...</td>\n",
       "      <td>Yanling Guo, Ke Du, Huijun Wu, Xuemei Li, Huak...</td>\n",
       "      <td>Guangzhou University, City University of Hong ...</td>\n",
       "      <td>Guangdong</td>\n",
       "      <td>China</td>\n",
       "      <td>NaN</td>\n",
       "      <td>2024.0</td>\n",
       "      <td>Upon request</td>\n",
       "      <td>...</td>\n",
       "      <td>0.0</td>\n",
       "      <td>0.0</td>\n",
       "      <td>0.0</td>\n",
       "      <td>0.0</td>\n",
       "      <td>0.0</td>\n",
       "      <td>0.0</td>\n",
       "      <td>0.0</td>\n",
       "      <td>0.0</td>\n",
       "      <td>0.0</td>\n",
       "      <td>0.0</td>\n",
       "    </tr>\n",
       "    <tr>\n",
       "      <th>29</th>\n",
       "      <td>7</td>\n",
       "      <td>7</td>\n",
       "      <td>Skin temperature indexes to evaluate thermal s...</td>\n",
       "      <td>Shengnan Hao, Fang Wang, Jun Guan, Kai Tang, X...</td>\n",
       "      <td>Nanjing University of Science and Technology</td>\n",
       "      <td>Nanjing</td>\n",
       "      <td>China</td>\n",
       "      <td>NaN</td>\n",
       "      <td>2023.0</td>\n",
       "      <td>Upon request</td>\n",
       "      <td>...</td>\n",
       "      <td>0.0</td>\n",
       "      <td>0.0</td>\n",
       "      <td>0.0</td>\n",
       "      <td>0.0</td>\n",
       "      <td>1.0</td>\n",
       "      <td>0.0</td>\n",
       "      <td>0.0</td>\n",
       "      <td>0.0</td>\n",
       "      <td>0.0</td>\n",
       "      <td>0.0</td>\n",
       "    </tr>\n",
       "    <tr>\n",
       "      <th>38</th>\n",
       "      <td>8</td>\n",
       "      <td>8</td>\n",
       "      <td>Association between thermal response and endog...</td>\n",
       "      <td>Mengyuan He, Songtao Hu, Mingli Lu, Rujin Liu,...</td>\n",
       "      <td>Qingdao University of Technology, Qingdao Inte...</td>\n",
       "      <td>Qingdao</td>\n",
       "      <td>China</td>\n",
       "      <td>NaN</td>\n",
       "      <td>2023.0</td>\n",
       "      <td>Not available for sharing</td>\n",
       "      <td>...</td>\n",
       "      <td>0.0</td>\n",
       "      <td>0.0</td>\n",
       "      <td>0.0</td>\n",
       "      <td>0.0</td>\n",
       "      <td>0.0</td>\n",
       "      <td>0.0</td>\n",
       "      <td>0.0</td>\n",
       "      <td>0.0</td>\n",
       "      <td>0.0</td>\n",
       "      <td>0.0</td>\n",
       "    </tr>\n",
       "    <tr>\n",
       "      <th>45</th>\n",
       "      <td>9</td>\n",
       "      <td>9</td>\n",
       "      <td>Physiological and perceptual responses to temp...</td>\n",
       "      <td>Qianqian Huang, Jian Li, Jun Li</td>\n",
       "      <td>Donghua University, Ministry of Education</td>\n",
       "      <td>Shanghai</td>\n",
       "      <td>China</td>\n",
       "      <td>NaN</td>\n",
       "      <td>2024.0</td>\n",
       "      <td>NR</td>\n",
       "      <td>...</td>\n",
       "      <td>0.0</td>\n",
       "      <td>0.0</td>\n",
       "      <td>0.0</td>\n",
       "      <td>0.0</td>\n",
       "      <td>0.0</td>\n",
       "      <td>0.0</td>\n",
       "      <td>0.0</td>\n",
       "      <td>0.0</td>\n",
       "      <td>0.0</td>\n",
       "      <td>0.0</td>\n",
       "    </tr>\n",
       "    <tr>\n",
       "      <th>57</th>\n",
       "      <td>10</td>\n",
       "      <td>10</td>\n",
       "      <td>Effect of temperature step-changes and ramps o...</td>\n",
       "      <td>Angchen Jiang, Yong Cheng, Yuxin Wu, Haijiao C...</td>\n",
       "      <td>Zhejiang Sci-Tech University, Ministry of Educ...</td>\n",
       "      <td>NR</td>\n",
       "      <td>China</td>\n",
       "      <td>NaN</td>\n",
       "      <td>2024.0</td>\n",
       "      <td>Not available for sharing</td>\n",
       "      <td>...</td>\n",
       "      <td>0.0</td>\n",
       "      <td>0.0</td>\n",
       "      <td>0.0</td>\n",
       "      <td>0.0</td>\n",
       "      <td>0.0</td>\n",
       "      <td>0.0</td>\n",
       "      <td>0.0</td>\n",
       "      <td>0.0</td>\n",
       "      <td>0.0</td>\n",
       "      <td>0.0</td>\n",
       "    </tr>\n",
       "  </tbody>\n",
       "</table>\n",
       "<p>10 rows × 172 columns</p>\n",
       "</div>"
      ],
      "text/plain": [
       "   pub-id exp-id                                              paper  \\\n",
       "0       1      1  Effect of elevated air temperature and air vel...   \n",
       "4       2      2  Evaluation of cognitive performance in high te...   \n",
       "5       3      3  Influences of Indoor Air Temperatures on Empat...   \n",
       "9       4      4  Gender differences in thermal comfort under co...   \n",
       "16      5      5  Effects of indoor temperature on office worker...   \n",
       "20      6      6  Experimental evaluation of thermal environment...   \n",
       "29      7      7  Skin temperature indexes to evaluate thermal s...   \n",
       "38      8      8  Association between thermal response and endog...   \n",
       "45      9      9  Physiological and perceptual responses to temp...   \n",
       "57     10     10  Effect of temperature step-changes and ramps o...   \n",
       "\n",
       "                                              authors  \\\n",
       "0                Chao Cen, Siyu Cheng, Nyuk Hien Wong   \n",
       "4     Yuyan Chen, Zheng Wang, Xiaoyu Tian, Weiwei Liu   \n",
       "5   Rania Christoforou, Hannah Pallubinsky, Tobias...   \n",
       "9   Heng Du, Zisheng Zhao, Junmeng Lyu, Jinbo Li, ...   \n",
       "16                              Xiaona Fan, Yiyun Zhu   \n",
       "20  Yanling Guo, Ke Du, Huijun Wu, Xuemei Li, Huak...   \n",
       "29  Shengnan Hao, Fang Wang, Jun Guan, Kai Tang, X...   \n",
       "38  Mengyuan He, Songtao Hu, Mingli Lu, Rujin Liu,...   \n",
       "45                    Qianqian Huang, Jian Li, Jun Li   \n",
       "57  Angchen Jiang, Yong Cheng, Yuxin Wu, Haijiao C...   \n",
       "\n",
       "                                           institutes         city    country  \\\n",
       "0              National University of Singapore (NUS)  Queenstown   Singapore   \n",
       "4          Central South University, Hunan University     Changsha      China   \n",
       "5                              RWTH Aachen University       Aachen    Germany   \n",
       "9   Shanghai Jiao Tong University, Guangdong Midea...     Shanghai      China   \n",
       "16                     Xi’an University of Technology        Xi’an      China   \n",
       "20  Guangzhou University, City University of Hong ...    Guangdong      China   \n",
       "29       Nanjing University of Science and Technology      Nanjing      China   \n",
       "38  Qingdao University of Technology, Qingdao Inte...      Qingdao      China   \n",
       "45          Donghua University, Ministry of Education     Shanghai      China   \n",
       "57  Zhejiang Sci-Tech University, Ministry of Educ...           NR      China   \n",
       "\n",
       "    climate-class  pub-year                 data-avail  ...  \\\n",
       "0             NaN    2023.0               Upon request  ...   \n",
       "4             NaN    2023.0  Not available for sharing  ...   \n",
       "5             NaN    2024.0               Upon request  ...   \n",
       "9             NaN    2023.0  Not available for sharing  ...   \n",
       "16            NaN    2023.0               Upon request  ...   \n",
       "20            NaN    2024.0               Upon request  ...   \n",
       "29            NaN    2023.0               Upon request  ...   \n",
       "38            NaN    2023.0  Not available for sharing  ...   \n",
       "45            NaN    2024.0                         NR  ...   \n",
       "57            NaN    2024.0  Not available for sharing  ...   \n",
       "\n",
       "   part-meta-health-level part-meta-morningness part-meta-bmr  \\\n",
       "0                     0.0                   0.0           0.0   \n",
       "4                     0.0                   0.0           0.0   \n",
       "5                     0.0                   0.0           0.0   \n",
       "9                     0.0                   0.0           0.0   \n",
       "16                    0.0                   0.0           0.0   \n",
       "20                    0.0                   0.0           0.0   \n",
       "29                    0.0                   0.0           0.0   \n",
       "38                    0.0                   0.0           0.0   \n",
       "45                    0.0                   0.0           0.0   \n",
       "57                    0.0                   0.0           0.0   \n",
       "\n",
       "   part-meta-alcohol-use part-meta-mens-timing  part-meta-contraceptive-type  \\\n",
       "0                    0.0                   0.0                           0.0   \n",
       "4                    0.0                   1.0                           0.0   \n",
       "5                    0.0                   0.0                           0.0   \n",
       "9                    0.0                   0.0                           0.0   \n",
       "16                   0.0                   0.0                           0.0   \n",
       "20                   0.0                   0.0                           0.0   \n",
       "29                   0.0                   1.0                           0.0   \n",
       "38                   0.0                   0.0                           0.0   \n",
       "45                   0.0                   0.0                           0.0   \n",
       "57                   0.0                   0.0                           0.0   \n",
       "\n",
       "    part-meta-muscle part-meta-reg-coffee  part-meta-reg-sleep-time  \\\n",
       "0                0.0                  0.0                       0.0   \n",
       "4                0.0                  0.0                       0.0   \n",
       "5                0.0                  0.0                       0.0   \n",
       "9                0.0                  0.0                       0.0   \n",
       "16               0.0                  0.0                       0.0   \n",
       "20               0.0                  0.0                       0.0   \n",
       "29               0.0                  0.0                       0.0   \n",
       "38               0.0                  0.0                       0.0   \n",
       "45               0.0                  0.0                       0.0   \n",
       "57               0.0                  0.0                       0.0   \n",
       "\n",
       "   part-meta-reg-work time  \n",
       "0                      0.0  \n",
       "4                      0.0  \n",
       "5                      0.0  \n",
       "9                      0.0  \n",
       "16                     0.0  \n",
       "20                     0.0  \n",
       "29                     0.0  \n",
       "38                     0.0  \n",
       "45                     0.0  \n",
       "57                     0.0  \n",
       "\n",
       "[10 rows x 172 columns]"
      ]
     },
     "execution_count": 134,
     "metadata": {},
     "output_type": "execute_result"
    }
   ],
   "source": [
    "df = pd.read_csv(\"data/lit-metadata.csv\")\n",
    "\n",
    "# keeping exp-id for now, since I used it in earlier versions of the code\n",
    "df[\"exp-id\"] = df[\"pub-id\"].astype(str)\n",
    "\n",
    "unique_studies = df.drop_duplicates(subset=[\"exp-id\"])\n",
    "\n",
    "print(f\"Number of papers: {len(unique_studies)}\")\n",
    "\n",
    "unique_studies.head(10)"
   ]
  },
  {
   "cell_type": "markdown",
   "metadata": {},
   "source": [
    "## PARAMETER"
   ]
  },
  {
   "cell_type": "code",
   "execution_count": 135,
   "metadata": {},
   "outputs": [
    {
     "data": {
      "application/vnd.plotly.v1+json": {
       "config": {
        "plotlyServerURL": "https://plot.ly"
       },
       "data": [
        {
         "hovertemplate": "pub-year=%{x}<br>count=%{y}<extra></extra>",
         "legendgroup": "",
         "line": {
          "color": "#277da1",
          "dash": "solid"
         },
         "marker": {
          "symbol": "circle"
         },
         "mode": "lines",
         "name": "",
         "orientation": "v",
         "showlegend": false,
         "type": "scatter",
         "x": [
          2013,
          2014,
          2015,
          2016,
          2017,
          2018,
          2019,
          2020,
          2021,
          2022,
          2023,
          2024
         ],
         "xaxis": "x",
         "y": [
          5,
          6,
          6,
          12,
          17,
          22,
          30,
          26,
          23,
          46,
          14,
          12
         ],
         "yaxis": "y"
        }
       ],
       "layout": {
        "height": 400,
        "legend": {
         "tracegroupgap": 0
        },
        "template": {
         "data": {
          "bar": [
           {
            "error_x": {
             "color": "rgb(51,51,51)"
            },
            "error_y": {
             "color": "rgb(51,51,51)"
            },
            "marker": {
             "line": {
              "color": "rgb(237,237,237)",
              "width": 0.5
             },
             "pattern": {
              "fillmode": "overlay",
              "size": 10,
              "solidity": 0.2
             }
            },
            "type": "bar"
           }
          ],
          "barpolar": [
           {
            "marker": {
             "line": {
              "color": "rgb(237,237,237)",
              "width": 0.5
             },
             "pattern": {
              "fillmode": "overlay",
              "size": 10,
              "solidity": 0.2
             }
            },
            "type": "barpolar"
           }
          ],
          "carpet": [
           {
            "aaxis": {
             "endlinecolor": "rgb(51,51,51)",
             "gridcolor": "white",
             "linecolor": "white",
             "minorgridcolor": "white",
             "startlinecolor": "rgb(51,51,51)"
            },
            "baxis": {
             "endlinecolor": "rgb(51,51,51)",
             "gridcolor": "white",
             "linecolor": "white",
             "minorgridcolor": "white",
             "startlinecolor": "rgb(51,51,51)"
            },
            "type": "carpet"
           }
          ],
          "choropleth": [
           {
            "colorbar": {
             "outlinewidth": 0,
             "tickcolor": "rgb(237,237,237)",
             "ticklen": 6,
             "ticks": "inside"
            },
            "type": "choropleth"
           }
          ],
          "contour": [
           {
            "colorbar": {
             "outlinewidth": 0,
             "tickcolor": "rgb(237,237,237)",
             "ticklen": 6,
             "ticks": "inside"
            },
            "colorscale": [
             [
              0,
              "rgb(20,44,66)"
             ],
             [
              1,
              "rgb(90,179,244)"
             ]
            ],
            "type": "contour"
           }
          ],
          "contourcarpet": [
           {
            "colorbar": {
             "outlinewidth": 0,
             "tickcolor": "rgb(237,237,237)",
             "ticklen": 6,
             "ticks": "inside"
            },
            "type": "contourcarpet"
           }
          ],
          "heatmap": [
           {
            "colorbar": {
             "outlinewidth": 0,
             "tickcolor": "rgb(237,237,237)",
             "ticklen": 6,
             "ticks": "inside"
            },
            "colorscale": [
             [
              0,
              "rgb(20,44,66)"
             ],
             [
              1,
              "rgb(90,179,244)"
             ]
            ],
            "type": "heatmap"
           }
          ],
          "heatmapgl": [
           {
            "colorbar": {
             "outlinewidth": 0,
             "tickcolor": "rgb(237,237,237)",
             "ticklen": 6,
             "ticks": "inside"
            },
            "colorscale": [
             [
              0,
              "rgb(20,44,66)"
             ],
             [
              1,
              "rgb(90,179,244)"
             ]
            ],
            "type": "heatmapgl"
           }
          ],
          "histogram": [
           {
            "marker": {
             "pattern": {
              "fillmode": "overlay",
              "size": 10,
              "solidity": 0.2
             }
            },
            "type": "histogram"
           }
          ],
          "histogram2d": [
           {
            "colorbar": {
             "outlinewidth": 0,
             "tickcolor": "rgb(237,237,237)",
             "ticklen": 6,
             "ticks": "inside"
            },
            "colorscale": [
             [
              0,
              "rgb(20,44,66)"
             ],
             [
              1,
              "rgb(90,179,244)"
             ]
            ],
            "type": "histogram2d"
           }
          ],
          "histogram2dcontour": [
           {
            "colorbar": {
             "outlinewidth": 0,
             "tickcolor": "rgb(237,237,237)",
             "ticklen": 6,
             "ticks": "inside"
            },
            "colorscale": [
             [
              0,
              "rgb(20,44,66)"
             ],
             [
              1,
              "rgb(90,179,244)"
             ]
            ],
            "type": "histogram2dcontour"
           }
          ],
          "mesh3d": [
           {
            "colorbar": {
             "outlinewidth": 0,
             "tickcolor": "rgb(237,237,237)",
             "ticklen": 6,
             "ticks": "inside"
            },
            "type": "mesh3d"
           }
          ],
          "parcoords": [
           {
            "line": {
             "colorbar": {
              "outlinewidth": 0,
              "tickcolor": "rgb(237,237,237)",
              "ticklen": 6,
              "ticks": "inside"
             }
            },
            "type": "parcoords"
           }
          ],
          "pie": [
           {
            "automargin": true,
            "type": "pie"
           }
          ],
          "scatter": [
           {
            "fillpattern": {
             "fillmode": "overlay",
             "size": 10,
             "solidity": 0.2
            },
            "type": "scatter"
           }
          ],
          "scatter3d": [
           {
            "line": {
             "colorbar": {
              "outlinewidth": 0,
              "tickcolor": "rgb(237,237,237)",
              "ticklen": 6,
              "ticks": "inside"
             }
            },
            "marker": {
             "colorbar": {
              "outlinewidth": 0,
              "tickcolor": "rgb(237,237,237)",
              "ticklen": 6,
              "ticks": "inside"
             }
            },
            "type": "scatter3d"
           }
          ],
          "scattercarpet": [
           {
            "marker": {
             "colorbar": {
              "outlinewidth": 0,
              "tickcolor": "rgb(237,237,237)",
              "ticklen": 6,
              "ticks": "inside"
             }
            },
            "type": "scattercarpet"
           }
          ],
          "scattergeo": [
           {
            "marker": {
             "colorbar": {
              "outlinewidth": 0,
              "tickcolor": "rgb(237,237,237)",
              "ticklen": 6,
              "ticks": "inside"
             }
            },
            "type": "scattergeo"
           }
          ],
          "scattergl": [
           {
            "marker": {
             "colorbar": {
              "outlinewidth": 0,
              "tickcolor": "rgb(237,237,237)",
              "ticklen": 6,
              "ticks": "inside"
             }
            },
            "type": "scattergl"
           }
          ],
          "scattermapbox": [
           {
            "marker": {
             "colorbar": {
              "outlinewidth": 0,
              "tickcolor": "rgb(237,237,237)",
              "ticklen": 6,
              "ticks": "inside"
             }
            },
            "type": "scattermapbox"
           }
          ],
          "scatterpolar": [
           {
            "marker": {
             "colorbar": {
              "outlinewidth": 0,
              "tickcolor": "rgb(237,237,237)",
              "ticklen": 6,
              "ticks": "inside"
             }
            },
            "type": "scatterpolar"
           }
          ],
          "scatterpolargl": [
           {
            "marker": {
             "colorbar": {
              "outlinewidth": 0,
              "tickcolor": "rgb(237,237,237)",
              "ticklen": 6,
              "ticks": "inside"
             }
            },
            "type": "scatterpolargl"
           }
          ],
          "scatterternary": [
           {
            "marker": {
             "colorbar": {
              "outlinewidth": 0,
              "tickcolor": "rgb(237,237,237)",
              "ticklen": 6,
              "ticks": "inside"
             }
            },
            "type": "scatterternary"
           }
          ],
          "surface": [
           {
            "colorbar": {
             "outlinewidth": 0,
             "tickcolor": "rgb(237,237,237)",
             "ticklen": 6,
             "ticks": "inside"
            },
            "colorscale": [
             [
              0,
              "rgb(20,44,66)"
             ],
             [
              1,
              "rgb(90,179,244)"
             ]
            ],
            "type": "surface"
           }
          ],
          "table": [
           {
            "cells": {
             "fill": {
              "color": "rgb(237,237,237)"
             },
             "line": {
              "color": "white"
             }
            },
            "header": {
             "fill": {
              "color": "rgb(217,217,217)"
             },
             "line": {
              "color": "white"
             }
            },
            "type": "table"
           }
          ]
         },
         "layout": {
          "annotationdefaults": {
           "arrowhead": 0,
           "arrowwidth": 1
          },
          "autotypenumbers": "strict",
          "coloraxis": {
           "colorbar": {
            "outlinewidth": 0,
            "tickcolor": "rgb(237,237,237)",
            "ticklen": 6,
            "ticks": "inside"
           }
          },
          "colorscale": {
           "sequential": [
            [
             0,
             "rgb(20,44,66)"
            ],
            [
             1,
             "rgb(90,179,244)"
            ]
           ],
           "sequentialminus": [
            [
             0,
             "rgb(20,44,66)"
            ],
            [
             1,
             "rgb(90,179,244)"
            ]
           ]
          },
          "colorway": [
           "#277da1",
           "#577590",
           "#4d908e",
           "#43aa8b",
           "#90be6d",
           "#f9c74f",
           "#f9844a",
           "#f8961e",
           "#f3722c",
           "#f94144",
           "#a8dce2",
           "#b3bfc9",
           "#a8cfc9",
           "#a8dfd2",
           "#d2e8c0",
           "#fde7a6",
           "#f9cfbd",
           "#fbd3a7",
           "#f9b39c",
           "#f9a3a5"
          ],
          "font": {
           "color": "rgb(51,51,51)"
          },
          "geo": {
           "bgcolor": "white",
           "lakecolor": "white",
           "landcolor": "rgb(237,237,237)",
           "showlakes": true,
           "showland": true,
           "subunitcolor": "white"
          },
          "hoverlabel": {
           "align": "left"
          },
          "hovermode": "closest",
          "paper_bgcolor": "rgba(0,0,0,0)",
          "plot_bgcolor": "rgba(0,0,0,0)",
          "polar": {
           "angularaxis": {
            "gridcolor": "white",
            "linecolor": "white",
            "showgrid": true,
            "tickcolor": "rgb(51,51,51)",
            "ticks": "outside"
           },
           "bgcolor": "rgb(237,237,237)",
           "radialaxis": {
            "gridcolor": "white",
            "linecolor": "white",
            "showgrid": true,
            "tickcolor": "rgb(51,51,51)",
            "ticks": "outside"
           }
          },
          "scene": {
           "xaxis": {
            "backgroundcolor": "rgb(237,237,237)",
            "gridcolor": "white",
            "gridwidth": 2,
            "linecolor": "white",
            "showbackground": true,
            "showgrid": true,
            "tickcolor": "rgb(51,51,51)",
            "ticks": "outside",
            "zerolinecolor": "white"
           },
           "yaxis": {
            "backgroundcolor": "rgb(237,237,237)",
            "gridcolor": "white",
            "gridwidth": 2,
            "linecolor": "white",
            "showbackground": true,
            "showgrid": true,
            "tickcolor": "rgb(51,51,51)",
            "ticks": "outside",
            "zerolinecolor": "white"
           },
           "zaxis": {
            "backgroundcolor": "rgb(237,237,237)",
            "gridcolor": "white",
            "gridwidth": 2,
            "linecolor": "white",
            "showbackground": true,
            "showgrid": true,
            "tickcolor": "rgb(51,51,51)",
            "ticks": "outside",
            "zerolinecolor": "white"
           }
          },
          "shapedefaults": {
           "fillcolor": "black",
           "line": {
            "width": 0
           },
           "opacity": 0.3
          },
          "ternary": {
           "aaxis": {
            "gridcolor": "white",
            "linecolor": "white",
            "showgrid": true,
            "tickcolor": "rgb(51,51,51)",
            "ticks": "outside"
           },
           "baxis": {
            "gridcolor": "white",
            "linecolor": "white",
            "showgrid": true,
            "tickcolor": "rgb(51,51,51)",
            "ticks": "outside"
           },
           "bgcolor": "rgb(237,237,237)",
           "caxis": {
            "gridcolor": "white",
            "linecolor": "white",
            "showgrid": true,
            "tickcolor": "rgb(51,51,51)",
            "ticks": "outside"
           }
          },
          "xaxis": {
           "automargin": true,
           "gridcolor": "white",
           "linecolor": "white",
           "showgrid": true,
           "tickcolor": "rgb(51,51,51)",
           "ticks": "outside",
           "title": {
            "standoff": 15
           },
           "zerolinecolor": "white"
          },
          "yaxis": {
           "automargin": true,
           "gridcolor": "white",
           "linecolor": "white",
           "showgrid": true,
           "tickcolor": "rgb(51,51,51)",
           "ticks": "outside",
           "title": {
            "standoff": 15
           },
           "zerolinecolor": "white"
          }
         }
        },
        "title": {
         "text": "Number of Studies Published Per Year"
        },
        "width": 800,
        "xaxis": {
         "anchor": "y",
         "domain": [
          0,
          1
         ],
         "title": {
          "text": "pub-year"
         }
        },
        "yaxis": {
         "anchor": "x",
         "domain": [
          0,
          1
         ],
         "title": {
          "text": "count"
         }
        }
       }
      }
     },
     "metadata": {},
     "output_type": "display_data"
    }
   ],
   "source": [
    "year_counts = unique_studies[\"pub-year\"].value_counts().sort_index().reset_index()\n",
    "year_counts.columns = [\"pub-year\", \"count\"]\n",
    "\n",
    "fig = px.line(\n",
    "    year_counts,\n",
    "    x=\"pub-year\",\n",
    "    y=\"count\",\n",
    "    title=\"Number of Studies Published Per Year\",\n",
    "    width=800,\n",
    "    height=400,\n",
    "    template=CHART_LAYOUT.template.value,\n",
    ")\n",
    "\n",
    "fig.show()"
   ]
  },
  {
   "cell_type": "code",
   "execution_count": 136,
   "metadata": {},
   "outputs": [
    {
     "data": {
      "application/vnd.plotly.v1+json": {
       "config": {
        "plotlyServerURL": "https://plot.ly"
       },
       "data": [
        {
         "alignmentgroup": "True",
         "hovertemplate": "pub-year=%{x}<br>count=%{y}<extra></extra>",
         "legendgroup": "",
         "marker": {
          "color": "#277da1",
          "pattern": {
           "shape": ""
          }
         },
         "name": "",
         "offsetgroup": "",
         "orientation": "v",
         "showlegend": false,
         "textposition": "auto",
         "type": "bar",
         "x": [
          2013,
          2014,
          2015,
          2016,
          2017,
          2018,
          2019,
          2020,
          2021,
          2022,
          2023,
          2024
         ],
         "xaxis": "x",
         "y": [
          5,
          6,
          6,
          12,
          17,
          22,
          30,
          26,
          23,
          46,
          14,
          12
         ],
         "yaxis": "y"
        }
       ],
       "layout": {
        "barmode": "relative",
        "height": 400,
        "legend": {
         "tracegroupgap": 0
        },
        "margin": {
         "t": 60
        },
        "template": {
         "data": {
          "bar": [
           {
            "error_x": {
             "color": "rgb(51,51,51)"
            },
            "error_y": {
             "color": "rgb(51,51,51)"
            },
            "marker": {
             "line": {
              "color": "rgb(237,237,237)",
              "width": 0.5
             },
             "pattern": {
              "fillmode": "overlay",
              "size": 10,
              "solidity": 0.2
             }
            },
            "type": "bar"
           }
          ],
          "barpolar": [
           {
            "marker": {
             "line": {
              "color": "rgb(237,237,237)",
              "width": 0.5
             },
             "pattern": {
              "fillmode": "overlay",
              "size": 10,
              "solidity": 0.2
             }
            },
            "type": "barpolar"
           }
          ],
          "carpet": [
           {
            "aaxis": {
             "endlinecolor": "rgb(51,51,51)",
             "gridcolor": "white",
             "linecolor": "white",
             "minorgridcolor": "white",
             "startlinecolor": "rgb(51,51,51)"
            },
            "baxis": {
             "endlinecolor": "rgb(51,51,51)",
             "gridcolor": "white",
             "linecolor": "white",
             "minorgridcolor": "white",
             "startlinecolor": "rgb(51,51,51)"
            },
            "type": "carpet"
           }
          ],
          "choropleth": [
           {
            "colorbar": {
             "outlinewidth": 0,
             "tickcolor": "rgb(237,237,237)",
             "ticklen": 6,
             "ticks": "inside"
            },
            "type": "choropleth"
           }
          ],
          "contour": [
           {
            "colorbar": {
             "outlinewidth": 0,
             "tickcolor": "rgb(237,237,237)",
             "ticklen": 6,
             "ticks": "inside"
            },
            "colorscale": [
             [
              0,
              "rgb(20,44,66)"
             ],
             [
              1,
              "rgb(90,179,244)"
             ]
            ],
            "type": "contour"
           }
          ],
          "contourcarpet": [
           {
            "colorbar": {
             "outlinewidth": 0,
             "tickcolor": "rgb(237,237,237)",
             "ticklen": 6,
             "ticks": "inside"
            },
            "type": "contourcarpet"
           }
          ],
          "heatmap": [
           {
            "colorbar": {
             "outlinewidth": 0,
             "tickcolor": "rgb(237,237,237)",
             "ticklen": 6,
             "ticks": "inside"
            },
            "colorscale": [
             [
              0,
              "rgb(20,44,66)"
             ],
             [
              1,
              "rgb(90,179,244)"
             ]
            ],
            "type": "heatmap"
           }
          ],
          "heatmapgl": [
           {
            "colorbar": {
             "outlinewidth": 0,
             "tickcolor": "rgb(237,237,237)",
             "ticklen": 6,
             "ticks": "inside"
            },
            "colorscale": [
             [
              0,
              "rgb(20,44,66)"
             ],
             [
              1,
              "rgb(90,179,244)"
             ]
            ],
            "type": "heatmapgl"
           }
          ],
          "histogram": [
           {
            "marker": {
             "pattern": {
              "fillmode": "overlay",
              "size": 10,
              "solidity": 0.2
             }
            },
            "type": "histogram"
           }
          ],
          "histogram2d": [
           {
            "colorbar": {
             "outlinewidth": 0,
             "tickcolor": "rgb(237,237,237)",
             "ticklen": 6,
             "ticks": "inside"
            },
            "colorscale": [
             [
              0,
              "rgb(20,44,66)"
             ],
             [
              1,
              "rgb(90,179,244)"
             ]
            ],
            "type": "histogram2d"
           }
          ],
          "histogram2dcontour": [
           {
            "colorbar": {
             "outlinewidth": 0,
             "tickcolor": "rgb(237,237,237)",
             "ticklen": 6,
             "ticks": "inside"
            },
            "colorscale": [
             [
              0,
              "rgb(20,44,66)"
             ],
             [
              1,
              "rgb(90,179,244)"
             ]
            ],
            "type": "histogram2dcontour"
           }
          ],
          "mesh3d": [
           {
            "colorbar": {
             "outlinewidth": 0,
             "tickcolor": "rgb(237,237,237)",
             "ticklen": 6,
             "ticks": "inside"
            },
            "type": "mesh3d"
           }
          ],
          "parcoords": [
           {
            "line": {
             "colorbar": {
              "outlinewidth": 0,
              "tickcolor": "rgb(237,237,237)",
              "ticklen": 6,
              "ticks": "inside"
             }
            },
            "type": "parcoords"
           }
          ],
          "pie": [
           {
            "automargin": true,
            "type": "pie"
           }
          ],
          "scatter": [
           {
            "fillpattern": {
             "fillmode": "overlay",
             "size": 10,
             "solidity": 0.2
            },
            "type": "scatter"
           }
          ],
          "scatter3d": [
           {
            "line": {
             "colorbar": {
              "outlinewidth": 0,
              "tickcolor": "rgb(237,237,237)",
              "ticklen": 6,
              "ticks": "inside"
             }
            },
            "marker": {
             "colorbar": {
              "outlinewidth": 0,
              "tickcolor": "rgb(237,237,237)",
              "ticklen": 6,
              "ticks": "inside"
             }
            },
            "type": "scatter3d"
           }
          ],
          "scattercarpet": [
           {
            "marker": {
             "colorbar": {
              "outlinewidth": 0,
              "tickcolor": "rgb(237,237,237)",
              "ticklen": 6,
              "ticks": "inside"
             }
            },
            "type": "scattercarpet"
           }
          ],
          "scattergeo": [
           {
            "marker": {
             "colorbar": {
              "outlinewidth": 0,
              "tickcolor": "rgb(237,237,237)",
              "ticklen": 6,
              "ticks": "inside"
             }
            },
            "type": "scattergeo"
           }
          ],
          "scattergl": [
           {
            "marker": {
             "colorbar": {
              "outlinewidth": 0,
              "tickcolor": "rgb(237,237,237)",
              "ticklen": 6,
              "ticks": "inside"
             }
            },
            "type": "scattergl"
           }
          ],
          "scattermapbox": [
           {
            "marker": {
             "colorbar": {
              "outlinewidth": 0,
              "tickcolor": "rgb(237,237,237)",
              "ticklen": 6,
              "ticks": "inside"
             }
            },
            "type": "scattermapbox"
           }
          ],
          "scatterpolar": [
           {
            "marker": {
             "colorbar": {
              "outlinewidth": 0,
              "tickcolor": "rgb(237,237,237)",
              "ticklen": 6,
              "ticks": "inside"
             }
            },
            "type": "scatterpolar"
           }
          ],
          "scatterpolargl": [
           {
            "marker": {
             "colorbar": {
              "outlinewidth": 0,
              "tickcolor": "rgb(237,237,237)",
              "ticklen": 6,
              "ticks": "inside"
             }
            },
            "type": "scatterpolargl"
           }
          ],
          "scatterternary": [
           {
            "marker": {
             "colorbar": {
              "outlinewidth": 0,
              "tickcolor": "rgb(237,237,237)",
              "ticklen": 6,
              "ticks": "inside"
             }
            },
            "type": "scatterternary"
           }
          ],
          "surface": [
           {
            "colorbar": {
             "outlinewidth": 0,
             "tickcolor": "rgb(237,237,237)",
             "ticklen": 6,
             "ticks": "inside"
            },
            "colorscale": [
             [
              0,
              "rgb(20,44,66)"
             ],
             [
              1,
              "rgb(90,179,244)"
             ]
            ],
            "type": "surface"
           }
          ],
          "table": [
           {
            "cells": {
             "fill": {
              "color": "rgb(237,237,237)"
             },
             "line": {
              "color": "white"
             }
            },
            "header": {
             "fill": {
              "color": "rgb(217,217,217)"
             },
             "line": {
              "color": "white"
             }
            },
            "type": "table"
           }
          ]
         },
         "layout": {
          "annotationdefaults": {
           "arrowhead": 0,
           "arrowwidth": 1
          },
          "autotypenumbers": "strict",
          "coloraxis": {
           "colorbar": {
            "outlinewidth": 0,
            "tickcolor": "rgb(237,237,237)",
            "ticklen": 6,
            "ticks": "inside"
           }
          },
          "colorscale": {
           "sequential": [
            [
             0,
             "rgb(20,44,66)"
            ],
            [
             1,
             "rgb(90,179,244)"
            ]
           ],
           "sequentialminus": [
            [
             0,
             "rgb(20,44,66)"
            ],
            [
             1,
             "rgb(90,179,244)"
            ]
           ]
          },
          "colorway": [
           "#277da1",
           "#577590",
           "#4d908e",
           "#43aa8b",
           "#90be6d",
           "#f9c74f",
           "#f9844a",
           "#f8961e",
           "#f3722c",
           "#f94144",
           "#a8dce2",
           "#b3bfc9",
           "#a8cfc9",
           "#a8dfd2",
           "#d2e8c0",
           "#fde7a6",
           "#f9cfbd",
           "#fbd3a7",
           "#f9b39c",
           "#f9a3a5"
          ],
          "font": {
           "color": "rgb(51,51,51)"
          },
          "geo": {
           "bgcolor": "white",
           "lakecolor": "white",
           "landcolor": "rgb(237,237,237)",
           "showlakes": true,
           "showland": true,
           "subunitcolor": "white"
          },
          "hoverlabel": {
           "align": "left"
          },
          "hovermode": "closest",
          "paper_bgcolor": "rgba(0,0,0,0)",
          "plot_bgcolor": "rgba(0,0,0,0)",
          "polar": {
           "angularaxis": {
            "gridcolor": "white",
            "linecolor": "white",
            "showgrid": true,
            "tickcolor": "rgb(51,51,51)",
            "ticks": "outside"
           },
           "bgcolor": "rgb(237,237,237)",
           "radialaxis": {
            "gridcolor": "white",
            "linecolor": "white",
            "showgrid": true,
            "tickcolor": "rgb(51,51,51)",
            "ticks": "outside"
           }
          },
          "scene": {
           "xaxis": {
            "backgroundcolor": "rgb(237,237,237)",
            "gridcolor": "white",
            "gridwidth": 2,
            "linecolor": "white",
            "showbackground": true,
            "showgrid": true,
            "tickcolor": "rgb(51,51,51)",
            "ticks": "outside",
            "zerolinecolor": "white"
           },
           "yaxis": {
            "backgroundcolor": "rgb(237,237,237)",
            "gridcolor": "white",
            "gridwidth": 2,
            "linecolor": "white",
            "showbackground": true,
            "showgrid": true,
            "tickcolor": "rgb(51,51,51)",
            "ticks": "outside",
            "zerolinecolor": "white"
           },
           "zaxis": {
            "backgroundcolor": "rgb(237,237,237)",
            "gridcolor": "white",
            "gridwidth": 2,
            "linecolor": "white",
            "showbackground": true,
            "showgrid": true,
            "tickcolor": "rgb(51,51,51)",
            "ticks": "outside",
            "zerolinecolor": "white"
           }
          },
          "shapedefaults": {
           "fillcolor": "black",
           "line": {
            "width": 0
           },
           "opacity": 0.3
          },
          "ternary": {
           "aaxis": {
            "gridcolor": "white",
            "linecolor": "white",
            "showgrid": true,
            "tickcolor": "rgb(51,51,51)",
            "ticks": "outside"
           },
           "baxis": {
            "gridcolor": "white",
            "linecolor": "white",
            "showgrid": true,
            "tickcolor": "rgb(51,51,51)",
            "ticks": "outside"
           },
           "bgcolor": "rgb(237,237,237)",
           "caxis": {
            "gridcolor": "white",
            "linecolor": "white",
            "showgrid": true,
            "tickcolor": "rgb(51,51,51)",
            "ticks": "outside"
           }
          },
          "xaxis": {
           "automargin": true,
           "gridcolor": "white",
           "linecolor": "white",
           "showgrid": true,
           "tickcolor": "rgb(51,51,51)",
           "ticks": "outside",
           "title": {
            "standoff": 15
           },
           "zerolinecolor": "white"
          },
          "yaxis": {
           "automargin": true,
           "gridcolor": "white",
           "linecolor": "white",
           "showgrid": true,
           "tickcolor": "rgb(51,51,51)",
           "ticks": "outside",
           "title": {
            "standoff": 15
           },
           "zerolinecolor": "white"
          }
         }
        },
        "width": 800,
        "xaxis": {
         "anchor": "y",
         "domain": [
          0,
          1
         ],
         "title": {
          "text": "pub-year"
         }
        },
        "yaxis": {
         "anchor": "x",
         "domain": [
          0,
          1
         ],
         "title": {
          "text": "count"
         }
        }
       }
      }
     },
     "metadata": {},
     "output_type": "display_data"
    }
   ],
   "source": [
    "fig = px.bar(\n",
    "    year_counts,\n",
    "    x=\"pub-year\",\n",
    "    y=\"count\",\n",
    "    width=800,\n",
    "    height=400,\n",
    "    template=CHART_LAYOUT.template.value\n",
    ")\n",
    "\n",
    "fig.show()"
   ]
  },
  {
   "cell_type": "code",
   "execution_count": 137,
   "metadata": {},
   "outputs": [
    {
     "data": {
      "application/vnd.plotly.v1+json": {
       "config": {
        "plotlyServerURL": "https://plot.ly"
       },
       "data": [
        {
         "coloraxis": "coloraxis",
         "geo": "geo",
         "hovertemplate": "<b>%{hovertext}</b><br><br>country=%{location}<br>count=%{z}<extra></extra>",
         "hovertext": [
          "China",
          "USA",
          "Singapore",
          "Italy",
          "Japan",
          "South Korea",
          "Korea",
          "Iran",
          "Germany",
          "NR",
          "Netherlands",
          "Australia",
          "UK",
          "Switzerland",
          "Denmark",
          "Brazil",
          "Norway",
          "India",
          "Taiwan",
          "Portugal",
          "Spain",
          "Croatia",
          "Turkey",
          "Michigan",
          "France",
          "Malaysia",
          "Texas",
          "Great Britain"
         ],
         "locationmode": "country names",
         "locations": [
          "China",
          "USA",
          "Singapore",
          "Italy",
          "Japan",
          "South Korea",
          "Korea",
          "Iran",
          "Germany",
          "NR",
          "Netherlands",
          "Australia",
          "UK",
          "Switzerland",
          "Denmark",
          "Brazil",
          "Norway",
          "India",
          "Taiwan",
          "Portugal",
          "Spain",
          "Croatia",
          "Turkey",
          "Michigan",
          "France",
          "Malaysia",
          "Texas",
          "Great Britain"
         ],
         "name": "",
         "type": "choropleth",
         "z": [
          115,
          23,
          8,
          8,
          8,
          7,
          5,
          4,
          4,
          4,
          3,
          3,
          3,
          3,
          3,
          2,
          2,
          2,
          2,
          2,
          1,
          1,
          1,
          1,
          1,
          1,
          1,
          1
         ]
        }
       ],
       "layout": {
        "coloraxis": {
         "colorbar": {
          "title": {
           "text": "count"
          }
         },
         "colorscale": [
          [
           0,
           "#0d0887"
          ],
          [
           0.1111111111111111,
           "#46039f"
          ],
          [
           0.2222222222222222,
           "#7201a8"
          ],
          [
           0.3333333333333333,
           "#9c179e"
          ],
          [
           0.4444444444444444,
           "#bd3786"
          ],
          [
           0.5555555555555556,
           "#d8576b"
          ],
          [
           0.6666666666666666,
           "#ed7953"
          ],
          [
           0.7777777777777778,
           "#fb9f3a"
          ],
          [
           0.8888888888888888,
           "#fdca26"
          ],
          [
           1,
           "#f0f921"
          ]
         ]
        },
        "geo": {
         "center": {},
         "domain": {
          "x": [
           0,
           1
          ],
          "y": [
           0,
           1
          ]
         }
        },
        "height": 600,
        "legend": {
         "tracegroupgap": 0
        },
        "margin": {
         "t": 60
        },
        "template": {
         "data": {
          "bar": [
           {
            "error_x": {
             "color": "#2a3f5f"
            },
            "error_y": {
             "color": "#2a3f5f"
            },
            "marker": {
             "line": {
              "color": "#E5ECF6",
              "width": 0.5
             },
             "pattern": {
              "fillmode": "overlay",
              "size": 10,
              "solidity": 0.2
             }
            },
            "type": "bar"
           }
          ],
          "barpolar": [
           {
            "marker": {
             "line": {
              "color": "#E5ECF6",
              "width": 0.5
             },
             "pattern": {
              "fillmode": "overlay",
              "size": 10,
              "solidity": 0.2
             }
            },
            "type": "barpolar"
           }
          ],
          "carpet": [
           {
            "aaxis": {
             "endlinecolor": "#2a3f5f",
             "gridcolor": "white",
             "linecolor": "white",
             "minorgridcolor": "white",
             "startlinecolor": "#2a3f5f"
            },
            "baxis": {
             "endlinecolor": "#2a3f5f",
             "gridcolor": "white",
             "linecolor": "white",
             "minorgridcolor": "white",
             "startlinecolor": "#2a3f5f"
            },
            "type": "carpet"
           }
          ],
          "choropleth": [
           {
            "colorbar": {
             "outlinewidth": 0,
             "ticks": ""
            },
            "type": "choropleth"
           }
          ],
          "contour": [
           {
            "colorbar": {
             "outlinewidth": 0,
             "ticks": ""
            },
            "colorscale": [
             [
              0,
              "#0d0887"
             ],
             [
              0.1111111111111111,
              "#46039f"
             ],
             [
              0.2222222222222222,
              "#7201a8"
             ],
             [
              0.3333333333333333,
              "#9c179e"
             ],
             [
              0.4444444444444444,
              "#bd3786"
             ],
             [
              0.5555555555555556,
              "#d8576b"
             ],
             [
              0.6666666666666666,
              "#ed7953"
             ],
             [
              0.7777777777777778,
              "#fb9f3a"
             ],
             [
              0.8888888888888888,
              "#fdca26"
             ],
             [
              1,
              "#f0f921"
             ]
            ],
            "type": "contour"
           }
          ],
          "contourcarpet": [
           {
            "colorbar": {
             "outlinewidth": 0,
             "ticks": ""
            },
            "type": "contourcarpet"
           }
          ],
          "heatmap": [
           {
            "colorbar": {
             "outlinewidth": 0,
             "ticks": ""
            },
            "colorscale": [
             [
              0,
              "#0d0887"
             ],
             [
              0.1111111111111111,
              "#46039f"
             ],
             [
              0.2222222222222222,
              "#7201a8"
             ],
             [
              0.3333333333333333,
              "#9c179e"
             ],
             [
              0.4444444444444444,
              "#bd3786"
             ],
             [
              0.5555555555555556,
              "#d8576b"
             ],
             [
              0.6666666666666666,
              "#ed7953"
             ],
             [
              0.7777777777777778,
              "#fb9f3a"
             ],
             [
              0.8888888888888888,
              "#fdca26"
             ],
             [
              1,
              "#f0f921"
             ]
            ],
            "type": "heatmap"
           }
          ],
          "heatmapgl": [
           {
            "colorbar": {
             "outlinewidth": 0,
             "ticks": ""
            },
            "colorscale": [
             [
              0,
              "#0d0887"
             ],
             [
              0.1111111111111111,
              "#46039f"
             ],
             [
              0.2222222222222222,
              "#7201a8"
             ],
             [
              0.3333333333333333,
              "#9c179e"
             ],
             [
              0.4444444444444444,
              "#bd3786"
             ],
             [
              0.5555555555555556,
              "#d8576b"
             ],
             [
              0.6666666666666666,
              "#ed7953"
             ],
             [
              0.7777777777777778,
              "#fb9f3a"
             ],
             [
              0.8888888888888888,
              "#fdca26"
             ],
             [
              1,
              "#f0f921"
             ]
            ],
            "type": "heatmapgl"
           }
          ],
          "histogram": [
           {
            "marker": {
             "pattern": {
              "fillmode": "overlay",
              "size": 10,
              "solidity": 0.2
             }
            },
            "type": "histogram"
           }
          ],
          "histogram2d": [
           {
            "colorbar": {
             "outlinewidth": 0,
             "ticks": ""
            },
            "colorscale": [
             [
              0,
              "#0d0887"
             ],
             [
              0.1111111111111111,
              "#46039f"
             ],
             [
              0.2222222222222222,
              "#7201a8"
             ],
             [
              0.3333333333333333,
              "#9c179e"
             ],
             [
              0.4444444444444444,
              "#bd3786"
             ],
             [
              0.5555555555555556,
              "#d8576b"
             ],
             [
              0.6666666666666666,
              "#ed7953"
             ],
             [
              0.7777777777777778,
              "#fb9f3a"
             ],
             [
              0.8888888888888888,
              "#fdca26"
             ],
             [
              1,
              "#f0f921"
             ]
            ],
            "type": "histogram2d"
           }
          ],
          "histogram2dcontour": [
           {
            "colorbar": {
             "outlinewidth": 0,
             "ticks": ""
            },
            "colorscale": [
             [
              0,
              "#0d0887"
             ],
             [
              0.1111111111111111,
              "#46039f"
             ],
             [
              0.2222222222222222,
              "#7201a8"
             ],
             [
              0.3333333333333333,
              "#9c179e"
             ],
             [
              0.4444444444444444,
              "#bd3786"
             ],
             [
              0.5555555555555556,
              "#d8576b"
             ],
             [
              0.6666666666666666,
              "#ed7953"
             ],
             [
              0.7777777777777778,
              "#fb9f3a"
             ],
             [
              0.8888888888888888,
              "#fdca26"
             ],
             [
              1,
              "#f0f921"
             ]
            ],
            "type": "histogram2dcontour"
           }
          ],
          "mesh3d": [
           {
            "colorbar": {
             "outlinewidth": 0,
             "ticks": ""
            },
            "type": "mesh3d"
           }
          ],
          "parcoords": [
           {
            "line": {
             "colorbar": {
              "outlinewidth": 0,
              "ticks": ""
             }
            },
            "type": "parcoords"
           }
          ],
          "pie": [
           {
            "automargin": true,
            "type": "pie"
           }
          ],
          "scatter": [
           {
            "fillpattern": {
             "fillmode": "overlay",
             "size": 10,
             "solidity": 0.2
            },
            "type": "scatter"
           }
          ],
          "scatter3d": [
           {
            "line": {
             "colorbar": {
              "outlinewidth": 0,
              "ticks": ""
             }
            },
            "marker": {
             "colorbar": {
              "outlinewidth": 0,
              "ticks": ""
             }
            },
            "type": "scatter3d"
           }
          ],
          "scattercarpet": [
           {
            "marker": {
             "colorbar": {
              "outlinewidth": 0,
              "ticks": ""
             }
            },
            "type": "scattercarpet"
           }
          ],
          "scattergeo": [
           {
            "marker": {
             "colorbar": {
              "outlinewidth": 0,
              "ticks": ""
             }
            },
            "type": "scattergeo"
           }
          ],
          "scattergl": [
           {
            "marker": {
             "colorbar": {
              "outlinewidth": 0,
              "ticks": ""
             }
            },
            "type": "scattergl"
           }
          ],
          "scattermapbox": [
           {
            "marker": {
             "colorbar": {
              "outlinewidth": 0,
              "ticks": ""
             }
            },
            "type": "scattermapbox"
           }
          ],
          "scatterpolar": [
           {
            "marker": {
             "colorbar": {
              "outlinewidth": 0,
              "ticks": ""
             }
            },
            "type": "scatterpolar"
           }
          ],
          "scatterpolargl": [
           {
            "marker": {
             "colorbar": {
              "outlinewidth": 0,
              "ticks": ""
             }
            },
            "type": "scatterpolargl"
           }
          ],
          "scatterternary": [
           {
            "marker": {
             "colorbar": {
              "outlinewidth": 0,
              "ticks": ""
             }
            },
            "type": "scatterternary"
           }
          ],
          "surface": [
           {
            "colorbar": {
             "outlinewidth": 0,
             "ticks": ""
            },
            "colorscale": [
             [
              0,
              "#0d0887"
             ],
             [
              0.1111111111111111,
              "#46039f"
             ],
             [
              0.2222222222222222,
              "#7201a8"
             ],
             [
              0.3333333333333333,
              "#9c179e"
             ],
             [
              0.4444444444444444,
              "#bd3786"
             ],
             [
              0.5555555555555556,
              "#d8576b"
             ],
             [
              0.6666666666666666,
              "#ed7953"
             ],
             [
              0.7777777777777778,
              "#fb9f3a"
             ],
             [
              0.8888888888888888,
              "#fdca26"
             ],
             [
              1,
              "#f0f921"
             ]
            ],
            "type": "surface"
           }
          ],
          "table": [
           {
            "cells": {
             "fill": {
              "color": "#EBF0F8"
             },
             "line": {
              "color": "white"
             }
            },
            "header": {
             "fill": {
              "color": "#C8D4E3"
             },
             "line": {
              "color": "white"
             }
            },
            "type": "table"
           }
          ]
         },
         "layout": {
          "annotationdefaults": {
           "arrowcolor": "#2a3f5f",
           "arrowhead": 0,
           "arrowwidth": 1
          },
          "autotypenumbers": "strict",
          "coloraxis": {
           "colorbar": {
            "outlinewidth": 0,
            "ticks": ""
           }
          },
          "colorscale": {
           "diverging": [
            [
             0,
             "#8e0152"
            ],
            [
             0.1,
             "#c51b7d"
            ],
            [
             0.2,
             "#de77ae"
            ],
            [
             0.3,
             "#f1b6da"
            ],
            [
             0.4,
             "#fde0ef"
            ],
            [
             0.5,
             "#f7f7f7"
            ],
            [
             0.6,
             "#e6f5d0"
            ],
            [
             0.7,
             "#b8e186"
            ],
            [
             0.8,
             "#7fbc41"
            ],
            [
             0.9,
             "#4d9221"
            ],
            [
             1,
             "#276419"
            ]
           ],
           "sequential": [
            [
             0,
             "#0d0887"
            ],
            [
             0.1111111111111111,
             "#46039f"
            ],
            [
             0.2222222222222222,
             "#7201a8"
            ],
            [
             0.3333333333333333,
             "#9c179e"
            ],
            [
             0.4444444444444444,
             "#bd3786"
            ],
            [
             0.5555555555555556,
             "#d8576b"
            ],
            [
             0.6666666666666666,
             "#ed7953"
            ],
            [
             0.7777777777777778,
             "#fb9f3a"
            ],
            [
             0.8888888888888888,
             "#fdca26"
            ],
            [
             1,
             "#f0f921"
            ]
           ],
           "sequentialminus": [
            [
             0,
             "#0d0887"
            ],
            [
             0.1111111111111111,
             "#46039f"
            ],
            [
             0.2222222222222222,
             "#7201a8"
            ],
            [
             0.3333333333333333,
             "#9c179e"
            ],
            [
             0.4444444444444444,
             "#bd3786"
            ],
            [
             0.5555555555555556,
             "#d8576b"
            ],
            [
             0.6666666666666666,
             "#ed7953"
            ],
            [
             0.7777777777777778,
             "#fb9f3a"
            ],
            [
             0.8888888888888888,
             "#fdca26"
            ],
            [
             1,
             "#f0f921"
            ]
           ]
          },
          "colorway": [
           "#636efa",
           "#EF553B",
           "#00cc96",
           "#ab63fa",
           "#FFA15A",
           "#19d3f3",
           "#FF6692",
           "#B6E880",
           "#FF97FF",
           "#FECB52"
          ],
          "font": {
           "color": "#2a3f5f"
          },
          "geo": {
           "bgcolor": "white",
           "lakecolor": "white",
           "landcolor": "#E5ECF6",
           "showlakes": true,
           "showland": true,
           "subunitcolor": "white"
          },
          "hoverlabel": {
           "align": "left"
          },
          "hovermode": "closest",
          "mapbox": {
           "style": "light"
          },
          "paper_bgcolor": "white",
          "plot_bgcolor": "#E5ECF6",
          "polar": {
           "angularaxis": {
            "gridcolor": "white",
            "linecolor": "white",
            "ticks": ""
           },
           "bgcolor": "#E5ECF6",
           "radialaxis": {
            "gridcolor": "white",
            "linecolor": "white",
            "ticks": ""
           }
          },
          "scene": {
           "xaxis": {
            "backgroundcolor": "#E5ECF6",
            "gridcolor": "white",
            "gridwidth": 2,
            "linecolor": "white",
            "showbackground": true,
            "ticks": "",
            "zerolinecolor": "white"
           },
           "yaxis": {
            "backgroundcolor": "#E5ECF6",
            "gridcolor": "white",
            "gridwidth": 2,
            "linecolor": "white",
            "showbackground": true,
            "ticks": "",
            "zerolinecolor": "white"
           },
           "zaxis": {
            "backgroundcolor": "#E5ECF6",
            "gridcolor": "white",
            "gridwidth": 2,
            "linecolor": "white",
            "showbackground": true,
            "ticks": "",
            "zerolinecolor": "white"
           }
          },
          "shapedefaults": {
           "line": {
            "color": "#2a3f5f"
           }
          },
          "ternary": {
           "aaxis": {
            "gridcolor": "white",
            "linecolor": "white",
            "ticks": ""
           },
           "baxis": {
            "gridcolor": "white",
            "linecolor": "white",
            "ticks": ""
           },
           "bgcolor": "#E5ECF6",
           "caxis": {
            "gridcolor": "white",
            "linecolor": "white",
            "ticks": ""
           }
          },
          "title": {
           "x": 0.05
          },
          "xaxis": {
           "automargin": true,
           "gridcolor": "white",
           "linecolor": "white",
           "ticks": "",
           "title": {
            "standoff": 15
           },
           "zerolinecolor": "white",
           "zerolinewidth": 2
          },
          "yaxis": {
           "automargin": true,
           "gridcolor": "white",
           "linecolor": "white",
           "ticks": "",
           "title": {
            "standoff": 15
           },
           "zerolinecolor": "white",
           "zerolinewidth": 2
          }
         }
        },
        "width": 800
       }
      }
     },
     "metadata": {},
     "output_type": "display_data"
    }
   ],
   "source": [
    "country_counts = unique_studies[\"country\"].value_counts().reset_index()\n",
    "country_counts.columns = [\"country\", \"count\"]\n",
    "\n",
    "fig = px.choropleth(\n",
    "    country_counts,\n",
    "    locations=\"country\",\n",
    "    locationmode=\"country names\",\n",
    "    color=\"count\",\n",
    "    width=800,\n",
    "    height=600,\n",
    "    hover_name=\"country\",\n",
    ")\n",
    "\n",
    "fig.show()\n",
    "\n",
    "# TK: The high number of studies from China skews the visualization."
   ]
  },
  {
   "cell_type": "code",
   "execution_count": 138,
   "metadata": {},
   "outputs": [
    {
     "data": {
      "application/vnd.plotly.v1+json": {
       "config": {
        "plotlyServerURL": "https://plot.ly"
       },
       "data": [
        {
         "domain": {
          "x": [
           0,
           1
          ],
          "y": [
           0,
           1
          ]
         },
         "hovertemplate": "function=%{label}<br>count=%{value}<extra></extra>",
         "labels": [
          "Office",
          "Classroom",
          "Seating",
          "Residential",
          "Lounge",
          "Free-living"
         ],
         "legendgroup": "",
         "name": "",
         "showlegend": true,
         "type": "pie",
         "values": [
          124,
          7,
          7,
          3,
          1,
          1
         ]
        }
       ],
       "layout": {
        "annotations": [
         {
          "align": "left",
          "font": {
           "size": 12
          },
          "showarrow": false,
          "text": "Not reported: 9.5%",
          "x": 1.3,
          "xref": "paper",
          "y": 0.4,
          "yref": "paper"
         }
        ],
        "height": 400,
        "legend": {
         "tracegroupgap": 0
        },
        "margin": {
         "t": 60
        },
        "template": {
         "data": {
          "bar": [
           {
            "error_x": {
             "color": "rgb(51,51,51)"
            },
            "error_y": {
             "color": "rgb(51,51,51)"
            },
            "marker": {
             "line": {
              "color": "rgb(237,237,237)",
              "width": 0.5
             },
             "pattern": {
              "fillmode": "overlay",
              "size": 10,
              "solidity": 0.2
             }
            },
            "type": "bar"
           }
          ],
          "barpolar": [
           {
            "marker": {
             "line": {
              "color": "rgb(237,237,237)",
              "width": 0.5
             },
             "pattern": {
              "fillmode": "overlay",
              "size": 10,
              "solidity": 0.2
             }
            },
            "type": "barpolar"
           }
          ],
          "carpet": [
           {
            "aaxis": {
             "endlinecolor": "rgb(51,51,51)",
             "gridcolor": "white",
             "linecolor": "white",
             "minorgridcolor": "white",
             "startlinecolor": "rgb(51,51,51)"
            },
            "baxis": {
             "endlinecolor": "rgb(51,51,51)",
             "gridcolor": "white",
             "linecolor": "white",
             "minorgridcolor": "white",
             "startlinecolor": "rgb(51,51,51)"
            },
            "type": "carpet"
           }
          ],
          "choropleth": [
           {
            "colorbar": {
             "outlinewidth": 0,
             "tickcolor": "rgb(237,237,237)",
             "ticklen": 6,
             "ticks": "inside"
            },
            "type": "choropleth"
           }
          ],
          "contour": [
           {
            "colorbar": {
             "outlinewidth": 0,
             "tickcolor": "rgb(237,237,237)",
             "ticklen": 6,
             "ticks": "inside"
            },
            "colorscale": [
             [
              0,
              "rgb(20,44,66)"
             ],
             [
              1,
              "rgb(90,179,244)"
             ]
            ],
            "type": "contour"
           }
          ],
          "contourcarpet": [
           {
            "colorbar": {
             "outlinewidth": 0,
             "tickcolor": "rgb(237,237,237)",
             "ticklen": 6,
             "ticks": "inside"
            },
            "type": "contourcarpet"
           }
          ],
          "heatmap": [
           {
            "colorbar": {
             "outlinewidth": 0,
             "tickcolor": "rgb(237,237,237)",
             "ticklen": 6,
             "ticks": "inside"
            },
            "colorscale": [
             [
              0,
              "rgb(20,44,66)"
             ],
             [
              1,
              "rgb(90,179,244)"
             ]
            ],
            "type": "heatmap"
           }
          ],
          "heatmapgl": [
           {
            "colorbar": {
             "outlinewidth": 0,
             "tickcolor": "rgb(237,237,237)",
             "ticklen": 6,
             "ticks": "inside"
            },
            "colorscale": [
             [
              0,
              "rgb(20,44,66)"
             ],
             [
              1,
              "rgb(90,179,244)"
             ]
            ],
            "type": "heatmapgl"
           }
          ],
          "histogram": [
           {
            "marker": {
             "pattern": {
              "fillmode": "overlay",
              "size": 10,
              "solidity": 0.2
             }
            },
            "type": "histogram"
           }
          ],
          "histogram2d": [
           {
            "colorbar": {
             "outlinewidth": 0,
             "tickcolor": "rgb(237,237,237)",
             "ticklen": 6,
             "ticks": "inside"
            },
            "colorscale": [
             [
              0,
              "rgb(20,44,66)"
             ],
             [
              1,
              "rgb(90,179,244)"
             ]
            ],
            "type": "histogram2d"
           }
          ],
          "histogram2dcontour": [
           {
            "colorbar": {
             "outlinewidth": 0,
             "tickcolor": "rgb(237,237,237)",
             "ticklen": 6,
             "ticks": "inside"
            },
            "colorscale": [
             [
              0,
              "rgb(20,44,66)"
             ],
             [
              1,
              "rgb(90,179,244)"
             ]
            ],
            "type": "histogram2dcontour"
           }
          ],
          "mesh3d": [
           {
            "colorbar": {
             "outlinewidth": 0,
             "tickcolor": "rgb(237,237,237)",
             "ticklen": 6,
             "ticks": "inside"
            },
            "type": "mesh3d"
           }
          ],
          "parcoords": [
           {
            "line": {
             "colorbar": {
              "outlinewidth": 0,
              "tickcolor": "rgb(237,237,237)",
              "ticklen": 6,
              "ticks": "inside"
             }
            },
            "type": "parcoords"
           }
          ],
          "pie": [
           {
            "automargin": true,
            "type": "pie"
           }
          ],
          "scatter": [
           {
            "fillpattern": {
             "fillmode": "overlay",
             "size": 10,
             "solidity": 0.2
            },
            "type": "scatter"
           }
          ],
          "scatter3d": [
           {
            "line": {
             "colorbar": {
              "outlinewidth": 0,
              "tickcolor": "rgb(237,237,237)",
              "ticklen": 6,
              "ticks": "inside"
             }
            },
            "marker": {
             "colorbar": {
              "outlinewidth": 0,
              "tickcolor": "rgb(237,237,237)",
              "ticklen": 6,
              "ticks": "inside"
             }
            },
            "type": "scatter3d"
           }
          ],
          "scattercarpet": [
           {
            "marker": {
             "colorbar": {
              "outlinewidth": 0,
              "tickcolor": "rgb(237,237,237)",
              "ticklen": 6,
              "ticks": "inside"
             }
            },
            "type": "scattercarpet"
           }
          ],
          "scattergeo": [
           {
            "marker": {
             "colorbar": {
              "outlinewidth": 0,
              "tickcolor": "rgb(237,237,237)",
              "ticklen": 6,
              "ticks": "inside"
             }
            },
            "type": "scattergeo"
           }
          ],
          "scattergl": [
           {
            "marker": {
             "colorbar": {
              "outlinewidth": 0,
              "tickcolor": "rgb(237,237,237)",
              "ticklen": 6,
              "ticks": "inside"
             }
            },
            "type": "scattergl"
           }
          ],
          "scattermapbox": [
           {
            "marker": {
             "colorbar": {
              "outlinewidth": 0,
              "tickcolor": "rgb(237,237,237)",
              "ticklen": 6,
              "ticks": "inside"
             }
            },
            "type": "scattermapbox"
           }
          ],
          "scatterpolar": [
           {
            "marker": {
             "colorbar": {
              "outlinewidth": 0,
              "tickcolor": "rgb(237,237,237)",
              "ticklen": 6,
              "ticks": "inside"
             }
            },
            "type": "scatterpolar"
           }
          ],
          "scatterpolargl": [
           {
            "marker": {
             "colorbar": {
              "outlinewidth": 0,
              "tickcolor": "rgb(237,237,237)",
              "ticklen": 6,
              "ticks": "inside"
             }
            },
            "type": "scatterpolargl"
           }
          ],
          "scatterternary": [
           {
            "marker": {
             "colorbar": {
              "outlinewidth": 0,
              "tickcolor": "rgb(237,237,237)",
              "ticklen": 6,
              "ticks": "inside"
             }
            },
            "type": "scatterternary"
           }
          ],
          "surface": [
           {
            "colorbar": {
             "outlinewidth": 0,
             "tickcolor": "rgb(237,237,237)",
             "ticklen": 6,
             "ticks": "inside"
            },
            "colorscale": [
             [
              0,
              "rgb(20,44,66)"
             ],
             [
              1,
              "rgb(90,179,244)"
             ]
            ],
            "type": "surface"
           }
          ],
          "table": [
           {
            "cells": {
             "fill": {
              "color": "rgb(237,237,237)"
             },
             "line": {
              "color": "white"
             }
            },
            "header": {
             "fill": {
              "color": "rgb(217,217,217)"
             },
             "line": {
              "color": "white"
             }
            },
            "type": "table"
           }
          ]
         },
         "layout": {
          "annotationdefaults": {
           "arrowhead": 0,
           "arrowwidth": 1
          },
          "autotypenumbers": "strict",
          "coloraxis": {
           "colorbar": {
            "outlinewidth": 0,
            "tickcolor": "rgb(237,237,237)",
            "ticklen": 6,
            "ticks": "inside"
           }
          },
          "colorscale": {
           "sequential": [
            [
             0,
             "rgb(20,44,66)"
            ],
            [
             1,
             "rgb(90,179,244)"
            ]
           ],
           "sequentialminus": [
            [
             0,
             "rgb(20,44,66)"
            ],
            [
             1,
             "rgb(90,179,244)"
            ]
           ]
          },
          "colorway": [
           "#277da1",
           "#577590",
           "#4d908e",
           "#43aa8b",
           "#90be6d",
           "#f9c74f",
           "#f9844a",
           "#f8961e",
           "#f3722c",
           "#f94144",
           "#a8dce2",
           "#b3bfc9",
           "#a8cfc9",
           "#a8dfd2",
           "#d2e8c0",
           "#fde7a6",
           "#f9cfbd",
           "#fbd3a7",
           "#f9b39c",
           "#f9a3a5"
          ],
          "font": {
           "color": "rgb(51,51,51)"
          },
          "geo": {
           "bgcolor": "white",
           "lakecolor": "white",
           "landcolor": "rgb(237,237,237)",
           "showlakes": true,
           "showland": true,
           "subunitcolor": "white"
          },
          "hoverlabel": {
           "align": "left"
          },
          "hovermode": "closest",
          "paper_bgcolor": "rgba(0,0,0,0)",
          "plot_bgcolor": "rgba(0,0,0,0)",
          "polar": {
           "angularaxis": {
            "gridcolor": "white",
            "linecolor": "white",
            "showgrid": true,
            "tickcolor": "rgb(51,51,51)",
            "ticks": "outside"
           },
           "bgcolor": "rgb(237,237,237)",
           "radialaxis": {
            "gridcolor": "white",
            "linecolor": "white",
            "showgrid": true,
            "tickcolor": "rgb(51,51,51)",
            "ticks": "outside"
           }
          },
          "scene": {
           "xaxis": {
            "backgroundcolor": "rgb(237,237,237)",
            "gridcolor": "white",
            "gridwidth": 2,
            "linecolor": "white",
            "showbackground": true,
            "showgrid": true,
            "tickcolor": "rgb(51,51,51)",
            "ticks": "outside",
            "zerolinecolor": "white"
           },
           "yaxis": {
            "backgroundcolor": "rgb(237,237,237)",
            "gridcolor": "white",
            "gridwidth": 2,
            "linecolor": "white",
            "showbackground": true,
            "showgrid": true,
            "tickcolor": "rgb(51,51,51)",
            "ticks": "outside",
            "zerolinecolor": "white"
           },
           "zaxis": {
            "backgroundcolor": "rgb(237,237,237)",
            "gridcolor": "white",
            "gridwidth": 2,
            "linecolor": "white",
            "showbackground": true,
            "showgrid": true,
            "tickcolor": "rgb(51,51,51)",
            "ticks": "outside",
            "zerolinecolor": "white"
           }
          },
          "shapedefaults": {
           "fillcolor": "black",
           "line": {
            "width": 0
           },
           "opacity": 0.3
          },
          "ternary": {
           "aaxis": {
            "gridcolor": "white",
            "linecolor": "white",
            "showgrid": true,
            "tickcolor": "rgb(51,51,51)",
            "ticks": "outside"
           },
           "baxis": {
            "gridcolor": "white",
            "linecolor": "white",
            "showgrid": true,
            "tickcolor": "rgb(51,51,51)",
            "ticks": "outside"
           },
           "bgcolor": "rgb(237,237,237)",
           "caxis": {
            "gridcolor": "white",
            "linecolor": "white",
            "showgrid": true,
            "tickcolor": "rgb(51,51,51)",
            "ticks": "outside"
           }
          },
          "xaxis": {
           "automargin": true,
           "gridcolor": "white",
           "linecolor": "white",
           "showgrid": true,
           "tickcolor": "rgb(51,51,51)",
           "ticks": "outside",
           "title": {
            "standoff": 15
           },
           "zerolinecolor": "white"
          },
          "yaxis": {
           "automargin": true,
           "gridcolor": "white",
           "linecolor": "white",
           "showgrid": true,
           "tickcolor": "rgb(51,51,51)",
           "ticks": "outside",
           "title": {
            "standoff": 15
           },
           "zerolinecolor": "white"
          }
         }
        },
        "width": 600
       }
      }
     },
     "metadata": {},
     "output_type": "display_data"
    }
   ],
   "source": [
    "df = unique_studies.copy()\n",
    "\n",
    "function_counts = df[\"function\"].value_counts().reset_index()\n",
    "function_counts.columns = [\"function\", \"count\"]\n",
    "\n",
    "# get \"NR\" count\n",
    "nr_count = function_counts.loc[function_counts[\"function\"] == \"NR\", \"count\"].values\n",
    "nr_count = int(nr_count[0]) if len(nr_count) > 0 else 0\n",
    "\n",
    "function_counts_filtered = function_counts[function_counts[\"function\"] != \"NR\"]\n",
    "\n",
    "fig = px.pie(\n",
    "    function_counts_filtered,\n",
    "    names=\"function\",\n",
    "    values=\"count\",\n",
    "    width=600,\n",
    "    height=400,\n",
    "    template=CHART_LAYOUT.template.value,\n",
    ")\n",
    "\n",
    "fig.add_annotation(\n",
    "    text=f\"Not reported: {nr_count/len(df)*100:.1f}%\", # could also be absolute number\n",
    "    x=1.3, \n",
    "    y=0.4, \n",
    "    xref=\"paper\",\n",
    "    yref=\"paper\",\n",
    "    showarrow=False,\n",
    "    font=dict(size=12),\n",
    "    align=\"left\"\n",
    ")\n",
    "\n",
    "fig.show()\n",
    "\n",
    "# TK: For these types of graphs, I wonder if we should exclude NR and report the number/percentage of studies instead."
   ]
  },
  {
   "cell_type": "markdown",
   "metadata": {},
   "source": [
    "## Measurement"
   ]
  },
  {
   "cell_type": "code",
   "execution_count": 153,
   "metadata": {},
   "outputs": [
    {
     "data": {
      "application/vnd.plotly.v1+json": {
       "config": {
        "plotlyServerURL": "https://plot.ly"
       },
       "data": [
        {
         "alignmentgroup": "True",
         "hovertemplate": "Percentage of Studies=%{x}<br>Physiological Parameter [-]=%{y}<extra></extra>",
         "legendgroup": "",
         "marker": {
          "color": "#636efa",
          "pattern": {
           "shape": ""
          }
         },
         "name": "",
         "offsetgroup": "",
         "orientation": "h",
         "showlegend": false,
         "textposition": "auto",
         "type": "bar",
         "x": [
          0.5,
          0.5,
          0.5,
          0.9,
          1.4,
          1.4,
          1.8,
          1.8,
          7.7,
          13.2,
          70.5
         ],
         "xaxis": "x",
         "y": [
          "Blood oxygen saturation",
          "Body temperature",
          "Hormones: Cortisol",
          "Heat flux",
          0,
          "Movement",
          "Blood pressure",
          "Sweat",
          "EEG",
          "Heart rate",
          "Skin temperature"
         ],
         "yaxis": "y"
        }
       ],
       "layout": {
        "barmode": "relative",
        "legend": {
         "tracegroupgap": 0
        },
        "margin": {
         "t": 60
        },
        "template": {
         "data": {
          "bar": [
           {
            "error_x": {
             "color": "rgb(51,51,51)"
            },
            "error_y": {
             "color": "rgb(51,51,51)"
            },
            "marker": {
             "line": {
              "color": "rgb(237,237,237)",
              "width": 0.5
             },
             "pattern": {
              "fillmode": "overlay",
              "size": 10,
              "solidity": 0.2
             }
            },
            "type": "bar"
           }
          ],
          "barpolar": [
           {
            "marker": {
             "line": {
              "color": "rgb(237,237,237)",
              "width": 0.5
             },
             "pattern": {
              "fillmode": "overlay",
              "size": 10,
              "solidity": 0.2
             }
            },
            "type": "barpolar"
           }
          ],
          "carpet": [
           {
            "aaxis": {
             "endlinecolor": "rgb(51,51,51)",
             "gridcolor": "white",
             "linecolor": "white",
             "minorgridcolor": "white",
             "startlinecolor": "rgb(51,51,51)"
            },
            "baxis": {
             "endlinecolor": "rgb(51,51,51)",
             "gridcolor": "white",
             "linecolor": "white",
             "minorgridcolor": "white",
             "startlinecolor": "rgb(51,51,51)"
            },
            "type": "carpet"
           }
          ],
          "choropleth": [
           {
            "colorbar": {
             "outlinewidth": 0,
             "tickcolor": "rgb(237,237,237)",
             "ticklen": 6,
             "ticks": "inside"
            },
            "type": "choropleth"
           }
          ],
          "contour": [
           {
            "colorbar": {
             "outlinewidth": 0,
             "tickcolor": "rgb(237,237,237)",
             "ticklen": 6,
             "ticks": "inside"
            },
            "colorscale": [
             [
              0,
              "rgb(20,44,66)"
             ],
             [
              1,
              "rgb(90,179,244)"
             ]
            ],
            "type": "contour"
           }
          ],
          "contourcarpet": [
           {
            "colorbar": {
             "outlinewidth": 0,
             "tickcolor": "rgb(237,237,237)",
             "ticklen": 6,
             "ticks": "inside"
            },
            "type": "contourcarpet"
           }
          ],
          "heatmap": [
           {
            "colorbar": {
             "outlinewidth": 0,
             "tickcolor": "rgb(237,237,237)",
             "ticklen": 6,
             "ticks": "inside"
            },
            "colorscale": [
             [
              0,
              "rgb(20,44,66)"
             ],
             [
              1,
              "rgb(90,179,244)"
             ]
            ],
            "type": "heatmap"
           }
          ],
          "heatmapgl": [
           {
            "colorbar": {
             "outlinewidth": 0,
             "tickcolor": "rgb(237,237,237)",
             "ticklen": 6,
             "ticks": "inside"
            },
            "colorscale": [
             [
              0,
              "rgb(20,44,66)"
             ],
             [
              1,
              "rgb(90,179,244)"
             ]
            ],
            "type": "heatmapgl"
           }
          ],
          "histogram": [
           {
            "marker": {
             "pattern": {
              "fillmode": "overlay",
              "size": 10,
              "solidity": 0.2
             }
            },
            "type": "histogram"
           }
          ],
          "histogram2d": [
           {
            "colorbar": {
             "outlinewidth": 0,
             "tickcolor": "rgb(237,237,237)",
             "ticklen": 6,
             "ticks": "inside"
            },
            "colorscale": [
             [
              0,
              "rgb(20,44,66)"
             ],
             [
              1,
              "rgb(90,179,244)"
             ]
            ],
            "type": "histogram2d"
           }
          ],
          "histogram2dcontour": [
           {
            "colorbar": {
             "outlinewidth": 0,
             "tickcolor": "rgb(237,237,237)",
             "ticklen": 6,
             "ticks": "inside"
            },
            "colorscale": [
             [
              0,
              "rgb(20,44,66)"
             ],
             [
              1,
              "rgb(90,179,244)"
             ]
            ],
            "type": "histogram2dcontour"
           }
          ],
          "mesh3d": [
           {
            "colorbar": {
             "outlinewidth": 0,
             "tickcolor": "rgb(237,237,237)",
             "ticklen": 6,
             "ticks": "inside"
            },
            "type": "mesh3d"
           }
          ],
          "parcoords": [
           {
            "line": {
             "colorbar": {
              "outlinewidth": 0,
              "tickcolor": "rgb(237,237,237)",
              "ticklen": 6,
              "ticks": "inside"
             }
            },
            "type": "parcoords"
           }
          ],
          "pie": [
           {
            "automargin": true,
            "type": "pie"
           }
          ],
          "scatter": [
           {
            "fillpattern": {
             "fillmode": "overlay",
             "size": 10,
             "solidity": 0.2
            },
            "type": "scatter"
           }
          ],
          "scatter3d": [
           {
            "line": {
             "colorbar": {
              "outlinewidth": 0,
              "tickcolor": "rgb(237,237,237)",
              "ticklen": 6,
              "ticks": "inside"
             }
            },
            "marker": {
             "colorbar": {
              "outlinewidth": 0,
              "tickcolor": "rgb(237,237,237)",
              "ticklen": 6,
              "ticks": "inside"
             }
            },
            "type": "scatter3d"
           }
          ],
          "scattercarpet": [
           {
            "marker": {
             "colorbar": {
              "outlinewidth": 0,
              "tickcolor": "rgb(237,237,237)",
              "ticklen": 6,
              "ticks": "inside"
             }
            },
            "type": "scattercarpet"
           }
          ],
          "scattergeo": [
           {
            "marker": {
             "colorbar": {
              "outlinewidth": 0,
              "tickcolor": "rgb(237,237,237)",
              "ticklen": 6,
              "ticks": "inside"
             }
            },
            "type": "scattergeo"
           }
          ],
          "scattergl": [
           {
            "marker": {
             "colorbar": {
              "outlinewidth": 0,
              "tickcolor": "rgb(237,237,237)",
              "ticklen": 6,
              "ticks": "inside"
             }
            },
            "type": "scattergl"
           }
          ],
          "scattermapbox": [
           {
            "marker": {
             "colorbar": {
              "outlinewidth": 0,
              "tickcolor": "rgb(237,237,237)",
              "ticklen": 6,
              "ticks": "inside"
             }
            },
            "type": "scattermapbox"
           }
          ],
          "scatterpolar": [
           {
            "marker": {
             "colorbar": {
              "outlinewidth": 0,
              "tickcolor": "rgb(237,237,237)",
              "ticklen": 6,
              "ticks": "inside"
             }
            },
            "type": "scatterpolar"
           }
          ],
          "scatterpolargl": [
           {
            "marker": {
             "colorbar": {
              "outlinewidth": 0,
              "tickcolor": "rgb(237,237,237)",
              "ticklen": 6,
              "ticks": "inside"
             }
            },
            "type": "scatterpolargl"
           }
          ],
          "scatterternary": [
           {
            "marker": {
             "colorbar": {
              "outlinewidth": 0,
              "tickcolor": "rgb(237,237,237)",
              "ticklen": 6,
              "ticks": "inside"
             }
            },
            "type": "scatterternary"
           }
          ],
          "surface": [
           {
            "colorbar": {
             "outlinewidth": 0,
             "tickcolor": "rgb(237,237,237)",
             "ticklen": 6,
             "ticks": "inside"
            },
            "colorscale": [
             [
              0,
              "rgb(20,44,66)"
             ],
             [
              1,
              "rgb(90,179,244)"
             ]
            ],
            "type": "surface"
           }
          ],
          "table": [
           {
            "cells": {
             "fill": {
              "color": "rgb(237,237,237)"
             },
             "line": {
              "color": "white"
             }
            },
            "header": {
             "fill": {
              "color": "rgb(217,217,217)"
             },
             "line": {
              "color": "white"
             }
            },
            "type": "table"
           }
          ]
         },
         "layout": {
          "annotationdefaults": {
           "arrowhead": 0,
           "arrowwidth": 1
          },
          "autotypenumbers": "strict",
          "coloraxis": {
           "colorbar": {
            "outlinewidth": 0,
            "tickcolor": "rgb(237,237,237)",
            "ticklen": 6,
            "ticks": "inside"
           }
          },
          "colorscale": {
           "sequential": [
            [
             0,
             "rgb(20,44,66)"
            ],
            [
             1,
             "rgb(90,179,244)"
            ]
           ],
           "sequentialminus": [
            [
             0,
             "rgb(20,44,66)"
            ],
            [
             1,
             "rgb(90,179,244)"
            ]
           ]
          },
          "colorway": [
           "#277da1",
           "#577590",
           "#4d908e",
           "#43aa8b",
           "#90be6d",
           "#f9c74f",
           "#f9844a",
           "#f8961e",
           "#f3722c",
           "#f94144",
           "#a8dce2",
           "#b3bfc9",
           "#a8cfc9",
           "#a8dfd2",
           "#d2e8c0",
           "#fde7a6",
           "#f9cfbd",
           "#fbd3a7",
           "#f9b39c",
           "#f9a3a5"
          ],
          "font": {
           "color": "rgb(51,51,51)"
          },
          "geo": {
           "bgcolor": "white",
           "lakecolor": "white",
           "landcolor": "rgb(237,237,237)",
           "showlakes": true,
           "showland": true,
           "subunitcolor": "white"
          },
          "hoverlabel": {
           "align": "left"
          },
          "hovermode": "closest",
          "paper_bgcolor": "rgba(0,0,0,0)",
          "plot_bgcolor": "rgba(0,0,0,0)",
          "polar": {
           "angularaxis": {
            "gridcolor": "white",
            "linecolor": "white",
            "showgrid": true,
            "tickcolor": "rgb(51,51,51)",
            "ticks": "outside"
           },
           "bgcolor": "rgb(237,237,237)",
           "radialaxis": {
            "gridcolor": "white",
            "linecolor": "white",
            "showgrid": true,
            "tickcolor": "rgb(51,51,51)",
            "ticks": "outside"
           }
          },
          "scene": {
           "xaxis": {
            "backgroundcolor": "rgb(237,237,237)",
            "gridcolor": "white",
            "gridwidth": 2,
            "linecolor": "white",
            "showbackground": true,
            "showgrid": true,
            "tickcolor": "rgb(51,51,51)",
            "ticks": "outside",
            "zerolinecolor": "white"
           },
           "yaxis": {
            "backgroundcolor": "rgb(237,237,237)",
            "gridcolor": "white",
            "gridwidth": 2,
            "linecolor": "white",
            "showbackground": true,
            "showgrid": true,
            "tickcolor": "rgb(51,51,51)",
            "ticks": "outside",
            "zerolinecolor": "white"
           },
           "zaxis": {
            "backgroundcolor": "rgb(237,237,237)",
            "gridcolor": "white",
            "gridwidth": 2,
            "linecolor": "white",
            "showbackground": true,
            "showgrid": true,
            "tickcolor": "rgb(51,51,51)",
            "ticks": "outside",
            "zerolinecolor": "white"
           }
          },
          "shapedefaults": {
           "fillcolor": "black",
           "line": {
            "width": 0
           },
           "opacity": 0.3
          },
          "ternary": {
           "aaxis": {
            "gridcolor": "white",
            "linecolor": "white",
            "showgrid": true,
            "tickcolor": "rgb(51,51,51)",
            "ticks": "outside"
           },
           "baxis": {
            "gridcolor": "white",
            "linecolor": "white",
            "showgrid": true,
            "tickcolor": "rgb(51,51,51)",
            "ticks": "outside"
           },
           "bgcolor": "rgb(237,237,237)",
           "caxis": {
            "gridcolor": "white",
            "linecolor": "white",
            "showgrid": true,
            "tickcolor": "rgb(51,51,51)",
            "ticks": "outside"
           }
          },
          "xaxis": {
           "automargin": true,
           "gridcolor": "white",
           "linecolor": "white",
           "showgrid": true,
           "tickcolor": "rgb(51,51,51)",
           "ticks": "outside",
           "title": {
            "standoff": 15
           },
           "zerolinecolor": "white"
          },
          "yaxis": {
           "automargin": true,
           "gridcolor": "white",
           "linecolor": "white",
           "showgrid": true,
           "tickcolor": "rgb(51,51,51)",
           "ticks": "outside",
           "title": {
            "standoff": 15
           },
           "zerolinecolor": "white"
          }
         }
        },
        "xaxis": {
         "anchor": "y",
         "domain": [
          0,
          1
         ],
         "title": {
          "text": "Percentage of Studies [%]"
         }
        },
        "yaxis": {
         "anchor": "x",
         "domain": [
          0,
          1
         ],
         "title": {
          "text": "Physiological Parameter [-]"
         }
        }
       }
      }
     },
     "metadata": {},
     "output_type": "display_data"
    }
   ],
   "source": [
    "parameter_counts = df.groupby(\"physio-parameter\")[\"exp-id\"].nunique()\n",
    "total_experiments = len(unique_studies)\n",
    "\n",
    "parameter_counts = parameter_counts.reset_index(name=\"exp-id count\")\n",
    "parameter_counts[\"exp-id percentage\"] = (\n",
    "    parameter_counts[\"exp-id count\"] / total_experiments\n",
    ") * 100\n",
    "parameter_counts_sorted = parameter_counts.round(1).sort_values(\n",
    "    \"exp-id percentage\", ascending=True\n",
    ")\n",
    "\n",
    "fig = px.bar(\n",
    "    parameter_counts_sorted,\n",
    "    x=\"exp-id percentage\",\n",
    "    y=\"physio-parameter\",\n",
    "    labels={\n",
    "        \"physio-parameter\": \"Physiological Parameter [-]\",\n",
    "        \"exp-id percentage\": \"Percentage of Studies\",\n",
    "    },\n",
    "    orientation='h'\n",
    ")\n",
    "\n",
    "fig.update_layout(\n",
    "    xaxis_title=\"Percentage of Studies [%]\",\n",
    "    yaxis_title=\"Physiological Parameter [-]\",\n",
    "    template=CHART_LAYOUT.template.value,\n",
    ")\n",
    "\n",
    "fig.show()"
   ]
  },
  {
   "cell_type": "code",
   "execution_count": 154,
   "metadata": {},
   "outputs": [
    {
     "data": {
      "application/vnd.plotly.v1+json": {
       "config": {
        "plotlyServerURL": "https://plot.ly"
       },
       "data": [
        {
         "hoverinfo": "text",
         "marker": {
          "color": "#db1492",
          "opacity": 0.8,
          "size": [
           25,
           37.5,
           17.5,
           50,
           12.5,
           20,
           30,
           35,
           22.5,
           27.5,
           15,
           32.5,
           10,
           40,
           7.5,
           45,
           5,
           42.5,
           2.5
          ]
         },
         "mode": "markers",
         "text": [
          10,
          15,
          7,
          20,
          5,
          8,
          12,
          14,
          9,
          11,
          6,
          13,
          4,
          16,
          3,
          18,
          2,
          17,
          1
         ],
         "type": "scatter",
         "x": [
          -147.5,
          -147.5,
          -160,
          28,
          -147.5,
          28,
          -195,
          -147.5,
          28,
          -195,
          45,
          -205,
          -215,
          28,
          -170,
          12.5,
          17.5,
          -150,
          17.5
         ],
         "y": [
          262.5,
          240,
          225,
          203,
          157.5,
          152.5,
          140,
          75,
          85,
          75,
          55,
          45,
          -5,
          -22.5,
          -110,
          -110,
          -165,
          -190,
          -190
         ]
        }
       ],
       "layout": {
        "height": 640,
        "images": [
         {
          "layer": "below",
          "opacity": 1,
          "sizex": 800,
          "sizey": 640,
          "source": "assets/img/body-site-chart-background.png",
          "x": 10,
          "xanchor": "center",
          "xref": "x",
          "y": 10,
          "yanchor": "middle",
          "yref": "y"
         }
        ],
        "margin": {
         "b": 10,
         "l": 10,
         "r": 10,
         "t": 10
        },
        "plot_bgcolor": "rgba(0,0,0,0)",
        "template": {
         "data": {
          "bar": [
           {
            "error_x": {
             "color": "#2a3f5f"
            },
            "error_y": {
             "color": "#2a3f5f"
            },
            "marker": {
             "line": {
              "color": "#E5ECF6",
              "width": 0.5
             },
             "pattern": {
              "fillmode": "overlay",
              "size": 10,
              "solidity": 0.2
             }
            },
            "type": "bar"
           }
          ],
          "barpolar": [
           {
            "marker": {
             "line": {
              "color": "#E5ECF6",
              "width": 0.5
             },
             "pattern": {
              "fillmode": "overlay",
              "size": 10,
              "solidity": 0.2
             }
            },
            "type": "barpolar"
           }
          ],
          "carpet": [
           {
            "aaxis": {
             "endlinecolor": "#2a3f5f",
             "gridcolor": "white",
             "linecolor": "white",
             "minorgridcolor": "white",
             "startlinecolor": "#2a3f5f"
            },
            "baxis": {
             "endlinecolor": "#2a3f5f",
             "gridcolor": "white",
             "linecolor": "white",
             "minorgridcolor": "white",
             "startlinecolor": "#2a3f5f"
            },
            "type": "carpet"
           }
          ],
          "choropleth": [
           {
            "colorbar": {
             "outlinewidth": 0,
             "ticks": ""
            },
            "type": "choropleth"
           }
          ],
          "contour": [
           {
            "colorbar": {
             "outlinewidth": 0,
             "ticks": ""
            },
            "colorscale": [
             [
              0,
              "#0d0887"
             ],
             [
              0.1111111111111111,
              "#46039f"
             ],
             [
              0.2222222222222222,
              "#7201a8"
             ],
             [
              0.3333333333333333,
              "#9c179e"
             ],
             [
              0.4444444444444444,
              "#bd3786"
             ],
             [
              0.5555555555555556,
              "#d8576b"
             ],
             [
              0.6666666666666666,
              "#ed7953"
             ],
             [
              0.7777777777777778,
              "#fb9f3a"
             ],
             [
              0.8888888888888888,
              "#fdca26"
             ],
             [
              1,
              "#f0f921"
             ]
            ],
            "type": "contour"
           }
          ],
          "contourcarpet": [
           {
            "colorbar": {
             "outlinewidth": 0,
             "ticks": ""
            },
            "type": "contourcarpet"
           }
          ],
          "heatmap": [
           {
            "colorbar": {
             "outlinewidth": 0,
             "ticks": ""
            },
            "colorscale": [
             [
              0,
              "#0d0887"
             ],
             [
              0.1111111111111111,
              "#46039f"
             ],
             [
              0.2222222222222222,
              "#7201a8"
             ],
             [
              0.3333333333333333,
              "#9c179e"
             ],
             [
              0.4444444444444444,
              "#bd3786"
             ],
             [
              0.5555555555555556,
              "#d8576b"
             ],
             [
              0.6666666666666666,
              "#ed7953"
             ],
             [
              0.7777777777777778,
              "#fb9f3a"
             ],
             [
              0.8888888888888888,
              "#fdca26"
             ],
             [
              1,
              "#f0f921"
             ]
            ],
            "type": "heatmap"
           }
          ],
          "heatmapgl": [
           {
            "colorbar": {
             "outlinewidth": 0,
             "ticks": ""
            },
            "colorscale": [
             [
              0,
              "#0d0887"
             ],
             [
              0.1111111111111111,
              "#46039f"
             ],
             [
              0.2222222222222222,
              "#7201a8"
             ],
             [
              0.3333333333333333,
              "#9c179e"
             ],
             [
              0.4444444444444444,
              "#bd3786"
             ],
             [
              0.5555555555555556,
              "#d8576b"
             ],
             [
              0.6666666666666666,
              "#ed7953"
             ],
             [
              0.7777777777777778,
              "#fb9f3a"
             ],
             [
              0.8888888888888888,
              "#fdca26"
             ],
             [
              1,
              "#f0f921"
             ]
            ],
            "type": "heatmapgl"
           }
          ],
          "histogram": [
           {
            "marker": {
             "pattern": {
              "fillmode": "overlay",
              "size": 10,
              "solidity": 0.2
             }
            },
            "type": "histogram"
           }
          ],
          "histogram2d": [
           {
            "colorbar": {
             "outlinewidth": 0,
             "ticks": ""
            },
            "colorscale": [
             [
              0,
              "#0d0887"
             ],
             [
              0.1111111111111111,
              "#46039f"
             ],
             [
              0.2222222222222222,
              "#7201a8"
             ],
             [
              0.3333333333333333,
              "#9c179e"
             ],
             [
              0.4444444444444444,
              "#bd3786"
             ],
             [
              0.5555555555555556,
              "#d8576b"
             ],
             [
              0.6666666666666666,
              "#ed7953"
             ],
             [
              0.7777777777777778,
              "#fb9f3a"
             ],
             [
              0.8888888888888888,
              "#fdca26"
             ],
             [
              1,
              "#f0f921"
             ]
            ],
            "type": "histogram2d"
           }
          ],
          "histogram2dcontour": [
           {
            "colorbar": {
             "outlinewidth": 0,
             "ticks": ""
            },
            "colorscale": [
             [
              0,
              "#0d0887"
             ],
             [
              0.1111111111111111,
              "#46039f"
             ],
             [
              0.2222222222222222,
              "#7201a8"
             ],
             [
              0.3333333333333333,
              "#9c179e"
             ],
             [
              0.4444444444444444,
              "#bd3786"
             ],
             [
              0.5555555555555556,
              "#d8576b"
             ],
             [
              0.6666666666666666,
              "#ed7953"
             ],
             [
              0.7777777777777778,
              "#fb9f3a"
             ],
             [
              0.8888888888888888,
              "#fdca26"
             ],
             [
              1,
              "#f0f921"
             ]
            ],
            "type": "histogram2dcontour"
           }
          ],
          "mesh3d": [
           {
            "colorbar": {
             "outlinewidth": 0,
             "ticks": ""
            },
            "type": "mesh3d"
           }
          ],
          "parcoords": [
           {
            "line": {
             "colorbar": {
              "outlinewidth": 0,
              "ticks": ""
             }
            },
            "type": "parcoords"
           }
          ],
          "pie": [
           {
            "automargin": true,
            "type": "pie"
           }
          ],
          "scatter": [
           {
            "fillpattern": {
             "fillmode": "overlay",
             "size": 10,
             "solidity": 0.2
            },
            "type": "scatter"
           }
          ],
          "scatter3d": [
           {
            "line": {
             "colorbar": {
              "outlinewidth": 0,
              "ticks": ""
             }
            },
            "marker": {
             "colorbar": {
              "outlinewidth": 0,
              "ticks": ""
             }
            },
            "type": "scatter3d"
           }
          ],
          "scattercarpet": [
           {
            "marker": {
             "colorbar": {
              "outlinewidth": 0,
              "ticks": ""
             }
            },
            "type": "scattercarpet"
           }
          ],
          "scattergeo": [
           {
            "marker": {
             "colorbar": {
              "outlinewidth": 0,
              "ticks": ""
             }
            },
            "type": "scattergeo"
           }
          ],
          "scattergl": [
           {
            "marker": {
             "colorbar": {
              "outlinewidth": 0,
              "ticks": ""
             }
            },
            "type": "scattergl"
           }
          ],
          "scattermapbox": [
           {
            "marker": {
             "colorbar": {
              "outlinewidth": 0,
              "ticks": ""
             }
            },
            "type": "scattermapbox"
           }
          ],
          "scatterpolar": [
           {
            "marker": {
             "colorbar": {
              "outlinewidth": 0,
              "ticks": ""
             }
            },
            "type": "scatterpolar"
           }
          ],
          "scatterpolargl": [
           {
            "marker": {
             "colorbar": {
              "outlinewidth": 0,
              "ticks": ""
             }
            },
            "type": "scatterpolargl"
           }
          ],
          "scatterternary": [
           {
            "marker": {
             "colorbar": {
              "outlinewidth": 0,
              "ticks": ""
             }
            },
            "type": "scatterternary"
           }
          ],
          "surface": [
           {
            "colorbar": {
             "outlinewidth": 0,
             "ticks": ""
            },
            "colorscale": [
             [
              0,
              "#0d0887"
             ],
             [
              0.1111111111111111,
              "#46039f"
             ],
             [
              0.2222222222222222,
              "#7201a8"
             ],
             [
              0.3333333333333333,
              "#9c179e"
             ],
             [
              0.4444444444444444,
              "#bd3786"
             ],
             [
              0.5555555555555556,
              "#d8576b"
             ],
             [
              0.6666666666666666,
              "#ed7953"
             ],
             [
              0.7777777777777778,
              "#fb9f3a"
             ],
             [
              0.8888888888888888,
              "#fdca26"
             ],
             [
              1,
              "#f0f921"
             ]
            ],
            "type": "surface"
           }
          ],
          "table": [
           {
            "cells": {
             "fill": {
              "color": "#EBF0F8"
             },
             "line": {
              "color": "white"
             }
            },
            "header": {
             "fill": {
              "color": "#C8D4E3"
             },
             "line": {
              "color": "white"
             }
            },
            "type": "table"
           }
          ]
         },
         "layout": {
          "annotationdefaults": {
           "arrowcolor": "#2a3f5f",
           "arrowhead": 0,
           "arrowwidth": 1
          },
          "autotypenumbers": "strict",
          "coloraxis": {
           "colorbar": {
            "outlinewidth": 0,
            "ticks": ""
           }
          },
          "colorscale": {
           "diverging": [
            [
             0,
             "#8e0152"
            ],
            [
             0.1,
             "#c51b7d"
            ],
            [
             0.2,
             "#de77ae"
            ],
            [
             0.3,
             "#f1b6da"
            ],
            [
             0.4,
             "#fde0ef"
            ],
            [
             0.5,
             "#f7f7f7"
            ],
            [
             0.6,
             "#e6f5d0"
            ],
            [
             0.7,
             "#b8e186"
            ],
            [
             0.8,
             "#7fbc41"
            ],
            [
             0.9,
             "#4d9221"
            ],
            [
             1,
             "#276419"
            ]
           ],
           "sequential": [
            [
             0,
             "#0d0887"
            ],
            [
             0.1111111111111111,
             "#46039f"
            ],
            [
             0.2222222222222222,
             "#7201a8"
            ],
            [
             0.3333333333333333,
             "#9c179e"
            ],
            [
             0.4444444444444444,
             "#bd3786"
            ],
            [
             0.5555555555555556,
             "#d8576b"
            ],
            [
             0.6666666666666666,
             "#ed7953"
            ],
            [
             0.7777777777777778,
             "#fb9f3a"
            ],
            [
             0.8888888888888888,
             "#fdca26"
            ],
            [
             1,
             "#f0f921"
            ]
           ],
           "sequentialminus": [
            [
             0,
             "#0d0887"
            ],
            [
             0.1111111111111111,
             "#46039f"
            ],
            [
             0.2222222222222222,
             "#7201a8"
            ],
            [
             0.3333333333333333,
             "#9c179e"
            ],
            [
             0.4444444444444444,
             "#bd3786"
            ],
            [
             0.5555555555555556,
             "#d8576b"
            ],
            [
             0.6666666666666666,
             "#ed7953"
            ],
            [
             0.7777777777777778,
             "#fb9f3a"
            ],
            [
             0.8888888888888888,
             "#fdca26"
            ],
            [
             1,
             "#f0f921"
            ]
           ]
          },
          "colorway": [
           "#636efa",
           "#EF553B",
           "#00cc96",
           "#ab63fa",
           "#FFA15A",
           "#19d3f3",
           "#FF6692",
           "#B6E880",
           "#FF97FF",
           "#FECB52"
          ],
          "font": {
           "color": "#2a3f5f"
          },
          "geo": {
           "bgcolor": "white",
           "lakecolor": "white",
           "landcolor": "#E5ECF6",
           "showlakes": true,
           "showland": true,
           "subunitcolor": "white"
          },
          "hoverlabel": {
           "align": "left"
          },
          "hovermode": "closest",
          "mapbox": {
           "style": "light"
          },
          "paper_bgcolor": "white",
          "plot_bgcolor": "#E5ECF6",
          "polar": {
           "angularaxis": {
            "gridcolor": "white",
            "linecolor": "white",
            "ticks": ""
           },
           "bgcolor": "#E5ECF6",
           "radialaxis": {
            "gridcolor": "white",
            "linecolor": "white",
            "ticks": ""
           }
          },
          "scene": {
           "xaxis": {
            "backgroundcolor": "#E5ECF6",
            "gridcolor": "white",
            "gridwidth": 2,
            "linecolor": "white",
            "showbackground": true,
            "ticks": "",
            "zerolinecolor": "white"
           },
           "yaxis": {
            "backgroundcolor": "#E5ECF6",
            "gridcolor": "white",
            "gridwidth": 2,
            "linecolor": "white",
            "showbackground": true,
            "ticks": "",
            "zerolinecolor": "white"
           },
           "zaxis": {
            "backgroundcolor": "#E5ECF6",
            "gridcolor": "white",
            "gridwidth": 2,
            "linecolor": "white",
            "showbackground": true,
            "ticks": "",
            "zerolinecolor": "white"
           }
          },
          "shapedefaults": {
           "line": {
            "color": "#2a3f5f"
           }
          },
          "ternary": {
           "aaxis": {
            "gridcolor": "white",
            "linecolor": "white",
            "ticks": ""
           },
           "baxis": {
            "gridcolor": "white",
            "linecolor": "white",
            "ticks": ""
           },
           "bgcolor": "#E5ECF6",
           "caxis": {
            "gridcolor": "white",
            "linecolor": "white",
            "ticks": ""
           }
          },
          "title": {
           "x": 0.05
          },
          "xaxis": {
           "automargin": true,
           "gridcolor": "white",
           "linecolor": "white",
           "ticks": "",
           "title": {
            "standoff": 15
           },
           "zerolinecolor": "white",
           "zerolinewidth": 2
          },
          "yaxis": {
           "automargin": true,
           "gridcolor": "white",
           "linecolor": "white",
           "ticks": "",
           "title": {
            "standoff": 15
           },
           "zerolinecolor": "white",
           "zerolinewidth": 2
          }
         }
        },
        "width": 800,
        "xaxis": {
         "range": [
          -350,
          350
         ],
         "showgrid": false,
         "showticklabels": false,
         "zeroline": false
        },
        "yaxis": {
         "range": [
          -320,
          320
         ],
         "showgrid": false,
         "showticklabels": false,
         "zeroline": false
        }
       }
      }
     },
     "metadata": {},
     "output_type": "display_data"
    }
   ],
   "source": [
    "import plotly.graph_objects as go\n",
    "\n",
    "testing_location_counts = pd.DataFrame(\n",
    "    {\n",
    "        \"physio-body-site\": [\n",
    "            \"Forehead\",\n",
    "            \"Nose\",\n",
    "            \"Cheek\",\n",
    "            \"Neck\",\n",
    "            \"Chest\",\n",
    "            \"Back\",\n",
    "            \"Upper arm\",\n",
    "            \"Abdomen\",\n",
    "            \"Lumbar\",\n",
    "            \"Forearm\",\n",
    "            \"Buttock\",\n",
    "            \"Wrist\",\n",
    "            \"Finger\",\n",
    "            \"Thigh\",\n",
    "            \"Shin\",\n",
    "            \"Calf\",\n",
    "            \"Ankle\",\n",
    "            \"Foot\",\n",
    "            \"Sole\",\n",
    "        ],\n",
    "        \"count\": [10, 15, 7, 20, 5, 8, 12, 14, 9, 11, 6, 13, 4, 16, 3, 18, 2, 17, 1],\n",
    "    }\n",
    ")\n",
    "\n",
    "location_coordinates = pd.DataFrame(\n",
    "    {\n",
    "        # Format: 'physio-body-site':     [x, y]\n",
    "        \"Forehead\": [-147.5, 262.5],\n",
    "        \"Nose\": [-147.5, 240],\n",
    "        \"Cheek\": [-160, 225],\n",
    "        \"Neck\": [28, 203],\n",
    "        \"Chest\": [-147.5, 157.5],\n",
    "        \"Back\": [28, 152.5],\n",
    "        \"Upper arm\": [-195, 140],\n",
    "        \"Abdomen\": [-147.5, 75],\n",
    "        \"Lumbar\": [28, 85],\n",
    "        \"Forearm\": [-195, 75],\n",
    "        \"Buttock\": [45, 55],\n",
    "        \"Wrist\": [-205, 45],\n",
    "        \"Finger\": [-215, -5],\n",
    "        \"Thigh\": [28, -22.5],\n",
    "        \"Shin\": [-170, -110],\n",
    "        \"Calf\": [12.5, -110],\n",
    "        \"Ankle\": [17.5, -165],\n",
    "        \"Foot\": [-150, -190],\n",
    "        \"Sole\": [17.5, -190],\n",
    "    }\n",
    ")\n",
    "\n",
    "location_coordinates = location_coordinates.transpose().rename(\n",
    "    columns={0: \"x-coordinate\", 1: \"y-coordinate\"}\n",
    ")\n",
    "location_coordinates.reset_index(inplace=True)\n",
    "location_coordinates.rename(columns={\"index\": \"physio-body-site\"}, inplace=True)\n",
    "\n",
    "merged_df = pd.merge(\n",
    "    location_coordinates, testing_location_counts, on=\"physio-body-site\"\n",
    ")\n",
    "\n",
    "\n",
    "fig = go.Figure()\n",
    "\n",
    "fig.add_layout_image(\n",
    "    dict(\n",
    "        source=\"assets/img/body-site-chart-background.png\",\n",
    "        xref=\"x\",\n",
    "        yref=\"y\",\n",
    "        x=10,\n",
    "        y=10,\n",
    "        sizex=800,\n",
    "        sizey=640,\n",
    "        xanchor=\"center\",\n",
    "        yanchor=\"middle\",\n",
    "        # sizing=\"stretch\",\n",
    "        opacity=1.0,\n",
    "        layer=\"below\",\n",
    "    )\n",
    ")\n",
    "\n",
    "fig.add_trace(\n",
    "    go.Scatter(\n",
    "        x=merged_df[\"x-coordinate\"],\n",
    "        y=merged_df[\"y-coordinate\"],\n",
    "        mode=\"markers\",\n",
    "        marker=dict(size=merged_df[\"count\"] * 2.5, color=\"#db1492\", opacity=0.8),\n",
    "        text=merged_df[\"count\"],  # Add the counts to the hover text\n",
    "        hoverinfo=\"text\",\n",
    "    )\n",
    ")\n",
    "\n",
    "fig.update_xaxes(showgrid=False, showticklabels=False, range=[-350, 350])\n",
    "\n",
    "fig.update_yaxes(showgrid=False, showticklabels=False, range=[-320, 320])\n",
    "\n",
    "fig.update_layout(\n",
    "    plot_bgcolor=\"rgba(0,0,0,0)\",\n",
    "    xaxis=dict(showgrid=False, zeroline=False),\n",
    "    yaxis=dict(showgrid=False, zeroline=False),\n",
    "    width=800,\n",
    "    height=640,\n",
    "    margin=dict(l=10, r=10, t=10, b=10),\n",
    ")\n",
    "\n",
    "\n",
    "fig.show()"
   ]
  },
  {
   "cell_type": "code",
   "execution_count": 164,
   "metadata": {},
   "outputs": [
    {
     "data": {
      "application/vnd.plotly.v1+json": {
       "config": {
        "plotlyServerURL": "https://plot.ly"
       },
       "data": [
        {
         "alignmentgroup": "True",
         "hovertemplate": "variable=count<br>physio-body-site=%{x}<br>value=%{y}<extra></extra>",
         "legendgroup": "count",
         "marker": {
          "color": "#636efa",
          "pattern": {
           "shape": ""
          }
         },
         "name": "count",
         "offsetgroup": "count",
         "orientation": "v",
         "showlegend": true,
         "textposition": "auto",
         "type": "bar",
         "x": [
          "Forehead",
          "Chest",
          "Wrist",
          "Hand",
          "Neck",
          "Face",
          "Finger",
          "NR",
          "Forearm",
          "18 positions",
          "Arm",
          "Nose",
          "Thigh",
          "14 sites by ISO 9886 standard, under arm, middle finger",
          "Palm",
          "Scapula",
          "Back",
          "arm",
          "head",
          "Shin",
          "Cheek",
          "24 locations"
         ],
         "xaxis": "x",
         "y": [
          76,
          17,
          12,
          9,
          8,
          8,
          4,
          3,
          2,
          2,
          2,
          2,
          1,
          1,
          1,
          1,
          1,
          1,
          1,
          1,
          1,
          1
         ],
         "yaxis": "y"
        }
       ],
       "layout": {
        "barmode": "relative",
        "height": 600,
        "legend": {
         "title": {
          "text": "variable"
         },
         "tracegroupgap": 0
        },
        "margin": {
         "t": 60
        },
        "template": {
         "data": {
          "bar": [
           {
            "error_x": {
             "color": "rgb(51,51,51)"
            },
            "error_y": {
             "color": "rgb(51,51,51)"
            },
            "marker": {
             "line": {
              "color": "rgb(237,237,237)",
              "width": 0.5
             },
             "pattern": {
              "fillmode": "overlay",
              "size": 10,
              "solidity": 0.2
             }
            },
            "type": "bar"
           }
          ],
          "barpolar": [
           {
            "marker": {
             "line": {
              "color": "rgb(237,237,237)",
              "width": 0.5
             },
             "pattern": {
              "fillmode": "overlay",
              "size": 10,
              "solidity": 0.2
             }
            },
            "type": "barpolar"
           }
          ],
          "carpet": [
           {
            "aaxis": {
             "endlinecolor": "rgb(51,51,51)",
             "gridcolor": "white",
             "linecolor": "white",
             "minorgridcolor": "white",
             "startlinecolor": "rgb(51,51,51)"
            },
            "baxis": {
             "endlinecolor": "rgb(51,51,51)",
             "gridcolor": "white",
             "linecolor": "white",
             "minorgridcolor": "white",
             "startlinecolor": "rgb(51,51,51)"
            },
            "type": "carpet"
           }
          ],
          "choropleth": [
           {
            "colorbar": {
             "outlinewidth": 0,
             "tickcolor": "rgb(237,237,237)",
             "ticklen": 6,
             "ticks": "inside"
            },
            "type": "choropleth"
           }
          ],
          "contour": [
           {
            "colorbar": {
             "outlinewidth": 0,
             "tickcolor": "rgb(237,237,237)",
             "ticklen": 6,
             "ticks": "inside"
            },
            "colorscale": [
             [
              0,
              "rgb(20,44,66)"
             ],
             [
              1,
              "rgb(90,179,244)"
             ]
            ],
            "type": "contour"
           }
          ],
          "contourcarpet": [
           {
            "colorbar": {
             "outlinewidth": 0,
             "tickcolor": "rgb(237,237,237)",
             "ticklen": 6,
             "ticks": "inside"
            },
            "type": "contourcarpet"
           }
          ],
          "heatmap": [
           {
            "colorbar": {
             "outlinewidth": 0,
             "tickcolor": "rgb(237,237,237)",
             "ticklen": 6,
             "ticks": "inside"
            },
            "colorscale": [
             [
              0,
              "rgb(20,44,66)"
             ],
             [
              1,
              "rgb(90,179,244)"
             ]
            ],
            "type": "heatmap"
           }
          ],
          "heatmapgl": [
           {
            "colorbar": {
             "outlinewidth": 0,
             "tickcolor": "rgb(237,237,237)",
             "ticklen": 6,
             "ticks": "inside"
            },
            "colorscale": [
             [
              0,
              "rgb(20,44,66)"
             ],
             [
              1,
              "rgb(90,179,244)"
             ]
            ],
            "type": "heatmapgl"
           }
          ],
          "histogram": [
           {
            "marker": {
             "pattern": {
              "fillmode": "overlay",
              "size": 10,
              "solidity": 0.2
             }
            },
            "type": "histogram"
           }
          ],
          "histogram2d": [
           {
            "colorbar": {
             "outlinewidth": 0,
             "tickcolor": "rgb(237,237,237)",
             "ticklen": 6,
             "ticks": "inside"
            },
            "colorscale": [
             [
              0,
              "rgb(20,44,66)"
             ],
             [
              1,
              "rgb(90,179,244)"
             ]
            ],
            "type": "histogram2d"
           }
          ],
          "histogram2dcontour": [
           {
            "colorbar": {
             "outlinewidth": 0,
             "tickcolor": "rgb(237,237,237)",
             "ticklen": 6,
             "ticks": "inside"
            },
            "colorscale": [
             [
              0,
              "rgb(20,44,66)"
             ],
             [
              1,
              "rgb(90,179,244)"
             ]
            ],
            "type": "histogram2dcontour"
           }
          ],
          "mesh3d": [
           {
            "colorbar": {
             "outlinewidth": 0,
             "tickcolor": "rgb(237,237,237)",
             "ticklen": 6,
             "ticks": "inside"
            },
            "type": "mesh3d"
           }
          ],
          "parcoords": [
           {
            "line": {
             "colorbar": {
              "outlinewidth": 0,
              "tickcolor": "rgb(237,237,237)",
              "ticklen": 6,
              "ticks": "inside"
             }
            },
            "type": "parcoords"
           }
          ],
          "pie": [
           {
            "automargin": true,
            "type": "pie"
           }
          ],
          "scatter": [
           {
            "fillpattern": {
             "fillmode": "overlay",
             "size": 10,
             "solidity": 0.2
            },
            "type": "scatter"
           }
          ],
          "scatter3d": [
           {
            "line": {
             "colorbar": {
              "outlinewidth": 0,
              "tickcolor": "rgb(237,237,237)",
              "ticklen": 6,
              "ticks": "inside"
             }
            },
            "marker": {
             "colorbar": {
              "outlinewidth": 0,
              "tickcolor": "rgb(237,237,237)",
              "ticklen": 6,
              "ticks": "inside"
             }
            },
            "type": "scatter3d"
           }
          ],
          "scattercarpet": [
           {
            "marker": {
             "colorbar": {
              "outlinewidth": 0,
              "tickcolor": "rgb(237,237,237)",
              "ticklen": 6,
              "ticks": "inside"
             }
            },
            "type": "scattercarpet"
           }
          ],
          "scattergeo": [
           {
            "marker": {
             "colorbar": {
              "outlinewidth": 0,
              "tickcolor": "rgb(237,237,237)",
              "ticklen": 6,
              "ticks": "inside"
             }
            },
            "type": "scattergeo"
           }
          ],
          "scattergl": [
           {
            "marker": {
             "colorbar": {
              "outlinewidth": 0,
              "tickcolor": "rgb(237,237,237)",
              "ticklen": 6,
              "ticks": "inside"
             }
            },
            "type": "scattergl"
           }
          ],
          "scattermapbox": [
           {
            "marker": {
             "colorbar": {
              "outlinewidth": 0,
              "tickcolor": "rgb(237,237,237)",
              "ticklen": 6,
              "ticks": "inside"
             }
            },
            "type": "scattermapbox"
           }
          ],
          "scatterpolar": [
           {
            "marker": {
             "colorbar": {
              "outlinewidth": 0,
              "tickcolor": "rgb(237,237,237)",
              "ticklen": 6,
              "ticks": "inside"
             }
            },
            "type": "scatterpolar"
           }
          ],
          "scatterpolargl": [
           {
            "marker": {
             "colorbar": {
              "outlinewidth": 0,
              "tickcolor": "rgb(237,237,237)",
              "ticklen": 6,
              "ticks": "inside"
             }
            },
            "type": "scatterpolargl"
           }
          ],
          "scatterternary": [
           {
            "marker": {
             "colorbar": {
              "outlinewidth": 0,
              "tickcolor": "rgb(237,237,237)",
              "ticklen": 6,
              "ticks": "inside"
             }
            },
            "type": "scatterternary"
           }
          ],
          "surface": [
           {
            "colorbar": {
             "outlinewidth": 0,
             "tickcolor": "rgb(237,237,237)",
             "ticklen": 6,
             "ticks": "inside"
            },
            "colorscale": [
             [
              0,
              "rgb(20,44,66)"
             ],
             [
              1,
              "rgb(90,179,244)"
             ]
            ],
            "type": "surface"
           }
          ],
          "table": [
           {
            "cells": {
             "fill": {
              "color": "rgb(237,237,237)"
             },
             "line": {
              "color": "white"
             }
            },
            "header": {
             "fill": {
              "color": "rgb(217,217,217)"
             },
             "line": {
              "color": "white"
             }
            },
            "type": "table"
           }
          ]
         },
         "layout": {
          "annotationdefaults": {
           "arrowhead": 0,
           "arrowwidth": 1
          },
          "autotypenumbers": "strict",
          "coloraxis": {
           "colorbar": {
            "outlinewidth": 0,
            "tickcolor": "rgb(237,237,237)",
            "ticklen": 6,
            "ticks": "inside"
           }
          },
          "colorscale": {
           "sequential": [
            [
             0,
             "rgb(20,44,66)"
            ],
            [
             1,
             "rgb(90,179,244)"
            ]
           ],
           "sequentialminus": [
            [
             0,
             "rgb(20,44,66)"
            ],
            [
             1,
             "rgb(90,179,244)"
            ]
           ]
          },
          "colorway": [
           "#277da1",
           "#577590",
           "#4d908e",
           "#43aa8b",
           "#90be6d",
           "#f9c74f",
           "#f9844a",
           "#f8961e",
           "#f3722c",
           "#f94144",
           "#a8dce2",
           "#b3bfc9",
           "#a8cfc9",
           "#a8dfd2",
           "#d2e8c0",
           "#fde7a6",
           "#f9cfbd",
           "#fbd3a7",
           "#f9b39c",
           "#f9a3a5"
          ],
          "font": {
           "color": "rgb(51,51,51)"
          },
          "geo": {
           "bgcolor": "white",
           "lakecolor": "white",
           "landcolor": "rgb(237,237,237)",
           "showlakes": true,
           "showland": true,
           "subunitcolor": "white"
          },
          "hoverlabel": {
           "align": "left"
          },
          "hovermode": "closest",
          "paper_bgcolor": "rgba(0,0,0,0)",
          "plot_bgcolor": "rgba(0,0,0,0)",
          "polar": {
           "angularaxis": {
            "gridcolor": "white",
            "linecolor": "white",
            "showgrid": true,
            "tickcolor": "rgb(51,51,51)",
            "ticks": "outside"
           },
           "bgcolor": "rgb(237,237,237)",
           "radialaxis": {
            "gridcolor": "white",
            "linecolor": "white",
            "showgrid": true,
            "tickcolor": "rgb(51,51,51)",
            "ticks": "outside"
           }
          },
          "scene": {
           "xaxis": {
            "backgroundcolor": "rgb(237,237,237)",
            "gridcolor": "white",
            "gridwidth": 2,
            "linecolor": "white",
            "showbackground": true,
            "showgrid": true,
            "tickcolor": "rgb(51,51,51)",
            "ticks": "outside",
            "zerolinecolor": "white"
           },
           "yaxis": {
            "backgroundcolor": "rgb(237,237,237)",
            "gridcolor": "white",
            "gridwidth": 2,
            "linecolor": "white",
            "showbackground": true,
            "showgrid": true,
            "tickcolor": "rgb(51,51,51)",
            "ticks": "outside",
            "zerolinecolor": "white"
           },
           "zaxis": {
            "backgroundcolor": "rgb(237,237,237)",
            "gridcolor": "white",
            "gridwidth": 2,
            "linecolor": "white",
            "showbackground": true,
            "showgrid": true,
            "tickcolor": "rgb(51,51,51)",
            "ticks": "outside",
            "zerolinecolor": "white"
           }
          },
          "shapedefaults": {
           "fillcolor": "black",
           "line": {
            "width": 0
           },
           "opacity": 0.3
          },
          "ternary": {
           "aaxis": {
            "gridcolor": "white",
            "linecolor": "white",
            "showgrid": true,
            "tickcolor": "rgb(51,51,51)",
            "ticks": "outside"
           },
           "baxis": {
            "gridcolor": "white",
            "linecolor": "white",
            "showgrid": true,
            "tickcolor": "rgb(51,51,51)",
            "ticks": "outside"
           },
           "bgcolor": "rgb(237,237,237)",
           "caxis": {
            "gridcolor": "white",
            "linecolor": "white",
            "showgrid": true,
            "tickcolor": "rgb(51,51,51)",
            "ticks": "outside"
           }
          },
          "xaxis": {
           "automargin": true,
           "gridcolor": "white",
           "linecolor": "white",
           "showgrid": true,
           "tickcolor": "rgb(51,51,51)",
           "ticks": "outside",
           "title": {
            "standoff": 15
           },
           "zerolinecolor": "white"
          },
          "yaxis": {
           "automargin": true,
           "gridcolor": "white",
           "linecolor": "white",
           "showgrid": true,
           "tickcolor": "rgb(51,51,51)",
           "ticks": "outside",
           "title": {
            "standoff": 15
           },
           "zerolinecolor": "white"
          }
         }
        },
        "width": 800,
        "xaxis": {
         "anchor": "y",
         "domain": [
          0,
          1
         ],
         "title": {
          "text": "Measurement location [-]"
         }
        },
        "yaxis": {
         "anchor": "x",
         "domain": [
          0,
          1
         ],
         "title": {
          "text": "Percentage of Studies [%]"
         }
        }
       }
      }
     },
     "metadata": {},
     "output_type": "display_data"
    }
   ],
   "source": [
    "skin_temperature = df.loc[df[\"physio-parameter\"] == \"Skin temperature\"]\n",
    "location_counts = skin_temperature[\"physio-body-site\"].value_counts()\n",
    "\n",
    "fig = px.bar(\n",
    "    location_counts,\n",
    ")\n",
    "\n",
    "fig.update_layout(\n",
    "    xaxis_title=\"Measurement location [-]\",\n",
    "    yaxis_title=\"Percentage of Studies [%]\",\n",
    "    height=600,\n",
    "    width=800,\n",
    "    template=CHART_LAYOUT.template.value,\n",
    ")\n",
    "\n",
    "fig.show()\n",
    "\n",
    "# TK: This column obviously needs some cleaning up, I prefer to have every entry in lower case\n",
    "# Also, I think we should remove the \"NR\" entries and list them separately"
   ]
  },
  {
   "cell_type": "code",
   "execution_count": null,
   "metadata": {},
   "outputs": [
    {
     "data": {
      "application/vnd.plotly.v1+json": {
       "config": {
        "plotlyServerURL": "https://plot.ly"
       },
       "data": [
        {
         "branchvalues": "total",
         "domain": {
          "x": [
           0,
           1
          ],
          "y": [
           0,
           1
          ]
         },
         "hovertemplate": "labels=%{label}<br>count=%{value}<br>parent=%{parent}<br>id=%{id}<extra></extra>",
         "ids": [
          "0/0/0",
          "Skin temperature/0/0",
          "Skin temperature/RTD/0",
          "Skin temperature/Thermistor/0",
          "Skin temperature/Thermocouple/0",
          "Heart rate/ECG/ADInstruments",
          "Heart rate/ECG/ADinstruments",
          "Blood pressure/Digital sphygmomanometer/ANDON",
          "EEG/9-channel/Advanced Brain Monitoring",
          "Skin temperature/Thermocouple/Agilent",
          "EEG/8-channel/BIOPAC",
          "Skin temperature/Thermistor/BIOPAC",
          "Skin temperature/Thermocouple/BIOPAC",
          "Skin temperature/Infrared thermometer/Beurer",
          "EEG/4-channel/Brain Products",
          "Skin temperature/Infrared camera/CEM",
          "Sweat/Tewameter /Courage-Khazaka MPA-5",
          "Heart rate/OHR/EMFIT",
          "Skin temperature/Infrared thermometer/EXTECH Instruments",
          "EEG/14-channel/Emotiv",
          "EEG/14-channel/Emotiv ",
          "Movement/Accelerometer/Empatica",
          "Sweat/GSR/EDA/Empatica",
          "Heart rate/OHR/Empatica",
          "Skin temperature/Thermistor/Empatica",
          "Skin temperature/Infrared camera/FLIR",
          "Skin temperature/Infrared thermometer/FLIR",
          "Skin temperature/Thermal camera/FLIR",
          "Skin temperature/Infrared camera/FLIR ",
          "Skin temperature/Infrared thermometer/Flir",
          "Skin temperature/Infrared thermometer/Fluke",
          "Heat flux/Heat flux/Heat flow/FluxTeq",
          "Skin temperature/Thermocouple/GRAM Co",
          "Skin temperature/surface thermometer/Gigarise",
          "Skin temperature/Thermocouple/HOBO",
          "Blood oxygen saturation/Pulse oximeter/Heal Force",
          "Heart rate/Pulse oximeter/Heal Force",
          "Heart rate/ECG/Healink Co. Ltd.",
          "Skin temperature/Thermistor/Hesvit",
          "Skin temperature/Dermal patch/Hidalgo ",
          "Skin temperature/RTD/Honeywell",
          "Skin temperature/Thermocouple/Innpitron",
          "EEG/4-channel/InterAxon",
          "Skin temperature/Thermocouple/Kulun Coast",
          "Skin temperature/Heat flux/Heat flow/Kyoto Electronics Manufacturing",
          "Skin temperature/Thermistor/Lattron",
          "Skin temperature/NR/Libelium Co.",
          "Skin temperature/Probe/Libelium Co.",
          "Skin temperature/Infrared thermometer/Melexis",
          "Heart rate/ECG/Mind Media",
          "Skin temperature/Thermistor/Mind Media",
          "Movement/Accelerometer/Movisens",
          "Skin temperature/Infrared camera/NIPPON",
          "EEG/2-channel/NR",
          "EEG/8-channel/NR",
          "Heart rate/ECG/NR",
          "Sweat/Hygrochron/NR",
          "Skin temperature/Infrared camera/NR",
          "Skin temperature/NR/NR",
          "Heart rate/Pulse oximeter/NR",
          "Skin temperature/RTD/NR",
          "Skin temperature/Thermistor/NR",
          "Skin temperature/Thermocouple/NR",
          "Skin temperature/wristband device/NR",
          "EEG/8-channel/Neuracle",
          "EEG/3-channel/Neurosky ",
          "Skin temperature/Thermistor/Nikkiso-YSI",
          "Heart rate/Pulse oximeter/Nonin Medical",
          "Blood pressure/Digital sphygmomanometer/OMRON",
          "Heart rate/Digital sphygmomanometer/OMRON",
          "Skin temperature/Infrared thermometer/OMRON",
          "Skin temperature/Thermocouple/Omega",
          "Skin temperature/Thermistor/Onset",
          "Skin temperature/Thermocouple/Onset",
          "EEG/2-channel/PLUX",
          "Heart rate/ECG/PLUX",
          "Heart rate/ECG/Polar",
          "Skin temperature/Thermochron/PyroButton",
          "Skin temperature/Thermochron/Pyrobutton",
          "Heart rate/OHR/Samsung",
          "Heart rate/OHR/Seeed Studio",
          "Heart rate/OHR/Shimmer Sensing",
          "Heart rate/ECG/Suunto",
          "Skin temperature/Thermocouple/TCSA",
          "Skin temperature/Infrared thermometer/TECNIMED SRL",
          "Movement/Accelerometer/TXZ",
          "Sweat/High precision scale/Tanita",
          "Skin temperature/Infrared thermometer/Testo",
          "Skin temperature/Thermocouple/Testo",
          "Body temperature/Infrared thermometer/Thermoscan 5",
          "Skin temperature/Thermistor/Vernier",
          "Skin temperature/Thermometer/Yumo",
          "Heart rate/Pulse oximeter/Yuwell",
          "Heart rate/ECG/Zephyr",
          "Hormones: Cortisol/Saliva/cortisol: Salimetrics Salivary Cortisol ELISA Kit",
          "Heart rate/OHR/fitbit",
          "Skin temperature/Thermochron/iButton",
          "0/0",
          "Skin temperature/0",
          "EEG/14-channel",
          "EEG/2-channel",
          "EEG/3-channel",
          "EEG/4-channel",
          "EEG/8-channel",
          "EEG/9-channel",
          "Movement/Accelerometer",
          "Skin temperature/Dermal patch",
          "Blood pressure/Digital sphygmomanometer",
          "Heart rate/Digital sphygmomanometer",
          "Heart rate/ECG",
          "Sweat/GSR/EDA",
          "Heat flux/Heat flux/Heat flow",
          "Skin temperature/Heat flux/Heat flow",
          "Sweat/High precision scale",
          "Sweat/Hygrochron",
          "Skin temperature/Infrared camera",
          "Body temperature/Infrared thermometer",
          "Skin temperature/Infrared thermometer",
          "Skin temperature/NR",
          "Heart rate/OHR",
          "Skin temperature/Probe",
          "Blood oxygen saturation/Pulse oximeter",
          "Heart rate/Pulse oximeter",
          "Skin temperature/RTD",
          "Hormones: Cortisol/Saliva",
          "Sweat/Tewameter ",
          "Skin temperature/Thermal camera",
          "Skin temperature/Thermistor",
          "Skin temperature/Thermochron",
          "Skin temperature/Thermocouple",
          "Skin temperature/Thermometer",
          "Skin temperature/surface thermometer",
          "Skin temperature/wristband device",
          "0",
          "Blood oxygen saturation",
          "Blood pressure",
          "Body temperature",
          "EEG",
          "Heart rate",
          "Heat flux",
          "Hormones: Cortisol",
          "Movement",
          "Skin temperature",
          "Sweat"
         ],
         "labels": [
          "0",
          "0",
          "0",
          "0",
          "0",
          "ADInstruments",
          "ADinstruments",
          "ANDON",
          "Advanced Brain Monitoring",
          "Agilent",
          "BIOPAC",
          "BIOPAC",
          "BIOPAC",
          "Beurer",
          "Brain Products",
          "CEM",
          "Courage-Khazaka MPA-5",
          "EMFIT",
          "EXTECH Instruments",
          "Emotiv",
          "Emotiv ",
          "Empatica",
          "Empatica",
          "Empatica",
          "Empatica",
          "FLIR",
          "FLIR",
          "FLIR",
          "FLIR ",
          "Flir",
          "Fluke",
          "FluxTeq",
          "GRAM Co",
          "Gigarise",
          "HOBO",
          "Heal Force",
          "Heal Force",
          "Healink Co. Ltd.",
          "Hesvit",
          "Hidalgo ",
          "Honeywell",
          "Innpitron",
          "InterAxon",
          "Kulun Coast",
          "Kyoto Electronics Manufacturing",
          "Lattron",
          "Libelium Co.",
          "Libelium Co.",
          "Melexis",
          "Mind Media",
          "Mind Media",
          "Movisens",
          "NIPPON",
          "NR",
          "NR",
          "NR",
          "NR",
          "NR",
          "NR",
          "NR",
          "NR",
          "NR",
          "NR",
          "NR",
          "Neuracle",
          "Neurosky ",
          "Nikkiso-YSI",
          "Nonin Medical",
          "OMRON",
          "OMRON",
          "OMRON",
          "Omega",
          "Onset",
          "Onset",
          "PLUX",
          "PLUX",
          "Polar",
          "PyroButton",
          "Pyrobutton",
          "Samsung",
          "Seeed Studio",
          "Shimmer Sensing",
          "Suunto",
          "TCSA",
          "TECNIMED SRL",
          "TXZ",
          "Tanita",
          "Testo",
          "Testo",
          "Thermoscan 5",
          "Vernier",
          "Yumo",
          "Yuwell",
          "Zephyr",
          "cortisol: Salimetrics Salivary Cortisol ELISA Kit",
          "fitbit",
          "iButton",
          "0",
          "0",
          "14-channel",
          "2-channel",
          "3-channel",
          "4-channel",
          "8-channel",
          "9-channel",
          "Accelerometer",
          "Dermal patch",
          "Digital sphygmomanometer",
          "Digital sphygmomanometer",
          "ECG",
          "GSR/EDA",
          "Heat flux/Heat flow",
          "Heat flux/Heat flow",
          "High precision scale",
          "Hygrochron",
          "Infrared camera",
          "Infrared thermometer",
          "Infrared thermometer",
          "NR",
          "OHR",
          "Probe",
          "Pulse oximeter",
          "Pulse oximeter",
          "RTD",
          "Saliva",
          "Tewameter ",
          "Thermal camera",
          "Thermistor",
          "Thermochron",
          "Thermocouple",
          "Thermometer",
          "surface thermometer",
          "wristband device",
          "0",
          "Blood oxygen saturation",
          "Blood pressure",
          "Body temperature",
          "EEG",
          "Heart rate",
          "Heat flux",
          "Hormones: Cortisol",
          "Movement",
          "Skin temperature",
          "Sweat"
         ],
         "name": "",
         "parents": [
          "0/0",
          "Skin temperature/0",
          "Skin temperature/RTD",
          "Skin temperature/Thermistor",
          "Skin temperature/Thermocouple",
          "Heart rate/ECG",
          "Heart rate/ECG",
          "Blood pressure/Digital sphygmomanometer",
          "EEG/9-channel",
          "Skin temperature/Thermocouple",
          "EEG/8-channel",
          "Skin temperature/Thermistor",
          "Skin temperature/Thermocouple",
          "Skin temperature/Infrared thermometer",
          "EEG/4-channel",
          "Skin temperature/Infrared camera",
          "Sweat/Tewameter ",
          "Heart rate/OHR",
          "Skin temperature/Infrared thermometer",
          "EEG/14-channel",
          "EEG/14-channel",
          "Movement/Accelerometer",
          "Sweat/GSR/EDA",
          "Heart rate/OHR",
          "Skin temperature/Thermistor",
          "Skin temperature/Infrared camera",
          "Skin temperature/Infrared thermometer",
          "Skin temperature/Thermal camera",
          "Skin temperature/Infrared camera",
          "Skin temperature/Infrared thermometer",
          "Skin temperature/Infrared thermometer",
          "Heat flux/Heat flux/Heat flow",
          "Skin temperature/Thermocouple",
          "Skin temperature/surface thermometer",
          "Skin temperature/Thermocouple",
          "Blood oxygen saturation/Pulse oximeter",
          "Heart rate/Pulse oximeter",
          "Heart rate/ECG",
          "Skin temperature/Thermistor",
          "Skin temperature/Dermal patch",
          "Skin temperature/RTD",
          "Skin temperature/Thermocouple",
          "EEG/4-channel",
          "Skin temperature/Thermocouple",
          "Skin temperature/Heat flux/Heat flow",
          "Skin temperature/Thermistor",
          "Skin temperature/NR",
          "Skin temperature/Probe",
          "Skin temperature/Infrared thermometer",
          "Heart rate/ECG",
          "Skin temperature/Thermistor",
          "Movement/Accelerometer",
          "Skin temperature/Infrared camera",
          "EEG/2-channel",
          "EEG/8-channel",
          "Heart rate/ECG",
          "Sweat/Hygrochron",
          "Skin temperature/Infrared camera",
          "Skin temperature/NR",
          "Heart rate/Pulse oximeter",
          "Skin temperature/RTD",
          "Skin temperature/Thermistor",
          "Skin temperature/Thermocouple",
          "Skin temperature/wristband device",
          "EEG/8-channel",
          "EEG/3-channel",
          "Skin temperature/Thermistor",
          "Heart rate/Pulse oximeter",
          "Blood pressure/Digital sphygmomanometer",
          "Heart rate/Digital sphygmomanometer",
          "Skin temperature/Infrared thermometer",
          "Skin temperature/Thermocouple",
          "Skin temperature/Thermistor",
          "Skin temperature/Thermocouple",
          "EEG/2-channel",
          "Heart rate/ECG",
          "Heart rate/ECG",
          "Skin temperature/Thermochron",
          "Skin temperature/Thermochron",
          "Heart rate/OHR",
          "Heart rate/OHR",
          "Heart rate/OHR",
          "Heart rate/ECG",
          "Skin temperature/Thermocouple",
          "Skin temperature/Infrared thermometer",
          "Movement/Accelerometer",
          "Sweat/High precision scale",
          "Skin temperature/Infrared thermometer",
          "Skin temperature/Thermocouple",
          "Body temperature/Infrared thermometer",
          "Skin temperature/Thermistor",
          "Skin temperature/Thermometer",
          "Heart rate/Pulse oximeter",
          "Heart rate/ECG",
          "Hormones: Cortisol/Saliva",
          "Heart rate/OHR",
          "Skin temperature/Thermochron",
          "0",
          "Skin temperature",
          "EEG",
          "EEG",
          "EEG",
          "EEG",
          "EEG",
          "EEG",
          "Movement",
          "Skin temperature",
          "Blood pressure",
          "Heart rate",
          "Heart rate",
          "Sweat",
          "Heat flux",
          "Skin temperature",
          "Sweat",
          "Sweat",
          "Skin temperature",
          "Body temperature",
          "Skin temperature",
          "Skin temperature",
          "Heart rate",
          "Skin temperature",
          "Blood oxygen saturation",
          "Heart rate",
          "Skin temperature",
          "Hormones: Cortisol",
          "Sweat",
          "Skin temperature",
          "Skin temperature",
          "Skin temperature",
          "Skin temperature",
          "Skin temperature",
          "Skin temperature",
          "Skin temperature",
          "",
          "",
          "",
          "",
          "",
          "",
          "",
          "",
          "",
          "",
          ""
         ],
         "type": "sunburst",
         "values": [
          3,
          1,
          1,
          1,
          8,
          1,
          1,
          1,
          2,
          1,
          3,
          5,
          1,
          1,
          1,
          1,
          1,
          1,
          1,
          3,
          2,
          1,
          1,
          3,
          2,
          12,
          1,
          1,
          1,
          1,
          1,
          2,
          1,
          1,
          3,
          1,
          1,
          1,
          1,
          3,
          1,
          1,
          1,
          1,
          4,
          1,
          1,
          1,
          3,
          2,
          1,
          1,
          2,
          1,
          1,
          2,
          1,
          2,
          6,
          1,
          1,
          1,
          12,
          1,
          1,
          1,
          1,
          1,
          3,
          2,
          1,
          1,
          1,
          3,
          1,
          1,
          3,
          5,
          6,
          1,
          1,
          1,
          1,
          2,
          1,
          1,
          1,
          1,
          1,
          1,
          5,
          1,
          2,
          2,
          1,
          1,
          38,
          3,
          1,
          5,
          2,
          1,
          2,
          5,
          2,
          3,
          3,
          4,
          2,
          14,
          1,
          2,
          4,
          1,
          1,
          18,
          1,
          11,
          7,
          8,
          1,
          1,
          5,
          3,
          1,
          1,
          1,
          19,
          49,
          35,
          1,
          1,
          1,
          3,
          1,
          4,
          1,
          17,
          29,
          2,
          1,
          3,
          155,
          4
         ]
        }
       ],
       "layout": {
        "height": 600,
        "legend": {
         "tracegroupgap": 0
        },
        "margin": {
         "t": 60
        },
        "template": {
         "data": {
          "bar": [
           {
            "error_x": {
             "color": "rgb(51,51,51)"
            },
            "error_y": {
             "color": "rgb(51,51,51)"
            },
            "marker": {
             "line": {
              "color": "rgb(237,237,237)",
              "width": 0.5
             },
             "pattern": {
              "fillmode": "overlay",
              "size": 10,
              "solidity": 0.2
             }
            },
            "type": "bar"
           }
          ],
          "barpolar": [
           {
            "marker": {
             "line": {
              "color": "rgb(237,237,237)",
              "width": 0.5
             },
             "pattern": {
              "fillmode": "overlay",
              "size": 10,
              "solidity": 0.2
             }
            },
            "type": "barpolar"
           }
          ],
          "carpet": [
           {
            "aaxis": {
             "endlinecolor": "rgb(51,51,51)",
             "gridcolor": "white",
             "linecolor": "white",
             "minorgridcolor": "white",
             "startlinecolor": "rgb(51,51,51)"
            },
            "baxis": {
             "endlinecolor": "rgb(51,51,51)",
             "gridcolor": "white",
             "linecolor": "white",
             "minorgridcolor": "white",
             "startlinecolor": "rgb(51,51,51)"
            },
            "type": "carpet"
           }
          ],
          "choropleth": [
           {
            "colorbar": {
             "outlinewidth": 0,
             "tickcolor": "rgb(237,237,237)",
             "ticklen": 6,
             "ticks": "inside"
            },
            "type": "choropleth"
           }
          ],
          "contour": [
           {
            "colorbar": {
             "outlinewidth": 0,
             "tickcolor": "rgb(237,237,237)",
             "ticklen": 6,
             "ticks": "inside"
            },
            "colorscale": [
             [
              0,
              "rgb(20,44,66)"
             ],
             [
              1,
              "rgb(90,179,244)"
             ]
            ],
            "type": "contour"
           }
          ],
          "contourcarpet": [
           {
            "colorbar": {
             "outlinewidth": 0,
             "tickcolor": "rgb(237,237,237)",
             "ticklen": 6,
             "ticks": "inside"
            },
            "type": "contourcarpet"
           }
          ],
          "heatmap": [
           {
            "colorbar": {
             "outlinewidth": 0,
             "tickcolor": "rgb(237,237,237)",
             "ticklen": 6,
             "ticks": "inside"
            },
            "colorscale": [
             [
              0,
              "rgb(20,44,66)"
             ],
             [
              1,
              "rgb(90,179,244)"
             ]
            ],
            "type": "heatmap"
           }
          ],
          "heatmapgl": [
           {
            "colorbar": {
             "outlinewidth": 0,
             "tickcolor": "rgb(237,237,237)",
             "ticklen": 6,
             "ticks": "inside"
            },
            "colorscale": [
             [
              0,
              "rgb(20,44,66)"
             ],
             [
              1,
              "rgb(90,179,244)"
             ]
            ],
            "type": "heatmapgl"
           }
          ],
          "histogram": [
           {
            "marker": {
             "pattern": {
              "fillmode": "overlay",
              "size": 10,
              "solidity": 0.2
             }
            },
            "type": "histogram"
           }
          ],
          "histogram2d": [
           {
            "colorbar": {
             "outlinewidth": 0,
             "tickcolor": "rgb(237,237,237)",
             "ticklen": 6,
             "ticks": "inside"
            },
            "colorscale": [
             [
              0,
              "rgb(20,44,66)"
             ],
             [
              1,
              "rgb(90,179,244)"
             ]
            ],
            "type": "histogram2d"
           }
          ],
          "histogram2dcontour": [
           {
            "colorbar": {
             "outlinewidth": 0,
             "tickcolor": "rgb(237,237,237)",
             "ticklen": 6,
             "ticks": "inside"
            },
            "colorscale": [
             [
              0,
              "rgb(20,44,66)"
             ],
             [
              1,
              "rgb(90,179,244)"
             ]
            ],
            "type": "histogram2dcontour"
           }
          ],
          "mesh3d": [
           {
            "colorbar": {
             "outlinewidth": 0,
             "tickcolor": "rgb(237,237,237)",
             "ticklen": 6,
             "ticks": "inside"
            },
            "type": "mesh3d"
           }
          ],
          "parcoords": [
           {
            "line": {
             "colorbar": {
              "outlinewidth": 0,
              "tickcolor": "rgb(237,237,237)",
              "ticklen": 6,
              "ticks": "inside"
             }
            },
            "type": "parcoords"
           }
          ],
          "pie": [
           {
            "automargin": true,
            "type": "pie"
           }
          ],
          "scatter": [
           {
            "fillpattern": {
             "fillmode": "overlay",
             "size": 10,
             "solidity": 0.2
            },
            "type": "scatter"
           }
          ],
          "scatter3d": [
           {
            "line": {
             "colorbar": {
              "outlinewidth": 0,
              "tickcolor": "rgb(237,237,237)",
              "ticklen": 6,
              "ticks": "inside"
             }
            },
            "marker": {
             "colorbar": {
              "outlinewidth": 0,
              "tickcolor": "rgb(237,237,237)",
              "ticklen": 6,
              "ticks": "inside"
             }
            },
            "type": "scatter3d"
           }
          ],
          "scattercarpet": [
           {
            "marker": {
             "colorbar": {
              "outlinewidth": 0,
              "tickcolor": "rgb(237,237,237)",
              "ticklen": 6,
              "ticks": "inside"
             }
            },
            "type": "scattercarpet"
           }
          ],
          "scattergeo": [
           {
            "marker": {
             "colorbar": {
              "outlinewidth": 0,
              "tickcolor": "rgb(237,237,237)",
              "ticklen": 6,
              "ticks": "inside"
             }
            },
            "type": "scattergeo"
           }
          ],
          "scattergl": [
           {
            "marker": {
             "colorbar": {
              "outlinewidth": 0,
              "tickcolor": "rgb(237,237,237)",
              "ticklen": 6,
              "ticks": "inside"
             }
            },
            "type": "scattergl"
           }
          ],
          "scattermapbox": [
           {
            "marker": {
             "colorbar": {
              "outlinewidth": 0,
              "tickcolor": "rgb(237,237,237)",
              "ticklen": 6,
              "ticks": "inside"
             }
            },
            "type": "scattermapbox"
           }
          ],
          "scatterpolar": [
           {
            "marker": {
             "colorbar": {
              "outlinewidth": 0,
              "tickcolor": "rgb(237,237,237)",
              "ticklen": 6,
              "ticks": "inside"
             }
            },
            "type": "scatterpolar"
           }
          ],
          "scatterpolargl": [
           {
            "marker": {
             "colorbar": {
              "outlinewidth": 0,
              "tickcolor": "rgb(237,237,237)",
              "ticklen": 6,
              "ticks": "inside"
             }
            },
            "type": "scatterpolargl"
           }
          ],
          "scatterternary": [
           {
            "marker": {
             "colorbar": {
              "outlinewidth": 0,
              "tickcolor": "rgb(237,237,237)",
              "ticklen": 6,
              "ticks": "inside"
             }
            },
            "type": "scatterternary"
           }
          ],
          "surface": [
           {
            "colorbar": {
             "outlinewidth": 0,
             "tickcolor": "rgb(237,237,237)",
             "ticklen": 6,
             "ticks": "inside"
            },
            "colorscale": [
             [
              0,
              "rgb(20,44,66)"
             ],
             [
              1,
              "rgb(90,179,244)"
             ]
            ],
            "type": "surface"
           }
          ],
          "table": [
           {
            "cells": {
             "fill": {
              "color": "rgb(237,237,237)"
             },
             "line": {
              "color": "white"
             }
            },
            "header": {
             "fill": {
              "color": "rgb(217,217,217)"
             },
             "line": {
              "color": "white"
             }
            },
            "type": "table"
           }
          ]
         },
         "layout": {
          "annotationdefaults": {
           "arrowhead": 0,
           "arrowwidth": 1
          },
          "autotypenumbers": "strict",
          "coloraxis": {
           "colorbar": {
            "outlinewidth": 0,
            "tickcolor": "rgb(237,237,237)",
            "ticklen": 6,
            "ticks": "inside"
           }
          },
          "colorscale": {
           "sequential": [
            [
             0,
             "rgb(20,44,66)"
            ],
            [
             1,
             "rgb(90,179,244)"
            ]
           ],
           "sequentialminus": [
            [
             0,
             "rgb(20,44,66)"
            ],
            [
             1,
             "rgb(90,179,244)"
            ]
           ]
          },
          "colorway": [
           "#277da1",
           "#577590",
           "#4d908e",
           "#43aa8b",
           "#90be6d",
           "#f9c74f",
           "#f9844a",
           "#f8961e",
           "#f3722c",
           "#f94144",
           "#a8dce2",
           "#b3bfc9",
           "#a8cfc9",
           "#a8dfd2",
           "#d2e8c0",
           "#fde7a6",
           "#f9cfbd",
           "#fbd3a7",
           "#f9b39c",
           "#f9a3a5"
          ],
          "font": {
           "color": "rgb(51,51,51)"
          },
          "geo": {
           "bgcolor": "white",
           "lakecolor": "white",
           "landcolor": "rgb(237,237,237)",
           "showlakes": true,
           "showland": true,
           "subunitcolor": "white"
          },
          "hoverlabel": {
           "align": "left"
          },
          "hovermode": "closest",
          "paper_bgcolor": "rgba(0,0,0,0)",
          "plot_bgcolor": "rgba(0,0,0,0)",
          "polar": {
           "angularaxis": {
            "gridcolor": "white",
            "linecolor": "white",
            "showgrid": true,
            "tickcolor": "rgb(51,51,51)",
            "ticks": "outside"
           },
           "bgcolor": "rgb(237,237,237)",
           "radialaxis": {
            "gridcolor": "white",
            "linecolor": "white",
            "showgrid": true,
            "tickcolor": "rgb(51,51,51)",
            "ticks": "outside"
           }
          },
          "scene": {
           "xaxis": {
            "backgroundcolor": "rgb(237,237,237)",
            "gridcolor": "white",
            "gridwidth": 2,
            "linecolor": "white",
            "showbackground": true,
            "showgrid": true,
            "tickcolor": "rgb(51,51,51)",
            "ticks": "outside",
            "zerolinecolor": "white"
           },
           "yaxis": {
            "backgroundcolor": "rgb(237,237,237)",
            "gridcolor": "white",
            "gridwidth": 2,
            "linecolor": "white",
            "showbackground": true,
            "showgrid": true,
            "tickcolor": "rgb(51,51,51)",
            "ticks": "outside",
            "zerolinecolor": "white"
           },
           "zaxis": {
            "backgroundcolor": "rgb(237,237,237)",
            "gridcolor": "white",
            "gridwidth": 2,
            "linecolor": "white",
            "showbackground": true,
            "showgrid": true,
            "tickcolor": "rgb(51,51,51)",
            "ticks": "outside",
            "zerolinecolor": "white"
           }
          },
          "shapedefaults": {
           "fillcolor": "black",
           "line": {
            "width": 0
           },
           "opacity": 0.3
          },
          "ternary": {
           "aaxis": {
            "gridcolor": "white",
            "linecolor": "white",
            "showgrid": true,
            "tickcolor": "rgb(51,51,51)",
            "ticks": "outside"
           },
           "baxis": {
            "gridcolor": "white",
            "linecolor": "white",
            "showgrid": true,
            "tickcolor": "rgb(51,51,51)",
            "ticks": "outside"
           },
           "bgcolor": "rgb(237,237,237)",
           "caxis": {
            "gridcolor": "white",
            "linecolor": "white",
            "showgrid": true,
            "tickcolor": "rgb(51,51,51)",
            "ticks": "outside"
           }
          },
          "xaxis": {
           "automargin": true,
           "gridcolor": "white",
           "linecolor": "white",
           "showgrid": true,
           "tickcolor": "rgb(51,51,51)",
           "ticks": "outside",
           "title": {
            "standoff": 15
           },
           "zerolinecolor": "white"
          },
          "yaxis": {
           "automargin": true,
           "gridcolor": "white",
           "linecolor": "white",
           "showgrid": true,
           "tickcolor": "rgb(51,51,51)",
           "ticks": "outside",
           "title": {
            "standoff": 15
           },
           "zerolinecolor": "white"
          }
         }
        },
        "width": 800
       }
      }
     },
     "metadata": {},
     "output_type": "display_data"
    }
   ],
   "source": [
    "data = (\n",
    "    df[[\"exp-id\", \"physio-parameter\", \"physio-sensor-type\", \"physio-sensor-brand\"]]\n",
    "    .dropna()\n",
    "    .drop_duplicates(subset=[\"exp-id\", \"physio-parameter\"])\n",
    ")\n",
    "\n",
    "fig = px.sunburst(\n",
    "    data, path=[\"physio-parameter\", \"physio-sensor-type\", \"physio-sensor-brand\"], width=800, height=600, template=CHART_LAYOUT.template.value\n",
    ")\n",
    "\n",
    "fig.show()\n",
    "\n",
    "# TK: This is a cool graphic, much cooler even when interactive. For print, I wouldn't go too deep with the level of detail."
   ]
  },
  {
   "cell_type": "markdown",
   "metadata": {},
   "source": [
    "## Protocol"
   ]
  },
  {
   "cell_type": "code",
   "execution_count": 166,
   "metadata": {},
   "outputs": [
    {
     "data": {
      "application/vnd.plotly.v1+json": {
       "config": {
        "plotlyServerURL": "https://plot.ly"
       },
       "data": [
        {
         "alignmentgroup": "True",
         "hovertemplate": "Environmental Parameter=%{x}<br>Coverage Percentage [%]=%{y}<extra></extra>",
         "legendgroup": "",
         "marker": {
          "color": "#277da1",
          "pattern": {
           "shape": ""
          }
         },
         "name": "",
         "offsetgroup": "",
         "orientation": "v",
         "showlegend": false,
         "textposition": "auto",
         "type": "bar",
         "x": [
          "env-tdb",
          "env-rh",
          "env-v",
          "env-tg",
          "env-co2",
          "env-tsurface",
          "env-illuminance",
          "env-tout",
          "env-acoustics",
          "env-twb",
          "env-rhout",
          "env-solar-rad",
          "env-voc",
          "env-light-color"
         ],
         "xaxis": "x",
         "y": [
          94.1,
          84.1,
          65.5,
          49.5,
          17.7,
          11.4,
          11.4,
          5,
          4.5,
          2.7,
          2.7,
          2.7,
          1.4,
          0.9
         ],
         "yaxis": "y"
        }
       ],
       "layout": {
        "barmode": "relative",
        "legend": {
         "tracegroupgap": 0
        },
        "margin": {
         "t": 60
        },
        "template": {
         "data": {
          "bar": [
           {
            "error_x": {
             "color": "rgb(51,51,51)"
            },
            "error_y": {
             "color": "rgb(51,51,51)"
            },
            "marker": {
             "line": {
              "color": "rgb(237,237,237)",
              "width": 0.5
             },
             "pattern": {
              "fillmode": "overlay",
              "size": 10,
              "solidity": 0.2
             }
            },
            "type": "bar"
           }
          ],
          "barpolar": [
           {
            "marker": {
             "line": {
              "color": "rgb(237,237,237)",
              "width": 0.5
             },
             "pattern": {
              "fillmode": "overlay",
              "size": 10,
              "solidity": 0.2
             }
            },
            "type": "barpolar"
           }
          ],
          "carpet": [
           {
            "aaxis": {
             "endlinecolor": "rgb(51,51,51)",
             "gridcolor": "white",
             "linecolor": "white",
             "minorgridcolor": "white",
             "startlinecolor": "rgb(51,51,51)"
            },
            "baxis": {
             "endlinecolor": "rgb(51,51,51)",
             "gridcolor": "white",
             "linecolor": "white",
             "minorgridcolor": "white",
             "startlinecolor": "rgb(51,51,51)"
            },
            "type": "carpet"
           }
          ],
          "choropleth": [
           {
            "colorbar": {
             "outlinewidth": 0,
             "tickcolor": "rgb(237,237,237)",
             "ticklen": 6,
             "ticks": "inside"
            },
            "type": "choropleth"
           }
          ],
          "contour": [
           {
            "colorbar": {
             "outlinewidth": 0,
             "tickcolor": "rgb(237,237,237)",
             "ticklen": 6,
             "ticks": "inside"
            },
            "colorscale": [
             [
              0,
              "rgb(20,44,66)"
             ],
             [
              1,
              "rgb(90,179,244)"
             ]
            ],
            "type": "contour"
           }
          ],
          "contourcarpet": [
           {
            "colorbar": {
             "outlinewidth": 0,
             "tickcolor": "rgb(237,237,237)",
             "ticklen": 6,
             "ticks": "inside"
            },
            "type": "contourcarpet"
           }
          ],
          "heatmap": [
           {
            "colorbar": {
             "outlinewidth": 0,
             "tickcolor": "rgb(237,237,237)",
             "ticklen": 6,
             "ticks": "inside"
            },
            "colorscale": [
             [
              0,
              "rgb(20,44,66)"
             ],
             [
              1,
              "rgb(90,179,244)"
             ]
            ],
            "type": "heatmap"
           }
          ],
          "heatmapgl": [
           {
            "colorbar": {
             "outlinewidth": 0,
             "tickcolor": "rgb(237,237,237)",
             "ticklen": 6,
             "ticks": "inside"
            },
            "colorscale": [
             [
              0,
              "rgb(20,44,66)"
             ],
             [
              1,
              "rgb(90,179,244)"
             ]
            ],
            "type": "heatmapgl"
           }
          ],
          "histogram": [
           {
            "marker": {
             "pattern": {
              "fillmode": "overlay",
              "size": 10,
              "solidity": 0.2
             }
            },
            "type": "histogram"
           }
          ],
          "histogram2d": [
           {
            "colorbar": {
             "outlinewidth": 0,
             "tickcolor": "rgb(237,237,237)",
             "ticklen": 6,
             "ticks": "inside"
            },
            "colorscale": [
             [
              0,
              "rgb(20,44,66)"
             ],
             [
              1,
              "rgb(90,179,244)"
             ]
            ],
            "type": "histogram2d"
           }
          ],
          "histogram2dcontour": [
           {
            "colorbar": {
             "outlinewidth": 0,
             "tickcolor": "rgb(237,237,237)",
             "ticklen": 6,
             "ticks": "inside"
            },
            "colorscale": [
             [
              0,
              "rgb(20,44,66)"
             ],
             [
              1,
              "rgb(90,179,244)"
             ]
            ],
            "type": "histogram2dcontour"
           }
          ],
          "mesh3d": [
           {
            "colorbar": {
             "outlinewidth": 0,
             "tickcolor": "rgb(237,237,237)",
             "ticklen": 6,
             "ticks": "inside"
            },
            "type": "mesh3d"
           }
          ],
          "parcoords": [
           {
            "line": {
             "colorbar": {
              "outlinewidth": 0,
              "tickcolor": "rgb(237,237,237)",
              "ticklen": 6,
              "ticks": "inside"
             }
            },
            "type": "parcoords"
           }
          ],
          "pie": [
           {
            "automargin": true,
            "type": "pie"
           }
          ],
          "scatter": [
           {
            "fillpattern": {
             "fillmode": "overlay",
             "size": 10,
             "solidity": 0.2
            },
            "type": "scatter"
           }
          ],
          "scatter3d": [
           {
            "line": {
             "colorbar": {
              "outlinewidth": 0,
              "tickcolor": "rgb(237,237,237)",
              "ticklen": 6,
              "ticks": "inside"
             }
            },
            "marker": {
             "colorbar": {
              "outlinewidth": 0,
              "tickcolor": "rgb(237,237,237)",
              "ticklen": 6,
              "ticks": "inside"
             }
            },
            "type": "scatter3d"
           }
          ],
          "scattercarpet": [
           {
            "marker": {
             "colorbar": {
              "outlinewidth": 0,
              "tickcolor": "rgb(237,237,237)",
              "ticklen": 6,
              "ticks": "inside"
             }
            },
            "type": "scattercarpet"
           }
          ],
          "scattergeo": [
           {
            "marker": {
             "colorbar": {
              "outlinewidth": 0,
              "tickcolor": "rgb(237,237,237)",
              "ticklen": 6,
              "ticks": "inside"
             }
            },
            "type": "scattergeo"
           }
          ],
          "scattergl": [
           {
            "marker": {
             "colorbar": {
              "outlinewidth": 0,
              "tickcolor": "rgb(237,237,237)",
              "ticklen": 6,
              "ticks": "inside"
             }
            },
            "type": "scattergl"
           }
          ],
          "scattermapbox": [
           {
            "marker": {
             "colorbar": {
              "outlinewidth": 0,
              "tickcolor": "rgb(237,237,237)",
              "ticklen": 6,
              "ticks": "inside"
             }
            },
            "type": "scattermapbox"
           }
          ],
          "scatterpolar": [
           {
            "marker": {
             "colorbar": {
              "outlinewidth": 0,
              "tickcolor": "rgb(237,237,237)",
              "ticklen": 6,
              "ticks": "inside"
             }
            },
            "type": "scatterpolar"
           }
          ],
          "scatterpolargl": [
           {
            "marker": {
             "colorbar": {
              "outlinewidth": 0,
              "tickcolor": "rgb(237,237,237)",
              "ticklen": 6,
              "ticks": "inside"
             }
            },
            "type": "scatterpolargl"
           }
          ],
          "scatterternary": [
           {
            "marker": {
             "colorbar": {
              "outlinewidth": 0,
              "tickcolor": "rgb(237,237,237)",
              "ticklen": 6,
              "ticks": "inside"
             }
            },
            "type": "scatterternary"
           }
          ],
          "surface": [
           {
            "colorbar": {
             "outlinewidth": 0,
             "tickcolor": "rgb(237,237,237)",
             "ticklen": 6,
             "ticks": "inside"
            },
            "colorscale": [
             [
              0,
              "rgb(20,44,66)"
             ],
             [
              1,
              "rgb(90,179,244)"
             ]
            ],
            "type": "surface"
           }
          ],
          "table": [
           {
            "cells": {
             "fill": {
              "color": "rgb(237,237,237)"
             },
             "line": {
              "color": "white"
             }
            },
            "header": {
             "fill": {
              "color": "rgb(217,217,217)"
             },
             "line": {
              "color": "white"
             }
            },
            "type": "table"
           }
          ]
         },
         "layout": {
          "annotationdefaults": {
           "arrowhead": 0,
           "arrowwidth": 1
          },
          "autotypenumbers": "strict",
          "coloraxis": {
           "colorbar": {
            "outlinewidth": 0,
            "tickcolor": "rgb(237,237,237)",
            "ticklen": 6,
            "ticks": "inside"
           }
          },
          "colorscale": {
           "sequential": [
            [
             0,
             "rgb(20,44,66)"
            ],
            [
             1,
             "rgb(90,179,244)"
            ]
           ],
           "sequentialminus": [
            [
             0,
             "rgb(20,44,66)"
            ],
            [
             1,
             "rgb(90,179,244)"
            ]
           ]
          },
          "colorway": [
           "#277da1",
           "#577590",
           "#4d908e",
           "#43aa8b",
           "#90be6d",
           "#f9c74f",
           "#f9844a",
           "#f8961e",
           "#f3722c",
           "#f94144",
           "#a8dce2",
           "#b3bfc9",
           "#a8cfc9",
           "#a8dfd2",
           "#d2e8c0",
           "#fde7a6",
           "#f9cfbd",
           "#fbd3a7",
           "#f9b39c",
           "#f9a3a5"
          ],
          "font": {
           "color": "rgb(51,51,51)"
          },
          "geo": {
           "bgcolor": "white",
           "lakecolor": "white",
           "landcolor": "rgb(237,237,237)",
           "showlakes": true,
           "showland": true,
           "subunitcolor": "white"
          },
          "hoverlabel": {
           "align": "left"
          },
          "hovermode": "closest",
          "paper_bgcolor": "rgba(0,0,0,0)",
          "plot_bgcolor": "rgba(0,0,0,0)",
          "polar": {
           "angularaxis": {
            "gridcolor": "white",
            "linecolor": "white",
            "showgrid": true,
            "tickcolor": "rgb(51,51,51)",
            "ticks": "outside"
           },
           "bgcolor": "rgb(237,237,237)",
           "radialaxis": {
            "gridcolor": "white",
            "linecolor": "white",
            "showgrid": true,
            "tickcolor": "rgb(51,51,51)",
            "ticks": "outside"
           }
          },
          "scene": {
           "xaxis": {
            "backgroundcolor": "rgb(237,237,237)",
            "gridcolor": "white",
            "gridwidth": 2,
            "linecolor": "white",
            "showbackground": true,
            "showgrid": true,
            "tickcolor": "rgb(51,51,51)",
            "ticks": "outside",
            "zerolinecolor": "white"
           },
           "yaxis": {
            "backgroundcolor": "rgb(237,237,237)",
            "gridcolor": "white",
            "gridwidth": 2,
            "linecolor": "white",
            "showbackground": true,
            "showgrid": true,
            "tickcolor": "rgb(51,51,51)",
            "ticks": "outside",
            "zerolinecolor": "white"
           },
           "zaxis": {
            "backgroundcolor": "rgb(237,237,237)",
            "gridcolor": "white",
            "gridwidth": 2,
            "linecolor": "white",
            "showbackground": true,
            "showgrid": true,
            "tickcolor": "rgb(51,51,51)",
            "ticks": "outside",
            "zerolinecolor": "white"
           }
          },
          "shapedefaults": {
           "fillcolor": "black",
           "line": {
            "width": 0
           },
           "opacity": 0.3
          },
          "ternary": {
           "aaxis": {
            "gridcolor": "white",
            "linecolor": "white",
            "showgrid": true,
            "tickcolor": "rgb(51,51,51)",
            "ticks": "outside"
           },
           "baxis": {
            "gridcolor": "white",
            "linecolor": "white",
            "showgrid": true,
            "tickcolor": "rgb(51,51,51)",
            "ticks": "outside"
           },
           "bgcolor": "rgb(237,237,237)",
           "caxis": {
            "gridcolor": "white",
            "linecolor": "white",
            "showgrid": true,
            "tickcolor": "rgb(51,51,51)",
            "ticks": "outside"
           }
          },
          "xaxis": {
           "automargin": true,
           "gridcolor": "white",
           "linecolor": "white",
           "showgrid": true,
           "tickcolor": "rgb(51,51,51)",
           "ticks": "outside",
           "title": {
            "standoff": 15
           },
           "zerolinecolor": "white"
          },
          "yaxis": {
           "automargin": true,
           "gridcolor": "white",
           "linecolor": "white",
           "showgrid": true,
           "tickcolor": "rgb(51,51,51)",
           "ticks": "outside",
           "title": {
            "standoff": 15
           },
           "zerolinecolor": "white"
          }
         }
        },
        "xaxis": {
         "anchor": "y",
         "domain": [
          0,
          1
         ],
         "title": {
          "text": "Environmental Parameter"
         }
        },
        "yaxis": {
         "anchor": "x",
         "domain": [
          0,
          1
         ],
         "title": {
          "text": "Coverage Percentage [%]"
         }
        }
       }
      }
     },
     "metadata": {},
     "output_type": "display_data"
    }
   ],
   "source": [
    "# filter columns that start with \"env-\"\n",
    "env_columns = [col for col in unique_studies.columns if col.startswith(\"env-\")]\n",
    "env_df = unique_studies[env_columns]\n",
    "\n",
    "env_coverage = env_df.notna().mean() * 100\n",
    "env_coverage_df = env_coverage.round(1).reset_index()\n",
    "env_coverage_df.columns = [\"environment_parameter\", \"coverage_percentage\"]\n",
    "\n",
    "env_coverage_df = env_coverage_df.sort_values(\"coverage_percentage\", ascending=False)\n",
    "\n",
    "fig = px.bar(\n",
    "    env_coverage_df,\n",
    "    y=\"coverage_percentage\",\n",
    "    x=\"environment_parameter\",\n",
    "    labels={\n",
    "        \"coverage_percentage\": \"Coverage Percentage [%]\",\n",
    "        \"environment_parameter\": \"Environmental Parameter\"\n",
    "    },\n",
    "    template=CHART_LAYOUT.template.value\n",
    ")\n",
    "\n",
    "fig.show()"
   ]
  },
  {
   "cell_type": "code",
   "execution_count": 180,
   "metadata": {},
   "outputs": [
    {
     "data": {
      "application/vnd.plotly.v1+json": {
       "config": {
        "plotlyServerURL": "https://plot.ly"
       },
       "data": [
        {
         "alignmentgroup": "True",
         "hovertemplate": "Session length [min]=%{y}<extra></extra>",
         "legendgroup": "",
         "marker": {
          "color": "#277da1"
         },
         "name": "",
         "notched": false,
         "offsetgroup": "",
         "orientation": "v",
         "showlegend": false,
         "type": "box",
         "x0": " ",
         "xaxis": "x",
         "y": [
          180,
          null,
          480,
          60,
          40,
          120,
          60,
          80,
          130,
          120,
          120,
          null,
          40,
          140,
          104,
          65,
          34,
          110,
          60,
          90,
          170,
          150,
          120,
          90,
          60,
          60,
          1440,
          5,
          20,
          80,
          120,
          60,
          50,
          150,
          75,
          150,
          70,
          120,
          60,
          null,
          40,
          120,
          60,
          90,
          150,
          45,
          140,
          45,
          110,
          240,
          20,
          150,
          175,
          140,
          180,
          120,
          150,
          1440,
          40,
          180,
          30,
          120,
          130,
          30,
          20,
          40,
          null,
          5,
          60,
          60,
          40,
          100,
          75,
          75,
          90,
          50,
          80,
          195,
          90,
          90,
          90,
          55,
          210,
          150,
          30,
          10,
          40,
          null,
          75,
          70,
          120,
          25,
          510,
          60,
          180,
          60,
          30,
          480,
          65,
          175,
          50,
          40,
          150,
          40,
          100,
          null,
          120,
          null,
          120,
          180,
          40,
          null,
          40,
          40,
          45,
          450,
          120,
          60,
          25,
          30,
          20,
          60,
          70,
          90,
          78,
          90,
          100,
          65,
          150,
          null,
          60,
          30,
          50,
          480,
          90,
          null,
          null,
          175,
          100,
          50,
          60,
          50,
          40,
          240,
          60,
          75,
          120,
          25,
          110,
          105,
          150,
          90,
          150,
          120,
          90,
          120,
          105,
          60,
          180,
          60,
          70,
          30,
          80,
          90,
          null,
          180,
          80,
          60,
          40,
          95,
          null,
          20,
          120,
          60,
          90,
          null,
          187,
          70,
          90,
          130,
          null,
          70,
          180,
          135,
          55,
          null,
          70,
          360,
          150,
          60,
          120,
          70,
          105,
          190,
          160,
          90,
          null,
          135,
          90,
          60,
          210,
          30,
          null,
          null,
          250,
          60,
          135,
          35,
          180,
          540,
          60,
          165,
          null,
          120,
          120,
          40,
          60,
          60,
          null,
          90
         ],
         "y0": " ",
         "yaxis": "y"
        }
       ],
       "layout": {
        "boxmode": "group",
        "height": 400,
        "legend": {
         "tracegroupgap": 0
        },
        "margin": {
         "t": 60
        },
        "template": {
         "data": {
          "bar": [
           {
            "error_x": {
             "color": "rgb(51,51,51)"
            },
            "error_y": {
             "color": "rgb(51,51,51)"
            },
            "marker": {
             "line": {
              "color": "rgb(237,237,237)",
              "width": 0.5
             },
             "pattern": {
              "fillmode": "overlay",
              "size": 10,
              "solidity": 0.2
             }
            },
            "type": "bar"
           }
          ],
          "barpolar": [
           {
            "marker": {
             "line": {
              "color": "rgb(237,237,237)",
              "width": 0.5
             },
             "pattern": {
              "fillmode": "overlay",
              "size": 10,
              "solidity": 0.2
             }
            },
            "type": "barpolar"
           }
          ],
          "carpet": [
           {
            "aaxis": {
             "endlinecolor": "rgb(51,51,51)",
             "gridcolor": "white",
             "linecolor": "white",
             "minorgridcolor": "white",
             "startlinecolor": "rgb(51,51,51)"
            },
            "baxis": {
             "endlinecolor": "rgb(51,51,51)",
             "gridcolor": "white",
             "linecolor": "white",
             "minorgridcolor": "white",
             "startlinecolor": "rgb(51,51,51)"
            },
            "type": "carpet"
           }
          ],
          "choropleth": [
           {
            "colorbar": {
             "outlinewidth": 0,
             "tickcolor": "rgb(237,237,237)",
             "ticklen": 6,
             "ticks": "inside"
            },
            "type": "choropleth"
           }
          ],
          "contour": [
           {
            "colorbar": {
             "outlinewidth": 0,
             "tickcolor": "rgb(237,237,237)",
             "ticklen": 6,
             "ticks": "inside"
            },
            "colorscale": [
             [
              0,
              "rgb(20,44,66)"
             ],
             [
              1,
              "rgb(90,179,244)"
             ]
            ],
            "type": "contour"
           }
          ],
          "contourcarpet": [
           {
            "colorbar": {
             "outlinewidth": 0,
             "tickcolor": "rgb(237,237,237)",
             "ticklen": 6,
             "ticks": "inside"
            },
            "type": "contourcarpet"
           }
          ],
          "heatmap": [
           {
            "colorbar": {
             "outlinewidth": 0,
             "tickcolor": "rgb(237,237,237)",
             "ticklen": 6,
             "ticks": "inside"
            },
            "colorscale": [
             [
              0,
              "rgb(20,44,66)"
             ],
             [
              1,
              "rgb(90,179,244)"
             ]
            ],
            "type": "heatmap"
           }
          ],
          "heatmapgl": [
           {
            "colorbar": {
             "outlinewidth": 0,
             "tickcolor": "rgb(237,237,237)",
             "ticklen": 6,
             "ticks": "inside"
            },
            "colorscale": [
             [
              0,
              "rgb(20,44,66)"
             ],
             [
              1,
              "rgb(90,179,244)"
             ]
            ],
            "type": "heatmapgl"
           }
          ],
          "histogram": [
           {
            "marker": {
             "pattern": {
              "fillmode": "overlay",
              "size": 10,
              "solidity": 0.2
             }
            },
            "type": "histogram"
           }
          ],
          "histogram2d": [
           {
            "colorbar": {
             "outlinewidth": 0,
             "tickcolor": "rgb(237,237,237)",
             "ticklen": 6,
             "ticks": "inside"
            },
            "colorscale": [
             [
              0,
              "rgb(20,44,66)"
             ],
             [
              1,
              "rgb(90,179,244)"
             ]
            ],
            "type": "histogram2d"
           }
          ],
          "histogram2dcontour": [
           {
            "colorbar": {
             "outlinewidth": 0,
             "tickcolor": "rgb(237,237,237)",
             "ticklen": 6,
             "ticks": "inside"
            },
            "colorscale": [
             [
              0,
              "rgb(20,44,66)"
             ],
             [
              1,
              "rgb(90,179,244)"
             ]
            ],
            "type": "histogram2dcontour"
           }
          ],
          "mesh3d": [
           {
            "colorbar": {
             "outlinewidth": 0,
             "tickcolor": "rgb(237,237,237)",
             "ticklen": 6,
             "ticks": "inside"
            },
            "type": "mesh3d"
           }
          ],
          "parcoords": [
           {
            "line": {
             "colorbar": {
              "outlinewidth": 0,
              "tickcolor": "rgb(237,237,237)",
              "ticklen": 6,
              "ticks": "inside"
             }
            },
            "type": "parcoords"
           }
          ],
          "pie": [
           {
            "automargin": true,
            "type": "pie"
           }
          ],
          "scatter": [
           {
            "fillpattern": {
             "fillmode": "overlay",
             "size": 10,
             "solidity": 0.2
            },
            "type": "scatter"
           }
          ],
          "scatter3d": [
           {
            "line": {
             "colorbar": {
              "outlinewidth": 0,
              "tickcolor": "rgb(237,237,237)",
              "ticklen": 6,
              "ticks": "inside"
             }
            },
            "marker": {
             "colorbar": {
              "outlinewidth": 0,
              "tickcolor": "rgb(237,237,237)",
              "ticklen": 6,
              "ticks": "inside"
             }
            },
            "type": "scatter3d"
           }
          ],
          "scattercarpet": [
           {
            "marker": {
             "colorbar": {
              "outlinewidth": 0,
              "tickcolor": "rgb(237,237,237)",
              "ticklen": 6,
              "ticks": "inside"
             }
            },
            "type": "scattercarpet"
           }
          ],
          "scattergeo": [
           {
            "marker": {
             "colorbar": {
              "outlinewidth": 0,
              "tickcolor": "rgb(237,237,237)",
              "ticklen": 6,
              "ticks": "inside"
             }
            },
            "type": "scattergeo"
           }
          ],
          "scattergl": [
           {
            "marker": {
             "colorbar": {
              "outlinewidth": 0,
              "tickcolor": "rgb(237,237,237)",
              "ticklen": 6,
              "ticks": "inside"
             }
            },
            "type": "scattergl"
           }
          ],
          "scattermapbox": [
           {
            "marker": {
             "colorbar": {
              "outlinewidth": 0,
              "tickcolor": "rgb(237,237,237)",
              "ticklen": 6,
              "ticks": "inside"
             }
            },
            "type": "scattermapbox"
           }
          ],
          "scatterpolar": [
           {
            "marker": {
             "colorbar": {
              "outlinewidth": 0,
              "tickcolor": "rgb(237,237,237)",
              "ticklen": 6,
              "ticks": "inside"
             }
            },
            "type": "scatterpolar"
           }
          ],
          "scatterpolargl": [
           {
            "marker": {
             "colorbar": {
              "outlinewidth": 0,
              "tickcolor": "rgb(237,237,237)",
              "ticklen": 6,
              "ticks": "inside"
             }
            },
            "type": "scatterpolargl"
           }
          ],
          "scatterternary": [
           {
            "marker": {
             "colorbar": {
              "outlinewidth": 0,
              "tickcolor": "rgb(237,237,237)",
              "ticklen": 6,
              "ticks": "inside"
             }
            },
            "type": "scatterternary"
           }
          ],
          "surface": [
           {
            "colorbar": {
             "outlinewidth": 0,
             "tickcolor": "rgb(237,237,237)",
             "ticklen": 6,
             "ticks": "inside"
            },
            "colorscale": [
             [
              0,
              "rgb(20,44,66)"
             ],
             [
              1,
              "rgb(90,179,244)"
             ]
            ],
            "type": "surface"
           }
          ],
          "table": [
           {
            "cells": {
             "fill": {
              "color": "rgb(237,237,237)"
             },
             "line": {
              "color": "white"
             }
            },
            "header": {
             "fill": {
              "color": "rgb(217,217,217)"
             },
             "line": {
              "color": "white"
             }
            },
            "type": "table"
           }
          ]
         },
         "layout": {
          "annotationdefaults": {
           "arrowhead": 0,
           "arrowwidth": 1
          },
          "autotypenumbers": "strict",
          "coloraxis": {
           "colorbar": {
            "outlinewidth": 0,
            "tickcolor": "rgb(237,237,237)",
            "ticklen": 6,
            "ticks": "inside"
           }
          },
          "colorscale": {
           "sequential": [
            [
             0,
             "rgb(20,44,66)"
            ],
            [
             1,
             "rgb(90,179,244)"
            ]
           ],
           "sequentialminus": [
            [
             0,
             "rgb(20,44,66)"
            ],
            [
             1,
             "rgb(90,179,244)"
            ]
           ]
          },
          "colorway": [
           "#277da1",
           "#577590",
           "#4d908e",
           "#43aa8b",
           "#90be6d",
           "#f9c74f",
           "#f9844a",
           "#f8961e",
           "#f3722c",
           "#f94144",
           "#a8dce2",
           "#b3bfc9",
           "#a8cfc9",
           "#a8dfd2",
           "#d2e8c0",
           "#fde7a6",
           "#f9cfbd",
           "#fbd3a7",
           "#f9b39c",
           "#f9a3a5"
          ],
          "font": {
           "color": "rgb(51,51,51)"
          },
          "geo": {
           "bgcolor": "white",
           "lakecolor": "white",
           "landcolor": "rgb(237,237,237)",
           "showlakes": true,
           "showland": true,
           "subunitcolor": "white"
          },
          "hoverlabel": {
           "align": "left"
          },
          "hovermode": "closest",
          "paper_bgcolor": "rgba(0,0,0,0)",
          "plot_bgcolor": "rgba(0,0,0,0)",
          "polar": {
           "angularaxis": {
            "gridcolor": "white",
            "linecolor": "white",
            "showgrid": true,
            "tickcolor": "rgb(51,51,51)",
            "ticks": "outside"
           },
           "bgcolor": "rgb(237,237,237)",
           "radialaxis": {
            "gridcolor": "white",
            "linecolor": "white",
            "showgrid": true,
            "tickcolor": "rgb(51,51,51)",
            "ticks": "outside"
           }
          },
          "scene": {
           "xaxis": {
            "backgroundcolor": "rgb(237,237,237)",
            "gridcolor": "white",
            "gridwidth": 2,
            "linecolor": "white",
            "showbackground": true,
            "showgrid": true,
            "tickcolor": "rgb(51,51,51)",
            "ticks": "outside",
            "zerolinecolor": "white"
           },
           "yaxis": {
            "backgroundcolor": "rgb(237,237,237)",
            "gridcolor": "white",
            "gridwidth": 2,
            "linecolor": "white",
            "showbackground": true,
            "showgrid": true,
            "tickcolor": "rgb(51,51,51)",
            "ticks": "outside",
            "zerolinecolor": "white"
           },
           "zaxis": {
            "backgroundcolor": "rgb(237,237,237)",
            "gridcolor": "white",
            "gridwidth": 2,
            "linecolor": "white",
            "showbackground": true,
            "showgrid": true,
            "tickcolor": "rgb(51,51,51)",
            "ticks": "outside",
            "zerolinecolor": "white"
           }
          },
          "shapedefaults": {
           "fillcolor": "black",
           "line": {
            "width": 0
           },
           "opacity": 0.3
          },
          "ternary": {
           "aaxis": {
            "gridcolor": "white",
            "linecolor": "white",
            "showgrid": true,
            "tickcolor": "rgb(51,51,51)",
            "ticks": "outside"
           },
           "baxis": {
            "gridcolor": "white",
            "linecolor": "white",
            "showgrid": true,
            "tickcolor": "rgb(51,51,51)",
            "ticks": "outside"
           },
           "bgcolor": "rgb(237,237,237)",
           "caxis": {
            "gridcolor": "white",
            "linecolor": "white",
            "showgrid": true,
            "tickcolor": "rgb(51,51,51)",
            "ticks": "outside"
           }
          },
          "xaxis": {
           "automargin": true,
           "gridcolor": "white",
           "linecolor": "white",
           "showgrid": true,
           "tickcolor": "rgb(51,51,51)",
           "ticks": "outside",
           "title": {
            "standoff": 15
           },
           "zerolinecolor": "white"
          },
          "yaxis": {
           "automargin": true,
           "gridcolor": "white",
           "linecolor": "white",
           "showgrid": true,
           "tickcolor": "rgb(51,51,51)",
           "ticks": "outside",
           "title": {
            "standoff": 15
           },
           "zerolinecolor": "white"
          }
         }
        },
        "width": 800,
        "xaxis": {
         "anchor": "y",
         "domain": [
          0,
          1
         ]
        },
        "yaxis": {
         "anchor": "x",
         "domain": [
          0,
          1
         ],
         "title": {
          "text": "Session length [min]"
         }
        }
       }
      }
     },
     "metadata": {},
     "output_type": "display_data"
    }
   ],
   "source": [
    "df = unique_studies\n",
    "\n",
    "df[\"session-length\"] = pd.to_numeric(df[\"session-length\"], errors='coerce')\n",
    "\n",
    "fig = px.box(\n",
    "    df,\n",
    "    y=\"session-length\",\n",
    "    labels={\n",
    "        \"session-length\": \"Session length [min]\",\n",
    "    },\n",
    "    width=800,\n",
    "    height=400,\n",
    "    template=CHART_LAYOUT.template.value\n",
    ")\n",
    "\n",
    "fig.show()\n",
    "\n",
    "# TK: How do we treat outliers like this? It skews the visualization a lot."
   ]
  },
  {
   "cell_type": "code",
   "execution_count": null,
   "metadata": {},
   "outputs": [
    {
     "data": {
      "application/vnd.plotly.v1+json": {
       "config": {
        "plotlyServerURL": "https://plot.ly"
       },
       "data": [
        {
         "alignmentgroup": "True",
         "hovertemplate": "normalisation-length=%{y}<extra></extra>",
         "legendgroup": "",
         "marker": {
          "color": "#277da1"
         },
         "name": "",
         "notched": false,
         "offsetgroup": "",
         "orientation": "v",
         "showlegend": false,
         "type": "box",
         "x0": " ",
         "xaxis": "x",
         "y": [
          30,
          40,
          60,
          30,
          30,
          120,
          30,
          0,
          40,
          null,
          60,
          30,
          20,
          40,
          null,
          null,
          10,
          30,
          45,
          30,
          120,
          30,
          30,
          30,
          15,
          10,
          null,
          15,
          15,
          10,
          20,
          30,
          20,
          30,
          15,
          30,
          5,
          null,
          60,
          null,
          10,
          15,
          30,
          30,
          30,
          20,
          40,
          15,
          30,
          60,
          30,
          30,
          30,
          20,
          null,
          30,
          30,
          null,
          20,
          30,
          10,
          10,
          20,
          15,
          30,
          25,
          null,
          15,
          20,
          30,
          30,
          10,
          15,
          null,
          null,
          30,
          60,
          40,
          40,
          30,
          50,
          20,
          30,
          30,
          10,
          10,
          20,
          10,
          30,
          20,
          30,
          null,
          30,
          30,
          30,
          30,
          30,
          null,
          5,
          30,
          10,
          null,
          30,
          5,
          30,
          null,
          10,
          null,
          60,
          30,
          30,
          null,
          15,
          30,
          20,
          30,
          15,
          30,
          null,
          30,
          5,
          null,
          20,
          30,
          45,
          45,
          null,
          15,
          30,
          20,
          30,
          10,
          null,
          null,
          30,
          null,
          null,
          30,
          30,
          20,
          6,
          null,
          10,
          20,
          30,
          45,
          null,
          20,
          10,
          20,
          null,
          30,
          15,
          30,
          45,
          null,
          30,
          30,
          15,
          null,
          30,
          null,
          40,
          30,
          null,
          10,
          20,
          60,
          15,
          30,
          null,
          20,
          null,
          null,
          30,
          null,
          33,
          20,
          30,
          30,
          null,
          30,
          30,
          15,
          null,
          null,
          20,
          null,
          30,
          30,
          null,
          60,
          30,
          15,
          null,
          10,
          null,
          15,
          10,
          30,
          30,
          15,
          null,
          null,
          null,
          30,
          15,
          5,
          null,
          null,
          30,
          45,
          15,
          20,
          30,
          null,
          30,
          30,
          30,
          30
         ],
         "y0": " ",
         "yaxis": "y"
        }
       ],
       "layout": {
        "boxmode": "group",
        "height": 400,
        "legend": {
         "tracegroupgap": 0
        },
        "margin": {
         "t": 60
        },
        "template": {
         "data": {
          "bar": [
           {
            "error_x": {
             "color": "rgb(51,51,51)"
            },
            "error_y": {
             "color": "rgb(51,51,51)"
            },
            "marker": {
             "line": {
              "color": "rgb(237,237,237)",
              "width": 0.5
             },
             "pattern": {
              "fillmode": "overlay",
              "size": 10,
              "solidity": 0.2
             }
            },
            "type": "bar"
           }
          ],
          "barpolar": [
           {
            "marker": {
             "line": {
              "color": "rgb(237,237,237)",
              "width": 0.5
             },
             "pattern": {
              "fillmode": "overlay",
              "size": 10,
              "solidity": 0.2
             }
            },
            "type": "barpolar"
           }
          ],
          "carpet": [
           {
            "aaxis": {
             "endlinecolor": "rgb(51,51,51)",
             "gridcolor": "white",
             "linecolor": "white",
             "minorgridcolor": "white",
             "startlinecolor": "rgb(51,51,51)"
            },
            "baxis": {
             "endlinecolor": "rgb(51,51,51)",
             "gridcolor": "white",
             "linecolor": "white",
             "minorgridcolor": "white",
             "startlinecolor": "rgb(51,51,51)"
            },
            "type": "carpet"
           }
          ],
          "choropleth": [
           {
            "colorbar": {
             "outlinewidth": 0,
             "tickcolor": "rgb(237,237,237)",
             "ticklen": 6,
             "ticks": "inside"
            },
            "type": "choropleth"
           }
          ],
          "contour": [
           {
            "colorbar": {
             "outlinewidth": 0,
             "tickcolor": "rgb(237,237,237)",
             "ticklen": 6,
             "ticks": "inside"
            },
            "colorscale": [
             [
              0,
              "rgb(20,44,66)"
             ],
             [
              1,
              "rgb(90,179,244)"
             ]
            ],
            "type": "contour"
           }
          ],
          "contourcarpet": [
           {
            "colorbar": {
             "outlinewidth": 0,
             "tickcolor": "rgb(237,237,237)",
             "ticklen": 6,
             "ticks": "inside"
            },
            "type": "contourcarpet"
           }
          ],
          "heatmap": [
           {
            "colorbar": {
             "outlinewidth": 0,
             "tickcolor": "rgb(237,237,237)",
             "ticklen": 6,
             "ticks": "inside"
            },
            "colorscale": [
             [
              0,
              "rgb(20,44,66)"
             ],
             [
              1,
              "rgb(90,179,244)"
             ]
            ],
            "type": "heatmap"
           }
          ],
          "heatmapgl": [
           {
            "colorbar": {
             "outlinewidth": 0,
             "tickcolor": "rgb(237,237,237)",
             "ticklen": 6,
             "ticks": "inside"
            },
            "colorscale": [
             [
              0,
              "rgb(20,44,66)"
             ],
             [
              1,
              "rgb(90,179,244)"
             ]
            ],
            "type": "heatmapgl"
           }
          ],
          "histogram": [
           {
            "marker": {
             "pattern": {
              "fillmode": "overlay",
              "size": 10,
              "solidity": 0.2
             }
            },
            "type": "histogram"
           }
          ],
          "histogram2d": [
           {
            "colorbar": {
             "outlinewidth": 0,
             "tickcolor": "rgb(237,237,237)",
             "ticklen": 6,
             "ticks": "inside"
            },
            "colorscale": [
             [
              0,
              "rgb(20,44,66)"
             ],
             [
              1,
              "rgb(90,179,244)"
             ]
            ],
            "type": "histogram2d"
           }
          ],
          "histogram2dcontour": [
           {
            "colorbar": {
             "outlinewidth": 0,
             "tickcolor": "rgb(237,237,237)",
             "ticklen": 6,
             "ticks": "inside"
            },
            "colorscale": [
             [
              0,
              "rgb(20,44,66)"
             ],
             [
              1,
              "rgb(90,179,244)"
             ]
            ],
            "type": "histogram2dcontour"
           }
          ],
          "mesh3d": [
           {
            "colorbar": {
             "outlinewidth": 0,
             "tickcolor": "rgb(237,237,237)",
             "ticklen": 6,
             "ticks": "inside"
            },
            "type": "mesh3d"
           }
          ],
          "parcoords": [
           {
            "line": {
             "colorbar": {
              "outlinewidth": 0,
              "tickcolor": "rgb(237,237,237)",
              "ticklen": 6,
              "ticks": "inside"
             }
            },
            "type": "parcoords"
           }
          ],
          "pie": [
           {
            "automargin": true,
            "type": "pie"
           }
          ],
          "scatter": [
           {
            "fillpattern": {
             "fillmode": "overlay",
             "size": 10,
             "solidity": 0.2
            },
            "type": "scatter"
           }
          ],
          "scatter3d": [
           {
            "line": {
             "colorbar": {
              "outlinewidth": 0,
              "tickcolor": "rgb(237,237,237)",
              "ticklen": 6,
              "ticks": "inside"
             }
            },
            "marker": {
             "colorbar": {
              "outlinewidth": 0,
              "tickcolor": "rgb(237,237,237)",
              "ticklen": 6,
              "ticks": "inside"
             }
            },
            "type": "scatter3d"
           }
          ],
          "scattercarpet": [
           {
            "marker": {
             "colorbar": {
              "outlinewidth": 0,
              "tickcolor": "rgb(237,237,237)",
              "ticklen": 6,
              "ticks": "inside"
             }
            },
            "type": "scattercarpet"
           }
          ],
          "scattergeo": [
           {
            "marker": {
             "colorbar": {
              "outlinewidth": 0,
              "tickcolor": "rgb(237,237,237)",
              "ticklen": 6,
              "ticks": "inside"
             }
            },
            "type": "scattergeo"
           }
          ],
          "scattergl": [
           {
            "marker": {
             "colorbar": {
              "outlinewidth": 0,
              "tickcolor": "rgb(237,237,237)",
              "ticklen": 6,
              "ticks": "inside"
             }
            },
            "type": "scattergl"
           }
          ],
          "scattermapbox": [
           {
            "marker": {
             "colorbar": {
              "outlinewidth": 0,
              "tickcolor": "rgb(237,237,237)",
              "ticklen": 6,
              "ticks": "inside"
             }
            },
            "type": "scattermapbox"
           }
          ],
          "scatterpolar": [
           {
            "marker": {
             "colorbar": {
              "outlinewidth": 0,
              "tickcolor": "rgb(237,237,237)",
              "ticklen": 6,
              "ticks": "inside"
             }
            },
            "type": "scatterpolar"
           }
          ],
          "scatterpolargl": [
           {
            "marker": {
             "colorbar": {
              "outlinewidth": 0,
              "tickcolor": "rgb(237,237,237)",
              "ticklen": 6,
              "ticks": "inside"
             }
            },
            "type": "scatterpolargl"
           }
          ],
          "scatterternary": [
           {
            "marker": {
             "colorbar": {
              "outlinewidth": 0,
              "tickcolor": "rgb(237,237,237)",
              "ticklen": 6,
              "ticks": "inside"
             }
            },
            "type": "scatterternary"
           }
          ],
          "surface": [
           {
            "colorbar": {
             "outlinewidth": 0,
             "tickcolor": "rgb(237,237,237)",
             "ticklen": 6,
             "ticks": "inside"
            },
            "colorscale": [
             [
              0,
              "rgb(20,44,66)"
             ],
             [
              1,
              "rgb(90,179,244)"
             ]
            ],
            "type": "surface"
           }
          ],
          "table": [
           {
            "cells": {
             "fill": {
              "color": "rgb(237,237,237)"
             },
             "line": {
              "color": "white"
             }
            },
            "header": {
             "fill": {
              "color": "rgb(217,217,217)"
             },
             "line": {
              "color": "white"
             }
            },
            "type": "table"
           }
          ]
         },
         "layout": {
          "annotationdefaults": {
           "arrowhead": 0,
           "arrowwidth": 1
          },
          "autotypenumbers": "strict",
          "coloraxis": {
           "colorbar": {
            "outlinewidth": 0,
            "tickcolor": "rgb(237,237,237)",
            "ticklen": 6,
            "ticks": "inside"
           }
          },
          "colorscale": {
           "sequential": [
            [
             0,
             "rgb(20,44,66)"
            ],
            [
             1,
             "rgb(90,179,244)"
            ]
           ],
           "sequentialminus": [
            [
             0,
             "rgb(20,44,66)"
            ],
            [
             1,
             "rgb(90,179,244)"
            ]
           ]
          },
          "colorway": [
           "#277da1",
           "#577590",
           "#4d908e",
           "#43aa8b",
           "#90be6d",
           "#f9c74f",
           "#f9844a",
           "#f8961e",
           "#f3722c",
           "#f94144",
           "#a8dce2",
           "#b3bfc9",
           "#a8cfc9",
           "#a8dfd2",
           "#d2e8c0",
           "#fde7a6",
           "#f9cfbd",
           "#fbd3a7",
           "#f9b39c",
           "#f9a3a5"
          ],
          "font": {
           "color": "rgb(51,51,51)"
          },
          "geo": {
           "bgcolor": "white",
           "lakecolor": "white",
           "landcolor": "rgb(237,237,237)",
           "showlakes": true,
           "showland": true,
           "subunitcolor": "white"
          },
          "hoverlabel": {
           "align": "left"
          },
          "hovermode": "closest",
          "paper_bgcolor": "rgba(0,0,0,0)",
          "plot_bgcolor": "rgba(0,0,0,0)",
          "polar": {
           "angularaxis": {
            "gridcolor": "white",
            "linecolor": "white",
            "showgrid": true,
            "tickcolor": "rgb(51,51,51)",
            "ticks": "outside"
           },
           "bgcolor": "rgb(237,237,237)",
           "radialaxis": {
            "gridcolor": "white",
            "linecolor": "white",
            "showgrid": true,
            "tickcolor": "rgb(51,51,51)",
            "ticks": "outside"
           }
          },
          "scene": {
           "xaxis": {
            "backgroundcolor": "rgb(237,237,237)",
            "gridcolor": "white",
            "gridwidth": 2,
            "linecolor": "white",
            "showbackground": true,
            "showgrid": true,
            "tickcolor": "rgb(51,51,51)",
            "ticks": "outside",
            "zerolinecolor": "white"
           },
           "yaxis": {
            "backgroundcolor": "rgb(237,237,237)",
            "gridcolor": "white",
            "gridwidth": 2,
            "linecolor": "white",
            "showbackground": true,
            "showgrid": true,
            "tickcolor": "rgb(51,51,51)",
            "ticks": "outside",
            "zerolinecolor": "white"
           },
           "zaxis": {
            "backgroundcolor": "rgb(237,237,237)",
            "gridcolor": "white",
            "gridwidth": 2,
            "linecolor": "white",
            "showbackground": true,
            "showgrid": true,
            "tickcolor": "rgb(51,51,51)",
            "ticks": "outside",
            "zerolinecolor": "white"
           }
          },
          "shapedefaults": {
           "fillcolor": "black",
           "line": {
            "width": 0
           },
           "opacity": 0.3
          },
          "ternary": {
           "aaxis": {
            "gridcolor": "white",
            "linecolor": "white",
            "showgrid": true,
            "tickcolor": "rgb(51,51,51)",
            "ticks": "outside"
           },
           "baxis": {
            "gridcolor": "white",
            "linecolor": "white",
            "showgrid": true,
            "tickcolor": "rgb(51,51,51)",
            "ticks": "outside"
           },
           "bgcolor": "rgb(237,237,237)",
           "caxis": {
            "gridcolor": "white",
            "linecolor": "white",
            "showgrid": true,
            "tickcolor": "rgb(51,51,51)",
            "ticks": "outside"
           }
          },
          "xaxis": {
           "automargin": true,
           "gridcolor": "white",
           "linecolor": "white",
           "showgrid": true,
           "tickcolor": "rgb(51,51,51)",
           "ticks": "outside",
           "title": {
            "standoff": 15
           },
           "zerolinecolor": "white"
          },
          "yaxis": {
           "automargin": true,
           "gridcolor": "white",
           "linecolor": "white",
           "showgrid": true,
           "tickcolor": "rgb(51,51,51)",
           "ticks": "outside",
           "title": {
            "standoff": 15
           },
           "zerolinecolor": "white"
          }
         }
        },
        "width": 800,
        "xaxis": {
         "anchor": "y",
         "domain": [
          0,
          1
         ],
         "title": {}
        },
        "yaxis": {
         "anchor": "x",
         "domain": [
          0,
          1
         ],
         "title": {
          "text": "Acclimatization time [min]"
         }
        }
       }
      }
     },
     "metadata": {},
     "output_type": "display_data"
    }
   ],
   "source": [
    "df = unique_studies\n",
    "df[\"normalisation-length\"] = pd.to_numeric(df[\"normalisation-length\"], errors='coerce')\n",
    "\n",
    "\n",
    "fig = px.box(\n",
    "    df,\n",
    "    y=\"normalisation-length\",\n",
    "    width=800,\n",
    "    height=400,\n",
    "    template=CHART_LAYOUT.template.value,\n",
    ")\n",
    "\n",
    "fig.update_layout(\n",
    "    xaxis_title=None,\n",
    "    yaxis_title=\"Acclimatization time [min]\",\n",
    ")\n",
    "\n",
    "fig.show()\n",
    "\n",
    "# TK: I guess there is a lot of \"NR\" for this, too?"
   ]
  },
  {
   "cell_type": "markdown",
   "metadata": {},
   "source": [
    "## Questionnaires"
   ]
  },
  {
   "cell_type": "code",
   "execution_count": null,
   "metadata": {},
   "outputs": [
    {
     "data": {
      "application/vnd.plotly.v1+json": {
       "config": {
        "plotlyServerURL": "https://plot.ly"
       },
       "data": [
        {
         "alignmentgroup": "True",
         "hovertemplate": "Response Value=13pt_(-3)(+3)<br>Comfort Questionnaire=%{x}<br>Coverage Percentage [%]=%{y}<extra></extra>",
         "legendgroup": "13pt_(-3)(+3)",
         "marker": {
          "color": "#277da1",
          "pattern": {
           "shape": ""
          }
         },
         "name": "13pt_(-3)(+3)",
         "offsetgroup": "13pt_(-3)(+3)",
         "orientation": "v",
         "showlegend": true,
         "textposition": "auto",
         "type": "bar",
         "x": [
          "ques-thermal-sensation"
         ],
         "xaxis": "x",
         "y": [
          0.45454545454545453
         ],
         "yaxis": "y"
        },
        {
         "alignmentgroup": "True",
         "hovertemplate": "Response Value=3pt_(cool)(warm)<br>Comfort Questionnaire=%{x}<br>Coverage Percentage [%]=%{y}<extra></extra>",
         "legendgroup": "3pt_(cool)(warm)",
         "marker": {
          "color": "#577590",
          "pattern": {
           "shape": ""
          }
         },
         "name": "3pt_(cool)(warm)",
         "offsetgroup": "3pt_(cool)(warm)",
         "orientation": "v",
         "showlegend": true,
         "textposition": "auto",
         "type": "bar",
         "x": [
          "ques-thermal-sensation"
         ],
         "xaxis": "x",
         "y": [
          0.45454545454545453
         ],
         "yaxis": "y"
        },
        {
         "alignmentgroup": "True",
         "hovertemplate": "Response Value=7pt_(-3)(+3)<br>Comfort Questionnaire=%{x}<br>Coverage Percentage [%]=%{y}<extra></extra>",
         "legendgroup": "7pt_(-3)(+3)",
         "marker": {
          "color": "#4d908e",
          "pattern": {
           "shape": ""
          }
         },
         "name": "7pt_(-3)(+3)",
         "offsetgroup": "7pt_(-3)(+3)",
         "orientation": "v",
         "showlegend": true,
         "textposition": "auto",
         "type": "bar",
         "x": [
          "ques-thermal-sensation",
          "ques-thermal-comfort",
          "ques-thermal-prefer",
          "ques-thermal-accept",
          "ques-humidity-sensation",
          "ques-thermal-satisfaction",
          "ques-iaq-accept",
          "ques-airmove-sensation",
          "ques-iaq-sensation",
          "ques-thermal-pleasure",
          "ques-acoustic-comfort",
          "ques-light-sensation",
          "ques-light-comfort",
          "ques-humidity-comfort",
          "ques-acoustic-sensation",
          "ques-iaq-comfort",
          "ques-visual-prefer",
          "ques-humidity-satisfaction",
          "ques-airmove-comfort"
         ],
         "xaxis": "x",
         "y": [
          65.9090909090909,
          11.363636363636365,
          5.909090909090909,
          1.3636363636363635,
          5.909090909090908,
          2.2727272727272725,
          0.45454545454545453,
          2.2727272727272725,
          0.909090909090909,
          1.818181818181818,
          0.9090909090909091,
          0.45454545454545453,
          0.4545454545454545,
          0.4545454545454545,
          0.45454545454545453,
          0.45454545454545453,
          0.45454545454545453,
          0.45454545454545453,
          0.45454545454545453
         ],
         "yaxis": "y"
        },
        {
         "alignmentgroup": "True",
         "hovertemplate": "Response Value=9pt_(-4)(+4)<br>Comfort Questionnaire=%{x}<br>Coverage Percentage [%]=%{y}<extra></extra>",
         "legendgroup": "9pt_(-4)(+4)",
         "marker": {
          "color": "#43aa8b",
          "pattern": {
           "shape": ""
          }
         },
         "name": "9pt_(-4)(+4)",
         "offsetgroup": "9pt_(-4)(+4)",
         "orientation": "v",
         "showlegend": true,
         "textposition": "auto",
         "type": "bar",
         "x": [
          "ques-thermal-sensation",
          "ques-thermal-comfort",
          "ques-thermal-pleasure"
         ],
         "xaxis": "x",
         "y": [
          11.363636363636363,
          0.4545454545454546,
          0.4545454545454545
         ],
         "yaxis": "y"
        },
        {
         "alignmentgroup": "True",
         "hovertemplate": "Response Value=5pt_(-2)(+2)<br>Comfort Questionnaire=%{x}<br>Coverage Percentage [%]=%{y}<extra></extra>",
         "legendgroup": "5pt_(-2)(+2)",
         "marker": {
          "color": "#90be6d",
          "pattern": {
           "shape": ""
          }
         },
         "name": "5pt_(-2)(+2)",
         "offsetgroup": "5pt_(-2)(+2)",
         "orientation": "v",
         "showlegend": true,
         "textposition": "auto",
         "type": "bar",
         "x": [
          "ques-thermal-sensation",
          "ques-thermal-comfort",
          "ques-thermal-accept",
          "ques-thermal-prefer",
          "ques-humidity-sensation",
          "ques-thermal-satisfaction",
          "ques-airmove-sensation",
          "ques-iaq-sensation",
          "ques-light-sensation",
          "ques-humidity-comfort",
          "ques-iaq-comfort",
          "ques-iaq-satisfaction",
          "ques-light-prefer"
         ],
         "xaxis": "x",
         "y": [
          2.2727272727272725,
          2.7272727272727275,
          0.9090909090909091,
          0.9090909090909091,
          0.4545454545454545,
          0.909090909090909,
          0.45454545454545453,
          0.4545454545454545,
          0.45454545454545453,
          0.4545454545454545,
          0.45454545454545453,
          0.45454545454545453,
          0.45454545454545453
         ],
         "yaxis": "y"
        },
        {
         "alignmentgroup": "True",
         "hovertemplate": "Response Value=NR<br>Comfort Questionnaire=%{x}<br>Coverage Percentage [%]=%{y}<extra></extra>",
         "legendgroup": "NR",
         "marker": {
          "color": "#f9c74f",
          "pattern": {
           "shape": ""
          }
         },
         "name": "NR",
         "offsetgroup": "NR",
         "orientation": "v",
         "showlegend": true,
         "textposition": "auto",
         "type": "bar",
         "x": [
          "ques-thermal-sensation",
          "ques-thermal-comfort",
          "ques-thermal-prefer",
          "ques-thermal-accept",
          "ques-thermal-satisfaction",
          "ques-sick-building-syndrome",
          "ques-iaq-accept",
          "ques-sweating-sensation",
          "ques-iaq-sensation",
          "ques-overall-satisfaction",
          "ques-shivering-rate",
          "ques-light-sensation",
          "ques-odour-intensity",
          "ques-light-comfort",
          "ques-overall-comfort"
         ],
         "xaxis": "x",
         "y": [
          2.2727272727272725,
          1.8181818181818183,
          0.45454545454545453,
          0.9090909090909091,
          0.4545454545454545,
          0.4545454545454546,
          0.45454545454545453,
          0.45454545454545453,
          0.4545454545454545,
          1.3636363636363635,
          0.4545454545454546,
          0.45454545454545453,
          0.4545454545454545,
          0.4545454545454545,
          0.4545454545454545
         ],
         "yaxis": "y"
        },
        {
         "alignmentgroup": "True",
         "hovertemplate": "Response Value=7pt_(1)(7)<br>Comfort Questionnaire=%{x}<br>Coverage Percentage [%]=%{y}<extra></extra>",
         "legendgroup": "7pt_(1)(7)",
         "marker": {
          "color": "#f9844a",
          "pattern": {
           "shape": ""
          }
         },
         "name": "7pt_(1)(7)",
         "offsetgroup": "7pt_(1)(7)",
         "orientation": "v",
         "showlegend": true,
         "textposition": "auto",
         "type": "bar",
         "x": [
          "ques-thermal-sensation"
         ],
         "xaxis": "x",
         "y": [
          0.45454545454545453
         ],
         "yaxis": "y"
        },
        {
         "alignmentgroup": "True",
         "hovertemplate": "Response Value=7pt_(+1)(+7)<br>Comfort Questionnaire=%{x}<br>Coverage Percentage [%]=%{y}<extra></extra>",
         "legendgroup": "7pt_(+1)(+7)",
         "marker": {
          "color": "#f8961e",
          "pattern": {
           "shape": ""
          }
         },
         "name": "7pt_(+1)(+7)",
         "offsetgroup": "7pt_(+1)(+7)",
         "orientation": "v",
         "showlegend": true,
         "textposition": "auto",
         "type": "bar",
         "x": [
          "ques-thermal-sensation",
          "ques-thermal-comfort",
          "ques-thermal-accept",
          "ques-sick-building-syndrome"
         ],
         "xaxis": "x",
         "y": [
          0.9090909090909091,
          0.4545454545454546,
          0.45454545454545453,
          0.4545454545454546
         ],
         "yaxis": "y"
        },
        {
         "alignmentgroup": "True",
         "hovertemplate": "Response Value=5pt(-2)(+2)<br>Comfort Questionnaire=%{x}<br>Coverage Percentage [%]=%{y}<extra></extra>",
         "legendgroup": "5pt(-2)(+2)",
         "marker": {
          "color": "#f3722c",
          "pattern": {
           "shape": ""
          }
         },
         "name": "5pt(-2)(+2)",
         "offsetgroup": "5pt(-2)(+2)",
         "orientation": "v",
         "showlegend": true,
         "textposition": "auto",
         "type": "bar",
         "x": [
          "ques-thermal-sensation",
          "ques-thermal-comfort",
          "ques-thermal-accept"
         ],
         "xaxis": "x",
         "y": [
          0.45454545454545453,
          0.4545454545454546,
          0.45454545454545453
         ],
         "yaxis": "y"
        },
        {
         "alignmentgroup": "True",
         "hovertemplate": "Response Value=6pt_(-0.5)(+3)<br>Comfort Questionnaire=%{x}<br>Coverage Percentage [%]=%{y}<extra></extra>",
         "legendgroup": "6pt_(-0.5)(+3)",
         "marker": {
          "color": "#f94144",
          "pattern": {
           "shape": ""
          }
         },
         "name": "6pt_(-0.5)(+3)",
         "offsetgroup": "6pt_(-0.5)(+3)",
         "orientation": "v",
         "showlegend": true,
         "textposition": "auto",
         "type": "bar",
         "x": [
          "ques-thermal-sensation",
          "ques-thermal-accept"
         ],
         "xaxis": "x",
         "y": [
          0.45454545454545453,
          0.45454545454545453
         ],
         "yaxis": "y"
        },
        {
         "alignmentgroup": "True",
         "hovertemplate": "Response Value=11pt_(0)(+10)<br>Comfort Questionnaire=%{x}<br>Coverage Percentage [%]=%{y}<extra></extra>",
         "legendgroup": "11pt_(0)(+10)",
         "marker": {
          "color": "#a8dce2",
          "pattern": {
           "shape": ""
          }
         },
         "name": "11pt_(0)(+10)",
         "offsetgroup": "11pt_(0)(+10)",
         "orientation": "v",
         "showlegend": true,
         "textposition": "auto",
         "type": "bar",
         "x": [
          "ques-thermal-sensation"
         ],
         "xaxis": "x",
         "y": [
          0.45454545454545453
         ],
         "yaxis": "y"
        },
        {
         "alignmentgroup": "True",
         "hovertemplate": "Response Value=9pt_(0)(8)<br>Comfort Questionnaire=%{x}<br>Coverage Percentage [%]=%{y}<extra></extra>",
         "legendgroup": "9pt_(0)(8)",
         "marker": {
          "color": "#b3bfc9",
          "pattern": {
           "shape": ""
          }
         },
         "name": "9pt_(0)(8)",
         "offsetgroup": "9pt_(0)(8)",
         "orientation": "v",
         "showlegend": true,
         "textposition": "auto",
         "type": "bar",
         "x": [
          "ques-thermal-sensation"
         ],
         "xaxis": "x",
         "y": [
          0.45454545454545453
         ],
         "yaxis": "y"
        },
        {
         "alignmentgroup": "True",
         "hovertemplate": "Response Value=VAS_(cold)(neutral)<br>Comfort Questionnaire=%{x}<br>Coverage Percentage [%]=%{y}<extra></extra>",
         "legendgroup": "VAS_(cold)(neutral)",
         "marker": {
          "color": "#a8cfc9",
          "pattern": {
           "shape": ""
          }
         },
         "name": "VAS_(cold)(neutral)",
         "offsetgroup": "VAS_(cold)(neutral)",
         "orientation": "v",
         "showlegend": true,
         "textposition": "auto",
         "type": "bar",
         "x": [
          "ques-thermal-sensation"
         ],
         "xaxis": "x",
         "y": [
          0.45454545454545453
         ],
         "yaxis": "y"
        },
        {
         "alignmentgroup": "True",
         "hovertemplate": "Response Value=8pt_(-3)(+3)<br>Comfort Questionnaire=%{x}<br>Coverage Percentage [%]=%{y}<extra></extra>",
         "legendgroup": "8pt_(-3)(+3)",
         "marker": {
          "color": "#a8dfd2",
          "pattern": {
           "shape": ""
          }
         },
         "name": "8pt_(-3)(+3)",
         "offsetgroup": "8pt_(-3)(+3)",
         "orientation": "v",
         "showlegend": true,
         "textposition": "auto",
         "type": "bar",
         "x": [
          "ques-thermal-comfort",
          "ques-thermal-accept"
         ],
         "xaxis": "x",
         "y": [
          0.4545454545454546,
          0.45454545454545453
         ],
         "yaxis": "y"
        },
        {
         "alignmentgroup": "True",
         "hovertemplate": "Response Value=6pt_(-2)(+2)<br>Comfort Questionnaire=%{x}<br>Coverage Percentage [%]=%{y}<extra></extra>",
         "legendgroup": "6pt_(-2)(+2)",
         "marker": {
          "color": "#d2e8c0",
          "pattern": {
           "shape": ""
          }
         },
         "name": "6pt_(-2)(+2)",
         "offsetgroup": "6pt_(-2)(+2)",
         "orientation": "v",
         "showlegend": true,
         "textposition": "auto",
         "type": "bar",
         "x": [
          "ques-thermal-comfort",
          "ques-thermal-accept",
          "ques-thermal-satisfaction",
          "ques-iaq-accept",
          "ques-acoustic-satisfaction",
          "ques-light-satisfaction"
         ],
         "xaxis": "x",
         "y": [
          7.727272727272728,
          0.45454545454545453,
          0.909090909090909,
          0.45454545454545453,
          0.45454545454545453,
          0.45454545454545453
         ],
         "yaxis": "y"
        },
        {
         "alignmentgroup": "True",
         "hovertemplate": "Response Value=4pt_(-2)(+2)<br>Comfort Questionnaire=%{x}<br>Coverage Percentage [%]=%{y}<extra></extra>",
         "legendgroup": "4pt_(-2)(+2)",
         "marker": {
          "color": "#fde7a6",
          "pattern": {
           "shape": ""
          }
         },
         "name": "4pt_(-2)(+2)",
         "offsetgroup": "4pt_(-2)(+2)",
         "orientation": "v",
         "showlegend": true,
         "textposition": "auto",
         "type": "bar",
         "x": [
          "ques-thermal-comfort",
          "ques-thermal-accept",
          "ques-iaq-accept"
         ],
         "xaxis": "x",
         "y": [
          0.4545454545454546,
          0.9090909090909091,
          0.45454545454545453
         ],
         "yaxis": "y"
        },
        {
         "alignmentgroup": "True",
         "hovertemplate": "Response Value=5pt_(-3)(+1)<br>Comfort Questionnaire=%{x}<br>Coverage Percentage [%]=%{y}<extra></extra>",
         "legendgroup": "5pt_(-3)(+1)",
         "marker": {
          "color": "#f9cfbd",
          "pattern": {
           "shape": ""
          }
         },
         "name": "5pt_(-3)(+1)",
         "offsetgroup": "5pt_(-3)(+1)",
         "orientation": "v",
         "showlegend": true,
         "textposition": "auto",
         "type": "bar",
         "x": [
          "ques-thermal-comfort"
         ],
         "xaxis": "x",
         "y": [
          0.4545454545454546
         ],
         "yaxis": "y"
        },
        {
         "alignmentgroup": "True",
         "hovertemplate": "Response Value=4pt_(comf)(v_uncomf)<br>Comfort Questionnaire=%{x}<br>Coverage Percentage [%]=%{y}<extra></extra>",
         "legendgroup": "4pt_(comf)(v_uncomf)",
         "marker": {
          "color": "#fbd3a7",
          "pattern": {
           "shape": ""
          }
         },
         "name": "4pt_(comf)(v_uncomf)",
         "offsetgroup": "4pt_(comf)(v_uncomf)",
         "orientation": "v",
         "showlegend": true,
         "textposition": "auto",
         "type": "bar",
         "x": [
          "ques-thermal-comfort"
         ],
         "xaxis": "x",
         "y": [
          0.4545454545454546
         ],
         "yaxis": "y"
        },
        {
         "alignmentgroup": "True",
         "hovertemplate": "Response Value=6pt_(veryunc)(veryc)<br>Comfort Questionnaire=%{x}<br>Coverage Percentage [%]=%{y}<extra></extra>",
         "legendgroup": "6pt_(veryunc)(veryc)",
         "marker": {
          "color": "#f9b39c",
          "pattern": {
           "shape": ""
          }
         },
         "name": "6pt_(veryunc)(veryc)",
         "offsetgroup": "6pt_(veryunc)(veryc)",
         "orientation": "v",
         "showlegend": true,
         "textposition": "auto",
         "type": "bar",
         "x": [
          "ques-thermal-comfort"
         ],
         "xaxis": "x",
         "y": [
          0.4545454545454546
         ],
         "yaxis": "y"
        },
        {
         "alignmentgroup": "True",
         "hovertemplate": "Response Value=102pt_(-50)(+50)<br>Comfort Questionnaire=%{x}<br>Coverage Percentage [%]=%{y}<extra></extra>",
         "legendgroup": "102pt_(-50)(+50)",
         "marker": {
          "color": "#f9a3a5",
          "pattern": {
           "shape": ""
          }
         },
         "name": "102pt_(-50)(+50)",
         "offsetgroup": "102pt_(-50)(+50)",
         "orientation": "v",
         "showlegend": true,
         "textposition": "auto",
         "type": "bar",
         "x": [
          "ques-thermal-comfort"
         ],
         "xaxis": "x",
         "y": [
          0.4545454545454546
         ],
         "yaxis": "y"
        },
        {
         "alignmentgroup": "True",
         "hovertemplate": "Response Value=6pt_(-3)(+3)<br>Comfort Questionnaire=%{x}<br>Coverage Percentage [%]=%{y}<extra></extra>",
         "legendgroup": "6pt_(-3)(+3)",
         "marker": {
          "color": "#277da1",
          "pattern": {
           "shape": ""
          }
         },
         "name": "6pt_(-3)(+3)",
         "offsetgroup": "6pt_(-3)(+3)",
         "orientation": "v",
         "showlegend": true,
         "textposition": "auto",
         "type": "bar",
         "x": [
          "ques-thermal-comfort",
          "ques-thermal-accept"
         ],
         "xaxis": "x",
         "y": [
          1.3636363636363638,
          0.45454545454545453
         ],
         "yaxis": "y"
        },
        {
         "alignmentgroup": "True",
         "hovertemplate": "Response Value=4pt<br>Comfort Questionnaire=%{x}<br>Coverage Percentage [%]=%{y}<extra></extra>",
         "legendgroup": "4pt",
         "marker": {
          "color": "#577590",
          "pattern": {
           "shape": ""
          }
         },
         "name": "4pt",
         "offsetgroup": "4pt",
         "orientation": "v",
         "showlegend": true,
         "textposition": "auto",
         "type": "bar",
         "x": [
          "ques-thermal-comfort",
          "ques-thermal-prefer"
         ],
         "xaxis": "x",
         "y": [
          0.4545454545454546,
          0.45454545454545453
         ],
         "yaxis": "y"
        },
        {
         "alignmentgroup": "True",
         "hovertemplate": "Response Value=5pt_(0)(+4)<br>Comfort Questionnaire=%{x}<br>Coverage Percentage [%]=%{y}<extra></extra>",
         "legendgroup": "5pt_(0)(+4)",
         "marker": {
          "color": "#4d908e",
          "pattern": {
           "shape": ""
          }
         },
         "name": "5pt_(0)(+4)",
         "offsetgroup": "5pt_(0)(+4)",
         "orientation": "v",
         "showlegend": true,
         "textposition": "auto",
         "type": "bar",
         "x": [
          "ques-thermal-comfort",
          "ques-sweating-sensation",
          "ques-humidity-comfort"
         ],
         "xaxis": "x",
         "y": [
          2.272727272727273,
          0.9090909090909091,
          0.4545454545454545
         ],
         "yaxis": "y"
        },
        {
         "alignmentgroup": "True",
         "hovertemplate": "Response Value=10pt_(-4)(+4)<br>Comfort Questionnaire=%{x}<br>Coverage Percentage [%]=%{y}<extra></extra>",
         "legendgroup": "10pt_(-4)(+4)",
         "marker": {
          "color": "#43aa8b",
          "pattern": {
           "shape": ""
          }
         },
         "name": "10pt_(-4)(+4)",
         "offsetgroup": "10pt_(-4)(+4)",
         "orientation": "v",
         "showlegend": true,
         "textposition": "auto",
         "type": "bar",
         "x": [
          "ques-thermal-comfort",
          "ques-thermal-accept",
          "ques-airmove-accept"
         ],
         "xaxis": "x",
         "y": [
          1.8181818181818183,
          0.9090909090909091,
          0.45454545454545453
         ],
         "yaxis": "y"
        },
        {
         "alignmentgroup": "True",
         "hovertemplate": "Response Value=4pt_(-3)(0)<br>Comfort Questionnaire=%{x}<br>Coverage Percentage [%]=%{y}<extra></extra>",
         "legendgroup": "4pt_(-3)(0)",
         "marker": {
          "color": "#90be6d",
          "pattern": {
           "shape": ""
          }
         },
         "name": "4pt_(-3)(0)",
         "offsetgroup": "4pt_(-3)(0)",
         "orientation": "v",
         "showlegend": true,
         "textposition": "auto",
         "type": "bar",
         "x": [
          "ques-thermal-comfort",
          "ques-thermal-satisfaction",
          "ques-humidity-prefer"
         ],
         "xaxis": "x",
         "y": [
          7.272727272727273,
          0.4545454545454545,
          0.4545454545454545
         ],
         "yaxis": "y"
        },
        {
         "alignmentgroup": "True",
         "hovertemplate": "Response Value=4pt_(+1)(+4)<br>Comfort Questionnaire=%{x}<br>Coverage Percentage [%]=%{y}<extra></extra>",
         "legendgroup": "4pt_(+1)(+4)",
         "marker": {
          "color": "#f9c74f",
          "pattern": {
           "shape": ""
          }
         },
         "name": "4pt_(+1)(+4)",
         "offsetgroup": "4pt_(+1)(+4)",
         "orientation": "v",
         "showlegend": true,
         "textposition": "auto",
         "type": "bar",
         "x": [
          "ques-thermal-comfort",
          "ques-overall-comfort"
         ],
         "xaxis": "x",
         "y": [
          1.8181818181818183,
          0.4545454545454545
         ],
         "yaxis": "y"
        },
        {
         "alignmentgroup": "True",
         "hovertemplate": "Response Value=5pt_(+1)(+5)<br>Comfort Questionnaire=%{x}<br>Coverage Percentage [%]=%{y}<extra></extra>",
         "legendgroup": "5pt_(+1)(+5)",
         "marker": {
          "color": "#f9844a",
          "pattern": {
           "shape": ""
          }
         },
         "name": "5pt_(+1)(+5)",
         "offsetgroup": "5pt_(+1)(+5)",
         "orientation": "v",
         "showlegend": true,
         "textposition": "auto",
         "type": "bar",
         "x": [
          "ques-thermal-comfort",
          "ques-overall-satisfaction",
          "ques-overall-comfort"
         ],
         "xaxis": "x",
         "y": [
          1.3636363636363638,
          0.4545454545454545,
          0.4545454545454545
         ],
         "yaxis": "y"
        },
        {
         "alignmentgroup": "True",
         "hovertemplate": "Response Value=5pt<br>Comfort Questionnaire=%{x}<br>Coverage Percentage [%]=%{y}<extra></extra>",
         "legendgroup": "5pt",
         "marker": {
          "color": "#f8961e",
          "pattern": {
           "shape": ""
          }
         },
         "name": "5pt",
         "offsetgroup": "5pt",
         "orientation": "v",
         "showlegend": true,
         "textposition": "auto",
         "type": "bar",
         "x": [
          "ques-thermal-comfort",
          "ques-sick-building-syndrome",
          "ques-sweating-sensation",
          "ques-overall-satisfaction",
          "ques-odour-intensity"
         ],
         "xaxis": "x",
         "y": [
          1.3636363636363638,
          0.4545454545454546,
          0.45454545454545453,
          0.4545454545454545,
          0.4545454545454545
         ],
         "yaxis": "y"
        },
        {
         "alignmentgroup": "True",
         "hovertemplate": "Response Value=5pt_(0)(4)<br>Comfort Questionnaire=%{x}<br>Coverage Percentage [%]=%{y}<extra></extra>",
         "legendgroup": "5pt_(0)(4)",
         "marker": {
          "color": "#f3722c",
          "pattern": {
           "shape": ""
          }
         },
         "name": "5pt_(0)(4)",
         "offsetgroup": "5pt_(0)(4)",
         "orientation": "v",
         "showlegend": true,
         "textposition": "auto",
         "type": "bar",
         "x": [
          "ques-thermal-comfort",
          "ques-sick-building-syndrome"
         ],
         "xaxis": "x",
         "y": [
          0.9090909090909092,
          0.9090909090909092
         ],
         "yaxis": "y"
        },
        {
         "alignmentgroup": "True",
         "hovertemplate": "Response Value=5pt_(-4)(0)<br>Comfort Questionnaire=%{x}<br>Coverage Percentage [%]=%{y}<extra></extra>",
         "legendgroup": "5pt_(-4)(0)",
         "marker": {
          "color": "#f94144",
          "pattern": {
           "shape": ""
          }
         },
         "name": "5pt_(-4)(0)",
         "offsetgroup": "5pt_(-4)(0)",
         "orientation": "v",
         "showlegend": true,
         "textposition": "auto",
         "type": "bar",
         "x": [
          "ques-thermal-comfort"
         ],
         "xaxis": "x",
         "y": [
          0.9090909090909092
         ],
         "yaxis": "y"
        },
        {
         "alignmentgroup": "True",
         "hovertemplate": "Response Value=5pt_(1)(5)<br>Comfort Questionnaire=%{x}<br>Coverage Percentage [%]=%{y}<extra></extra>",
         "legendgroup": "5pt_(1)(5)",
         "marker": {
          "color": "#a8dce2",
          "pattern": {
           "shape": ""
          }
         },
         "name": "5pt_(1)(5)",
         "offsetgroup": "5pt_(1)(5)",
         "orientation": "v",
         "showlegend": true,
         "textposition": "auto",
         "type": "bar",
         "x": [
          "ques-thermal-comfort",
          "ques-acoustic-sensation"
         ],
         "xaxis": "x",
         "y": [
          0.9090909090909092,
          0.45454545454545453
         ],
         "yaxis": "y"
        },
        {
         "alignmentgroup": "True",
         "hovertemplate": "Response Value=4pt_(0)(+3)<br>Comfort Questionnaire=%{x}<br>Coverage Percentage [%]=%{y}<extra></extra>",
         "legendgroup": "4pt_(0)(+3)",
         "marker": {
          "color": "#b3bfc9",
          "pattern": {
           "shape": ""
          }
         },
         "name": "4pt_(0)(+3)",
         "offsetgroup": "4pt_(0)(+3)",
         "orientation": "v",
         "showlegend": true,
         "textposition": "auto",
         "type": "bar",
         "x": [
          "ques-thermal-comfort",
          "ques-sweating-sensation",
          "ques-shivering-rate"
         ],
         "xaxis": "x",
         "y": [
          0.9090909090909092,
          1.3636363636363635,
          0.4545454545454546
         ],
         "yaxis": "y"
        },
        {
         "alignmentgroup": "True",
         "hovertemplate": "Response Value=4pt_(0)(+4)<br>Comfort Questionnaire=%{x}<br>Coverage Percentage [%]=%{y}<extra></extra>",
         "legendgroup": "4pt_(0)(+4)",
         "marker": {
          "color": "#a8cfc9",
          "pattern": {
           "shape": ""
          }
         },
         "name": "4pt_(0)(+4)",
         "offsetgroup": "4pt_(0)(+4)",
         "orientation": "v",
         "showlegend": true,
         "textposition": "auto",
         "type": "bar",
         "x": [
          "ques-thermal-comfort"
         ],
         "xaxis": "x",
         "y": [
          0.4545454545454546
         ],
         "yaxis": "y"
        },
        {
         "alignmentgroup": "True",
         "hovertemplate": "Response Value=101pt_(0)(+100)<br>Comfort Questionnaire=%{x}<br>Coverage Percentage [%]=%{y}<extra></extra>",
         "legendgroup": "101pt_(0)(+100)",
         "marker": {
          "color": "#a8dfd2",
          "pattern": {
           "shape": ""
          }
         },
         "name": "101pt_(0)(+100)",
         "offsetgroup": "101pt_(0)(+100)",
         "orientation": "v",
         "showlegend": true,
         "textposition": "auto",
         "type": "bar",
         "x": [
          "ques-thermal-comfort",
          "ques-thermal-accept"
         ],
         "xaxis": "x",
         "y": [
          0.4545454545454546,
          0.9090909090909091
         ],
         "yaxis": "y"
        },
        {
         "alignmentgroup": "True",
         "hovertemplate": "Response Value=6pt<br>Comfort Questionnaire=%{x}<br>Coverage Percentage [%]=%{y}<extra></extra>",
         "legendgroup": "6pt",
         "marker": {
          "color": "#d2e8c0",
          "pattern": {
           "shape": ""
          }
         },
         "name": "6pt",
         "offsetgroup": "6pt",
         "orientation": "v",
         "showlegend": true,
         "textposition": "auto",
         "type": "bar",
         "x": [
          "ques-thermal-comfort",
          "ques-thermal-accept"
         ],
         "xaxis": "x",
         "y": [
          0.4545454545454546,
          0.45454545454545453
         ],
         "yaxis": "y"
        },
        {
         "alignmentgroup": "True",
         "hovertemplate": "Response Value=6pt_(1)(6)<br>Comfort Questionnaire=%{x}<br>Coverage Percentage [%]=%{y}<extra></extra>",
         "legendgroup": "6pt_(1)(6)",
         "marker": {
          "color": "#fde7a6",
          "pattern": {
           "shape": ""
          }
         },
         "name": "6pt_(1)(6)",
         "offsetgroup": "6pt_(1)(6)",
         "orientation": "v",
         "showlegend": true,
         "textposition": "auto",
         "type": "bar",
         "x": [
          "ques-thermal-comfort",
          "ques-acoustic-comfort",
          "ques-light-comfort"
         ],
         "xaxis": "x",
         "y": [
          0.9090909090909092,
          0.45454545454545453,
          0.4545454545454545
         ],
         "yaxis": "y"
        },
        {
         "alignmentgroup": "True",
         "hovertemplate": "Response Value=2pt_(0)(+1)<br>Comfort Questionnaire=%{x}<br>Coverage Percentage [%]=%{y}<extra></extra>",
         "legendgroup": "2pt_(0)(+1)",
         "marker": {
          "color": "#f9cfbd",
          "pattern": {
           "shape": ""
          }
         },
         "name": "2pt_(0)(+1)",
         "offsetgroup": "2pt_(0)(+1)",
         "orientation": "v",
         "showlegend": true,
         "textposition": "auto",
         "type": "bar",
         "x": [
          "ques-thermal-accept",
          "ques-airmove-prefer",
          "ques-sweating-sensation",
          "ques-iaq-sensation",
          "ques-shivering-rate"
         ],
         "xaxis": "x",
         "y": [
          0.9090909090909091,
          0.45454545454545453,
          0.45454545454545453,
          0.4545454545454545,
          1.3636363636363638
         ],
         "yaxis": "y"
        },
        {
         "alignmentgroup": "True",
         "hovertemplate": "Response Value=2pt_(0)(1)<br>Comfort Questionnaire=%{x}<br>Coverage Percentage [%]=%{y}<extra></extra>",
         "legendgroup": "2pt_(0)(1)",
         "marker": {
          "color": "#fbd3a7",
          "pattern": {
           "shape": ""
          }
         },
         "name": "2pt_(0)(1)",
         "offsetgroup": "2pt_(0)(1)",
         "orientation": "v",
         "showlegend": true,
         "textposition": "auto",
         "type": "bar",
         "x": [
          "ques-thermal-accept",
          "ques-thermal-prefer"
         ],
         "xaxis": "x",
         "y": [
          0.9090909090909091,
          0.45454545454545453
         ],
         "yaxis": "y"
        },
        {
         "alignmentgroup": "True",
         "hovertemplate": "Response Value=4pt(-1)(+1)<br>Comfort Questionnaire=%{x}<br>Coverage Percentage [%]=%{y}<extra></extra>",
         "legendgroup": "4pt(-1)(+1)",
         "marker": {
          "color": "#f9b39c",
          "pattern": {
           "shape": ""
          }
         },
         "name": "4pt(-1)(+1)",
         "offsetgroup": "4pt(-1)(+1)",
         "orientation": "v",
         "showlegend": true,
         "textposition": "auto",
         "type": "bar",
         "x": [
          "ques-thermal-accept"
         ],
         "xaxis": "x",
         "y": [
          0.45454545454545453
         ],
         "yaxis": "y"
        },
        {
         "alignmentgroup": "True",
         "hovertemplate": "Response Value=4pt_(unacc)(vaccept)<br>Comfort Questionnaire=%{x}<br>Coverage Percentage [%]=%{y}<extra></extra>",
         "legendgroup": "4pt_(unacc)(vaccept)",
         "marker": {
          "color": "#f9a3a5",
          "pattern": {
           "shape": ""
          }
         },
         "name": "4pt_(unacc)(vaccept)",
         "offsetgroup": "4pt_(unacc)(vaccept)",
         "orientation": "v",
         "showlegend": true,
         "textposition": "auto",
         "type": "bar",
         "x": [
          "ques-thermal-accept"
         ],
         "xaxis": "x",
         "y": [
          0.45454545454545453
         ],
         "yaxis": "y"
        },
        {
         "alignmentgroup": "True",
         "hovertemplate": "Response Value=3pt_(-1)(+1)<br>Comfort Questionnaire=%{x}<br>Coverage Percentage [%]=%{y}<extra></extra>",
         "legendgroup": "3pt_(-1)(+1)",
         "marker": {
          "color": "#277da1",
          "pattern": {
           "shape": ""
          }
         },
         "name": "3pt_(-1)(+1)",
         "offsetgroup": "3pt_(-1)(+1)",
         "orientation": "v",
         "showlegend": true,
         "textposition": "auto",
         "type": "bar",
         "x": [
          "ques-thermal-accept",
          "ques-thermal-prefer",
          "ques-thermal-satisfaction",
          "ques-airmove-prefer",
          "ques-overall-satisfaction",
          "ques-acoustic-comfort",
          "ques-humidity-prefer",
          "ques-acoustic-satisfaction",
          "ques-light-satisfaction",
          "ques-visual-prefer"
         ],
         "xaxis": "x",
         "y": [
          0.45454545454545453,
          12.272727272727272,
          0.909090909090909,
          2.727272727272727,
          0.4545454545454545,
          0.45454545454545453,
          0.4545454545454545,
          0.45454545454545453,
          0.45454545454545453,
          0.45454545454545453
         ],
         "yaxis": "y"
        },
        {
         "alignmentgroup": "True",
         "hovertemplate": "Response Value=3pt_(cooler)(warmer)<br>Comfort Questionnaire=%{x}<br>Coverage Percentage [%]=%{y}<extra></extra>",
         "legendgroup": "3pt_(cooler)(warmer)",
         "marker": {
          "color": "#577590",
          "pattern": {
           "shape": ""
          }
         },
         "name": "3pt_(cooler)(warmer)",
         "offsetgroup": "3pt_(cooler)(warmer)",
         "orientation": "v",
         "showlegend": true,
         "textposition": "auto",
         "type": "bar",
         "x": [
          "ques-thermal-prefer"
         ],
         "xaxis": "x",
         "y": [
          2.727272727272727
         ],
         "yaxis": "y"
        },
        {
         "alignmentgroup": "True",
         "hovertemplate": "Response Value=11pt_(-5)(+5)<br>Comfort Questionnaire=%{x}<br>Coverage Percentage [%]=%{y}<extra></extra>",
         "legendgroup": "11pt_(-5)(+5)",
         "marker": {
          "color": "#4d908e",
          "pattern": {
           "shape": ""
          }
         },
         "name": "11pt_(-5)(+5)",
         "offsetgroup": "11pt_(-5)(+5)",
         "orientation": "v",
         "showlegend": true,
         "textposition": "auto",
         "type": "bar",
         "x": [
          "ques-thermal-prefer"
         ],
         "xaxis": "x",
         "y": [
          0.9090909090909091
         ],
         "yaxis": "y"
        },
        {
         "alignmentgroup": "True",
         "hovertemplate": "Response Value=4pt_(-1)(+1)<br>Comfort Questionnaire=%{x}<br>Coverage Percentage [%]=%{y}<extra></extra>",
         "legendgroup": "4pt_(-1)(+1)",
         "marker": {
          "color": "#43aa8b",
          "pattern": {
           "shape": ""
          }
         },
         "name": "4pt_(-1)(+1)",
         "offsetgroup": "4pt_(-1)(+1)",
         "orientation": "v",
         "showlegend": true,
         "textposition": "auto",
         "type": "bar",
         "x": [
          "ques-thermal-accept",
          "ques-iaq-accept",
          "ques-iaq-sensation",
          "ques-humidity-accept",
          "ques-airmove-accept"
         ],
         "xaxis": "x",
         "y": [
          10.454545454545455,
          1.8181818181818181,
          0.4545454545454545,
          0.9090909090909091,
          0.45454545454545453
         ],
         "yaxis": "y"
        },
        {
         "alignmentgroup": "True",
         "hovertemplate": "Response Value=4pt(-2)(+2)<br>Comfort Questionnaire=%{x}<br>Coverage Percentage [%]=%{y}<extra></extra>",
         "legendgroup": "4pt(-2)(+2)",
         "marker": {
          "color": "#90be6d",
          "pattern": {
           "shape": ""
          }
         },
         "name": "4pt(-2)(+2)",
         "offsetgroup": "4pt(-2)(+2)",
         "orientation": "v",
         "showlegend": true,
         "textposition": "auto",
         "type": "bar",
         "x": [
          "ques-thermal-accept"
         ],
         "xaxis": "x",
         "y": [
          1.3636363636363635
         ],
         "yaxis": "y"
        },
        {
         "alignmentgroup": "True",
         "hovertemplate": "Response Value=VAS<br>Comfort Questionnaire=%{x}<br>Coverage Percentage [%]=%{y}<extra></extra>",
         "legendgroup": "VAS",
         "marker": {
          "color": "#f9c74f",
          "pattern": {
           "shape": ""
          }
         },
         "name": "VAS",
         "offsetgroup": "VAS",
         "orientation": "v",
         "showlegend": true,
         "textposition": "auto",
         "type": "bar",
         "x": [
          "ques-humidity-sensation",
          "ques-light-sensation"
         ],
         "xaxis": "x",
         "y": [
          0.4545454545454545,
          0.45454545454545453
         ],
         "yaxis": "y"
        },
        {
         "alignmentgroup": "True",
         "hovertemplate": "Response Value=7pt(-3)(+3)<br>Comfort Questionnaire=%{x}<br>Coverage Percentage [%]=%{y}<extra></extra>",
         "legendgroup": "7pt(-3)(+3)",
         "marker": {
          "color": "#f9844a",
          "pattern": {
           "shape": ""
          }
         },
         "name": "7pt(-3)(+3)",
         "offsetgroup": "7pt(-3)(+3)",
         "orientation": "v",
         "showlegend": true,
         "textposition": "auto",
         "type": "bar",
         "x": [
          "ques-thermal-satisfaction"
         ],
         "xaxis": "x",
         "y": [
          0.4545454545454545
         ],
         "yaxis": "y"
        },
        {
         "alignmentgroup": "True",
         "hovertemplate": "Response Value=2pt_(dis)(sat)<br>Comfort Questionnaire=%{x}<br>Coverage Percentage [%]=%{y}<extra></extra>",
         "legendgroup": "2pt_(dis)(sat)",
         "marker": {
          "color": "#f8961e",
          "pattern": {
           "shape": ""
          }
         },
         "name": "2pt_(dis)(sat)",
         "offsetgroup": "2pt_(dis)(sat)",
         "orientation": "v",
         "showlegend": true,
         "textposition": "auto",
         "type": "bar",
         "x": [
          "ques-thermal-satisfaction",
          "ques-humidity-satisfaction",
          "ques-airmove-satisfaction"
         ],
         "xaxis": "x",
         "y": [
          0.4545454545454545,
          0.45454545454545453,
          0.45454545454545453
         ],
         "yaxis": "y"
        },
        {
         "alignmentgroup": "True",
         "hovertemplate": "Response Value=5pt_(0)(5)<br>Comfort Questionnaire=%{x}<br>Coverage Percentage [%]=%{y}<extra></extra>",
         "legendgroup": "5pt_(0)(5)",
         "marker": {
          "color": "#f3722c",
          "pattern": {
           "shape": ""
          }
         },
         "name": "5pt_(0)(5)",
         "offsetgroup": "5pt_(0)(5)",
         "orientation": "v",
         "showlegend": true,
         "textposition": "auto",
         "type": "bar",
         "x": [
          "ques-sick-building-syndrome"
         ],
         "xaxis": "x",
         "y": [
          0.4545454545454546
         ],
         "yaxis": "y"
        },
        {
         "alignmentgroup": "True",
         "hovertemplate": "Response Value=VAS_(0)(+100)<br>Comfort Questionnaire=%{x}<br>Coverage Percentage [%]=%{y}<extra></extra>",
         "legendgroup": "VAS_(0)(+100)",
         "marker": {
          "color": "#f94144",
          "pattern": {
           "shape": ""
          }
         },
         "name": "VAS_(0)(+100)",
         "offsetgroup": "VAS_(0)(+100)",
         "orientation": "v",
         "showlegend": true,
         "textposition": "auto",
         "type": "bar",
         "x": [
          "ques-sick-building-syndrome"
         ],
         "xaxis": "x",
         "y": [
          0.9090909090909092
         ],
         "yaxis": "y"
        },
        {
         "alignmentgroup": "True",
         "hovertemplate": "Response Value=2pt_(Y)(N)<br>Comfort Questionnaire=%{x}<br>Coverage Percentage [%]=%{y}<extra></extra>",
         "legendgroup": "2pt_(Y)(N)",
         "marker": {
          "color": "#a8dce2",
          "pattern": {
           "shape": ""
          }
         },
         "name": "2pt_(Y)(N)",
         "offsetgroup": "2pt_(Y)(N)",
         "orientation": "v",
         "showlegend": true,
         "textposition": "auto",
         "type": "bar",
         "x": [
          "ques-sick-building-syndrome",
          "ques-airmove-sensation"
         ],
         "xaxis": "x",
         "y": [
          1.3636363636363635,
          0.45454545454545453
         ],
         "yaxis": "y"
        },
        {
         "alignmentgroup": "True",
         "hovertemplate": "Response Value=4pt_(-1(+1)<br>Comfort Questionnaire=%{x}<br>Coverage Percentage [%]=%{y}<extra></extra>",
         "legendgroup": "4pt_(-1(+1)",
         "marker": {
          "color": "#b3bfc9",
          "pattern": {
           "shape": ""
          }
         },
         "name": "4pt_(-1(+1)",
         "offsetgroup": "4pt_(-1(+1)",
         "orientation": "v",
         "showlegend": true,
         "textposition": "auto",
         "type": "bar",
         "x": [
          "ques-iaq-accept"
         ],
         "xaxis": "x",
         "y": [
          0.45454545454545453
         ],
         "yaxis": "y"
        },
        {
         "alignmentgroup": "True",
         "hovertemplate": "Response Value=3pt_(less)(more)<br>Comfort Questionnaire=%{x}<br>Coverage Percentage [%]=%{y}<extra></extra>",
         "legendgroup": "3pt_(less)(more)",
         "marker": {
          "color": "#a8cfc9",
          "pattern": {
           "shape": ""
          }
         },
         "name": "3pt_(less)(more)",
         "offsetgroup": "3pt_(less)(more)",
         "orientation": "v",
         "showlegend": true,
         "textposition": "auto",
         "type": "bar",
         "x": [
          "ques-airmove-prefer"
         ],
         "xaxis": "x",
         "y": [
          0.9090909090909091
         ],
         "yaxis": "y"
        },
        {
         "alignmentgroup": "True",
         "hovertemplate": "Response Value=4pt_(1)(4)<br>Comfort Questionnaire=%{x}<br>Coverage Percentage [%]=%{y}<extra></extra>",
         "legendgroup": "4pt_(1)(4)",
         "marker": {
          "color": "#a8dfd2",
          "pattern": {
           "shape": ""
          }
         },
         "name": "4pt_(1)(4)",
         "offsetgroup": "4pt_(1)(4)",
         "orientation": "v",
         "showlegend": true,
         "textposition": "auto",
         "type": "bar",
         "x": [
          "ques-airmove-sensation"
         ],
         "xaxis": "x",
         "y": [
          0.45454545454545453
         ],
         "yaxis": "y"
        },
        {
         "alignmentgroup": "True",
         "hovertemplate": "Response Value=9pt_(vstuffy)(vcool)<br>Comfort Questionnaire=%{x}<br>Coverage Percentage [%]=%{y}<extra></extra>",
         "legendgroup": "9pt_(vstuffy)(vcool)",
         "marker": {
          "color": "#d2e8c0",
          "pattern": {
           "shape": ""
          }
         },
         "name": "9pt_(vstuffy)(vcool)",
         "offsetgroup": "9pt_(vstuffy)(vcool)",
         "orientation": "v",
         "showlegend": true,
         "textposition": "auto",
         "type": "bar",
         "x": [
          "ques-iaq-sensation"
         ],
         "xaxis": "x",
         "y": [
          0.4545454545454545
         ],
         "yaxis": "y"
        },
        {
         "alignmentgroup": "True",
         "hovertemplate": "Response Value=VAS_(unpleasant)(neutral)<br>Comfort Questionnaire=%{x}<br>Coverage Percentage [%]=%{y}<extra></extra>",
         "legendgroup": "VAS_(unpleasant)(neutral)",
         "marker": {
          "color": "#fde7a6",
          "pattern": {
           "shape": ""
          }
         },
         "name": "VAS_(unpleasant)(neutral)",
         "offsetgroup": "VAS_(unpleasant)(neutral)",
         "orientation": "v",
         "showlegend": true,
         "textposition": "auto",
         "type": "bar",
         "x": [
          "ques-thermal-pleasure"
         ],
         "xaxis": "x",
         "y": [
          0.4545454545454545
         ],
         "yaxis": "y"
        },
        {
         "alignmentgroup": "True",
         "hovertemplate": "Response Value=3pt_(dryer)(wetter)<br>Comfort Questionnaire=%{x}<br>Coverage Percentage [%]=%{y}<extra></extra>",
         "legendgroup": "3pt_(dryer)(wetter)",
         "marker": {
          "color": "#f9cfbd",
          "pattern": {
           "shape": ""
          }
         },
         "name": "3pt_(dryer)(wetter)",
         "offsetgroup": "3pt_(dryer)(wetter)",
         "orientation": "v",
         "showlegend": true,
         "textposition": "auto",
         "type": "bar",
         "x": [
          "ques-humidity-prefer"
         ],
         "xaxis": "x",
         "y": [
          0.4545454545454545
         ],
         "yaxis": "y"
        },
        {
         "alignmentgroup": "True",
         "hovertemplate": "Response Value=6pt_(0)(+5)<br>Comfort Questionnaire=%{x}<br>Coverage Percentage [%]=%{y}<extra></extra>",
         "legendgroup": "6pt_(0)(+5)",
         "marker": {
          "color": "#fbd3a7",
          "pattern": {
           "shape": ""
          }
         },
         "name": "6pt_(0)(+5)",
         "offsetgroup": "6pt_(0)(+5)",
         "orientation": "v",
         "showlegend": true,
         "textposition": "auto",
         "type": "bar",
         "x": [
          "ques-odour-intensity"
         ],
         "xaxis": "x",
         "y": [
          0.4545454545454545
         ],
         "yaxis": "y"
        },
        {
         "alignmentgroup": "True",
         "hovertemplate": "Response Value=VAS_(0)(100)<br>Comfort Questionnaire=%{x}<br>Coverage Percentage [%]=%{y}<extra></extra>",
         "legendgroup": "VAS_(0)(100)",
         "marker": {
          "color": "#f9b39c",
          "pattern": {
           "shape": ""
          }
         },
         "name": "VAS_(0)(100)",
         "offsetgroup": "VAS_(0)(100)",
         "orientation": "v",
         "showlegend": true,
         "textposition": "auto",
         "type": "bar",
         "x": [
          "ques-thermal-pleasantness"
         ],
         "xaxis": "x",
         "y": [
          0.45454545454545453
         ],
         "yaxis": "y"
        }
       ],
       "layout": {
        "barmode": "relative",
        "legend": {
         "title": {
          "text": "Response Value"
         },
         "tracegroupgap": 0
        },
        "template": {
         "data": {
          "bar": [
           {
            "error_x": {
             "color": "rgb(51,51,51)"
            },
            "error_y": {
             "color": "rgb(51,51,51)"
            },
            "marker": {
             "line": {
              "color": "rgb(237,237,237)",
              "width": 0.5
             },
             "pattern": {
              "fillmode": "overlay",
              "size": 10,
              "solidity": 0.2
             }
            },
            "type": "bar"
           }
          ],
          "barpolar": [
           {
            "marker": {
             "line": {
              "color": "rgb(237,237,237)",
              "width": 0.5
             },
             "pattern": {
              "fillmode": "overlay",
              "size": 10,
              "solidity": 0.2
             }
            },
            "type": "barpolar"
           }
          ],
          "carpet": [
           {
            "aaxis": {
             "endlinecolor": "rgb(51,51,51)",
             "gridcolor": "white",
             "linecolor": "white",
             "minorgridcolor": "white",
             "startlinecolor": "rgb(51,51,51)"
            },
            "baxis": {
             "endlinecolor": "rgb(51,51,51)",
             "gridcolor": "white",
             "linecolor": "white",
             "minorgridcolor": "white",
             "startlinecolor": "rgb(51,51,51)"
            },
            "type": "carpet"
           }
          ],
          "choropleth": [
           {
            "colorbar": {
             "outlinewidth": 0,
             "tickcolor": "rgb(237,237,237)",
             "ticklen": 6,
             "ticks": "inside"
            },
            "type": "choropleth"
           }
          ],
          "contour": [
           {
            "colorbar": {
             "outlinewidth": 0,
             "tickcolor": "rgb(237,237,237)",
             "ticklen": 6,
             "ticks": "inside"
            },
            "colorscale": [
             [
              0,
              "rgb(20,44,66)"
             ],
             [
              1,
              "rgb(90,179,244)"
             ]
            ],
            "type": "contour"
           }
          ],
          "contourcarpet": [
           {
            "colorbar": {
             "outlinewidth": 0,
             "tickcolor": "rgb(237,237,237)",
             "ticklen": 6,
             "ticks": "inside"
            },
            "type": "contourcarpet"
           }
          ],
          "heatmap": [
           {
            "colorbar": {
             "outlinewidth": 0,
             "tickcolor": "rgb(237,237,237)",
             "ticklen": 6,
             "ticks": "inside"
            },
            "colorscale": [
             [
              0,
              "rgb(20,44,66)"
             ],
             [
              1,
              "rgb(90,179,244)"
             ]
            ],
            "type": "heatmap"
           }
          ],
          "heatmapgl": [
           {
            "colorbar": {
             "outlinewidth": 0,
             "tickcolor": "rgb(237,237,237)",
             "ticklen": 6,
             "ticks": "inside"
            },
            "colorscale": [
             [
              0,
              "rgb(20,44,66)"
             ],
             [
              1,
              "rgb(90,179,244)"
             ]
            ],
            "type": "heatmapgl"
           }
          ],
          "histogram": [
           {
            "marker": {
             "pattern": {
              "fillmode": "overlay",
              "size": 10,
              "solidity": 0.2
             }
            },
            "type": "histogram"
           }
          ],
          "histogram2d": [
           {
            "colorbar": {
             "outlinewidth": 0,
             "tickcolor": "rgb(237,237,237)",
             "ticklen": 6,
             "ticks": "inside"
            },
            "colorscale": [
             [
              0,
              "rgb(20,44,66)"
             ],
             [
              1,
              "rgb(90,179,244)"
             ]
            ],
            "type": "histogram2d"
           }
          ],
          "histogram2dcontour": [
           {
            "colorbar": {
             "outlinewidth": 0,
             "tickcolor": "rgb(237,237,237)",
             "ticklen": 6,
             "ticks": "inside"
            },
            "colorscale": [
             [
              0,
              "rgb(20,44,66)"
             ],
             [
              1,
              "rgb(90,179,244)"
             ]
            ],
            "type": "histogram2dcontour"
           }
          ],
          "mesh3d": [
           {
            "colorbar": {
             "outlinewidth": 0,
             "tickcolor": "rgb(237,237,237)",
             "ticklen": 6,
             "ticks": "inside"
            },
            "type": "mesh3d"
           }
          ],
          "parcoords": [
           {
            "line": {
             "colorbar": {
              "outlinewidth": 0,
              "tickcolor": "rgb(237,237,237)",
              "ticklen": 6,
              "ticks": "inside"
             }
            },
            "type": "parcoords"
           }
          ],
          "pie": [
           {
            "automargin": true,
            "type": "pie"
           }
          ],
          "scatter": [
           {
            "fillpattern": {
             "fillmode": "overlay",
             "size": 10,
             "solidity": 0.2
            },
            "type": "scatter"
           }
          ],
          "scatter3d": [
           {
            "line": {
             "colorbar": {
              "outlinewidth": 0,
              "tickcolor": "rgb(237,237,237)",
              "ticklen": 6,
              "ticks": "inside"
             }
            },
            "marker": {
             "colorbar": {
              "outlinewidth": 0,
              "tickcolor": "rgb(237,237,237)",
              "ticklen": 6,
              "ticks": "inside"
             }
            },
            "type": "scatter3d"
           }
          ],
          "scattercarpet": [
           {
            "marker": {
             "colorbar": {
              "outlinewidth": 0,
              "tickcolor": "rgb(237,237,237)",
              "ticklen": 6,
              "ticks": "inside"
             }
            },
            "type": "scattercarpet"
           }
          ],
          "scattergeo": [
           {
            "marker": {
             "colorbar": {
              "outlinewidth": 0,
              "tickcolor": "rgb(237,237,237)",
              "ticklen": 6,
              "ticks": "inside"
             }
            },
            "type": "scattergeo"
           }
          ],
          "scattergl": [
           {
            "marker": {
             "colorbar": {
              "outlinewidth": 0,
              "tickcolor": "rgb(237,237,237)",
              "ticklen": 6,
              "ticks": "inside"
             }
            },
            "type": "scattergl"
           }
          ],
          "scattermapbox": [
           {
            "marker": {
             "colorbar": {
              "outlinewidth": 0,
              "tickcolor": "rgb(237,237,237)",
              "ticklen": 6,
              "ticks": "inside"
             }
            },
            "type": "scattermapbox"
           }
          ],
          "scatterpolar": [
           {
            "marker": {
             "colorbar": {
              "outlinewidth": 0,
              "tickcolor": "rgb(237,237,237)",
              "ticklen": 6,
              "ticks": "inside"
             }
            },
            "type": "scatterpolar"
           }
          ],
          "scatterpolargl": [
           {
            "marker": {
             "colorbar": {
              "outlinewidth": 0,
              "tickcolor": "rgb(237,237,237)",
              "ticklen": 6,
              "ticks": "inside"
             }
            },
            "type": "scatterpolargl"
           }
          ],
          "scatterternary": [
           {
            "marker": {
             "colorbar": {
              "outlinewidth": 0,
              "tickcolor": "rgb(237,237,237)",
              "ticklen": 6,
              "ticks": "inside"
             }
            },
            "type": "scatterternary"
           }
          ],
          "surface": [
           {
            "colorbar": {
             "outlinewidth": 0,
             "tickcolor": "rgb(237,237,237)",
             "ticklen": 6,
             "ticks": "inside"
            },
            "colorscale": [
             [
              0,
              "rgb(20,44,66)"
             ],
             [
              1,
              "rgb(90,179,244)"
             ]
            ],
            "type": "surface"
           }
          ],
          "table": [
           {
            "cells": {
             "fill": {
              "color": "rgb(237,237,237)"
             },
             "line": {
              "color": "white"
             }
            },
            "header": {
             "fill": {
              "color": "rgb(217,217,217)"
             },
             "line": {
              "color": "white"
             }
            },
            "type": "table"
           }
          ]
         },
         "layout": {
          "annotationdefaults": {
           "arrowhead": 0,
           "arrowwidth": 1
          },
          "autotypenumbers": "strict",
          "coloraxis": {
           "colorbar": {
            "outlinewidth": 0,
            "tickcolor": "rgb(237,237,237)",
            "ticklen": 6,
            "ticks": "inside"
           }
          },
          "colorscale": {
           "sequential": [
            [
             0,
             "rgb(20,44,66)"
            ],
            [
             1,
             "rgb(90,179,244)"
            ]
           ],
           "sequentialminus": [
            [
             0,
             "rgb(20,44,66)"
            ],
            [
             1,
             "rgb(90,179,244)"
            ]
           ]
          },
          "colorway": [
           "#277da1",
           "#577590",
           "#4d908e",
           "#43aa8b",
           "#90be6d",
           "#f9c74f",
           "#f9844a",
           "#f8961e",
           "#f3722c",
           "#f94144",
           "#a8dce2",
           "#b3bfc9",
           "#a8cfc9",
           "#a8dfd2",
           "#d2e8c0",
           "#fde7a6",
           "#f9cfbd",
           "#fbd3a7",
           "#f9b39c",
           "#f9a3a5"
          ],
          "font": {
           "color": "rgb(51,51,51)"
          },
          "geo": {
           "bgcolor": "white",
           "lakecolor": "white",
           "landcolor": "rgb(237,237,237)",
           "showlakes": true,
           "showland": true,
           "subunitcolor": "white"
          },
          "hoverlabel": {
           "align": "left"
          },
          "hovermode": "closest",
          "paper_bgcolor": "rgba(0,0,0,0)",
          "plot_bgcolor": "rgba(0,0,0,0)",
          "polar": {
           "angularaxis": {
            "gridcolor": "white",
            "linecolor": "white",
            "showgrid": true,
            "tickcolor": "rgb(51,51,51)",
            "ticks": "outside"
           },
           "bgcolor": "rgb(237,237,237)",
           "radialaxis": {
            "gridcolor": "white",
            "linecolor": "white",
            "showgrid": true,
            "tickcolor": "rgb(51,51,51)",
            "ticks": "outside"
           }
          },
          "scene": {
           "xaxis": {
            "backgroundcolor": "rgb(237,237,237)",
            "gridcolor": "white",
            "gridwidth": 2,
            "linecolor": "white",
            "showbackground": true,
            "showgrid": true,
            "tickcolor": "rgb(51,51,51)",
            "ticks": "outside",
            "zerolinecolor": "white"
           },
           "yaxis": {
            "backgroundcolor": "rgb(237,237,237)",
            "gridcolor": "white",
            "gridwidth": 2,
            "linecolor": "white",
            "showbackground": true,
            "showgrid": true,
            "tickcolor": "rgb(51,51,51)",
            "ticks": "outside",
            "zerolinecolor": "white"
           },
           "zaxis": {
            "backgroundcolor": "rgb(237,237,237)",
            "gridcolor": "white",
            "gridwidth": 2,
            "linecolor": "white",
            "showbackground": true,
            "showgrid": true,
            "tickcolor": "rgb(51,51,51)",
            "ticks": "outside",
            "zerolinecolor": "white"
           }
          },
          "shapedefaults": {
           "fillcolor": "black",
           "line": {
            "width": 0
           },
           "opacity": 0.3
          },
          "ternary": {
           "aaxis": {
            "gridcolor": "white",
            "linecolor": "white",
            "showgrid": true,
            "tickcolor": "rgb(51,51,51)",
            "ticks": "outside"
           },
           "baxis": {
            "gridcolor": "white",
            "linecolor": "white",
            "showgrid": true,
            "tickcolor": "rgb(51,51,51)",
            "ticks": "outside"
           },
           "bgcolor": "rgb(237,237,237)",
           "caxis": {
            "gridcolor": "white",
            "linecolor": "white",
            "showgrid": true,
            "tickcolor": "rgb(51,51,51)",
            "ticks": "outside"
           }
          },
          "xaxis": {
           "automargin": true,
           "gridcolor": "white",
           "linecolor": "white",
           "showgrid": true,
           "tickcolor": "rgb(51,51,51)",
           "ticks": "outside",
           "title": {
            "standoff": 15
           },
           "zerolinecolor": "white"
          },
          "yaxis": {
           "automargin": true,
           "gridcolor": "white",
           "linecolor": "white",
           "showgrid": true,
           "tickcolor": "rgb(51,51,51)",
           "ticks": "outside",
           "title": {
            "standoff": 15
           },
           "zerolinecolor": "white"
          }
         }
        },
        "title": {
         "text": "Coverage Percentage by Comfort Questionnaire (Stacked by Response Value)"
        },
        "xaxis": {
         "anchor": "y",
         "categoryarray": [
          "ques-thermal-sensation",
          "ques-thermal-comfort",
          "ques-thermal-accept",
          "ques-thermal-prefer",
          "ques-humidity-sensation",
          "ques-thermal-satisfaction",
          "ques-sick-building-syndrome",
          "ques-iaq-accept",
          "ques-airmove-prefer",
          "ques-airmove-sensation",
          "ques-sweating-sensation",
          "ques-iaq-sensation",
          "ques-thermal-pleasure",
          "ques-overall-satisfaction",
          "ques-shivering-rate",
          "ques-acoustic-comfort",
          "ques-light-sensation",
          "ques-humidity-comfort",
          "ques-humidity-prefer",
          "ques-odour-intensity",
          "ques-light-comfort",
          "ques-overall-comfort",
          "ques-acoustic-satisfaction",
          "ques-acoustic-sensation",
          "ques-iaq-comfort",
          "ques-light-satisfaction",
          "ques-visual-prefer",
          "ques-humidity-accept",
          "ques-humidity-satisfaction",
          "ques-airmove-accept",
          "ques-iaq-satisfaction",
          "ques-light-prefer",
          "ques-airmove-satisfaction",
          "ques-thermal-pleasantness",
          "ques-airmove-comfort"
         ],
         "categoryorder": "array",
         "domain": [
          0,
          1
         ],
         "title": {
          "text": "Comfort Questionnaire"
         }
        },
        "yaxis": {
         "anchor": "x",
         "domain": [
          0,
          1
         ],
         "title": {
          "text": "Coverage Percentage [%]"
         }
        }
       }
      }
     },
     "metadata": {},
     "output_type": "display_data"
    }
   ],
   "source": [
    "# Filter columns that start with \"ques-\"\n",
    "ques_columns = [col for col in unique_studies.columns if col.startswith(\"ques-\")]\n",
    "ques_df = unique_studies[ques_columns]\n",
    "\n",
    "value_counts_list = []\n",
    "\n",
    "for col in ques_columns:\n",
    "\n",
    "    non_nan_percentage = ques_df[col].notna().mean() * 100\n",
    "    \n",
    "    value_counts = ques_df[col].dropna().value_counts(normalize=True) * non_nan_percentage\n",
    "    value_counts = value_counts.reset_index()\n",
    "    value_counts.columns = [\"response_value\", \"percentage\"]\n",
    "    value_counts[\"questionnaire\"] = col\n",
    "    value_counts[\"total_coverage_percentage\"] = non_nan_percentage\n",
    "    value_counts_list.append(value_counts)\n",
    "\n",
    "ques_value_counts_df = pd.concat(value_counts_list, ignore_index=True)\n",
    "\n",
    "ques_value_counts_df = ques_value_counts_df.sort_values(\n",
    "    \"total_coverage_percentage\", ascending=False\n",
    ")\n",
    "\n",
    "fig = px.bar(\n",
    "    ques_value_counts_df,\n",
    "    x=\"questionnaire\",\n",
    "    y=\"percentage\",\n",
    "    color=\"response_value\",\n",
    "    labels={\n",
    "        \"percentage\": \"Coverage Percentage [%]\",\n",
    "        \"questionnaire\": \"Comfort Questionnaire\",\n",
    "        \"response_value\": \"Response Value\"\n",
    "    },\n",
    "    template=CHART_LAYOUT.template.value,\n",
    "    title=\"Coverage Percentage by Comfort Questionnaire (Stacked by Response Value)\",\n",
    "    category_orders={\"questionnaire\": ques_value_counts_df[\"questionnaire\"].unique()}\n",
    ")\n",
    "\n",
    "fig.show()\n",
    "\n",
    "# TK: For this we could have a faceted plot, one for each domain. I think that would be more readable.\n",
    "# TK: Also, I am thinking that we focus on the scales here and than exemplary for one domain (e.g. comfort) highlight the wording problems, too."
   ]
  },
  {
   "cell_type": "markdown",
   "metadata": {},
   "source": [
    "TK: Here a filtering option would be nice, so that user can only look into a specific type of questionnaire. Could also be a facet_grid type of plot, where each domain is plotted separately on a grid."
   ]
  },
  {
   "cell_type": "markdown",
   "metadata": {},
   "source": [
    "## Participants"
   ]
  },
  {
   "cell_type": "code",
   "execution_count": null,
   "metadata": {},
   "outputs": [
    {
     "data": {
      "application/vnd.plotly.v1+json": {
       "config": {
        "plotlyServerURL": "https://plot.ly"
       },
       "data": [
        {
         "domain": {
          "x": [
           0,
           1
          ],
          "y": [
           0,
           1
          ]
         },
         "hovertemplate": "age-group=%{label}<extra></extra>",
         "labels": [
          "Young Adult (18-27)",
          "Young Adult (18-27)",
          "Young Adult (18-27), Adult (28-45), Older Adult (45-55)",
          "Young Adult (18-27)",
          "Young Adult (18-27)",
          "Young Adult (18-27)",
          "Young Adult (18-27)",
          "Young Adult (18-27)",
          "Young Adult (18-27)",
          "Young Adult (18-27)",
          "Young Adult (18-27)",
          "Young Adult (18-27)",
          "Young Adult (18-27)",
          "Young Adult (18-27)",
          "NR",
          "Young Adult (18-27), Adult (28-45)",
          "Young Adult (18-27)",
          "Young Adult (18-27)",
          "Young Adult (18-27)",
          "Young Adult (18-27), Adult (28-45)",
          "Young Adult (18-27), Adult (28-45)",
          "Young Adult (18-27), Elderly (60+)",
          "Young Adult (18-27)",
          "Young Adult (18-27)",
          "Young Adult (18-27)",
          null,
          "Young Adult (18-27), Older (75+)",
          null,
          null,
          null,
          null,
          null,
          null,
          null,
          "Young adult (21-29), Middle age (30-39)",
          null,
          null,
          null,
          null,
          null,
          null,
          null,
          null,
          "Young adult (21-25)",
          "Young adult, Elderly",
          null,
          null,
          null,
          null,
          "btw 20-80",
          null,
          null,
          "NR",
          null,
          null,
          "btw 17-22",
          null,
          null,
          null,
          null,
          null,
          null,
          null,
          null,
          null,
          null,
          null,
          null,
          null,
          null,
          null,
          null,
          "NR",
          null,
          null,
          null,
          null,
          null,
          null,
          null,
          null,
          null,
          null,
          null,
          null,
          null,
          null,
          null,
          null,
          null,
          null,
          null,
          null,
          null,
          null,
          null,
          null,
          null,
          null,
          null,
          null,
          null,
          null,
          null,
          null,
          null,
          null,
          null,
          null,
          null,
          null,
          null,
          null,
          null,
          null,
          null,
          null,
          null,
          null,
          null,
          null,
          null,
          null,
          null,
          null,
          null,
          null,
          null,
          null,
          null,
          null,
          null,
          null,
          null,
          null,
          null,
          null,
          null,
          null,
          null,
          null,
          null,
          null,
          null,
          null,
          null,
          null,
          null,
          null,
          null,
          null,
          null,
          null,
          null,
          null,
          null,
          null,
          null,
          null,
          null,
          null,
          null,
          null,
          null,
          null,
          null,
          null,
          null,
          null,
          null,
          null,
          null,
          null,
          null,
          null,
          null,
          null,
          null,
          null,
          null,
          null,
          null,
          null,
          null,
          null,
          null,
          null,
          null,
          null,
          null,
          null,
          null,
          null,
          null,
          null,
          null,
          null,
          null,
          null,
          null,
          null,
          null,
          null,
          null,
          null,
          null,
          null,
          null,
          null,
          null,
          null,
          null,
          null,
          null,
          null,
          null,
          null,
          null,
          null,
          null
         ],
         "legendgroup": "",
         "name": "",
         "showlegend": true,
         "type": "pie"
        }
       ],
       "layout": {
        "height": 400,
        "legend": {
         "tracegroupgap": 0
        },
        "template": {
         "data": {
          "bar": [
           {
            "error_x": {
             "color": "rgb(51,51,51)"
            },
            "error_y": {
             "color": "rgb(51,51,51)"
            },
            "marker": {
             "line": {
              "color": "rgb(237,237,237)",
              "width": 0.5
             },
             "pattern": {
              "fillmode": "overlay",
              "size": 10,
              "solidity": 0.2
             }
            },
            "type": "bar"
           }
          ],
          "barpolar": [
           {
            "marker": {
             "line": {
              "color": "rgb(237,237,237)",
              "width": 0.5
             },
             "pattern": {
              "fillmode": "overlay",
              "size": 10,
              "solidity": 0.2
             }
            },
            "type": "barpolar"
           }
          ],
          "carpet": [
           {
            "aaxis": {
             "endlinecolor": "rgb(51,51,51)",
             "gridcolor": "white",
             "linecolor": "white",
             "minorgridcolor": "white",
             "startlinecolor": "rgb(51,51,51)"
            },
            "baxis": {
             "endlinecolor": "rgb(51,51,51)",
             "gridcolor": "white",
             "linecolor": "white",
             "minorgridcolor": "white",
             "startlinecolor": "rgb(51,51,51)"
            },
            "type": "carpet"
           }
          ],
          "choropleth": [
           {
            "colorbar": {
             "outlinewidth": 0,
             "tickcolor": "rgb(237,237,237)",
             "ticklen": 6,
             "ticks": "inside"
            },
            "type": "choropleth"
           }
          ],
          "contour": [
           {
            "colorbar": {
             "outlinewidth": 0,
             "tickcolor": "rgb(237,237,237)",
             "ticklen": 6,
             "ticks": "inside"
            },
            "colorscale": [
             [
              0,
              "rgb(20,44,66)"
             ],
             [
              1,
              "rgb(90,179,244)"
             ]
            ],
            "type": "contour"
           }
          ],
          "contourcarpet": [
           {
            "colorbar": {
             "outlinewidth": 0,
             "tickcolor": "rgb(237,237,237)",
             "ticklen": 6,
             "ticks": "inside"
            },
            "type": "contourcarpet"
           }
          ],
          "heatmap": [
           {
            "colorbar": {
             "outlinewidth": 0,
             "tickcolor": "rgb(237,237,237)",
             "ticklen": 6,
             "ticks": "inside"
            },
            "colorscale": [
             [
              0,
              "rgb(20,44,66)"
             ],
             [
              1,
              "rgb(90,179,244)"
             ]
            ],
            "type": "heatmap"
           }
          ],
          "heatmapgl": [
           {
            "colorbar": {
             "outlinewidth": 0,
             "tickcolor": "rgb(237,237,237)",
             "ticklen": 6,
             "ticks": "inside"
            },
            "colorscale": [
             [
              0,
              "rgb(20,44,66)"
             ],
             [
              1,
              "rgb(90,179,244)"
             ]
            ],
            "type": "heatmapgl"
           }
          ],
          "histogram": [
           {
            "marker": {
             "pattern": {
              "fillmode": "overlay",
              "size": 10,
              "solidity": 0.2
             }
            },
            "type": "histogram"
           }
          ],
          "histogram2d": [
           {
            "colorbar": {
             "outlinewidth": 0,
             "tickcolor": "rgb(237,237,237)",
             "ticklen": 6,
             "ticks": "inside"
            },
            "colorscale": [
             [
              0,
              "rgb(20,44,66)"
             ],
             [
              1,
              "rgb(90,179,244)"
             ]
            ],
            "type": "histogram2d"
           }
          ],
          "histogram2dcontour": [
           {
            "colorbar": {
             "outlinewidth": 0,
             "tickcolor": "rgb(237,237,237)",
             "ticklen": 6,
             "ticks": "inside"
            },
            "colorscale": [
             [
              0,
              "rgb(20,44,66)"
             ],
             [
              1,
              "rgb(90,179,244)"
             ]
            ],
            "type": "histogram2dcontour"
           }
          ],
          "mesh3d": [
           {
            "colorbar": {
             "outlinewidth": 0,
             "tickcolor": "rgb(237,237,237)",
             "ticklen": 6,
             "ticks": "inside"
            },
            "type": "mesh3d"
           }
          ],
          "parcoords": [
           {
            "line": {
             "colorbar": {
              "outlinewidth": 0,
              "tickcolor": "rgb(237,237,237)",
              "ticklen": 6,
              "ticks": "inside"
             }
            },
            "type": "parcoords"
           }
          ],
          "pie": [
           {
            "automargin": true,
            "type": "pie"
           }
          ],
          "scatter": [
           {
            "fillpattern": {
             "fillmode": "overlay",
             "size": 10,
             "solidity": 0.2
            },
            "type": "scatter"
           }
          ],
          "scatter3d": [
           {
            "line": {
             "colorbar": {
              "outlinewidth": 0,
              "tickcolor": "rgb(237,237,237)",
              "ticklen": 6,
              "ticks": "inside"
             }
            },
            "marker": {
             "colorbar": {
              "outlinewidth": 0,
              "tickcolor": "rgb(237,237,237)",
              "ticklen": 6,
              "ticks": "inside"
             }
            },
            "type": "scatter3d"
           }
          ],
          "scattercarpet": [
           {
            "marker": {
             "colorbar": {
              "outlinewidth": 0,
              "tickcolor": "rgb(237,237,237)",
              "ticklen": 6,
              "ticks": "inside"
             }
            },
            "type": "scattercarpet"
           }
          ],
          "scattergeo": [
           {
            "marker": {
             "colorbar": {
              "outlinewidth": 0,
              "tickcolor": "rgb(237,237,237)",
              "ticklen": 6,
              "ticks": "inside"
             }
            },
            "type": "scattergeo"
           }
          ],
          "scattergl": [
           {
            "marker": {
             "colorbar": {
              "outlinewidth": 0,
              "tickcolor": "rgb(237,237,237)",
              "ticklen": 6,
              "ticks": "inside"
             }
            },
            "type": "scattergl"
           }
          ],
          "scattermapbox": [
           {
            "marker": {
             "colorbar": {
              "outlinewidth": 0,
              "tickcolor": "rgb(237,237,237)",
              "ticklen": 6,
              "ticks": "inside"
             }
            },
            "type": "scattermapbox"
           }
          ],
          "scatterpolar": [
           {
            "marker": {
             "colorbar": {
              "outlinewidth": 0,
              "tickcolor": "rgb(237,237,237)",
              "ticklen": 6,
              "ticks": "inside"
             }
            },
            "type": "scatterpolar"
           }
          ],
          "scatterpolargl": [
           {
            "marker": {
             "colorbar": {
              "outlinewidth": 0,
              "tickcolor": "rgb(237,237,237)",
              "ticklen": 6,
              "ticks": "inside"
             }
            },
            "type": "scatterpolargl"
           }
          ],
          "scatterternary": [
           {
            "marker": {
             "colorbar": {
              "outlinewidth": 0,
              "tickcolor": "rgb(237,237,237)",
              "ticklen": 6,
              "ticks": "inside"
             }
            },
            "type": "scatterternary"
           }
          ],
          "surface": [
           {
            "colorbar": {
             "outlinewidth": 0,
             "tickcolor": "rgb(237,237,237)",
             "ticklen": 6,
             "ticks": "inside"
            },
            "colorscale": [
             [
              0,
              "rgb(20,44,66)"
             ],
             [
              1,
              "rgb(90,179,244)"
             ]
            ],
            "type": "surface"
           }
          ],
          "table": [
           {
            "cells": {
             "fill": {
              "color": "rgb(237,237,237)"
             },
             "line": {
              "color": "white"
             }
            },
            "header": {
             "fill": {
              "color": "rgb(217,217,217)"
             },
             "line": {
              "color": "white"
             }
            },
            "type": "table"
           }
          ]
         },
         "layout": {
          "annotationdefaults": {
           "arrowhead": 0,
           "arrowwidth": 1
          },
          "autotypenumbers": "strict",
          "coloraxis": {
           "colorbar": {
            "outlinewidth": 0,
            "tickcolor": "rgb(237,237,237)",
            "ticklen": 6,
            "ticks": "inside"
           }
          },
          "colorscale": {
           "sequential": [
            [
             0,
             "rgb(20,44,66)"
            ],
            [
             1,
             "rgb(90,179,244)"
            ]
           ],
           "sequentialminus": [
            [
             0,
             "rgb(20,44,66)"
            ],
            [
             1,
             "rgb(90,179,244)"
            ]
           ]
          },
          "colorway": [
           "#277da1",
           "#577590",
           "#4d908e",
           "#43aa8b",
           "#90be6d",
           "#f9c74f",
           "#f9844a",
           "#f8961e",
           "#f3722c",
           "#f94144",
           "#a8dce2",
           "#b3bfc9",
           "#a8cfc9",
           "#a8dfd2",
           "#d2e8c0",
           "#fde7a6",
           "#f9cfbd",
           "#fbd3a7",
           "#f9b39c",
           "#f9a3a5"
          ],
          "font": {
           "color": "rgb(51,51,51)"
          },
          "geo": {
           "bgcolor": "white",
           "lakecolor": "white",
           "landcolor": "rgb(237,237,237)",
           "showlakes": true,
           "showland": true,
           "subunitcolor": "white"
          },
          "hoverlabel": {
           "align": "left"
          },
          "hovermode": "closest",
          "paper_bgcolor": "rgba(0,0,0,0)",
          "plot_bgcolor": "rgba(0,0,0,0)",
          "polar": {
           "angularaxis": {
            "gridcolor": "white",
            "linecolor": "white",
            "showgrid": true,
            "tickcolor": "rgb(51,51,51)",
            "ticks": "outside"
           },
           "bgcolor": "rgb(237,237,237)",
           "radialaxis": {
            "gridcolor": "white",
            "linecolor": "white",
            "showgrid": true,
            "tickcolor": "rgb(51,51,51)",
            "ticks": "outside"
           }
          },
          "scene": {
           "xaxis": {
            "backgroundcolor": "rgb(237,237,237)",
            "gridcolor": "white",
            "gridwidth": 2,
            "linecolor": "white",
            "showbackground": true,
            "showgrid": true,
            "tickcolor": "rgb(51,51,51)",
            "ticks": "outside",
            "zerolinecolor": "white"
           },
           "yaxis": {
            "backgroundcolor": "rgb(237,237,237)",
            "gridcolor": "white",
            "gridwidth": 2,
            "linecolor": "white",
            "showbackground": true,
            "showgrid": true,
            "tickcolor": "rgb(51,51,51)",
            "ticks": "outside",
            "zerolinecolor": "white"
           },
           "zaxis": {
            "backgroundcolor": "rgb(237,237,237)",
            "gridcolor": "white",
            "gridwidth": 2,
            "linecolor": "white",
            "showbackground": true,
            "showgrid": true,
            "tickcolor": "rgb(51,51,51)",
            "ticks": "outside",
            "zerolinecolor": "white"
           }
          },
          "shapedefaults": {
           "fillcolor": "black",
           "line": {
            "width": 0
           },
           "opacity": 0.3
          },
          "ternary": {
           "aaxis": {
            "gridcolor": "white",
            "linecolor": "white",
            "showgrid": true,
            "tickcolor": "rgb(51,51,51)",
            "ticks": "outside"
           },
           "baxis": {
            "gridcolor": "white",
            "linecolor": "white",
            "showgrid": true,
            "tickcolor": "rgb(51,51,51)",
            "ticks": "outside"
           },
           "bgcolor": "rgb(237,237,237)",
           "caxis": {
            "gridcolor": "white",
            "linecolor": "white",
            "showgrid": true,
            "tickcolor": "rgb(51,51,51)",
            "ticks": "outside"
           }
          },
          "xaxis": {
           "automargin": true,
           "gridcolor": "white",
           "linecolor": "white",
           "showgrid": true,
           "tickcolor": "rgb(51,51,51)",
           "ticks": "outside",
           "title": {
            "standoff": 15
           },
           "zerolinecolor": "white"
          },
          "yaxis": {
           "automargin": true,
           "gridcolor": "white",
           "linecolor": "white",
           "showgrid": true,
           "tickcolor": "rgb(51,51,51)",
           "ticks": "outside",
           "title": {
            "standoff": 15
           },
           "zerolinecolor": "white"
          }
         }
        },
        "title": {
         "text": "Age Group Distribution"
        },
        "width": 800
       }
      }
     },
     "metadata": {},
     "output_type": "display_data"
    }
   ],
   "source": [
    "fig = px.pie(\n",
    "    unique_studies,\n",
    "    names=\"age-group\",\n",
    "    title=\"Age Group Distribution\",\n",
    "    width=800,\n",
    "    height=400,\n",
    "    template=CHART_LAYOUT.template.value,\n",
    ")\n",
    "\n",
    "fig.show()\n",
    "\n",
    "# TK: Should we merge combination of age groups into a range, e.g. 18-39? Also, there is an overlap in the categories (e.g. \"Young Adults\")"
   ]
  },
  {
   "cell_type": "markdown",
   "metadata": {},
   "source": [
    "#### Female-Male Ratio"
   ]
  },
  {
   "cell_type": "code",
   "execution_count": 173,
   "metadata": {},
   "outputs": [
    {
     "data": {
      "application/vnd.plotly.v1+json": {
       "config": {
        "plotlyServerURL": "https://plot.ly"
       },
       "data": [
        {
         "alignmentgroup": "True",
         "box": {
          "visible": false
         },
         "hovertemplate": "fem-total-ratio=%{y}<extra></extra>",
         "legendgroup": "",
         "marker": {
          "color": "#277da1"
         },
         "name": "",
         "offsetgroup": "",
         "orientation": "v",
         "scalegroup": "True",
         "showlegend": false,
         "type": "violin",
         "x0": " ",
         "xaxis": "x",
         "y": [
          0.44,
          0.5,
          0.52,
          0.52,
          0.5,
          0.5,
          0.5,
          0.5,
          0,
          0.5,
          0,
          0.5,
          0.5,
          0.5,
          0.39,
          0.6,
          0.47,
          0.5,
          0.5,
          0.5,
          0.5,
          0.5,
          0.5,
          0.5,
          0.5,
          0.35,
          0.5577000000000001,
          0.55,
          0.5,
          0.5517,
          0.5,
          0.5,
          0.3333,
          0.5,
          0.5468999999999999,
          0.3333,
          0,
          0.5,
          0.5,
          0.5,
          0.55,
          0.5,
          0.5,
          0.5,
          0.5,
          0.5,
          0,
          0.5,
          0.5,
          0,
          0.5,
          0.5,
          0.55,
          0,
          0.4924,
          0,
          0.5,
          0.4,
          0.4,
          0.1765,
          0.3636,
          0.5,
          0.5714,
          0.5,
          0.5,
          0,
          0.5,
          0.5,
          0.5056,
          0.5714,
          0,
          0.5,
          0.5,
          0.32409999999999994,
          0.5,
          0.5,
          0.5,
          0.5517,
          0.5,
          0,
          0.5,
          0.5,
          0.2,
          0.5,
          0.5,
          0.5,
          0.4211,
          0,
          0.5,
          0,
          0.5556,
          0,
          0.5,
          0.2,
          0.625,
          0.5161,
          0.5,
          0,
          0.3333,
          0.5,
          0.5,
          0,
          0.5,
          0.4293,
          0,
          0.2286,
          0,
          0.5,
          0.5,
          0,
          0.7631999999999999,
          0.2667,
          0.5,
          0.381,
          0,
          0.5455,
          0.4,
          0,
          0.5952000000000001,
          0.5,
          0.3889,
          0,
          0.5,
          0.5,
          0.5,
          0.3,
          0.5938,
          0.4,
          0.4286,
          0.4545,
          0.5,
          0.5,
          0.375,
          0.4,
          0,
          0,
          0.5,
          0.5,
          0.5,
          0.5,
          0.5128,
          0.5143,
          0.3636,
          0.5,
          0.4,
          0.0833,
          0.23329999999999998,
          0.5,
          0,
          0.5368999999999999,
          0.5,
          0,
          0.3636,
          0.5,
          0.375,
          0.4167,
          0,
          0.5,
          0.5,
          0,
          0.3293,
          0.5,
          0.3,
          0.5,
          0.5,
          0.8214,
          0.5,
          0.4965,
          0.5,
          0.5,
          null,
          0,
          0.5,
          0.5,
          0.2,
          0.3889,
          0.5,
          0.55,
          0.5385,
          0.5,
          0.307,
          0.5,
          0.25,
          0.5,
          0,
          0.3333,
          0.5,
          0,
          0.5,
          0.46149999999999997,
          0.6111,
          0.2,
          0,
          1,
          0.5,
          0.5,
          0.1304,
          0.5161,
          0,
          0.5,
          1,
          0,
          0,
          0,
          0.5,
          0.5,
          0.5,
          0,
          0.5
         ],
         "y0": " ",
         "yaxis": "y"
        }
       ],
       "layout": {
        "height": 400,
        "legend": {
         "tracegroupgap": 0
        },
        "template": {
         "data": {
          "bar": [
           {
            "error_x": {
             "color": "rgb(51,51,51)"
            },
            "error_y": {
             "color": "rgb(51,51,51)"
            },
            "marker": {
             "line": {
              "color": "rgb(237,237,237)",
              "width": 0.5
             },
             "pattern": {
              "fillmode": "overlay",
              "size": 10,
              "solidity": 0.2
             }
            },
            "type": "bar"
           }
          ],
          "barpolar": [
           {
            "marker": {
             "line": {
              "color": "rgb(237,237,237)",
              "width": 0.5
             },
             "pattern": {
              "fillmode": "overlay",
              "size": 10,
              "solidity": 0.2
             }
            },
            "type": "barpolar"
           }
          ],
          "carpet": [
           {
            "aaxis": {
             "endlinecolor": "rgb(51,51,51)",
             "gridcolor": "white",
             "linecolor": "white",
             "minorgridcolor": "white",
             "startlinecolor": "rgb(51,51,51)"
            },
            "baxis": {
             "endlinecolor": "rgb(51,51,51)",
             "gridcolor": "white",
             "linecolor": "white",
             "minorgridcolor": "white",
             "startlinecolor": "rgb(51,51,51)"
            },
            "type": "carpet"
           }
          ],
          "choropleth": [
           {
            "colorbar": {
             "outlinewidth": 0,
             "tickcolor": "rgb(237,237,237)",
             "ticklen": 6,
             "ticks": "inside"
            },
            "type": "choropleth"
           }
          ],
          "contour": [
           {
            "colorbar": {
             "outlinewidth": 0,
             "tickcolor": "rgb(237,237,237)",
             "ticklen": 6,
             "ticks": "inside"
            },
            "colorscale": [
             [
              0,
              "rgb(20,44,66)"
             ],
             [
              1,
              "rgb(90,179,244)"
             ]
            ],
            "type": "contour"
           }
          ],
          "contourcarpet": [
           {
            "colorbar": {
             "outlinewidth": 0,
             "tickcolor": "rgb(237,237,237)",
             "ticklen": 6,
             "ticks": "inside"
            },
            "type": "contourcarpet"
           }
          ],
          "heatmap": [
           {
            "colorbar": {
             "outlinewidth": 0,
             "tickcolor": "rgb(237,237,237)",
             "ticklen": 6,
             "ticks": "inside"
            },
            "colorscale": [
             [
              0,
              "rgb(20,44,66)"
             ],
             [
              1,
              "rgb(90,179,244)"
             ]
            ],
            "type": "heatmap"
           }
          ],
          "heatmapgl": [
           {
            "colorbar": {
             "outlinewidth": 0,
             "tickcolor": "rgb(237,237,237)",
             "ticklen": 6,
             "ticks": "inside"
            },
            "colorscale": [
             [
              0,
              "rgb(20,44,66)"
             ],
             [
              1,
              "rgb(90,179,244)"
             ]
            ],
            "type": "heatmapgl"
           }
          ],
          "histogram": [
           {
            "marker": {
             "pattern": {
              "fillmode": "overlay",
              "size": 10,
              "solidity": 0.2
             }
            },
            "type": "histogram"
           }
          ],
          "histogram2d": [
           {
            "colorbar": {
             "outlinewidth": 0,
             "tickcolor": "rgb(237,237,237)",
             "ticklen": 6,
             "ticks": "inside"
            },
            "colorscale": [
             [
              0,
              "rgb(20,44,66)"
             ],
             [
              1,
              "rgb(90,179,244)"
             ]
            ],
            "type": "histogram2d"
           }
          ],
          "histogram2dcontour": [
           {
            "colorbar": {
             "outlinewidth": 0,
             "tickcolor": "rgb(237,237,237)",
             "ticklen": 6,
             "ticks": "inside"
            },
            "colorscale": [
             [
              0,
              "rgb(20,44,66)"
             ],
             [
              1,
              "rgb(90,179,244)"
             ]
            ],
            "type": "histogram2dcontour"
           }
          ],
          "mesh3d": [
           {
            "colorbar": {
             "outlinewidth": 0,
             "tickcolor": "rgb(237,237,237)",
             "ticklen": 6,
             "ticks": "inside"
            },
            "type": "mesh3d"
           }
          ],
          "parcoords": [
           {
            "line": {
             "colorbar": {
              "outlinewidth": 0,
              "tickcolor": "rgb(237,237,237)",
              "ticklen": 6,
              "ticks": "inside"
             }
            },
            "type": "parcoords"
           }
          ],
          "pie": [
           {
            "automargin": true,
            "type": "pie"
           }
          ],
          "scatter": [
           {
            "fillpattern": {
             "fillmode": "overlay",
             "size": 10,
             "solidity": 0.2
            },
            "type": "scatter"
           }
          ],
          "scatter3d": [
           {
            "line": {
             "colorbar": {
              "outlinewidth": 0,
              "tickcolor": "rgb(237,237,237)",
              "ticklen": 6,
              "ticks": "inside"
             }
            },
            "marker": {
             "colorbar": {
              "outlinewidth": 0,
              "tickcolor": "rgb(237,237,237)",
              "ticklen": 6,
              "ticks": "inside"
             }
            },
            "type": "scatter3d"
           }
          ],
          "scattercarpet": [
           {
            "marker": {
             "colorbar": {
              "outlinewidth": 0,
              "tickcolor": "rgb(237,237,237)",
              "ticklen": 6,
              "ticks": "inside"
             }
            },
            "type": "scattercarpet"
           }
          ],
          "scattergeo": [
           {
            "marker": {
             "colorbar": {
              "outlinewidth": 0,
              "tickcolor": "rgb(237,237,237)",
              "ticklen": 6,
              "ticks": "inside"
             }
            },
            "type": "scattergeo"
           }
          ],
          "scattergl": [
           {
            "marker": {
             "colorbar": {
              "outlinewidth": 0,
              "tickcolor": "rgb(237,237,237)",
              "ticklen": 6,
              "ticks": "inside"
             }
            },
            "type": "scattergl"
           }
          ],
          "scattermapbox": [
           {
            "marker": {
             "colorbar": {
              "outlinewidth": 0,
              "tickcolor": "rgb(237,237,237)",
              "ticklen": 6,
              "ticks": "inside"
             }
            },
            "type": "scattermapbox"
           }
          ],
          "scatterpolar": [
           {
            "marker": {
             "colorbar": {
              "outlinewidth": 0,
              "tickcolor": "rgb(237,237,237)",
              "ticklen": 6,
              "ticks": "inside"
             }
            },
            "type": "scatterpolar"
           }
          ],
          "scatterpolargl": [
           {
            "marker": {
             "colorbar": {
              "outlinewidth": 0,
              "tickcolor": "rgb(237,237,237)",
              "ticklen": 6,
              "ticks": "inside"
             }
            },
            "type": "scatterpolargl"
           }
          ],
          "scatterternary": [
           {
            "marker": {
             "colorbar": {
              "outlinewidth": 0,
              "tickcolor": "rgb(237,237,237)",
              "ticklen": 6,
              "ticks": "inside"
             }
            },
            "type": "scatterternary"
           }
          ],
          "surface": [
           {
            "colorbar": {
             "outlinewidth": 0,
             "tickcolor": "rgb(237,237,237)",
             "ticklen": 6,
             "ticks": "inside"
            },
            "colorscale": [
             [
              0,
              "rgb(20,44,66)"
             ],
             [
              1,
              "rgb(90,179,244)"
             ]
            ],
            "type": "surface"
           }
          ],
          "table": [
           {
            "cells": {
             "fill": {
              "color": "rgb(237,237,237)"
             },
             "line": {
              "color": "white"
             }
            },
            "header": {
             "fill": {
              "color": "rgb(217,217,217)"
             },
             "line": {
              "color": "white"
             }
            },
            "type": "table"
           }
          ]
         },
         "layout": {
          "annotationdefaults": {
           "arrowhead": 0,
           "arrowwidth": 1
          },
          "autotypenumbers": "strict",
          "coloraxis": {
           "colorbar": {
            "outlinewidth": 0,
            "tickcolor": "rgb(237,237,237)",
            "ticklen": 6,
            "ticks": "inside"
           }
          },
          "colorscale": {
           "sequential": [
            [
             0,
             "rgb(20,44,66)"
            ],
            [
             1,
             "rgb(90,179,244)"
            ]
           ],
           "sequentialminus": [
            [
             0,
             "rgb(20,44,66)"
            ],
            [
             1,
             "rgb(90,179,244)"
            ]
           ]
          },
          "colorway": [
           "#277da1",
           "#577590",
           "#4d908e",
           "#43aa8b",
           "#90be6d",
           "#f9c74f",
           "#f9844a",
           "#f8961e",
           "#f3722c",
           "#f94144",
           "#a8dce2",
           "#b3bfc9",
           "#a8cfc9",
           "#a8dfd2",
           "#d2e8c0",
           "#fde7a6",
           "#f9cfbd",
           "#fbd3a7",
           "#f9b39c",
           "#f9a3a5"
          ],
          "font": {
           "color": "rgb(51,51,51)"
          },
          "geo": {
           "bgcolor": "white",
           "lakecolor": "white",
           "landcolor": "rgb(237,237,237)",
           "showlakes": true,
           "showland": true,
           "subunitcolor": "white"
          },
          "hoverlabel": {
           "align": "left"
          },
          "hovermode": "closest",
          "paper_bgcolor": "rgba(0,0,0,0)",
          "plot_bgcolor": "rgba(0,0,0,0)",
          "polar": {
           "angularaxis": {
            "gridcolor": "white",
            "linecolor": "white",
            "showgrid": true,
            "tickcolor": "rgb(51,51,51)",
            "ticks": "outside"
           },
           "bgcolor": "rgb(237,237,237)",
           "radialaxis": {
            "gridcolor": "white",
            "linecolor": "white",
            "showgrid": true,
            "tickcolor": "rgb(51,51,51)",
            "ticks": "outside"
           }
          },
          "scene": {
           "xaxis": {
            "backgroundcolor": "rgb(237,237,237)",
            "gridcolor": "white",
            "gridwidth": 2,
            "linecolor": "white",
            "showbackground": true,
            "showgrid": true,
            "tickcolor": "rgb(51,51,51)",
            "ticks": "outside",
            "zerolinecolor": "white"
           },
           "yaxis": {
            "backgroundcolor": "rgb(237,237,237)",
            "gridcolor": "white",
            "gridwidth": 2,
            "linecolor": "white",
            "showbackground": true,
            "showgrid": true,
            "tickcolor": "rgb(51,51,51)",
            "ticks": "outside",
            "zerolinecolor": "white"
           },
           "zaxis": {
            "backgroundcolor": "rgb(237,237,237)",
            "gridcolor": "white",
            "gridwidth": 2,
            "linecolor": "white",
            "showbackground": true,
            "showgrid": true,
            "tickcolor": "rgb(51,51,51)",
            "ticks": "outside",
            "zerolinecolor": "white"
           }
          },
          "shapedefaults": {
           "fillcolor": "black",
           "line": {
            "width": 0
           },
           "opacity": 0.3
          },
          "ternary": {
           "aaxis": {
            "gridcolor": "white",
            "linecolor": "white",
            "showgrid": true,
            "tickcolor": "rgb(51,51,51)",
            "ticks": "outside"
           },
           "baxis": {
            "gridcolor": "white",
            "linecolor": "white",
            "showgrid": true,
            "tickcolor": "rgb(51,51,51)",
            "ticks": "outside"
           },
           "bgcolor": "rgb(237,237,237)",
           "caxis": {
            "gridcolor": "white",
            "linecolor": "white",
            "showgrid": true,
            "tickcolor": "rgb(51,51,51)",
            "ticks": "outside"
           }
          },
          "xaxis": {
           "automargin": true,
           "gridcolor": "white",
           "linecolor": "white",
           "showgrid": true,
           "tickcolor": "rgb(51,51,51)",
           "ticks": "outside",
           "title": {
            "standoff": 15
           },
           "zerolinecolor": "white"
          },
          "yaxis": {
           "automargin": true,
           "gridcolor": "white",
           "linecolor": "white",
           "showgrid": true,
           "tickcolor": "rgb(51,51,51)",
           "ticks": "outside",
           "title": {
            "standoff": 15
           },
           "zerolinecolor": "white"
          }
         }
        },
        "title": {
         "text": "Sex-at-Birth Ratio in Studies"
        },
        "violinmode": "group",
        "width": 400,
        "xaxis": {
         "anchor": "y",
         "domain": [
          0,
          1
         ]
        },
        "yaxis": {
         "anchor": "x",
         "domain": [
          0,
          1
         ],
         "title": {
          "text": "fem-total-ratio"
         }
        }
       }
      }
     },
     "metadata": {},
     "output_type": "display_data"
    }
   ],
   "source": [
    "#! for now, converting percentage string to ratio between 0 and 1: FIX THIS\n",
    "df = unique_studies.copy()\n",
    "df = df.loc[df[\"fem-total-ratio\"] != \"NR\"]\n",
    "df[\"fem-total-ratio\"] = pd.to_numeric(df[\"fem-total-ratio\"].str.replace('%', '')) / 100\n",
    "\n",
    "fig = px.violin(\n",
    "    df,\n",
    "    y=\"fem-total-ratio\",\n",
    "    # box=True,\n",
    "    # points=\"all\",\n",
    "    title=\"Sex-at-Birth Ratio in Studies\",\n",
    "    width=400,\n",
    "    height=400,\n",
    "    template=CHART_LAYOUT.template.value,\n",
    ")\n",
    "\n",
    "fig.show()\n",
    "\n",
    "# TK: Do people usually report gender or sex? And how certain can we be thet the values are correct?"
   ]
  },
  {
   "cell_type": "markdown",
   "metadata": {},
   "source": [
    "#### No. Participants"
   ]
  },
  {
   "cell_type": "code",
   "execution_count": 176,
   "metadata": {},
   "outputs": [
    {
     "data": {
      "application/vnd.plotly.v1+json": {
       "config": {
        "plotlyServerURL": "https://plot.ly"
       },
       "data": [
        {
         "alignmentgroup": "True",
         "hovertemplate": "part-no-tot=%{y}<extra></extra>",
         "legendgroup": "",
         "marker": {
          "color": "#277da1"
         },
         "name": "",
         "notched": false,
         "offsetgroup": "",
         "orientation": "v",
         "showlegend": false,
         "type": "box",
         "x0": " ",
         "xaxis": "x",
         "y": [
          16,
          104,
          31,
          27,
          12,
          32,
          8,
          16,
          11,
          16,
          15,
          30,
          24,
          20,
          18,
          15,
          60,
          20,
          20,
          24,
          14,
          32,
          22,
          16,
          36,
          20,
          22,
          52,
          20,
          30,
          29,
          24,
          10,
          12,
          20,
          64,
          30,
          18,
          30,
          32,
          24,
          20,
          20,
          48,
          32,
          30,
          20,
          10,
          22,
          48,
          1,
          6,
          32,
          20,
          1,
          32,
          20,
          20,
          10,
          17,
          55,
          20,
          14,
          8,
          20,
          14,
          8,
          16,
          89,
          7,
          7,
          20,
          14,
          36,
          216,
          24,
          32,
          40,
          29,
          24,
          30,
          32,
          14,
          20,
          50,
          36,
          16,
          19,
          16,
          10,
          16,
          27,
          24,
          60,
          20,
          8,
          62,
          32,
          25,
          24,
          32,
          30,
          20,
          6,
          10,
          30,
          205,
          18,
          35,
          18,
          20,
          18,
          20,
          38,
          15,
          66,
          21,
          3,
          22,
          20,
          18,
          42,
          15,
          84,
          18,
          7,
          24,
          20,
          20,
          10,
          32,
          10,
          15,
          14,
          11,
          32,
          20,
          16,
          20,
          8,
          35,
          24,
          30,
          32,
          2,
          39,
          5,
          35,
          33,
          20,
          25,
          6,
          75,
          12,
          30,
          20,
          6,
          20,
          17,
          22,
          16,
          8,
          12,
          41,
          20,
          20,
          50,
          82,
          30,
          10,
          20,
          30,
          28,
          12,
          141,
          30,
          16,
          60,
          12,
          24,
          10,
          18,
          20,
          20,
          26,
          60,
          10,
          18,
          8,
          16,
          30,
          15,
          24,
          30,
          60,
          13,
          36,
          30,
          5,
          8,
          36,
          24,
          46,
          31,
          10,
          30,
          20,
          40,
          20,
          12,
          16,
          20,
          20,
          40,
          20
         ],
         "y0": " ",
         "yaxis": "y"
        }
       ],
       "layout": {
        "boxmode": "group",
        "height": 550,
        "legend": {
         "tracegroupgap": 0
        },
        "margin": {
         "t": 60
        },
        "template": {
         "data": {
          "bar": [
           {
            "error_x": {
             "color": "rgb(51,51,51)"
            },
            "error_y": {
             "color": "rgb(51,51,51)"
            },
            "marker": {
             "line": {
              "color": "rgb(237,237,237)",
              "width": 0.5
             },
             "pattern": {
              "fillmode": "overlay",
              "size": 10,
              "solidity": 0.2
             }
            },
            "type": "bar"
           }
          ],
          "barpolar": [
           {
            "marker": {
             "line": {
              "color": "rgb(237,237,237)",
              "width": 0.5
             },
             "pattern": {
              "fillmode": "overlay",
              "size": 10,
              "solidity": 0.2
             }
            },
            "type": "barpolar"
           }
          ],
          "carpet": [
           {
            "aaxis": {
             "endlinecolor": "rgb(51,51,51)",
             "gridcolor": "white",
             "linecolor": "white",
             "minorgridcolor": "white",
             "startlinecolor": "rgb(51,51,51)"
            },
            "baxis": {
             "endlinecolor": "rgb(51,51,51)",
             "gridcolor": "white",
             "linecolor": "white",
             "minorgridcolor": "white",
             "startlinecolor": "rgb(51,51,51)"
            },
            "type": "carpet"
           }
          ],
          "choropleth": [
           {
            "colorbar": {
             "outlinewidth": 0,
             "tickcolor": "rgb(237,237,237)",
             "ticklen": 6,
             "ticks": "inside"
            },
            "type": "choropleth"
           }
          ],
          "contour": [
           {
            "colorbar": {
             "outlinewidth": 0,
             "tickcolor": "rgb(237,237,237)",
             "ticklen": 6,
             "ticks": "inside"
            },
            "colorscale": [
             [
              0,
              "rgb(20,44,66)"
             ],
             [
              1,
              "rgb(90,179,244)"
             ]
            ],
            "type": "contour"
           }
          ],
          "contourcarpet": [
           {
            "colorbar": {
             "outlinewidth": 0,
             "tickcolor": "rgb(237,237,237)",
             "ticklen": 6,
             "ticks": "inside"
            },
            "type": "contourcarpet"
           }
          ],
          "heatmap": [
           {
            "colorbar": {
             "outlinewidth": 0,
             "tickcolor": "rgb(237,237,237)",
             "ticklen": 6,
             "ticks": "inside"
            },
            "colorscale": [
             [
              0,
              "rgb(20,44,66)"
             ],
             [
              1,
              "rgb(90,179,244)"
             ]
            ],
            "type": "heatmap"
           }
          ],
          "heatmapgl": [
           {
            "colorbar": {
             "outlinewidth": 0,
             "tickcolor": "rgb(237,237,237)",
             "ticklen": 6,
             "ticks": "inside"
            },
            "colorscale": [
             [
              0,
              "rgb(20,44,66)"
             ],
             [
              1,
              "rgb(90,179,244)"
             ]
            ],
            "type": "heatmapgl"
           }
          ],
          "histogram": [
           {
            "marker": {
             "pattern": {
              "fillmode": "overlay",
              "size": 10,
              "solidity": 0.2
             }
            },
            "type": "histogram"
           }
          ],
          "histogram2d": [
           {
            "colorbar": {
             "outlinewidth": 0,
             "tickcolor": "rgb(237,237,237)",
             "ticklen": 6,
             "ticks": "inside"
            },
            "colorscale": [
             [
              0,
              "rgb(20,44,66)"
             ],
             [
              1,
              "rgb(90,179,244)"
             ]
            ],
            "type": "histogram2d"
           }
          ],
          "histogram2dcontour": [
           {
            "colorbar": {
             "outlinewidth": 0,
             "tickcolor": "rgb(237,237,237)",
             "ticklen": 6,
             "ticks": "inside"
            },
            "colorscale": [
             [
              0,
              "rgb(20,44,66)"
             ],
             [
              1,
              "rgb(90,179,244)"
             ]
            ],
            "type": "histogram2dcontour"
           }
          ],
          "mesh3d": [
           {
            "colorbar": {
             "outlinewidth": 0,
             "tickcolor": "rgb(237,237,237)",
             "ticklen": 6,
             "ticks": "inside"
            },
            "type": "mesh3d"
           }
          ],
          "parcoords": [
           {
            "line": {
             "colorbar": {
              "outlinewidth": 0,
              "tickcolor": "rgb(237,237,237)",
              "ticklen": 6,
              "ticks": "inside"
             }
            },
            "type": "parcoords"
           }
          ],
          "pie": [
           {
            "automargin": true,
            "type": "pie"
           }
          ],
          "scatter": [
           {
            "fillpattern": {
             "fillmode": "overlay",
             "size": 10,
             "solidity": 0.2
            },
            "type": "scatter"
           }
          ],
          "scatter3d": [
           {
            "line": {
             "colorbar": {
              "outlinewidth": 0,
              "tickcolor": "rgb(237,237,237)",
              "ticklen": 6,
              "ticks": "inside"
             }
            },
            "marker": {
             "colorbar": {
              "outlinewidth": 0,
              "tickcolor": "rgb(237,237,237)",
              "ticklen": 6,
              "ticks": "inside"
             }
            },
            "type": "scatter3d"
           }
          ],
          "scattercarpet": [
           {
            "marker": {
             "colorbar": {
              "outlinewidth": 0,
              "tickcolor": "rgb(237,237,237)",
              "ticklen": 6,
              "ticks": "inside"
             }
            },
            "type": "scattercarpet"
           }
          ],
          "scattergeo": [
           {
            "marker": {
             "colorbar": {
              "outlinewidth": 0,
              "tickcolor": "rgb(237,237,237)",
              "ticklen": 6,
              "ticks": "inside"
             }
            },
            "type": "scattergeo"
           }
          ],
          "scattergl": [
           {
            "marker": {
             "colorbar": {
              "outlinewidth": 0,
              "tickcolor": "rgb(237,237,237)",
              "ticklen": 6,
              "ticks": "inside"
             }
            },
            "type": "scattergl"
           }
          ],
          "scattermapbox": [
           {
            "marker": {
             "colorbar": {
              "outlinewidth": 0,
              "tickcolor": "rgb(237,237,237)",
              "ticklen": 6,
              "ticks": "inside"
             }
            },
            "type": "scattermapbox"
           }
          ],
          "scatterpolar": [
           {
            "marker": {
             "colorbar": {
              "outlinewidth": 0,
              "tickcolor": "rgb(237,237,237)",
              "ticklen": 6,
              "ticks": "inside"
             }
            },
            "type": "scatterpolar"
           }
          ],
          "scatterpolargl": [
           {
            "marker": {
             "colorbar": {
              "outlinewidth": 0,
              "tickcolor": "rgb(237,237,237)",
              "ticklen": 6,
              "ticks": "inside"
             }
            },
            "type": "scatterpolargl"
           }
          ],
          "scatterternary": [
           {
            "marker": {
             "colorbar": {
              "outlinewidth": 0,
              "tickcolor": "rgb(237,237,237)",
              "ticklen": 6,
              "ticks": "inside"
             }
            },
            "type": "scatterternary"
           }
          ],
          "surface": [
           {
            "colorbar": {
             "outlinewidth": 0,
             "tickcolor": "rgb(237,237,237)",
             "ticklen": 6,
             "ticks": "inside"
            },
            "colorscale": [
             [
              0,
              "rgb(20,44,66)"
             ],
             [
              1,
              "rgb(90,179,244)"
             ]
            ],
            "type": "surface"
           }
          ],
          "table": [
           {
            "cells": {
             "fill": {
              "color": "rgb(237,237,237)"
             },
             "line": {
              "color": "white"
             }
            },
            "header": {
             "fill": {
              "color": "rgb(217,217,217)"
             },
             "line": {
              "color": "white"
             }
            },
            "type": "table"
           }
          ]
         },
         "layout": {
          "annotationdefaults": {
           "arrowhead": 0,
           "arrowwidth": 1
          },
          "autotypenumbers": "strict",
          "coloraxis": {
           "colorbar": {
            "outlinewidth": 0,
            "tickcolor": "rgb(237,237,237)",
            "ticklen": 6,
            "ticks": "inside"
           }
          },
          "colorscale": {
           "sequential": [
            [
             0,
             "rgb(20,44,66)"
            ],
            [
             1,
             "rgb(90,179,244)"
            ]
           ],
           "sequentialminus": [
            [
             0,
             "rgb(20,44,66)"
            ],
            [
             1,
             "rgb(90,179,244)"
            ]
           ]
          },
          "colorway": [
           "#277da1",
           "#577590",
           "#4d908e",
           "#43aa8b",
           "#90be6d",
           "#f9c74f",
           "#f9844a",
           "#f8961e",
           "#f3722c",
           "#f94144",
           "#a8dce2",
           "#b3bfc9",
           "#a8cfc9",
           "#a8dfd2",
           "#d2e8c0",
           "#fde7a6",
           "#f9cfbd",
           "#fbd3a7",
           "#f9b39c",
           "#f9a3a5"
          ],
          "font": {
           "color": "rgb(51,51,51)"
          },
          "geo": {
           "bgcolor": "white",
           "lakecolor": "white",
           "landcolor": "rgb(237,237,237)",
           "showlakes": true,
           "showland": true,
           "subunitcolor": "white"
          },
          "hoverlabel": {
           "align": "left"
          },
          "hovermode": "closest",
          "paper_bgcolor": "rgba(0,0,0,0)",
          "plot_bgcolor": "rgba(0,0,0,0)",
          "polar": {
           "angularaxis": {
            "gridcolor": "white",
            "linecolor": "white",
            "showgrid": true,
            "tickcolor": "rgb(51,51,51)",
            "ticks": "outside"
           },
           "bgcolor": "rgb(237,237,237)",
           "radialaxis": {
            "gridcolor": "white",
            "linecolor": "white",
            "showgrid": true,
            "tickcolor": "rgb(51,51,51)",
            "ticks": "outside"
           }
          },
          "scene": {
           "xaxis": {
            "backgroundcolor": "rgb(237,237,237)",
            "gridcolor": "white",
            "gridwidth": 2,
            "linecolor": "white",
            "showbackground": true,
            "showgrid": true,
            "tickcolor": "rgb(51,51,51)",
            "ticks": "outside",
            "zerolinecolor": "white"
           },
           "yaxis": {
            "backgroundcolor": "rgb(237,237,237)",
            "gridcolor": "white",
            "gridwidth": 2,
            "linecolor": "white",
            "showbackground": true,
            "showgrid": true,
            "tickcolor": "rgb(51,51,51)",
            "ticks": "outside",
            "zerolinecolor": "white"
           },
           "zaxis": {
            "backgroundcolor": "rgb(237,237,237)",
            "gridcolor": "white",
            "gridwidth": 2,
            "linecolor": "white",
            "showbackground": true,
            "showgrid": true,
            "tickcolor": "rgb(51,51,51)",
            "ticks": "outside",
            "zerolinecolor": "white"
           }
          },
          "shapedefaults": {
           "fillcolor": "black",
           "line": {
            "width": 0
           },
           "opacity": 0.3
          },
          "ternary": {
           "aaxis": {
            "gridcolor": "white",
            "linecolor": "white",
            "showgrid": true,
            "tickcolor": "rgb(51,51,51)",
            "ticks": "outside"
           },
           "baxis": {
            "gridcolor": "white",
            "linecolor": "white",
            "showgrid": true,
            "tickcolor": "rgb(51,51,51)",
            "ticks": "outside"
           },
           "bgcolor": "rgb(237,237,237)",
           "caxis": {
            "gridcolor": "white",
            "linecolor": "white",
            "showgrid": true,
            "tickcolor": "rgb(51,51,51)",
            "ticks": "outside"
           }
          },
          "xaxis": {
           "automargin": true,
           "gridcolor": "white",
           "linecolor": "white",
           "showgrid": true,
           "tickcolor": "rgb(51,51,51)",
           "ticks": "outside",
           "title": {
            "standoff": 15
           },
           "zerolinecolor": "white"
          },
          "yaxis": {
           "automargin": true,
           "gridcolor": "white",
           "linecolor": "white",
           "showgrid": true,
           "tickcolor": "rgb(51,51,51)",
           "ticks": "outside",
           "title": {
            "standoff": 15
           },
           "zerolinecolor": "white"
          }
         }
        },
        "width": 600,
        "xaxis": {
         "anchor": "y",
         "domain": [
          0,
          1
         ]
        },
        "yaxis": {
         "anchor": "x",
         "domain": [
          0,
          1
         ],
         "title": {
          "text": "part-no-tot"
         }
        }
       }
      }
     },
     "metadata": {},
     "output_type": "display_data"
    }
   ],
   "source": [
    "df = unique_studies.copy()\n",
    "df = df.loc[df[\"part-no-tot\"] != \"NR\"]\n",
    "df[\"part-no-tot\"] = pd.to_numeric(df[\"part-no-tot\"], errors='coerce')\n",
    "df = df.loc[df[\"part-no-tot\"] < 250]  # filter out three outliers\n",
    "\n",
    "fig = px.box(\n",
    "    df,\n",
    "    y=\"part-no-tot\",\n",
    "    width=600,\n",
    "    height=550,\n",
    "    template=CHART_LAYOUT.template.value,\n",
    ")\n",
    "\n",
    "fig.show()"
   ]
  },
  {
   "cell_type": "markdown",
   "metadata": {},
   "source": [
    "---"
   ]
  },
  {
   "cell_type": "markdown",
   "metadata": {},
   "source": [
    "## Data Processing and Availability"
   ]
  },
  {
   "cell_type": "markdown",
   "metadata": {},
   "source": [
    "#### Data availability"
   ]
  },
  {
   "cell_type": "code",
   "execution_count": 177,
   "metadata": {},
   "outputs": [
    {
     "data": {
      "application/vnd.plotly.v1+json": {
       "config": {
        "plotlyServerURL": "https://plot.ly"
       },
       "data": [
        {
         "alignmentgroup": "True",
         "hovertemplate": "data-avail=%{x}<br>count=%{y}<extra></extra>",
         "legendgroup": "",
         "marker": {
          "color": "#277da1",
          "pattern": {
           "shape": ""
          }
         },
         "name": "",
         "offsetgroup": "",
         "orientation": "v",
         "showlegend": false,
         "textposition": "auto",
         "type": "bar",
         "x": [
          "Upon request",
          "Not available for sharing",
          "Upon request",
          "Not available for sharing",
          "Upon request",
          "Upon request",
          "Upon request",
          "Not available for sharing",
          "NR",
          "Not available for sharing",
          "NR",
          "Upon request",
          "Not available for sharing",
          "Upon request",
          "Available",
          "Not available for sharing",
          "Upon request",
          "Upon request",
          "Upon request",
          "Upon request",
          "Available",
          "Upon request",
          "Not available for sharing",
          "Upon request",
          "Not available for sharing",
          "Upon request",
          "NR",
          "Not available for sharing",
          "Upon request",
          "Upon request",
          "Upon request",
          "NR",
          "NR",
          "NR",
          "NR",
          "Upon request",
          "Upon request",
          "NR",
          "NR",
          "NR",
          "NR",
          "Not available for sharing",
          "Not available for sharing",
          "NR",
          "NR",
          "Upon request",
          "Upon request",
          "Upon request",
          "Not available for sharing",
          "NR",
          "NR",
          "NR",
          "NR",
          "Not available for sharing",
          "NR",
          "NR",
          "Available",
          "Available",
          "Upon request",
          "Upon request",
          "NR",
          "NR",
          "NR",
          "Upon request",
          "Upon request",
          "NR",
          "Not available for sharing",
          "NR",
          "Not available for sharing",
          "NR",
          "Upon request",
          "NR",
          "NR",
          "NR",
          "NR",
          "NR",
          "NR",
          "Upon request",
          "NR",
          "NR",
          "NR",
          "NR",
          "Upon request",
          "NR",
          "NR",
          "NR",
          "NR",
          "NR",
          "NR",
          "NR",
          "NR",
          "NR",
          "NR",
          "NR",
          "NR",
          "NR",
          "NR",
          "Upon request",
          "NR",
          "Available",
          "NR",
          "Upon request",
          "NR",
          "NR",
          "NR",
          "NR",
          "NR",
          "NR",
          "NR",
          "NR",
          "NR",
          "NR",
          "NR",
          "NR",
          "NR",
          "NR",
          "NR",
          "NR",
          "NR",
          "NR",
          "NR",
          "Not available for sharing",
          "NR",
          "NR",
          "NR",
          "Upon request",
          "NR",
          "NR",
          "NR",
          "NR",
          "NR",
          "NR",
          "NR",
          "Not available for sharing",
          "NR",
          "Available",
          "NR",
          "NR",
          "NR",
          "NR",
          "NR",
          "Available",
          "NR",
          "NR",
          "NR",
          "Upon request",
          "NR",
          "NR",
          "NR",
          "NR",
          "NR",
          "NR",
          "NR",
          "NR",
          "NR",
          "NR",
          "NR",
          "NR",
          "NR",
          "NR",
          "NR",
          "NR",
          "NR",
          "NR",
          "NR",
          "NR",
          "NR",
          "NR",
          "NR",
          "NR",
          "NR",
          "NR",
          "NR",
          "NR",
          "NR",
          "NR",
          "NR",
          "NR",
          "NR",
          "NR",
          null,
          "NR",
          "NR",
          "NR",
          "NR",
          "NR",
          "NR",
          "NR",
          "NR",
          "NR",
          "NR",
          "NR",
          "NR",
          "NR",
          "NR",
          "NR",
          "NR",
          "NR",
          "NR",
          "NR",
          "NR",
          "NR",
          "NR",
          "NR",
          "NR",
          "NR",
          "NR",
          "NR",
          "NR",
          "NR",
          "Available",
          "NR",
          "NR",
          "NR",
          "NR",
          "NR",
          "NR",
          "NR",
          "NR",
          "NR"
         ],
         "xaxis": "x",
         "y": [
          1,
          1,
          1,
          1,
          1,
          1,
          1,
          1,
          1,
          1,
          1,
          1,
          1,
          1,
          1,
          1,
          1,
          1,
          1,
          1,
          1,
          1,
          1,
          1,
          1,
          1,
          1,
          1,
          1,
          1,
          1,
          1,
          1,
          1,
          1,
          1,
          1,
          1,
          1,
          1,
          1,
          1,
          1,
          1,
          1,
          1,
          1,
          1,
          1,
          1,
          1,
          1,
          1,
          1,
          1,
          1,
          1,
          1,
          1,
          1,
          1,
          1,
          1,
          1,
          1,
          1,
          1,
          1,
          1,
          1,
          1,
          1,
          1,
          1,
          1,
          1,
          1,
          1,
          1,
          1,
          1,
          1,
          1,
          1,
          1,
          1,
          1,
          1,
          1,
          1,
          1,
          1,
          1,
          1,
          1,
          1,
          1,
          1,
          1,
          1,
          1,
          1,
          1,
          1,
          1,
          1,
          1,
          1,
          1,
          1,
          1,
          1,
          1,
          1,
          1,
          1,
          1,
          1,
          1,
          1,
          1,
          1,
          1,
          1,
          1,
          1,
          1,
          1,
          1,
          1,
          1,
          1,
          1,
          1,
          1,
          1,
          1,
          1,
          1,
          1,
          1,
          1,
          1,
          1,
          1,
          1,
          1,
          1,
          1,
          1,
          1,
          1,
          1,
          1,
          1,
          1,
          1,
          1,
          1,
          1,
          1,
          1,
          1,
          1,
          1,
          1,
          1,
          1,
          1,
          1,
          1,
          1,
          1,
          1,
          1,
          1,
          1,
          1,
          1,
          1,
          1,
          1,
          1,
          1,
          1,
          1,
          1,
          1,
          1,
          1,
          1,
          1,
          1,
          1,
          1,
          1,
          1,
          1,
          1,
          1,
          1,
          1,
          1,
          1,
          1,
          1,
          1,
          1,
          1,
          1,
          1,
          1,
          1,
          1,
          1,
          1,
          1,
          1,
          1,
          1
         ],
         "yaxis": "y"
        }
       ],
       "layout": {
        "barmode": "relative",
        "height": 400,
        "legend": {
         "tracegroupgap": 0
        },
        "template": {
         "data": {
          "bar": [
           {
            "error_x": {
             "color": "rgb(51,51,51)"
            },
            "error_y": {
             "color": "rgb(51,51,51)"
            },
            "marker": {
             "line": {
              "color": "rgb(237,237,237)",
              "width": 0.5
             },
             "pattern": {
              "fillmode": "overlay",
              "size": 10,
              "solidity": 0.2
             }
            },
            "type": "bar"
           }
          ],
          "barpolar": [
           {
            "marker": {
             "line": {
              "color": "rgb(237,237,237)",
              "width": 0.5
             },
             "pattern": {
              "fillmode": "overlay",
              "size": 10,
              "solidity": 0.2
             }
            },
            "type": "barpolar"
           }
          ],
          "carpet": [
           {
            "aaxis": {
             "endlinecolor": "rgb(51,51,51)",
             "gridcolor": "white",
             "linecolor": "white",
             "minorgridcolor": "white",
             "startlinecolor": "rgb(51,51,51)"
            },
            "baxis": {
             "endlinecolor": "rgb(51,51,51)",
             "gridcolor": "white",
             "linecolor": "white",
             "minorgridcolor": "white",
             "startlinecolor": "rgb(51,51,51)"
            },
            "type": "carpet"
           }
          ],
          "choropleth": [
           {
            "colorbar": {
             "outlinewidth": 0,
             "tickcolor": "rgb(237,237,237)",
             "ticklen": 6,
             "ticks": "inside"
            },
            "type": "choropleth"
           }
          ],
          "contour": [
           {
            "colorbar": {
             "outlinewidth": 0,
             "tickcolor": "rgb(237,237,237)",
             "ticklen": 6,
             "ticks": "inside"
            },
            "colorscale": [
             [
              0,
              "rgb(20,44,66)"
             ],
             [
              1,
              "rgb(90,179,244)"
             ]
            ],
            "type": "contour"
           }
          ],
          "contourcarpet": [
           {
            "colorbar": {
             "outlinewidth": 0,
             "tickcolor": "rgb(237,237,237)",
             "ticklen": 6,
             "ticks": "inside"
            },
            "type": "contourcarpet"
           }
          ],
          "heatmap": [
           {
            "colorbar": {
             "outlinewidth": 0,
             "tickcolor": "rgb(237,237,237)",
             "ticklen": 6,
             "ticks": "inside"
            },
            "colorscale": [
             [
              0,
              "rgb(20,44,66)"
             ],
             [
              1,
              "rgb(90,179,244)"
             ]
            ],
            "type": "heatmap"
           }
          ],
          "heatmapgl": [
           {
            "colorbar": {
             "outlinewidth": 0,
             "tickcolor": "rgb(237,237,237)",
             "ticklen": 6,
             "ticks": "inside"
            },
            "colorscale": [
             [
              0,
              "rgb(20,44,66)"
             ],
             [
              1,
              "rgb(90,179,244)"
             ]
            ],
            "type": "heatmapgl"
           }
          ],
          "histogram": [
           {
            "marker": {
             "pattern": {
              "fillmode": "overlay",
              "size": 10,
              "solidity": 0.2
             }
            },
            "type": "histogram"
           }
          ],
          "histogram2d": [
           {
            "colorbar": {
             "outlinewidth": 0,
             "tickcolor": "rgb(237,237,237)",
             "ticklen": 6,
             "ticks": "inside"
            },
            "colorscale": [
             [
              0,
              "rgb(20,44,66)"
             ],
             [
              1,
              "rgb(90,179,244)"
             ]
            ],
            "type": "histogram2d"
           }
          ],
          "histogram2dcontour": [
           {
            "colorbar": {
             "outlinewidth": 0,
             "tickcolor": "rgb(237,237,237)",
             "ticklen": 6,
             "ticks": "inside"
            },
            "colorscale": [
             [
              0,
              "rgb(20,44,66)"
             ],
             [
              1,
              "rgb(90,179,244)"
             ]
            ],
            "type": "histogram2dcontour"
           }
          ],
          "mesh3d": [
           {
            "colorbar": {
             "outlinewidth": 0,
             "tickcolor": "rgb(237,237,237)",
             "ticklen": 6,
             "ticks": "inside"
            },
            "type": "mesh3d"
           }
          ],
          "parcoords": [
           {
            "line": {
             "colorbar": {
              "outlinewidth": 0,
              "tickcolor": "rgb(237,237,237)",
              "ticklen": 6,
              "ticks": "inside"
             }
            },
            "type": "parcoords"
           }
          ],
          "pie": [
           {
            "automargin": true,
            "type": "pie"
           }
          ],
          "scatter": [
           {
            "fillpattern": {
             "fillmode": "overlay",
             "size": 10,
             "solidity": 0.2
            },
            "type": "scatter"
           }
          ],
          "scatter3d": [
           {
            "line": {
             "colorbar": {
              "outlinewidth": 0,
              "tickcolor": "rgb(237,237,237)",
              "ticklen": 6,
              "ticks": "inside"
             }
            },
            "marker": {
             "colorbar": {
              "outlinewidth": 0,
              "tickcolor": "rgb(237,237,237)",
              "ticklen": 6,
              "ticks": "inside"
             }
            },
            "type": "scatter3d"
           }
          ],
          "scattercarpet": [
           {
            "marker": {
             "colorbar": {
              "outlinewidth": 0,
              "tickcolor": "rgb(237,237,237)",
              "ticklen": 6,
              "ticks": "inside"
             }
            },
            "type": "scattercarpet"
           }
          ],
          "scattergeo": [
           {
            "marker": {
             "colorbar": {
              "outlinewidth": 0,
              "tickcolor": "rgb(237,237,237)",
              "ticklen": 6,
              "ticks": "inside"
             }
            },
            "type": "scattergeo"
           }
          ],
          "scattergl": [
           {
            "marker": {
             "colorbar": {
              "outlinewidth": 0,
              "tickcolor": "rgb(237,237,237)",
              "ticklen": 6,
              "ticks": "inside"
             }
            },
            "type": "scattergl"
           }
          ],
          "scattermapbox": [
           {
            "marker": {
             "colorbar": {
              "outlinewidth": 0,
              "tickcolor": "rgb(237,237,237)",
              "ticklen": 6,
              "ticks": "inside"
             }
            },
            "type": "scattermapbox"
           }
          ],
          "scatterpolar": [
           {
            "marker": {
             "colorbar": {
              "outlinewidth": 0,
              "tickcolor": "rgb(237,237,237)",
              "ticklen": 6,
              "ticks": "inside"
             }
            },
            "type": "scatterpolar"
           }
          ],
          "scatterpolargl": [
           {
            "marker": {
             "colorbar": {
              "outlinewidth": 0,
              "tickcolor": "rgb(237,237,237)",
              "ticklen": 6,
              "ticks": "inside"
             }
            },
            "type": "scatterpolargl"
           }
          ],
          "scatterternary": [
           {
            "marker": {
             "colorbar": {
              "outlinewidth": 0,
              "tickcolor": "rgb(237,237,237)",
              "ticklen": 6,
              "ticks": "inside"
             }
            },
            "type": "scatterternary"
           }
          ],
          "surface": [
           {
            "colorbar": {
             "outlinewidth": 0,
             "tickcolor": "rgb(237,237,237)",
             "ticklen": 6,
             "ticks": "inside"
            },
            "colorscale": [
             [
              0,
              "rgb(20,44,66)"
             ],
             [
              1,
              "rgb(90,179,244)"
             ]
            ],
            "type": "surface"
           }
          ],
          "table": [
           {
            "cells": {
             "fill": {
              "color": "rgb(237,237,237)"
             },
             "line": {
              "color": "white"
             }
            },
            "header": {
             "fill": {
              "color": "rgb(217,217,217)"
             },
             "line": {
              "color": "white"
             }
            },
            "type": "table"
           }
          ]
         },
         "layout": {
          "annotationdefaults": {
           "arrowhead": 0,
           "arrowwidth": 1
          },
          "autotypenumbers": "strict",
          "coloraxis": {
           "colorbar": {
            "outlinewidth": 0,
            "tickcolor": "rgb(237,237,237)",
            "ticklen": 6,
            "ticks": "inside"
           }
          },
          "colorscale": {
           "sequential": [
            [
             0,
             "rgb(20,44,66)"
            ],
            [
             1,
             "rgb(90,179,244)"
            ]
           ],
           "sequentialminus": [
            [
             0,
             "rgb(20,44,66)"
            ],
            [
             1,
             "rgb(90,179,244)"
            ]
           ]
          },
          "colorway": [
           "#277da1",
           "#577590",
           "#4d908e",
           "#43aa8b",
           "#90be6d",
           "#f9c74f",
           "#f9844a",
           "#f8961e",
           "#f3722c",
           "#f94144",
           "#a8dce2",
           "#b3bfc9",
           "#a8cfc9",
           "#a8dfd2",
           "#d2e8c0",
           "#fde7a6",
           "#f9cfbd",
           "#fbd3a7",
           "#f9b39c",
           "#f9a3a5"
          ],
          "font": {
           "color": "rgb(51,51,51)"
          },
          "geo": {
           "bgcolor": "white",
           "lakecolor": "white",
           "landcolor": "rgb(237,237,237)",
           "showlakes": true,
           "showland": true,
           "subunitcolor": "white"
          },
          "hoverlabel": {
           "align": "left"
          },
          "hovermode": "closest",
          "paper_bgcolor": "rgba(0,0,0,0)",
          "plot_bgcolor": "rgba(0,0,0,0)",
          "polar": {
           "angularaxis": {
            "gridcolor": "white",
            "linecolor": "white",
            "showgrid": true,
            "tickcolor": "rgb(51,51,51)",
            "ticks": "outside"
           },
           "bgcolor": "rgb(237,237,237)",
           "radialaxis": {
            "gridcolor": "white",
            "linecolor": "white",
            "showgrid": true,
            "tickcolor": "rgb(51,51,51)",
            "ticks": "outside"
           }
          },
          "scene": {
           "xaxis": {
            "backgroundcolor": "rgb(237,237,237)",
            "gridcolor": "white",
            "gridwidth": 2,
            "linecolor": "white",
            "showbackground": true,
            "showgrid": true,
            "tickcolor": "rgb(51,51,51)",
            "ticks": "outside",
            "zerolinecolor": "white"
           },
           "yaxis": {
            "backgroundcolor": "rgb(237,237,237)",
            "gridcolor": "white",
            "gridwidth": 2,
            "linecolor": "white",
            "showbackground": true,
            "showgrid": true,
            "tickcolor": "rgb(51,51,51)",
            "ticks": "outside",
            "zerolinecolor": "white"
           },
           "zaxis": {
            "backgroundcolor": "rgb(237,237,237)",
            "gridcolor": "white",
            "gridwidth": 2,
            "linecolor": "white",
            "showbackground": true,
            "showgrid": true,
            "tickcolor": "rgb(51,51,51)",
            "ticks": "outside",
            "zerolinecolor": "white"
           }
          },
          "shapedefaults": {
           "fillcolor": "black",
           "line": {
            "width": 0
           },
           "opacity": 0.3
          },
          "ternary": {
           "aaxis": {
            "gridcolor": "white",
            "linecolor": "white",
            "showgrid": true,
            "tickcolor": "rgb(51,51,51)",
            "ticks": "outside"
           },
           "baxis": {
            "gridcolor": "white",
            "linecolor": "white",
            "showgrid": true,
            "tickcolor": "rgb(51,51,51)",
            "ticks": "outside"
           },
           "bgcolor": "rgb(237,237,237)",
           "caxis": {
            "gridcolor": "white",
            "linecolor": "white",
            "showgrid": true,
            "tickcolor": "rgb(51,51,51)",
            "ticks": "outside"
           }
          },
          "xaxis": {
           "automargin": true,
           "gridcolor": "white",
           "linecolor": "white",
           "showgrid": true,
           "tickcolor": "rgb(51,51,51)",
           "ticks": "outside",
           "title": {
            "standoff": 15
           },
           "zerolinecolor": "white"
          },
          "yaxis": {
           "automargin": true,
           "gridcolor": "white",
           "linecolor": "white",
           "showgrid": true,
           "tickcolor": "rgb(51,51,51)",
           "ticks": "outside",
           "title": {
            "standoff": 15
           },
           "zerolinecolor": "white"
          }
         }
        },
        "title": {
         "text": "Data Availability in Studies"
        },
        "width": 800,
        "xaxis": {
         "anchor": "y",
         "categoryarray": [
          "Available",
          "Upon request",
          "Not available for sharing",
          "NR"
         ],
         "categoryorder": "array",
         "domain": [
          0,
          1
         ],
         "title": {
          "text": "data-avail"
         }
        },
        "yaxis": {
         "anchor": "x",
         "domain": [
          0,
          1
         ],
         "title": {
          "text": "count"
         }
        }
       }
      }
     },
     "metadata": {},
     "output_type": "display_data"
    }
   ],
   "source": [
    "fig = px.bar(\n",
    "    unique_studies,\n",
    "    x=\"data-avail\",\n",
    "    width=800,\n",
    "    height=400,\n",
    "    title=\"Data Availability in Studies\",\n",
    "    category_orders={\"data-avail\": [\"Available\", \"Upon request\", \"Not available for sharing\", \"NR\"]},\n",
    "    template=CHART_LAYOUT.template.value,\n",
    ")\n",
    "\n",
    "fig.show()"
   ]
  },
  {
   "cell_type": "markdown",
   "metadata": {},
   "source": [
    "## Misc"
   ]
  },
  {
   "cell_type": "code",
   "execution_count": null,
   "metadata": {},
   "outputs": [
    {
     "data": {
      "application/vnd.plotly.v1+json": {
       "config": {
        "plotlyServerURL": "https://plot.ly"
       },
       "data": [
        {
         "coloraxis": "coloraxis",
         "hovertemplate": "Study ID: %{x}<br>Criteria: %{y}<br>Fulfilled: %{z}<extra></extra>",
         "name": "0",
         "type": "heatmap",
         "x": [
          "1",
          "2",
          "3",
          "4",
          "5",
          "6",
          "7",
          "8",
          "9",
          "10",
          "11",
          "12",
          "13",
          "14",
          "15",
          "16",
          "17",
          "18",
          "19",
          "20",
          "21",
          "22",
          "23",
          "24",
          "25",
          "26",
          "27",
          "28",
          "29",
          "30",
          "31",
          "32",
          "33",
          "34",
          "35",
          "36",
          "37",
          "38",
          "39",
          "40",
          "41",
          "42",
          "43",
          "44",
          "45",
          "46",
          "47",
          "48",
          "49",
          "50",
          "51",
          "52",
          "53",
          "54",
          "55",
          "56",
          "57",
          "58",
          "59",
          "60",
          "61",
          "62",
          "63",
          "64",
          "65",
          "66",
          "67",
          "68",
          "69",
          "70",
          "71",
          "72",
          "73",
          "74",
          "75",
          "76",
          "77",
          "78",
          "79",
          "80",
          "81",
          "82",
          "83",
          "84",
          "85",
          "86",
          "87",
          "88",
          "89",
          "90",
          "91",
          "92",
          "93",
          "94",
          "95",
          "96",
          "97",
          "98",
          "99",
          "100",
          "101",
          "102",
          "103",
          "104",
          "105",
          "106",
          "107",
          "108",
          "109",
          "110",
          "111",
          "112",
          "113",
          "114",
          "115",
          "116",
          "117",
          "118",
          "119",
          "120",
          "121",
          "122",
          "123",
          "124",
          "125",
          "126",
          "127",
          "128",
          "129",
          "130",
          "131",
          "132",
          "133",
          "134",
          "135",
          "136",
          "137",
          "138",
          "139",
          "140",
          "141",
          "x142",
          "143",
          "144",
          "145",
          "146",
          "147",
          "148",
          "149",
          "150",
          "151",
          "152",
          "153",
          "154",
          "155",
          "156",
          "157",
          "158",
          "159",
          "160",
          "161",
          "162",
          "163",
          "164",
          "165",
          "166",
          "167",
          "168",
          "169",
          "170",
          "171",
          "172",
          "173",
          "174",
          "175",
          "176",
          "177",
          "178",
          "179",
          "180",
          0,
          "181",
          "182",
          "183",
          "184",
          "185",
          "186",
          "187",
          "188",
          "189",
          "190",
          "191",
          "192",
          "193",
          "194",
          "195",
          "196",
          "197",
          "198",
          "199",
          "200",
          "201",
          "202",
          "203",
          "204",
          "205",
          "206",
          "207",
          "208",
          "209",
          "210",
          "211",
          "212",
          "213",
          "214",
          "215",
          "216",
          "217",
          "218",
          "219"
         ],
         "xaxis": "x",
         "y": [
          "protocol-fixed-clo",
          "protocol-observed-clo",
          "protocol-avoid-stimulant",
          "protocol-avoid-activity",
          "protocol-avoid-heavy-food",
          "protocol-rest-sleep",
          "protocol-circadian",
          "protocol-mens-timing",
          "protocol-time-btw-sessions",
          "protocol-instruction-practice",
          "protocol-diary",
          "protocol-maintain-usual-habits",
          "protocol-blinded",
          "protocol-random-order",
          "protocol-food-drink-control",
          "protocol-prep-body-site",
          "protocol-not-walking"
         ],
         "yaxis": "y",
         "z": [
          [
           0,
           0,
           0,
           0,
           0,
           0,
           0,
           0,
           0,
           0,
           0,
           0,
           0,
           0,
           0,
           0,
           0,
           0,
           0,
           0,
           0,
           0,
           0,
           0,
           0,
           0,
           0,
           0,
           0,
           0,
           0,
           0,
           0,
           0,
           0,
           0,
           0,
           0,
           0,
           0,
           0,
           0,
           0,
           0,
           0,
           0,
           0,
           0,
           0,
           0,
           0,
           0,
           0,
           0,
           0,
           0,
           0,
           0,
           0,
           0,
           0,
           0,
           0,
           0,
           0,
           0,
           0,
           0,
           0,
           0,
           0,
           0,
           0,
           0,
           0,
           0,
           0,
           0,
           0,
           0,
           0,
           0,
           0,
           0,
           0,
           0,
           0,
           0,
           0,
           0,
           0,
           0,
           0,
           0,
           0,
           0,
           0,
           0,
           0,
           0,
           0,
           0,
           0,
           0,
           0,
           0,
           0,
           0,
           0,
           0,
           0,
           0,
           0,
           0,
           0,
           0,
           0,
           0,
           0,
           0,
           0,
           0,
           0,
           0,
           0,
           0,
           0,
           0,
           0,
           0,
           0,
           0,
           0,
           0,
           0,
           0,
           0,
           0,
           0,
           0,
           0,
           0,
           0,
           0,
           0,
           0,
           0,
           0,
           0,
           0,
           0,
           0,
           0,
           0,
           0,
           0,
           0,
           0,
           0,
           0,
           0,
           0,
           0,
           0,
           0,
           0,
           0,
           0,
           0,
           0,
           0,
           0,
           0,
           0,
           0,
           0,
           0,
           0,
           0,
           0,
           0,
           0,
           0,
           0,
           0,
           0,
           0,
           0,
           0,
           0,
           0,
           0,
           0,
           0,
           0,
           0,
           0,
           0,
           0,
           0,
           0,
           0,
           0,
           0,
           0,
           0,
           0,
           0,
           0,
           0,
           0,
           0,
           0,
           0,
           0,
           0,
           0,
           0,
           0,
           0
          ],
          [
           0,
           0,
           0,
           0,
           0,
           0,
           0,
           0,
           0,
           0,
           0,
           0,
           0,
           0,
           0,
           0,
           0,
           0,
           0,
           0,
           0,
           0,
           0,
           0,
           0,
           0,
           0,
           0,
           0,
           0,
           0,
           0,
           0,
           0,
           0,
           0,
           0,
           0,
           0,
           0,
           0,
           0,
           0,
           0,
           0,
           0,
           0,
           0,
           0,
           0,
           0,
           0,
           0,
           0,
           0,
           0,
           0,
           0,
           0,
           0,
           0,
           0,
           0,
           0,
           0,
           0,
           0,
           0,
           0,
           0,
           0,
           0,
           0,
           0,
           0,
           0,
           0,
           0,
           0,
           0,
           0,
           0,
           0,
           0,
           0,
           0,
           0,
           0,
           0,
           0,
           0,
           0,
           0,
           0,
           0,
           0,
           0,
           0,
           0,
           0,
           0,
           0,
           0,
           0,
           0,
           0,
           0,
           0,
           0,
           0,
           0,
           0,
           0,
           0,
           0,
           0,
           0,
           0,
           0,
           0,
           0,
           0,
           0,
           0,
           0,
           0,
           0,
           0,
           0,
           0,
           0,
           0,
           0,
           0,
           0,
           0,
           0,
           0,
           0,
           0,
           0,
           0,
           0,
           0,
           0,
           0,
           0,
           0,
           0,
           0,
           0,
           0,
           0,
           0,
           0,
           0,
           0,
           0,
           0,
           0,
           0,
           0,
           0,
           0,
           0,
           0,
           0,
           0,
           0,
           0,
           0,
           0,
           0,
           0,
           0,
           0,
           0,
           0,
           0,
           0,
           0,
           0,
           0,
           0,
           0,
           0,
           0,
           0,
           0,
           0,
           0,
           0,
           0,
           0,
           0,
           0,
           0,
           0,
           0,
           0,
           0,
           0,
           0,
           0,
           0,
           0,
           0,
           0,
           0,
           0,
           0,
           0,
           0,
           0,
           0,
           0,
           0,
           0,
           0,
           0
          ],
          [
           0,
           0,
           0,
           0,
           0,
           0,
           0,
           0,
           0,
           0,
           0,
           0,
           0,
           0,
           0,
           0,
           0,
           0,
           0,
           0,
           0,
           0,
           0,
           0,
           0,
           0,
           0,
           0,
           0,
           0,
           0,
           0,
           0,
           0,
           0,
           0,
           0,
           0,
           0,
           0,
           0,
           0,
           0,
           0,
           0,
           0,
           0,
           0,
           0,
           0,
           0,
           0,
           0,
           0,
           0,
           0,
           0,
           0,
           0,
           0,
           0,
           0,
           0,
           0,
           0,
           0,
           0,
           0,
           0,
           0,
           0,
           0,
           0,
           0,
           0,
           0,
           0,
           0,
           0,
           0,
           0,
           0,
           0,
           0,
           0,
           0,
           0,
           0,
           0,
           0,
           0,
           0,
           0,
           0,
           0,
           0,
           0,
           0,
           0,
           0,
           0,
           0,
           0,
           0,
           0,
           0,
           0,
           0,
           0,
           0,
           0,
           0,
           0,
           0,
           0,
           0,
           0,
           0,
           0,
           0,
           0,
           0,
           0,
           0,
           0,
           0,
           0,
           0,
           0,
           0,
           0,
           0,
           0,
           0,
           0,
           0,
           0,
           0,
           0,
           0,
           0,
           0,
           0,
           0,
           0,
           0,
           0,
           0,
           0,
           0,
           0,
           0,
           0,
           0,
           0,
           0,
           0,
           0,
           0,
           0,
           0,
           0,
           0,
           0,
           0,
           0,
           0,
           0,
           0,
           0,
           0,
           0,
           0,
           0,
           0,
           0,
           0,
           0,
           0,
           0,
           0,
           0,
           0,
           0,
           0,
           0,
           0,
           0,
           0,
           0,
           0,
           0,
           0,
           0,
           0,
           0,
           0,
           0,
           0,
           0,
           0,
           0,
           0,
           0,
           0,
           0,
           0,
           0,
           0,
           0,
           0,
           0,
           0,
           0,
           0,
           0,
           0,
           0,
           0,
           0
          ],
          [
           0,
           0,
           0,
           0,
           0,
           0,
           0,
           0,
           0,
           0,
           0,
           0,
           0,
           0,
           0,
           0,
           0,
           0,
           0,
           0,
           0,
           0,
           0,
           0,
           0,
           0,
           0,
           0,
           0,
           0,
           0,
           0,
           0,
           0,
           0,
           0,
           0,
           0,
           0,
           0,
           0,
           0,
           0,
           0,
           0,
           0,
           0,
           0,
           0,
           0,
           0,
           0,
           0,
           0,
           0,
           0,
           0,
           0,
           0,
           0,
           0,
           0,
           0,
           0,
           0,
           0,
           0,
           0,
           0,
           0,
           0,
           0,
           0,
           0,
           0,
           0,
           0,
           0,
           0,
           0,
           0,
           0,
           0,
           0,
           0,
           0,
           0,
           0,
           0,
           0,
           0,
           0,
           0,
           0,
           0,
           0,
           0,
           0,
           0,
           0,
           0,
           0,
           0,
           0,
           0,
           0,
           0,
           0,
           0,
           0,
           0,
           0,
           0,
           0,
           0,
           0,
           0,
           0,
           0,
           0,
           0,
           0,
           0,
           0,
           0,
           0,
           0,
           0,
           0,
           0,
           0,
           0,
           0,
           0,
           0,
           0,
           0,
           0,
           0,
           0,
           0,
           0,
           0,
           0,
           0,
           0,
           0,
           0,
           0,
           0,
           0,
           0,
           0,
           0,
           0,
           0,
           0,
           0,
           0,
           0,
           0,
           0,
           0,
           0,
           0,
           0,
           0,
           0,
           0,
           0,
           0,
           0,
           0,
           0,
           0,
           0,
           0,
           0,
           0,
           0,
           0,
           0,
           0,
           0,
           0,
           0,
           0,
           0,
           0,
           0,
           0,
           0,
           0,
           0,
           0,
           0,
           0,
           0,
           0,
           0,
           0,
           0,
           0,
           0,
           0,
           0,
           0,
           0,
           0,
           0,
           0,
           0,
           0,
           0,
           0,
           0,
           0,
           0,
           0,
           0
          ],
          [
           0,
           0,
           0,
           0,
           0,
           0,
           0,
           0,
           0,
           0,
           0,
           0,
           0,
           0,
           0,
           0,
           0,
           0,
           0,
           0,
           0,
           0,
           0,
           0,
           0,
           0,
           0,
           0,
           0,
           0,
           0,
           0,
           0,
           0,
           0,
           0,
           0,
           0,
           0,
           0,
           0,
           0,
           0,
           0,
           0,
           0,
           0,
           0,
           0,
           0,
           0,
           0,
           0,
           0,
           0,
           0,
           0,
           0,
           0,
           0,
           0,
           0,
           0,
           0,
           0,
           0,
           0,
           0,
           0,
           0,
           0,
           0,
           0,
           0,
           0,
           0,
           0,
           0,
           0,
           0,
           0,
           0,
           0,
           0,
           0,
           0,
           0,
           0,
           0,
           0,
           0,
           0,
           0,
           0,
           0,
           0,
           0,
           0,
           0,
           0,
           0,
           0,
           0,
           0,
           0,
           0,
           0,
           0,
           0,
           0,
           0,
           0,
           0,
           0,
           0,
           0,
           0,
           0,
           0,
           0,
           0,
           0,
           0,
           0,
           0,
           0,
           0,
           0,
           0,
           0,
           0,
           0,
           0,
           0,
           0,
           0,
           0,
           0,
           0,
           0,
           0,
           0,
           0,
           0,
           0,
           0,
           0,
           0,
           0,
           0,
           0,
           0,
           0,
           0,
           0,
           0,
           0,
           0,
           0,
           0,
           0,
           0,
           0,
           0,
           0,
           0,
           0,
           0,
           0,
           0,
           0,
           0,
           0,
           0,
           0,
           0,
           0,
           0,
           0,
           0,
           0,
           0,
           0,
           0,
           0,
           0,
           0,
           0,
           0,
           0,
           0,
           0,
           0,
           0,
           0,
           0,
           0,
           0,
           0,
           0,
           0,
           0,
           0,
           0,
           0,
           0,
           0,
           0,
           0,
           0,
           0,
           0,
           0,
           0,
           0,
           0,
           0,
           0,
           0,
           0
          ],
          [
           0,
           0,
           0,
           0,
           0,
           0,
           0,
           0,
           0,
           0,
           0,
           0,
           0,
           0,
           0,
           0,
           0,
           0,
           0,
           0,
           0,
           0,
           0,
           0,
           0,
           0,
           0,
           0,
           0,
           0,
           0,
           0,
           0,
           0,
           0,
           0,
           0,
           0,
           0,
           0,
           0,
           0,
           0,
           0,
           0,
           0,
           0,
           0,
           0,
           0,
           0,
           0,
           0,
           0,
           0,
           0,
           0,
           0,
           0,
           0,
           0,
           0,
           0,
           0,
           0,
           0,
           0,
           0,
           0,
           0,
           0,
           0,
           0,
           0,
           0,
           0,
           0,
           0,
           0,
           0,
           0,
           0,
           0,
           0,
           0,
           0,
           0,
           0,
           0,
           0,
           0,
           0,
           0,
           0,
           0,
           0,
           0,
           0,
           0,
           0,
           0,
           0,
           0,
           0,
           0,
           0,
           0,
           0,
           0,
           0,
           0,
           0,
           0,
           0,
           0,
           0,
           0,
           0,
           0,
           0,
           0,
           0,
           0,
           0,
           0,
           0,
           0,
           0,
           0,
           0,
           0,
           0,
           0,
           0,
           0,
           0,
           0,
           0,
           0,
           0,
           0,
           0,
           0,
           0,
           0,
           0,
           0,
           0,
           0,
           0,
           0,
           0,
           0,
           0,
           0,
           0,
           0,
           0,
           0,
           0,
           0,
           0,
           0,
           0,
           0,
           0,
           0,
           0,
           0,
           0,
           0,
           0,
           0,
           0,
           0,
           0,
           0,
           0,
           0,
           0,
           0,
           0,
           0,
           0,
           0,
           0,
           0,
           0,
           0,
           0,
           0,
           0,
           0,
           0,
           0,
           0,
           0,
           0,
           0,
           0,
           0,
           0,
           0,
           0,
           0,
           0,
           0,
           0,
           0,
           0,
           0,
           0,
           0,
           0,
           0,
           0,
           0,
           0,
           0,
           0
          ],
          [
           0,
           0,
           0,
           0,
           0,
           0,
           0,
           0,
           0,
           0,
           0,
           0,
           0,
           0,
           0,
           0,
           0,
           0,
           0,
           0,
           0,
           0,
           0,
           0,
           0,
           0,
           0,
           0,
           0,
           0,
           0,
           0,
           0,
           0,
           0,
           0,
           0,
           0,
           0,
           0,
           0,
           0,
           0,
           0,
           0,
           0,
           0,
           0,
           0,
           0,
           0,
           0,
           0,
           0,
           0,
           0,
           0,
           0,
           0,
           0,
           0,
           0,
           0,
           0,
           0,
           0,
           0,
           0,
           0,
           0,
           0,
           0,
           0,
           0,
           0,
           0,
           0,
           0,
           0,
           0,
           0,
           0,
           0,
           0,
           0,
           0,
           0,
           0,
           0,
           0,
           0,
           0,
           0,
           0,
           0,
           0,
           0,
           0,
           0,
           0,
           0,
           0,
           0,
           0,
           0,
           0,
           0,
           0,
           0,
           0,
           0,
           0,
           0,
           0,
           0,
           0,
           0,
           0,
           0,
           0,
           0,
           0,
           0,
           0,
           0,
           0,
           0,
           0,
           0,
           0,
           0,
           0,
           0,
           0,
           0,
           0,
           0,
           0,
           0,
           0,
           0,
           0,
           0,
           0,
           0,
           0,
           0,
           0,
           0,
           0,
           0,
           0,
           0,
           0,
           0,
           0,
           0,
           0,
           0,
           0,
           0,
           0,
           0,
           0,
           0,
           0,
           0,
           0,
           0,
           0,
           0,
           0,
           0,
           0,
           0,
           0,
           0,
           0,
           0,
           0,
           0,
           0,
           0,
           0,
           0,
           0,
           0,
           0,
           0,
           0,
           0,
           0,
           0,
           0,
           0,
           0,
           0,
           0,
           0,
           0,
           0,
           0,
           0,
           0,
           0,
           0,
           0,
           0,
           0,
           0,
           0,
           0,
           0,
           0,
           0,
           0,
           0,
           0,
           0,
           0
          ],
          [
           0,
           0,
           0,
           0,
           0,
           0,
           0,
           0,
           0,
           0,
           0,
           0,
           0,
           0,
           0,
           0,
           0,
           0,
           0,
           0,
           0,
           0,
           0,
           0,
           0,
           0,
           0,
           0,
           0,
           0,
           0,
           0,
           0,
           0,
           0,
           0,
           0,
           0,
           0,
           0,
           0,
           0,
           0,
           0,
           0,
           0,
           0,
           0,
           0,
           0,
           0,
           0,
           0,
           0,
           0,
           0,
           0,
           0,
           0,
           0,
           0,
           0,
           0,
           0,
           0,
           0,
           0,
           0,
           0,
           0,
           0,
           0,
           0,
           0,
           0,
           0,
           0,
           0,
           0,
           0,
           0,
           0,
           0,
           0,
           0,
           0,
           0,
           0,
           0,
           0,
           0,
           0,
           0,
           0,
           0,
           0,
           0,
           0,
           0,
           0,
           0,
           0,
           0,
           0,
           0,
           0,
           0,
           0,
           0,
           0,
           0,
           0,
           0,
           0,
           0,
           0,
           0,
           0,
           0,
           0,
           0,
           0,
           0,
           0,
           0,
           0,
           0,
           0,
           0,
           0,
           0,
           0,
           0,
           0,
           0,
           0,
           0,
           0,
           0,
           0,
           0,
           0,
           0,
           0,
           0,
           0,
           0,
           0,
           0,
           0,
           0,
           0,
           0,
           0,
           0,
           0,
           0,
           0,
           0,
           0,
           0,
           0,
           0,
           0,
           0,
           0,
           0,
           0,
           0,
           0,
           0,
           0,
           0,
           0,
           0,
           0,
           0,
           0,
           0,
           0,
           0,
           0,
           0,
           0,
           0,
           0,
           0,
           0,
           0,
           0,
           0,
           0,
           0,
           0,
           0,
           0,
           0,
           0,
           0,
           0,
           0,
           0,
           0,
           0,
           0,
           0,
           0,
           0,
           0,
           0,
           0,
           0,
           0,
           0,
           0,
           0,
           0,
           0,
           0,
           0
          ],
          [
           0,
           0,
           0,
           0,
           0,
           0,
           0,
           0,
           0,
           0,
           0,
           0,
           0,
           0,
           0,
           0,
           0,
           0,
           0,
           0,
           0,
           0,
           0,
           0,
           0,
           0,
           0,
           0,
           0,
           0,
           0,
           0,
           0,
           0,
           0,
           0,
           0,
           0,
           0,
           0,
           0,
           0,
           0,
           0,
           0,
           0,
           0,
           0,
           0,
           0,
           0,
           0,
           0,
           0,
           0,
           0,
           0,
           0,
           0,
           0,
           0,
           0,
           0,
           0,
           0,
           0,
           0,
           0,
           0,
           0,
           0,
           0,
           0,
           0,
           0,
           0,
           0,
           0,
           0,
           0,
           0,
           0,
           0,
           0,
           0,
           0,
           0,
           0,
           0,
           0,
           0,
           0,
           0,
           0,
           0,
           0,
           0,
           0,
           0,
           0,
           0,
           0,
           0,
           0,
           0,
           0,
           0,
           0,
           0,
           0,
           0,
           0,
           0,
           0,
           0,
           0,
           0,
           0,
           0,
           0,
           0,
           0,
           0,
           0,
           0,
           0,
           0,
           0,
           0,
           0,
           0,
           0,
           0,
           0,
           0,
           0,
           0,
           0,
           0,
           0,
           0,
           0,
           0,
           0,
           0,
           0,
           0,
           0,
           0,
           0,
           0,
           0,
           0,
           0,
           0,
           0,
           0,
           0,
           0,
           0,
           0,
           0,
           0,
           0,
           0,
           0,
           0,
           0,
           0,
           0,
           0,
           0,
           0,
           0,
           0,
           0,
           0,
           0,
           0,
           0,
           0,
           0,
           0,
           0,
           0,
           0,
           0,
           0,
           0,
           0,
           0,
           0,
           0,
           0,
           0,
           0,
           0,
           0,
           0,
           0,
           0,
           0,
           0,
           0,
           0,
           0,
           0,
           0,
           0,
           0,
           0,
           0,
           0,
           0,
           0,
           0,
           0,
           0,
           0,
           0
          ],
          [
           0,
           0,
           0,
           0,
           0,
           0,
           0,
           0,
           0,
           0,
           0,
           0,
           0,
           0,
           0,
           0,
           0,
           0,
           0,
           0,
           0,
           0,
           0,
           0,
           0,
           0,
           0,
           0,
           0,
           0,
           0,
           0,
           0,
           0,
           0,
           0,
           0,
           0,
           0,
           0,
           0,
           0,
           0,
           0,
           0,
           0,
           0,
           0,
           0,
           0,
           0,
           0,
           0,
           0,
           0,
           0,
           0,
           0,
           0,
           0,
           0,
           0,
           0,
           0,
           0,
           0,
           0,
           0,
           0,
           0,
           0,
           0,
           0,
           0,
           0,
           0,
           0,
           0,
           0,
           0,
           0,
           0,
           0,
           0,
           0,
           0,
           0,
           0,
           0,
           0,
           0,
           0,
           0,
           0,
           0,
           0,
           0,
           0,
           0,
           0,
           0,
           0,
           0,
           0,
           0,
           0,
           0,
           0,
           0,
           0,
           0,
           0,
           0,
           0,
           0,
           0,
           0,
           0,
           0,
           0,
           0,
           0,
           0,
           0,
           0,
           0,
           0,
           0,
           0,
           0,
           0,
           0,
           0,
           0,
           0,
           0,
           0,
           0,
           0,
           0,
           0,
           0,
           0,
           0,
           0,
           0,
           0,
           0,
           0,
           0,
           0,
           0,
           0,
           0,
           0,
           0,
           0,
           0,
           0,
           0,
           0,
           0,
           0,
           0,
           0,
           0,
           0,
           0,
           0,
           0,
           0,
           0,
           0,
           0,
           0,
           0,
           0,
           0,
           0,
           0,
           0,
           0,
           0,
           0,
           0,
           0,
           0,
           0,
           0,
           0,
           0,
           0,
           0,
           0,
           0,
           0,
           0,
           0,
           0,
           0,
           0,
           0,
           0,
           0,
           0,
           0,
           0,
           0,
           0,
           0,
           0,
           0,
           0,
           0,
           0,
           0,
           0,
           0,
           0,
           0
          ],
          [
           0,
           0,
           0,
           0,
           0,
           0,
           0,
           0,
           0,
           0,
           0,
           0,
           0,
           0,
           0,
           0,
           0,
           0,
           0,
           0,
           0,
           0,
           0,
           0,
           0,
           0,
           0,
           0,
           0,
           0,
           0,
           0,
           0,
           0,
           0,
           0,
           0,
           0,
           0,
           0,
           0,
           0,
           0,
           0,
           0,
           0,
           0,
           0,
           0,
           0,
           0,
           0,
           0,
           0,
           0,
           0,
           0,
           0,
           0,
           0,
           0,
           0,
           0,
           0,
           0,
           0,
           0,
           0,
           0,
           0,
           0,
           0,
           0,
           0,
           0,
           0,
           0,
           0,
           0,
           0,
           0,
           0,
           0,
           0,
           0,
           0,
           0,
           0,
           0,
           0,
           0,
           0,
           0,
           0,
           0,
           0,
           0,
           0,
           0,
           0,
           0,
           0,
           0,
           0,
           0,
           0,
           0,
           0,
           0,
           0,
           0,
           0,
           0,
           0,
           0,
           0,
           0,
           0,
           0,
           0,
           0,
           0,
           0,
           0,
           0,
           0,
           0,
           0,
           0,
           0,
           0,
           0,
           0,
           0,
           0,
           0,
           0,
           0,
           0,
           0,
           0,
           0,
           0,
           0,
           0,
           0,
           0,
           0,
           0,
           0,
           0,
           0,
           0,
           0,
           0,
           0,
           0,
           0,
           0,
           0,
           0,
           0,
           0,
           0,
           0,
           0,
           0,
           0,
           0,
           0,
           0,
           0,
           0,
           0,
           0,
           0,
           0,
           0,
           0,
           0,
           0,
           0,
           0,
           0,
           0,
           0,
           0,
           0,
           0,
           0,
           0,
           0,
           0,
           0,
           0,
           0,
           0,
           0,
           0,
           0,
           0,
           0,
           0,
           0,
           0,
           0,
           0,
           0,
           0,
           0,
           0,
           0,
           0,
           0,
           0,
           0,
           0,
           0,
           0,
           0
          ],
          [
           0,
           0,
           0,
           0,
           0,
           0,
           0,
           0,
           0,
           0,
           0,
           0,
           0,
           0,
           0,
           0,
           0,
           0,
           0,
           0,
           0,
           0,
           0,
           0,
           0,
           0,
           0,
           0,
           0,
           0,
           0,
           0,
           0,
           0,
           0,
           0,
           0,
           0,
           0,
           0,
           0,
           0,
           0,
           0,
           0,
           0,
           0,
           0,
           0,
           0,
           0,
           0,
           0,
           0,
           0,
           0,
           0,
           0,
           0,
           0,
           0,
           0,
           0,
           0,
           0,
           0,
           0,
           0,
           0,
           0,
           0,
           0,
           0,
           0,
           0,
           0,
           0,
           0,
           0,
           0,
           0,
           0,
           0,
           0,
           0,
           0,
           0,
           0,
           0,
           0,
           0,
           0,
           0,
           0,
           0,
           0,
           0,
           0,
           0,
           0,
           0,
           0,
           0,
           0,
           0,
           0,
           0,
           0,
           0,
           0,
           0,
           0,
           0,
           0,
           0,
           0,
           0,
           0,
           0,
           0,
           0,
           0,
           0,
           0,
           0,
           0,
           0,
           0,
           0,
           0,
           0,
           0,
           0,
           0,
           0,
           0,
           0,
           0,
           0,
           0,
           0,
           0,
           0,
           0,
           0,
           0,
           0,
           0,
           0,
           0,
           0,
           0,
           0,
           0,
           0,
           0,
           0,
           0,
           0,
           0,
           0,
           0,
           0,
           0,
           0,
           0,
           0,
           0,
           0,
           0,
           0,
           0,
           0,
           0,
           0,
           0,
           0,
           0,
           0,
           0,
           0,
           0,
           0,
           0,
           0,
           0,
           0,
           0,
           0,
           0,
           0,
           0,
           0,
           0,
           0,
           0,
           0,
           0,
           0,
           0,
           0,
           0,
           0,
           0,
           0,
           0,
           0,
           0,
           0,
           0,
           0,
           0,
           0,
           0,
           0,
           0,
           0,
           0,
           0,
           0
          ],
          [
           0,
           0,
           0,
           0,
           0,
           0,
           0,
           0,
           0,
           0,
           0,
           0,
           0,
           0,
           0,
           0,
           0,
           0,
           0,
           0,
           0,
           0,
           0,
           0,
           0,
           0,
           0,
           0,
           0,
           0,
           0,
           0,
           0,
           0,
           0,
           0,
           0,
           0,
           0,
           0,
           0,
           0,
           0,
           0,
           0,
           0,
           0,
           0,
           0,
           0,
           0,
           0,
           0,
           0,
           0,
           0,
           0,
           0,
           0,
           0,
           0,
           0,
           0,
           0,
           0,
           0,
           0,
           0,
           0,
           0,
           0,
           0,
           0,
           0,
           0,
           0,
           0,
           0,
           0,
           0,
           0,
           0,
           0,
           0,
           0,
           0,
           0,
           0,
           0,
           0,
           0,
           0,
           0,
           0,
           0,
           0,
           0,
           0,
           0,
           0,
           0,
           0,
           0,
           0,
           0,
           0,
           0,
           0,
           0,
           0,
           0,
           0,
           0,
           0,
           0,
           0,
           0,
           0,
           0,
           0,
           0,
           0,
           0,
           0,
           0,
           0,
           0,
           0,
           0,
           0,
           0,
           0,
           0,
           0,
           0,
           0,
           0,
           0,
           0,
           0,
           0,
           0,
           0,
           0,
           0,
           0,
           0,
           0,
           0,
           0,
           0,
           0,
           0,
           0,
           0,
           0,
           0,
           0,
           0,
           0,
           0,
           0,
           0,
           0,
           0,
           0,
           0,
           0,
           0,
           0,
           0,
           0,
           0,
           0,
           0,
           0,
           0,
           0,
           0,
           0,
           0,
           0,
           0,
           0,
           0,
           0,
           0,
           0,
           0,
           0,
           0,
           0,
           0,
           0,
           0,
           0,
           0,
           0,
           0,
           0,
           0,
           0,
           0,
           0,
           0,
           0,
           0,
           0,
           0,
           0,
           0,
           0,
           0,
           0,
           0,
           0,
           0,
           0,
           0,
           0
          ],
          [
           0,
           0,
           0,
           0,
           0,
           0,
           0,
           0,
           0,
           0,
           0,
           0,
           0,
           0,
           0,
           0,
           0,
           0,
           0,
           0,
           0,
           0,
           0,
           0,
           0,
           0,
           0,
           0,
           0,
           0,
           0,
           0,
           0,
           0,
           0,
           0,
           0,
           0,
           0,
           0,
           0,
           0,
           0,
           0,
           0,
           0,
           0,
           0,
           0,
           0,
           0,
           0,
           0,
           0,
           0,
           0,
           0,
           0,
           0,
           0,
           0,
           0,
           0,
           0,
           0,
           0,
           0,
           0,
           0,
           0,
           0,
           0,
           0,
           0,
           0,
           0,
           0,
           0,
           0,
           0,
           0,
           0,
           0,
           0,
           0,
           0,
           0,
           0,
           0,
           0,
           0,
           0,
           0,
           0,
           0,
           0,
           0,
           0,
           0,
           0,
           0,
           0,
           0,
           0,
           0,
           0,
           0,
           0,
           0,
           0,
           0,
           0,
           0,
           0,
           0,
           0,
           0,
           0,
           0,
           0,
           0,
           0,
           0,
           0,
           0,
           0,
           0,
           0,
           0,
           0,
           0,
           0,
           0,
           0,
           0,
           0,
           0,
           0,
           0,
           0,
           0,
           0,
           0,
           0,
           0,
           0,
           0,
           0,
           0,
           0,
           0,
           0,
           0,
           0,
           0,
           0,
           0,
           0,
           0,
           0,
           0,
           0,
           0,
           0,
           0,
           0,
           0,
           0,
           0,
           0,
           0,
           0,
           0,
           0,
           0,
           0,
           0,
           0,
           0,
           0,
           0,
           0,
           0,
           0,
           0,
           0,
           0,
           0,
           0,
           0,
           0,
           0,
           0,
           0,
           0,
           0,
           0,
           0,
           0,
           0,
           0,
           0,
           0,
           0,
           0,
           0,
           0,
           0,
           0,
           0,
           0,
           0,
           0,
           0,
           0,
           0,
           0,
           0,
           0,
           0
          ],
          [
           0,
           0,
           0,
           0,
           0,
           0,
           0,
           0,
           0,
           0,
           0,
           0,
           0,
           0,
           0,
           0,
           0,
           0,
           0,
           0,
           0,
           0,
           0,
           0,
           0,
           0,
           0,
           0,
           0,
           0,
           0,
           0,
           0,
           0,
           0,
           0,
           0,
           0,
           0,
           0,
           0,
           0,
           0,
           0,
           0,
           0,
           0,
           0,
           0,
           0,
           0,
           0,
           0,
           0,
           0,
           0,
           0,
           0,
           0,
           0,
           0,
           0,
           0,
           0,
           0,
           0,
           0,
           0,
           0,
           0,
           0,
           0,
           0,
           0,
           0,
           0,
           0,
           0,
           0,
           0,
           0,
           0,
           0,
           0,
           0,
           0,
           0,
           0,
           0,
           0,
           0,
           0,
           0,
           0,
           0,
           0,
           0,
           0,
           0,
           0,
           0,
           0,
           0,
           0,
           0,
           0,
           0,
           0,
           0,
           0,
           0,
           0,
           0,
           0,
           0,
           0,
           0,
           0,
           0,
           0,
           0,
           0,
           0,
           0,
           0,
           0,
           0,
           0,
           0,
           0,
           0,
           0,
           0,
           0,
           0,
           0,
           0,
           0,
           0,
           0,
           0,
           0,
           0,
           0,
           0,
           0,
           0,
           0,
           0,
           0,
           0,
           0,
           0,
           0,
           0,
           0,
           0,
           0,
           0,
           0,
           0,
           0,
           0,
           0,
           0,
           0,
           0,
           0,
           0,
           0,
           0,
           0,
           0,
           0,
           0,
           0,
           0,
           0,
           0,
           0,
           0,
           0,
           0,
           0,
           0,
           0,
           0,
           0,
           0,
           0,
           0,
           0,
           0,
           0,
           0,
           0,
           0,
           0,
           0,
           0,
           0,
           0,
           0,
           0,
           0,
           0,
           0,
           0,
           0,
           0,
           0,
           0,
           0,
           0,
           0,
           0,
           0,
           0,
           0,
           0
          ],
          [
           0,
           0,
           0,
           0,
           0,
           0,
           0,
           0,
           0,
           0,
           0,
           0,
           0,
           0,
           0,
           0,
           0,
           0,
           0,
           0,
           0,
           0,
           0,
           0,
           0,
           0,
           0,
           0,
           0,
           0,
           0,
           0,
           0,
           0,
           0,
           0,
           0,
           0,
           0,
           0,
           0,
           0,
           0,
           0,
           0,
           0,
           0,
           0,
           0,
           0,
           0,
           0,
           0,
           0,
           0,
           0,
           0,
           0,
           0,
           0,
           0,
           0,
           0,
           0,
           0,
           0,
           0,
           0,
           0,
           0,
           0,
           0,
           0,
           0,
           0,
           0,
           0,
           0,
           0,
           0,
           0,
           0,
           0,
           0,
           0,
           0,
           0,
           0,
           0,
           0,
           0,
           0,
           0,
           0,
           0,
           0,
           0,
           0,
           0,
           0,
           0,
           0,
           0,
           0,
           0,
           0,
           0,
           0,
           0,
           0,
           0,
           0,
           0,
           0,
           0,
           0,
           0,
           0,
           0,
           0,
           0,
           0,
           0,
           0,
           0,
           0,
           0,
           0,
           0,
           0,
           0,
           0,
           0,
           0,
           0,
           0,
           0,
           0,
           0,
           0,
           0,
           0,
           0,
           0,
           0,
           0,
           0,
           0,
           0,
           0,
           0,
           0,
           0,
           0,
           0,
           0,
           0,
           0,
           0,
           0,
           0,
           0,
           0,
           0,
           0,
           0,
           0,
           0,
           0,
           0,
           0,
           0,
           0,
           0,
           0,
           0,
           0,
           0,
           0,
           0,
           0,
           0,
           0,
           0,
           0,
           0,
           0,
           0,
           0,
           0,
           0,
           0,
           0,
           0,
           0,
           0,
           0,
           0,
           0,
           0,
           0,
           0,
           0,
           0,
           0,
           0,
           0,
           0,
           0,
           0,
           0,
           0,
           0,
           0,
           0,
           0,
           0,
           0,
           0,
           0
          ],
          [
           0,
           0,
           0,
           0,
           0,
           0,
           0,
           0,
           0,
           0,
           0,
           0,
           0,
           0,
           0,
           0,
           0,
           0,
           0,
           0,
           0,
           0,
           0,
           0,
           0,
           0,
           0,
           0,
           0,
           0,
           0,
           0,
           0,
           0,
           0,
           0,
           0,
           0,
           0,
           0,
           0,
           0,
           0,
           0,
           0,
           0,
           0,
           0,
           0,
           0,
           0,
           0,
           0,
           0,
           0,
           0,
           0,
           0,
           0,
           0,
           0,
           0,
           0,
           0,
           0,
           0,
           0,
           0,
           0,
           0,
           0,
           0,
           0,
           0,
           0,
           0,
           0,
           0,
           0,
           0,
           0,
           0,
           0,
           0,
           0,
           0,
           0,
           0,
           0,
           0,
           0,
           0,
           0,
           0,
           0,
           0,
           0,
           0,
           0,
           0,
           0,
           0,
           0,
           0,
           0,
           0,
           0,
           0,
           0,
           0,
           0,
           0,
           0,
           0,
           0,
           0,
           0,
           0,
           0,
           0,
           0,
           0,
           0,
           0,
           0,
           0,
           0,
           0,
           0,
           0,
           0,
           0,
           0,
           0,
           0,
           0,
           0,
           0,
           0,
           0,
           0,
           0,
           0,
           0,
           0,
           0,
           0,
           0,
           0,
           0,
           0,
           0,
           0,
           0,
           0,
           0,
           0,
           0,
           0,
           0,
           0,
           0,
           0,
           0,
           0,
           0,
           0,
           0,
           0,
           0,
           0,
           0,
           0,
           0,
           0,
           0,
           0,
           0,
           0,
           0,
           0,
           0,
           0,
           0,
           0,
           0,
           0,
           0,
           0,
           0,
           0,
           0,
           0,
           0,
           0,
           0,
           0,
           0,
           0,
           0,
           0,
           0,
           0,
           0,
           0,
           0,
           0,
           0,
           0,
           0,
           0,
           0,
           0,
           0,
           0,
           0,
           0,
           0,
           0,
           0
          ]
         ]
        }
       ],
       "layout": {
        "coloraxis": {
         "colorbar": {
          "title": {
           "text": "Fulfilled"
          }
         },
         "colorscale": [
          [
           0,
           "#636EFA"
          ],
          [
           1,
           "#EF553B"
          ]
         ]
        },
        "margin": {
         "t": 60
        },
        "template": {
         "data": {
          "bar": [
           {
            "error_x": {
             "color": "#2a3f5f"
            },
            "error_y": {
             "color": "#2a3f5f"
            },
            "marker": {
             "line": {
              "color": "#E5ECF6",
              "width": 0.5
             },
             "pattern": {
              "fillmode": "overlay",
              "size": 10,
              "solidity": 0.2
             }
            },
            "type": "bar"
           }
          ],
          "barpolar": [
           {
            "marker": {
             "line": {
              "color": "#E5ECF6",
              "width": 0.5
             },
             "pattern": {
              "fillmode": "overlay",
              "size": 10,
              "solidity": 0.2
             }
            },
            "type": "barpolar"
           }
          ],
          "carpet": [
           {
            "aaxis": {
             "endlinecolor": "#2a3f5f",
             "gridcolor": "white",
             "linecolor": "white",
             "minorgridcolor": "white",
             "startlinecolor": "#2a3f5f"
            },
            "baxis": {
             "endlinecolor": "#2a3f5f",
             "gridcolor": "white",
             "linecolor": "white",
             "minorgridcolor": "white",
             "startlinecolor": "#2a3f5f"
            },
            "type": "carpet"
           }
          ],
          "choropleth": [
           {
            "colorbar": {
             "outlinewidth": 0,
             "ticks": ""
            },
            "type": "choropleth"
           }
          ],
          "contour": [
           {
            "colorbar": {
             "outlinewidth": 0,
             "ticks": ""
            },
            "colorscale": [
             [
              0,
              "#0d0887"
             ],
             [
              0.1111111111111111,
              "#46039f"
             ],
             [
              0.2222222222222222,
              "#7201a8"
             ],
             [
              0.3333333333333333,
              "#9c179e"
             ],
             [
              0.4444444444444444,
              "#bd3786"
             ],
             [
              0.5555555555555556,
              "#d8576b"
             ],
             [
              0.6666666666666666,
              "#ed7953"
             ],
             [
              0.7777777777777778,
              "#fb9f3a"
             ],
             [
              0.8888888888888888,
              "#fdca26"
             ],
             [
              1,
              "#f0f921"
             ]
            ],
            "type": "contour"
           }
          ],
          "contourcarpet": [
           {
            "colorbar": {
             "outlinewidth": 0,
             "ticks": ""
            },
            "type": "contourcarpet"
           }
          ],
          "heatmap": [
           {
            "colorbar": {
             "outlinewidth": 0,
             "ticks": ""
            },
            "colorscale": [
             [
              0,
              "#0d0887"
             ],
             [
              0.1111111111111111,
              "#46039f"
             ],
             [
              0.2222222222222222,
              "#7201a8"
             ],
             [
              0.3333333333333333,
              "#9c179e"
             ],
             [
              0.4444444444444444,
              "#bd3786"
             ],
             [
              0.5555555555555556,
              "#d8576b"
             ],
             [
              0.6666666666666666,
              "#ed7953"
             ],
             [
              0.7777777777777778,
              "#fb9f3a"
             ],
             [
              0.8888888888888888,
              "#fdca26"
             ],
             [
              1,
              "#f0f921"
             ]
            ],
            "type": "heatmap"
           }
          ],
          "heatmapgl": [
           {
            "colorbar": {
             "outlinewidth": 0,
             "ticks": ""
            },
            "colorscale": [
             [
              0,
              "#0d0887"
             ],
             [
              0.1111111111111111,
              "#46039f"
             ],
             [
              0.2222222222222222,
              "#7201a8"
             ],
             [
              0.3333333333333333,
              "#9c179e"
             ],
             [
              0.4444444444444444,
              "#bd3786"
             ],
             [
              0.5555555555555556,
              "#d8576b"
             ],
             [
              0.6666666666666666,
              "#ed7953"
             ],
             [
              0.7777777777777778,
              "#fb9f3a"
             ],
             [
              0.8888888888888888,
              "#fdca26"
             ],
             [
              1,
              "#f0f921"
             ]
            ],
            "type": "heatmapgl"
           }
          ],
          "histogram": [
           {
            "marker": {
             "pattern": {
              "fillmode": "overlay",
              "size": 10,
              "solidity": 0.2
             }
            },
            "type": "histogram"
           }
          ],
          "histogram2d": [
           {
            "colorbar": {
             "outlinewidth": 0,
             "ticks": ""
            },
            "colorscale": [
             [
              0,
              "#0d0887"
             ],
             [
              0.1111111111111111,
              "#46039f"
             ],
             [
              0.2222222222222222,
              "#7201a8"
             ],
             [
              0.3333333333333333,
              "#9c179e"
             ],
             [
              0.4444444444444444,
              "#bd3786"
             ],
             [
              0.5555555555555556,
              "#d8576b"
             ],
             [
              0.6666666666666666,
              "#ed7953"
             ],
             [
              0.7777777777777778,
              "#fb9f3a"
             ],
             [
              0.8888888888888888,
              "#fdca26"
             ],
             [
              1,
              "#f0f921"
             ]
            ],
            "type": "histogram2d"
           }
          ],
          "histogram2dcontour": [
           {
            "colorbar": {
             "outlinewidth": 0,
             "ticks": ""
            },
            "colorscale": [
             [
              0,
              "#0d0887"
             ],
             [
              0.1111111111111111,
              "#46039f"
             ],
             [
              0.2222222222222222,
              "#7201a8"
             ],
             [
              0.3333333333333333,
              "#9c179e"
             ],
             [
              0.4444444444444444,
              "#bd3786"
             ],
             [
              0.5555555555555556,
              "#d8576b"
             ],
             [
              0.6666666666666666,
              "#ed7953"
             ],
             [
              0.7777777777777778,
              "#fb9f3a"
             ],
             [
              0.8888888888888888,
              "#fdca26"
             ],
             [
              1,
              "#f0f921"
             ]
            ],
            "type": "histogram2dcontour"
           }
          ],
          "mesh3d": [
           {
            "colorbar": {
             "outlinewidth": 0,
             "ticks": ""
            },
            "type": "mesh3d"
           }
          ],
          "parcoords": [
           {
            "line": {
             "colorbar": {
              "outlinewidth": 0,
              "ticks": ""
             }
            },
            "type": "parcoords"
           }
          ],
          "pie": [
           {
            "automargin": true,
            "type": "pie"
           }
          ],
          "scatter": [
           {
            "fillpattern": {
             "fillmode": "overlay",
             "size": 10,
             "solidity": 0.2
            },
            "type": "scatter"
           }
          ],
          "scatter3d": [
           {
            "line": {
             "colorbar": {
              "outlinewidth": 0,
              "ticks": ""
             }
            },
            "marker": {
             "colorbar": {
              "outlinewidth": 0,
              "ticks": ""
             }
            },
            "type": "scatter3d"
           }
          ],
          "scattercarpet": [
           {
            "marker": {
             "colorbar": {
              "outlinewidth": 0,
              "ticks": ""
             }
            },
            "type": "scattercarpet"
           }
          ],
          "scattergeo": [
           {
            "marker": {
             "colorbar": {
              "outlinewidth": 0,
              "ticks": ""
             }
            },
            "type": "scattergeo"
           }
          ],
          "scattergl": [
           {
            "marker": {
             "colorbar": {
              "outlinewidth": 0,
              "ticks": ""
             }
            },
            "type": "scattergl"
           }
          ],
          "scattermapbox": [
           {
            "marker": {
             "colorbar": {
              "outlinewidth": 0,
              "ticks": ""
             }
            },
            "type": "scattermapbox"
           }
          ],
          "scatterpolar": [
           {
            "marker": {
             "colorbar": {
              "outlinewidth": 0,
              "ticks": ""
             }
            },
            "type": "scatterpolar"
           }
          ],
          "scatterpolargl": [
           {
            "marker": {
             "colorbar": {
              "outlinewidth": 0,
              "ticks": ""
             }
            },
            "type": "scatterpolargl"
           }
          ],
          "scatterternary": [
           {
            "marker": {
             "colorbar": {
              "outlinewidth": 0,
              "ticks": ""
             }
            },
            "type": "scatterternary"
           }
          ],
          "surface": [
           {
            "colorbar": {
             "outlinewidth": 0,
             "ticks": ""
            },
            "colorscale": [
             [
              0,
              "#0d0887"
             ],
             [
              0.1111111111111111,
              "#46039f"
             ],
             [
              0.2222222222222222,
              "#7201a8"
             ],
             [
              0.3333333333333333,
              "#9c179e"
             ],
             [
              0.4444444444444444,
              "#bd3786"
             ],
             [
              0.5555555555555556,
              "#d8576b"
             ],
             [
              0.6666666666666666,
              "#ed7953"
             ],
             [
              0.7777777777777778,
              "#fb9f3a"
             ],
             [
              0.8888888888888888,
              "#fdca26"
             ],
             [
              1,
              "#f0f921"
             ]
            ],
            "type": "surface"
           }
          ],
          "table": [
           {
            "cells": {
             "fill": {
              "color": "#EBF0F8"
             },
             "line": {
              "color": "white"
             }
            },
            "header": {
             "fill": {
              "color": "#C8D4E3"
             },
             "line": {
              "color": "white"
             }
            },
            "type": "table"
           }
          ]
         },
         "layout": {
          "annotationdefaults": {
           "arrowcolor": "#2a3f5f",
           "arrowhead": 0,
           "arrowwidth": 1
          },
          "autotypenumbers": "strict",
          "coloraxis": {
           "colorbar": {
            "outlinewidth": 0,
            "ticks": ""
           }
          },
          "colorscale": {
           "diverging": [
            [
             0,
             "#8e0152"
            ],
            [
             0.1,
             "#c51b7d"
            ],
            [
             0.2,
             "#de77ae"
            ],
            [
             0.3,
             "#f1b6da"
            ],
            [
             0.4,
             "#fde0ef"
            ],
            [
             0.5,
             "#f7f7f7"
            ],
            [
             0.6,
             "#e6f5d0"
            ],
            [
             0.7,
             "#b8e186"
            ],
            [
             0.8,
             "#7fbc41"
            ],
            [
             0.9,
             "#4d9221"
            ],
            [
             1,
             "#276419"
            ]
           ],
           "sequential": [
            [
             0,
             "#0d0887"
            ],
            [
             0.1111111111111111,
             "#46039f"
            ],
            [
             0.2222222222222222,
             "#7201a8"
            ],
            [
             0.3333333333333333,
             "#9c179e"
            ],
            [
             0.4444444444444444,
             "#bd3786"
            ],
            [
             0.5555555555555556,
             "#d8576b"
            ],
            [
             0.6666666666666666,
             "#ed7953"
            ],
            [
             0.7777777777777778,
             "#fb9f3a"
            ],
            [
             0.8888888888888888,
             "#fdca26"
            ],
            [
             1,
             "#f0f921"
            ]
           ],
           "sequentialminus": [
            [
             0,
             "#0d0887"
            ],
            [
             0.1111111111111111,
             "#46039f"
            ],
            [
             0.2222222222222222,
             "#7201a8"
            ],
            [
             0.3333333333333333,
             "#9c179e"
            ],
            [
             0.4444444444444444,
             "#bd3786"
            ],
            [
             0.5555555555555556,
             "#d8576b"
            ],
            [
             0.6666666666666666,
             "#ed7953"
            ],
            [
             0.7777777777777778,
             "#fb9f3a"
            ],
            [
             0.8888888888888888,
             "#fdca26"
            ],
            [
             1,
             "#f0f921"
            ]
           ]
          },
          "colorway": [
           "#636efa",
           "#EF553B",
           "#00cc96",
           "#ab63fa",
           "#FFA15A",
           "#19d3f3",
           "#FF6692",
           "#B6E880",
           "#FF97FF",
           "#FECB52"
          ],
          "font": {
           "color": "#2a3f5f"
          },
          "geo": {
           "bgcolor": "white",
           "lakecolor": "white",
           "landcolor": "#E5ECF6",
           "showlakes": true,
           "showland": true,
           "subunitcolor": "white"
          },
          "hoverlabel": {
           "align": "left"
          },
          "hovermode": "closest",
          "mapbox": {
           "style": "light"
          },
          "paper_bgcolor": "white",
          "plot_bgcolor": "#E5ECF6",
          "polar": {
           "angularaxis": {
            "gridcolor": "white",
            "linecolor": "white",
            "ticks": ""
           },
           "bgcolor": "#E5ECF6",
           "radialaxis": {
            "gridcolor": "white",
            "linecolor": "white",
            "ticks": ""
           }
          },
          "scene": {
           "xaxis": {
            "backgroundcolor": "#E5ECF6",
            "gridcolor": "white",
            "gridwidth": 2,
            "linecolor": "white",
            "showbackground": true,
            "ticks": "",
            "zerolinecolor": "white"
           },
           "yaxis": {
            "backgroundcolor": "#E5ECF6",
            "gridcolor": "white",
            "gridwidth": 2,
            "linecolor": "white",
            "showbackground": true,
            "ticks": "",
            "zerolinecolor": "white"
           },
           "zaxis": {
            "backgroundcolor": "#E5ECF6",
            "gridcolor": "white",
            "gridwidth": 2,
            "linecolor": "white",
            "showbackground": true,
            "ticks": "",
            "zerolinecolor": "white"
           }
          },
          "shapedefaults": {
           "line": {
            "color": "#2a3f5f"
           }
          },
          "ternary": {
           "aaxis": {
            "gridcolor": "white",
            "linecolor": "white",
            "ticks": ""
           },
           "baxis": {
            "gridcolor": "white",
            "linecolor": "white",
            "ticks": ""
           },
           "bgcolor": "#E5ECF6",
           "caxis": {
            "gridcolor": "white",
            "linecolor": "white",
            "ticks": ""
           }
          },
          "title": {
           "x": 0.05
          },
          "xaxis": {
           "automargin": true,
           "gridcolor": "white",
           "linecolor": "white",
           "ticks": "",
           "title": {
            "standoff": 15
           },
           "zerolinecolor": "white",
           "zerolinewidth": 2
          },
          "yaxis": {
           "automargin": true,
           "gridcolor": "white",
           "linecolor": "white",
           "ticks": "",
           "title": {
            "standoff": 15
           },
           "zerolinecolor": "white",
           "zerolinewidth": 2
          }
         }
        },
        "xaxis": {
         "anchor": "y",
         "constrain": "domain",
         "domain": [
          0,
          1
         ],
         "scaleanchor": "y",
         "tickmode": "linear",
         "title": {
          "text": "Study ID"
         }
        },
        "yaxis": {
         "anchor": "x",
         "autorange": "reversed",
         "constrain": "domain",
         "domain": [
          0,
          1
         ],
         "tickmode": "linear",
         "title": {
          "text": "Criteria"
         }
        }
       }
      }
     },
     "metadata": {},
     "output_type": "display_data"
    }
   ],
   "source": [
    "df = unique_studies.copy()\n",
    "\n",
    "df = df.fillna(0)\n",
    "\n",
    "df.set_index(\"pub-id\", inplace=True)\n",
    "\n",
    "# Filter columns that start with 'protocol-'\n",
    "protocol_columns = df.filter(like=\"protocol-\")\n",
    "\n",
    "protocol_columns = protocol_columns.transpose()\n",
    "\n",
    "fig = px.imshow(\n",
    "    protocol_columns,\n",
    "    labels=dict(x=\"Study ID\", y=\"Criteria\", color=\"Fulfilled\"),\n",
    "    x=protocol_columns.columns,\n",
    "    y=protocol_columns.index,\n",
    "    color_continuous_scale=[\"#636EFA\", \"#EF553B\"],  # Colors for 0 and 1\n",
    ")\n",
    "\n",
    "fig.update_layout(\n",
    "    xaxis_title=\"Study ID\",\n",
    "    yaxis_title=\"Criteria\",\n",
    "    xaxis=dict(tickmode=\"linear\"),\n",
    "    yaxis=dict(tickmode=\"linear\"),\n",
    ")\n",
    "\n",
    "fig.show()\n",
    "\n",
    "# TK: This isn't displaying anything so far, waiting for the data to be entered."
   ]
  }
 ],
 "metadata": {
  "kernelspec": {
   "display_name": ".venv",
   "language": "python",
   "name": "python3"
  },
  "language_info": {
   "codemirror_mode": {
    "name": "ipython",
    "version": 3
   },
   "file_extension": ".py",
   "mimetype": "text/x-python",
   "name": "python",
   "nbconvert_exporter": "python",
   "pygments_lexer": "ipython3",
   "version": "3.12.5"
  }
 },
 "nbformat": 4,
 "nbformat_minor": 2
}
